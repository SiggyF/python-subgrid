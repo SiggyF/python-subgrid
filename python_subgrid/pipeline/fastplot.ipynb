{
 "metadata": {
  "name": ""
 },
 "nbformat": 3,
 "nbformat_minor": 0,
 "worksheets": [
  {
   "cells": [
    {
     "cell_type": "code",
     "collapsed": false,
     "input": [
      "import python_subgrid.wrapper\n",
      "import matplotlib.cm\n",
      "import matplotlib.colors\n",
      "import matplotlib.pyplot as plt\n",
      "import numpy as np\n"
     ],
     "language": "python",
     "metadata": {},
     "outputs": [],
     "prompt_number": 1
    },
    {
     "cell_type": "code",
     "collapsed": false,
     "input": [
      "subgrid = python_subgrid.wrapper.SubgridWrapper(mdu=\"/home/fedor/Checkouts/models/kaapstad_centrum/kaapstad_centrum.mdu\")"
     ],
     "language": "python",
     "metadata": {},
     "outputs": [],
     "prompt_number": 2
    },
    {
     "cell_type": "code",
     "collapsed": false,
     "input": [
      "subgrid.start()"
     ],
     "language": "python",
     "metadata": {},
     "outputs": [
      {
       "output_type": "stream",
       "stream": "stderr",
       "text": [
        "INFO:python_subgrid.wrapper:Using subgrid fortran library /home/fedor/.local/lib/libsubgrid.so\n"
       ]
      },
      {
       "output_type": "stream",
       "stream": "stderr",
       "text": [
        "INFO:python_subgrid.wrapper:Loading library from path /home/fedor/.local/lib/libsubgrid.so\n"
       ]
      },
      {
       "output_type": "stream",
       "stream": "stderr",
       "text": [
        "INFO:python_subgrid.wrapper:Current version: Deltares, 3Di - subgrid Version 0.1.1.979M, Jan  3 2014, 21:18:50\n"
       ]
      },
      {
       "output_type": "stream",
       "stream": "stderr",
       "text": [
        "INFO:python_subgrid.wrapper:Startup complete.\n"
       ]
      },
      {
       "output_type": "stream",
       "stream": "stderr",
       "text": [
        "INFO:python_subgrid.wrapper:Loading model /home/fedor/Checkouts/models/kaapstad_centrum/kaapstad_centrum.mdu in directory /home/fedor/Checkouts/models/kaapstad_centrum\n"
       ]
      },
      {
       "output_type": "stream",
       "stream": "stderr",
       "text": [
        "INFO:python_subgrid.wrapper:Start loadModel for '/home/fedor/Checkouts/models/kaapstad_centrum/kaapstad_centrum.mdu'.\n"
       ]
      },
      {
       "output_type": "stream",
       "stream": "stderr",
       "text": [
        "WARNING:python_subgrid.wrapper:Ignored 'Teta' in MDU file, please use 'IntegrationMethod' instead.\n"
       ]
      },
      {
       "output_type": "stream",
       "stream": "stderr",
       "text": [
        "INFO:python_subgrid.wrapper:Wrong NumLayers. Ground water calculations switched off.\n"
       ]
      },
      {
       "output_type": "stream",
       "stream": "stderr",
       "text": [
        "INFO:python_subgrid.wrapper:Reading bathmetry file ' subgrid/kaapstad_centrum.tif '...\n"
       ]
      },
      {
       "output_type": "stream",
       "stream": "stderr",
       "text": [
        "DEBUG:python_subgrid.wrapper:           4   4.39809990      dps(0:imax+1, 0:jmax+1)\n"
       ]
      },
      {
       "output_type": "stream",
       "stream": "stderr",
       "text": [
        "INFO:python_subgrid.wrapper:Completed reading bathymetry file.\n"
       ]
      },
      {
       "output_type": "stream",
       "stream": "stderr",
       "text": [
        "INFO:python_subgrid.wrapper:Opened file : polygons/verfijning.pol\n"
       ]
      },
      {
       "output_type": "stream",
       "stream": "stderr",
       "text": [
        "INFO:python_subgrid.wrapper:Start initialization of grid administration.\n"
       ]
      },
      {
       "output_type": "stream",
       "stream": "stderr",
       "text": [
        "DEBUG:python_subgrid.wrapper:        2034   2030.04309      ip,jp\n"
       ]
      },
      {
       "output_type": "stream",
       "stream": "stderr",
       "text": [
        "DEBUG:python_subgrid.wrapper:        2035   1.05267596      ls(k)\n"
       ]
      },
      {
       "output_type": "stream",
       "stream": "stderr",
       "text": [
        "DEBUG:python_subgrid.wrapper:        2035  0.264196008      ls(k)\n"
       ]
      },
      {
       "output_type": "stream",
       "stream": "stderr",
       "text": [
        "DEBUG:python_subgrid.wrapper:        2035   6.65640011E-02  ls(k)\n"
       ]
      },
      {
       "output_type": "stream",
       "stream": "stderr",
       "text": [
        "DEBUG:python_subgrid.wrapper:        2035   1.68999992E-02  ls(k)\n"
       ]
      },
      {
       "output_type": "stream",
       "stream": "stderr",
       "text": [
        "DEBUG:python_subgrid.wrapper:        2035   4.35600011E-03  ls(k)\n"
       ]
      },
      {
       "output_type": "stream",
       "stream": "stderr",
       "text": [
        "DEBUG:python_subgrid.wrapper:        2035   1.15599995E-03  ls(k)\n"
       ]
      },
      {
       "output_type": "stream",
       "stream": "stderr",
       "text": [
        "INFO:python_subgrid.wrapper: Internal nodes =     54111\n"
       ]
      },
      {
       "output_type": "stream",
       "stream": "stderr",
       "text": [
        "INFO:python_subgrid.wrapper: Boundary nodes =   0\n"
       ]
      },
      {
       "output_type": "stream",
       "stream": "stderr",
       "text": [
        "DEBUG:python_subgrid.wrapper:        2035   5.41139990E-02  nodk,nodm,nodn\n"
       ]
      },
      {
       "output_type": "stream",
       "stream": "stderr",
       "text": [
        "DEBUG:python_subgrid.wrapper:        2035   5.41110002E-02  ks(nodall)\n"
       ]
      },
      {
       "output_type": "stream",
       "stream": "stderr",
       "text": [
        "DEBUG:python_subgrid.wrapper:        2036  0.108222000      xz,yz\n"
       ]
      },
      {
       "output_type": "stream",
       "stream": "stderr",
       "text": [
        "INFO:python_subgrid.wrapper: Internal 1D nodes =         0\n"
       ]
      },
      {
       "output_type": "stream",
       "stream": "stderr",
       "text": [
        "INFO:python_subgrid.wrapper: Boundary 1D nodes =   0\n"
       ]
      },
      {
       "output_type": "stream",
       "stream": "stderr",
       "text": [
        "DEBUG:python_subgrid.wrapper:        2036  0.216260001      line\n"
       ]
      },
      {
       "output_type": "stream",
       "stream": "stderr",
       "text": [
        "DEBUG:python_subgrid.wrapper:        2036  0.432520002      lik,lim,lin,kcu\n"
       ]
      },
      {
       "output_type": "stream",
       "stream": "stderr",
       "text": [
        "DEBUG:python_subgrid.wrapper:        2037  0.432895988      nru,nrv\n"
       ]
      },
      {
       "output_type": "stream",
       "stream": "stderr",
       "text": [
        "INFO:python_subgrid.wrapper:Initializing boundaries took:   0.7000D-01 seconds.\n"
       ]
      },
      {
       "output_type": "stream",
       "stream": "stderr",
       "text": [
        "DEBUG:python_subgrid.wrapper:        2037  0.108130001      flod\n"
       ]
      },
      {
       "output_type": "stream",
       "stream": "stderr",
       "text": [
        "DEBUG:python_subgrid.wrapper:        2037  0.108130001      flou\n"
       ]
      },
      {
       "output_type": "stream",
       "stream": "stderr",
       "text": [
        "DEBUG:python_subgrid.wrapper:        2037  0.324389994      dpumin\n"
       ]
      },
      {
       "output_type": "stream",
       "stream": "stderr",
       "text": [
        "DEBUG:python_subgrid.wrapper:        2038  0.324389994      dpumax\n"
       ]
      },
      {
       "output_type": "stream",
       "stream": "stderr",
       "text": [
        "ERROR:python_subgrid.wrapper:No network found, cross sections are ignored.\n"
       ]
      },
      {
       "output_type": "stream",
       "stream": "stderr",
       "text": [
        "INFO:python_subgrid.wrapper:Grid Admin initialisation took:  0.3980D+00 seconds.\n"
       ]
      },
      {
       "output_type": "stream",
       "stream": "stderr",
       "text": [
        "INFO:python_subgrid.wrapper:Completed initialization of grid administration.\n"
       ]
      },
      {
       "output_type": "stream",
       "stream": "stderr",
       "text": [
        "DEBUG:python_subgrid.wrapper:        2038   5.41110002E-02  dmax(1:nodall)\n"
       ]
      },
      {
       "output_type": "stream",
       "stream": "stderr",
       "text": [
        "DEBUG:python_subgrid.wrapper:        2038   5.41110002E-02  dmin(1:nodall)\n"
       ]
      },
      {
       "output_type": "stream",
       "stream": "stderr",
       "text": [
        "DEBUG:python_subgrid.wrapper:        2038   5.41110002E-02  sumax(1:nodtot)\n"
       ]
      },
      {
       "output_type": "stream",
       "stream": "stderr",
       "text": [
        "DEBUG:python_subgrid.wrapper:        2038  0.216444001      dqmin(1:nodtot)\n"
       ]
      },
      {
       "output_type": "stream",
       "stream": "stderr",
       "text": [
        "DEBUG:python_subgrid.wrapper:        2038  0.216444001      dqmax(1:nodtot)\n"
       ]
      },
      {
       "output_type": "stream",
       "stream": "stderr",
       "text": [
        "DEBUG:python_subgrid.wrapper:        2038  0.216444001      suqmax(1:nodtot)\n"
       ]
      },
      {
       "output_type": "stream",
       "stream": "stderr",
       "text": [
        "DEBUG:python_subgrid.wrapper:        2039  0.216444001      ksq(1:nodtot)\n"
       ]
      },
      {
       "output_type": "stream",
       "stream": "stderr",
       "text": [
        "DEBUG:python_subgrid.wrapper:        2039  0.162336007      s1(0:nodall)\n"
       ]
      },
      {
       "output_type": "stream",
       "stream": "stderr",
       "text": [
        "DEBUG:python_subgrid.wrapper:        2039  0.162336007      si(0:nodall)\n"
       ]
      },
      {
       "output_type": "stream",
       "stream": "stderr",
       "text": [
        "DEBUG:python_subgrid.wrapper:        2039  0.324393004      u1(0:linall)\n"
       ]
      },
      {
       "output_type": "stream",
       "stream": "stderr",
       "text": [
        "DEBUG:python_subgrid.wrapper:        2039  0.108130999      kf(0:linall)\n"
       ]
      },
      {
       "output_type": "stream",
       "stream": "stderr",
       "text": [
        "DEBUG:python_subgrid.wrapper:        2039   5.41119985E-02  vol1(0:nodall)\n"
       ]
      },
      {
       "output_type": "stream",
       "stream": "stderr",
       "text": [
        "DEBUG:python_subgrid.wrapper:        2039  0.108223997      vol2(0:nodall)\n"
       ]
      },
      {
       "output_type": "stream",
       "stream": "stderr",
       "text": [
        "DEBUG:python_subgrid.wrapper:        2040  0.108223997      su(0:nodall)\n"
       ]
      },
      {
       "output_type": "stream",
       "stream": "stderr",
       "text": [
        "DEBUG:python_subgrid.wrapper:        2040  0.108223997      volErr(0:nodall)\n"
       ]
      },
      {
       "output_type": "stream",
       "stream": "stderr",
       "text": [
        "DEBUG:python_subgrid.wrapper:        2040  0.108130001      conv(linall)\n"
       ]
      },
      {
       "output_type": "stream",
       "stream": "stderr",
       "text": [
        "DEBUG:python_subgrid.wrapper:        2040  0.216447994      vq1(0:4*nodall)\n"
       ]
      },
      {
       "output_type": "stream",
       "stream": "stderr",
       "text": [
        "DEBUG:python_subgrid.wrapper:        2040   5.41119985E-02  implis(0:nodall)\n"
       ]
      },
      {
       "output_type": "stream",
       "stream": "stderr",
       "text": [
        "DEBUG:python_subgrid.wrapper:        2040  0.270559996      aii,bi,d0,a00,b0(0:nodall)\n"
       ]
      },
      {
       "output_type": "stream",
       "stream": "stderr",
       "text": [
        "DEBUG:python_subgrid.wrapper:        2041  0.216447994      vol0(0:nodall),vq0(0:4*nodall)\n"
       ]
      },
      {
       "output_type": "stream",
       "stream": "stderr",
       "text": [
        "DEBUG:python_subgrid.wrapper:        2041  0.865779996      vqt,denom(0:4*nodall),fbq(0:4*nodall),umq(0:4*nodall)\n"
       ]
      },
      {
       "output_type": "stream",
       "stream": "stderr",
       "text": [
        "DEBUG:python_subgrid.wrapper:        2042  0.324669003      qs,qs1,qs2(0:2*nodall)\n"
       ]
      },
      {
       "output_type": "stream",
       "stream": "stderr",
       "text": [
        "DEBUG:python_subgrid.wrapper:        2042  0.324393004      u0,uh(0:linall)\n"
       ]
      },
      {
       "output_type": "stream",
       "stream": "stderr",
       "text": [
        "DEBUG:python_subgrid.wrapper:        2042   5.41119985E-02  uc(0:nodall,2)\n"
       ]
      },
      {
       "output_type": "stream",
       "stream": "stderr",
       "text": [
        "DEBUG:python_subgrid.wrapper:        2042   5.41119985E-02  vnorm(0:nodall)\n"
       ]
      },
      {
       "output_type": "stream",
       "stream": "stderr",
       "text": [
        "DEBUG:python_subgrid.wrapper:        2043  0.540650010      cu,ru(linall)\n"
       ]
      },
      {
       "output_type": "stream",
       "stream": "stderr",
       "text": [
        "DEBUG:python_subgrid.wrapper:        2043  0.324393004      au1(linall,0:2)\n"
       ]
      },
      {
       "output_type": "stream",
       "stream": "stderr",
       "text": [
        "DEBUG:python_subgrid.wrapper:        2043  0.324393004      au0(linall,0:2)\n"
       ]
      },
      {
       "output_type": "stream",
       "stream": "stderr",
       "text": [
        "DEBUG:python_subgrid.wrapper:        2044  0.216261998      as0(linall,1:2)\n"
       ]
      },
      {
       "output_type": "stream",
       "stream": "stderr",
       "text": [
        "DEBUG:python_subgrid.wrapper:        2044  0.216261998      as1(linall,1:2)\n"
       ]
      },
      {
       "output_type": "stream",
       "stream": "stderr",
       "text": [
        "DEBUG:python_subgrid.wrapper:        2044  0.108130001      cz(linall)\n"
       ]
      },
      {
       "output_type": "stream",
       "stream": "stderr",
       "text": [
        "DEBUG:python_subgrid.wrapper:        2044  0.216261998      qh1,qh2(0:linall)\n"
       ]
      },
      {
       "output_type": "stream",
       "stream": "stderr",
       "text": [
        "DEBUG:python_subgrid.wrapper:        2044  0.216261998      ade,adi(0:linall)\n"
       ]
      },
      {
       "output_type": "stream",
       "stream": "stderr",
       "text": [
        "INFO:python_subgrid.wrapper:Calculation of bathymetry statistics took:   0.4266D+01 seconds.\n"
       ]
      },
      {
       "output_type": "stream",
       "stream": "stderr",
       "text": [
        "INFO:python_subgrid.wrapper:Setting initial water levels  from WaterLevelFile took:   0.0000D+00 seconds.\n"
       ]
      },
      {
       "output_type": "stream",
       "stream": "stderr",
       "text": [
        "INFO:python_subgrid.wrapper:Initial floodfill from FloodFill file took:   0.0000D+00 seconds.\n"
       ]
      },
      {
       "output_type": "stream",
       "stream": "stderr",
       "text": [
        "INFO:python_subgrid.wrapper:loadModel complete.\n"
       ]
      }
     ],
     "prompt_number": 3
    },
    {
     "cell_type": "code",
     "collapsed": false,
     "input": [
      "subgrid.update(-1)"
     ],
     "language": "python",
     "metadata": {},
     "outputs": [
      {
       "output_type": "stream",
       "stream": "stderr",
       "text": [
        "INFO:python_subgrid.wrapper:Start timestep-update.\n"
       ]
      },
      {
       "output_type": "stream",
       "stream": "stderr",
       "text": [
        "DEBUG:python_subgrid.wrapper:Start initFlowAdmin, flow_init=              3\n"
       ]
      },
      {
       "output_type": "stream",
       "stream": "stderr",
       "text": [
        "DEBUG:python_subgrid.wrapper:        2045  0.216260001      tables\n"
       ]
      },
      {
       "output_type": "stream",
       "stream": "stderr",
       "text": [
        "DEBUG:python_subgrid.wrapper:        2045  0.216444001      tables\n"
       ]
      },
      {
       "output_type": "stream",
       "stream": "stderr",
       "text": [
        "DEBUG:python_subgrid.wrapper:        2045  0.216444001      tables\n"
       ]
      },
      {
       "output_type": "stream",
       "stream": "stderr",
       "text": [
        "DEBUG:python_subgrid.wrapper:        2045  0.216444001      tables\n"
       ]
      },
      {
       "output_type": "stream",
       "stream": "stderr",
       "text": [
        "DEBUG:python_subgrid.wrapper:        2045  0.216260001      tables\n"
       ]
      },
      {
       "output_type": "stream",
       "stream": "stderr",
       "text": [
        "DEBUG:python_subgrid.wrapper:        2046  0.216444001      tables\n"
       ]
      },
      {
       "output_type": "stream",
       "stream": "stderr",
       "text": [
        "DEBUG:python_subgrid.wrapper:        2046  0.216444001      tables\n"
       ]
      },
      {
       "output_type": "stream",
       "stream": "stderr",
       "text": [
        "DEBUG:python_subgrid.wrapper:        2046   5.41110002E-02  tables\n"
       ]
      },
      {
       "output_type": "stream",
       "stream": "stderr",
       "text": [
        "DEBUG:python_subgrid.wrapper:        2046   5.41110002E-02  tables\n"
       ]
      },
      {
       "output_type": "stream",
       "stream": "stderr",
       "text": [
        "DEBUG:python_subgrid.wrapper:        2065   19.0422955      autb\n"
       ]
      },
      {
       "output_type": "stream",
       "stream": "stderr",
       "text": [
        "DEBUG:python_subgrid.wrapper:        2088   23.2193604      vltb\n"
       ]
      },
      {
       "output_type": "stream",
       "stream": "stderr",
       "text": [
        "DEBUG:python_subgrid.wrapper:        2143   54.8972969      vq1tb,dentb\n"
       ]
      },
      {
       "output_type": "stream",
       "stream": "stderr",
       "text": [
        "INFO:python_subgrid.wrapper:Initialization of Flow Values took:   0.4353D+01 seconds.\n"
       ]
      },
      {
       "output_type": "stream",
       "stream": "stderr",
       "text": [
        "DEBUG:python_subgrid.wrapper:        2143   5.41110002E-02  ij(nodtot)\n"
       ]
      },
      {
       "output_type": "stream",
       "stream": "stderr",
       "text": [
        "DEBUG:python_subgrid.wrapper:        2143   5.41110002E-02  noel(nodtot)\n"
       ]
      },
      {
       "output_type": "stream",
       "stream": "stderr",
       "text": [
        "DEBUG:python_subgrid.wrapper:        2143   5.41110002E-02  noddgr(nodtot)\n"
       ]
      },
      {
       "output_type": "stream",
       "stream": "stderr",
       "text": [
        "DEBUG:python_subgrid.wrapper:        2143   5.41110002E-02  nodstk(nodtot)\n"
       ]
      },
      {
       "output_type": "stream",
       "stream": "stderr",
       "text": [
        "DEBUG:python_subgrid.wrapper:        2143   5.41110002E-02  row(nodtot)\n"
       ]
      },
      {
       "output_type": "stream",
       "stream": "stderr",
       "text": [
        "DEBUG:python_subgrid.wrapper:        2143  0.108130001      ijl(lintot)\n"
       ]
      },
      {
       "output_type": "stream",
       "stream": "stderr",
       "text": [
        "DEBUG:python_subgrid.wrapper:        2144   5.41110002E-02  ia(nodtot)\n"
       ]
      },
      {
       "output_type": "stream",
       "stream": "stderr",
       "text": [
        "INFO:python_subgrid.wrapper:reduce time:       0.871000\n"
       ]
      },
      {
       "output_type": "stream",
       "stream": "stderr",
       "text": [
        "INFO:python_subgrid.wrapper: noactive=     54111 nogauss=     27652 nocg     26459\n"
       ]
      },
      {
       "output_type": "stream",
       "stream": "stderr",
       "text": [
        "DEBUG:python_subgrid.wrapper:        2144   5.41110002E-02  pk(nodtot)\n"
       ]
      },
      {
       "output_type": "stream",
       "stream": "stderr",
       "text": [
        "DEBUG:python_subgrid.wrapper:        2144   5.41110002E-02  rk(nodtot)\n"
       ]
      },
      {
       "output_type": "stream",
       "stream": "stderr",
       "text": [
        "DEBUG:python_subgrid.wrapper:        2144   5.41110002E-02  zk(nodtot)\n"
       ]
      },
      {
       "output_type": "stream",
       "stream": "stderr",
       "text": [
        "DEBUG:python_subgrid.wrapper:        2144   5.41110002E-02  apk(nodtot)\n"
       ]
      },
      {
       "output_type": "stream",
       "stream": "stderr",
       "text": [
        "DEBUG:python_subgrid.wrapper:        2144  0.220502004      aij(ijtot)\n"
       ]
      },
      {
       "output_type": "stream",
       "stream": "stderr",
       "text": [
        "DEBUG:python_subgrid.wrapper:        2144  0.220502004      aij0(ijtot)\n"
       ]
      },
      {
       "output_type": "stream",
       "stream": "stderr",
       "text": [
        "DEBUG:python_subgrid.wrapper:        2144  0.108130001      aijl(lintot)\n"
       ]
      },
      {
       "output_type": "stream",
       "stream": "stderr",
       "text": [
        "DEBUG:python_subgrid.wrapper:Completed initFlowAdmin.\n"
       ]
      },
      {
       "output_type": "stream",
       "stream": "stderr",
       "text": [
        "INFO:python_subgrid.wrapper:finding rain data for input\n"
       ]
      },
      {
       "output_type": "stream",
       "stream": "stderr",
       "text": [
        "INFO:python_subgrid.wrapper:Timestep 1 number of iterations 1 epsmax   0.1066E-13 idthalf 1  np = 1\n"
       ]
      },
      {
       "output_type": "stream",
       "stream": "stderr",
       "text": [
        "INFO:python_subgrid.wrapper:Timestep complete.\n"
       ]
      },
      {
       "metadata": {},
       "output_type": "pyout",
       "prompt_number": 4,
       "text": [
        "0"
       ]
      }
     ],
     "prompt_number": 4
    },
    {
     "cell_type": "code",
     "collapsed": false,
     "input": [
      "python_subgrid.wrapper.DOCUMENTED_VARIABLES"
     ],
     "language": "python",
     "metadata": {},
     "outputs": [
      {
       "metadata": {},
       "output_type": "pyout",
       "prompt_number": 5,
       "text": [
        "{u'FlowElemContour_x': u'List of x points forming flow element',\n",
        " u'FlowElemContour_y': u'List of y points forming flow element',\n",
        " u'FlowElem_xcc': u'Cell center x coordinate (pressure point) for all quadtree cells (i.e. nodes).',\n",
        " u'FlowElem_ycc': u'Cell center y coordinate (pressure point) for all quadtree cells (i.e. nodes).',\n",
        " u'FlowLink': u'Flow links/lines between coarse grid cells: line(L,1) = nod1, line(L,2) = nod2',\n",
        " u'FlowLink_xu': u'Velocity x coordinate for 1d, 2d, including boundaries',\n",
        " u'FlowLink_yu': u'Velocity y coordinate for 1d, 2d, including boundaries',\n",
        " u'LandUse': u'percentage of a crop per node',\n",
        " u'MaxInterception': u'max thickness of interception layer on fine base grid',\n",
        " u'ade': u'advection',\n",
        " u'adi': u'advection',\n",
        " u'cropType': u'crop factors on fine grid',\n",
        " u'culverts': u'Culvert',\n",
        " u'dps': u'bathymetry pixel values on fine base grid',\n",
        " u'ds1d': u'gridsize in 1d channels',\n",
        " u'dsnop': u'Dummy missing value for bathymetry pixels, single precision.',\n",
        " u'dt': u'delta t',\n",
        " u'dtmax': u'maximum delta t',\n",
        " u'dtmin': u'minumum delta t',\n",
        " u'dx': u'gridsize for all coarse quadtree levels 1:kmax',\n",
        " u'dxp': u'pixel dimensions',\n",
        " u'dyp': u'pixel dimensions',\n",
        " u'imax': u'number of pixels in x directions',\n",
        " u'infiltrationRate': u'infiltration rate values on fine base grid',\n",
        " u'ip': u'subgrid pixel numbers in coarse grid cells, see subroutine couplegrids(). E.g., ip(1:kmax,1:mmax(k),0:3).',\n",
        " u'jmax': u'number of pixels in y directions',\n",
        " u'jp': u'subgrid pixel numbers in coarse grid cells, see subroutine couplegrids(). E.g., ip(1:kmax,1:mmax(k),0:3).',\n",
        " u'lg': u'Quadtree refinement level for each pixel (kmax=coarsest, 1=finest)',\n",
        " u'lh': u'Quadtree node number to which each pixel belongs.',\n",
        " u'link_branchid': u'Original link number',\n",
        " u'link_chainage': u'Distance along the branch',\n",
        " u'link_idx': u'Index in the u vector',\n",
        " u'link_type': u'Type of link',\n",
        " u'lu1dmx': u'number of u points per channel (for embedded: nr of 2D cell interfaces crossed by 1D channel)',\n",
        " u'mbndry': u'coordinates of East boundaries',\n",
        " u'mmax': u'quadtree grid administration',\n",
        " u'nFlowElem1d': u'total number of nodal points in 1d without boundary points',\n",
        " u'nFlowElem1dBounds': u'number of  1d boundary points',\n",
        " u'nFlowElem2d': u'number of 2d nodes',\n",
        " u'nFlowElem2dBounds': u'number of nodal points  2d boundary points',\n",
        " u'nbndry': u'coordinates of North boundaries',\n",
        " u'nmax': u'quadtree grid administration',\n",
        " u'nod_type': u'Type of node',\n",
        " u'nodk': u'inverse indirect adressing of coarse grid cells: nod = ls(k)$mn(m,n) --> m = nodm(nod)',\n",
        " u'nodm': u'inverse indirect adressing of coarse grid cells: nod = ls(k)$mn(m,n) --> m = nodm(nod)',\n",
        " u'nodn': u'inverse indirect adressing of coarse grid cells: nod = ls(k)$mn(m,n) --> m = nodm(nod)',\n",
        " u'orifices': u'Orifice',\n",
        " u'pumps': u'Pump',\n",
        " u'q': u'discharge on full grid on current timestep',\n",
        " u'qh1': u'discharge on half grid on current timestep',\n",
        " u'qh2': u'discharge on half grid on next timestep',\n",
        " u'qrain': u'rainfall',\n",
        " u'rain': u'rainfall',\n",
        " u'rootLength': u'root lengths on fine grid',\n",
        " u's0': u'waterlevel at previous timestep',\n",
        " u's1': u'waterlevel at current timestep',\n",
        " u's2': u'waterlevel at next timestep',\n",
        " u'sg': u'ground water level measured from \"ground level\" upwards (time dependent)',\n",
        " u'si': u'thickness of interception layer per node',\n",
        " u'si0': u'thickness of interception layer per node at previous timestep',\n",
        " u'soilType': u'soil types on fine grid',\n",
        " u't0': u'time at previous timestep',\n",
        " u't1': u'time at current timestep',\n",
        " u'tend': u'stop time of simulation',\n",
        " u'tstart': u'start time of simulation',\n",
        " u'u0': u'velocity at previous timestep',\n",
        " u'u1': u'velocity at current timestep',\n",
        " u'u2': u'velocity at next timestep',\n",
        " u'weirs': u'Weir',\n",
        " u'x0p': u'origin of pixel grid',\n",
        " u'x1p': u'origin of pixel grid',\n",
        " u'y0p': u'origin of pixel grid',\n",
        " u'y1p': u'origin of pixel grid'}"
       ]
      },
      {
       "metadata": {},
       "output_type": "pyout",
       "prompt_number": 6,
       "text": [
        "{u'FlowElemContour_x': u'List of x points forming flow element',\n",
        " u'FlowElemContour_y': u'List of y points forming flow element',\n",
        " u'FlowElem_xcc': u'Cell center x coordinate (pressure point) for all quadtree cells (i.e. nodes).',\n",
        " u'FlowElem_ycc': u'Cell center y coordinate (pressure point) for all quadtree cells (i.e. nodes).',\n",
        " u'FlowLink': u'Flow links/lines between coarse grid cells: line(L,1) = nod1, line(L,2) = nod2',\n",
        " u'FlowLink_xu': u'Velocity x coordinate for 1d, 2d, including boundaries',\n",
        " u'FlowLink_yu': u'Velocity y coordinate for 1d, 2d, including boundaries',\n",
        " u'LandUse': u'percentage of a crop per node',\n",
        " u'MaxInterception': u'max thickness of interception layer on fine base grid',\n",
        " u'ade': u'advection',\n",
        " u'adi': u'advection',\n",
        " u'cropType': u'crop factors on fine grid',\n",
        " u'culverts': u'Culvert',\n",
        " u'dps': u'bathymetry pixel values on fine base grid',\n",
        " u'ds1d': u'gridsize in 1d channels',\n",
        " u'dsnop': u'Dummy missing value for bathymetry pixels, single precision.',\n",
        " u'dt': u'delta t',\n",
        " u'dtmax': u'maximum delta t',\n",
        " u'dtmin': u'minumum delta t',\n",
        " u'dx': u'gridsize for all coarse quadtree levels 1:kmax',\n",
        " u'dxp': u'pixel dimensions',\n",
        " u'dyp': u'pixel dimensions',\n",
        " u'imax': u'number of pixels in x directions',\n",
        " u'infiltrationRate': u'infiltration rate values on fine base grid',\n",
        " u'ip': u'subgrid pixel numbers in coarse grid cells, see subroutine couplegrids(). E.g., ip(1:kmax,1:mmax(k),0:3).',\n",
        " u'jmax': u'number of pixels in y directions',\n",
        " u'jp': u'subgrid pixel numbers in coarse grid cells, see subroutine couplegrids(). E.g., ip(1:kmax,1:mmax(k),0:3).',\n",
        " u'lg': u'Quadtree refinement level for each pixel (kmax=coarsest, 1=finest)',\n",
        " u'lh': u'Quadtree node number to which each pixel belongs.',\n",
        " u'link_branchid': u'Original link number',\n",
        " u'link_chainage': u'Distance along the branch',\n",
        " u'link_idx': u'Index in the u vector',\n",
        " u'link_type': u'Type of link',\n",
        " u'lu1dmx': u'number of u points per channel (for embedded: nr of 2D cell interfaces crossed by 1D channel)',\n",
        " u'mbndry': u'coordinates of East boundaries',\n",
        " u'mmax': u'quadtree grid administration',\n",
        " u'nFlowElem1d': u'total number of nodal points in 1d without boundary points',\n",
        " u'nFlowElem1dBounds': u'number of  1d boundary points',\n",
        " u'nFlowElem2d': u'number of 2d nodes',\n",
        " u'nFlowElem2dBounds': u'number of nodal points  2d boundary points',\n",
        " u'nbndry': u'coordinates of North boundaries',\n",
        " u'nmax': u'quadtree grid administration',\n",
        " u'nod_type': u'Type of node',\n",
        " u'nodk': u'inverse indirect adressing of coarse grid cells: nod = ls(k)$mn(m,n) --> m = nodm(nod)',\n",
        " u'nodm': u'inverse indirect adressing of coarse grid cells: nod = ls(k)$mn(m,n) --> m = nodm(nod)',\n",
        " u'nodn': u'inverse indirect adressing of coarse grid cells: nod = ls(k)$mn(m,n) --> m = nodm(nod)',\n",
        " u'orifices': u'Orifice',\n",
        " u'pumps': u'Pump',\n",
        " u'q': u'discharge on full grid on current timestep',\n",
        " u'qh1': u'discharge on half grid on current timestep',\n",
        " u'qh2': u'discharge on half grid on next timestep',\n",
        " u'qrain': u'rainfall',\n",
        " u'rain': u'rainfall',\n",
        " u'rootLength': u'root lengths on fine grid',\n",
        " u's0': u'waterlevel at previous timestep',\n",
        " u's1': u'waterlevel at current timestep',\n",
        " u's2': u'waterlevel at next timestep',\n",
        " u'sg': u'ground water level measured from \"ground level\" upwards (time dependent)',\n",
        " u'si': u'thickness of interception layer per node',\n",
        " u'si0': u'thickness of interception layer per node at previous timestep',\n",
        " u'soilType': u'soil types on fine grid',\n",
        " u't0': u'time at previous timestep',\n",
        " u't1': u'time at current timestep',\n",
        " u'tend': u'stop time of simulation',\n",
        " u'tstart': u'start time of simulation',\n",
        " u'u0': u'velocity at previous timestep',\n",
        " u'u1': u'velocity at current timestep',\n",
        " u'u2': u'velocity at next timestep',\n",
        " u'weirs': u'Weir',\n",
        " u'x0p': u'origin of pixel grid',\n",
        " u'x1p': u'origin of pixel grid',\n",
        " u'y0p': u'origin of pixel grid',\n",
        " u'y1p': u'origin of pixel grid'}"
       ]
      }
     ],
     "prompt_number": 6
    },
    {
     "cell_type": "code",
     "collapsed": false,
     "input": [
      "vars = {'FlowElem_xcc', 'FlowElem_ycc', 'FlowElemContour_x', 'FlowElemContour_y', 'dx', 'nmax', 'mmax', \n",
      " 'mbndry', 'nbndry', 'ip', 'jp', 'nodm', 'nodn', 'nodk', 'nod_type'}\n",
      "v = {var:subgrid.get_nd(var)\n",
      "     for var \n",
      "     in vars}\n",
      "nodslice = slice(np.where(v['nod_type'] == 2)[0].min(), np.where(v['nod_type'] == 2)[0].max())\n",
      "v['xcc'] = v['FlowElem_xcc'][nodslice]\n",
      "v['ycc'] = v['FlowElem_ycc'][nodslice]\n",
      "v['xc'] = v['FlowElemContour_x'][nodslice]\n",
      "v['yc'] = v['FlowElemContour_y'][nodslice]\n",
      "v['areas'] = v['dx'][nodslice]**2"
     ],
     "language": "python",
     "metadata": {},
     "outputs": [],
     "prompt_number": 11
    },
    {
     "cell_type": "code",
     "collapsed": false,
     "input": [
      "# Create lookup index\n",
      "n = v['nodn'][nodslice] # column lookup\n",
      "m = v['nodm'][nodslice] # row lookup\n",
      "k = v['nodk'][nodslice] # level lookup\n",
      "\n",
      "# pixel boundary lookup\n",
      "Y = v['ip'][:,m-1,k-1] # rows\n",
      "X = v['jp'][:,n-1,k-1] # columns\n",
      "\n",
      "minpx = 5 # is this fixed?\n",
      "\n",
      "# slices\n",
      "Xmin = (X[0,:] - 1)/minpx\n",
      "Xmax = (X[3,:] + 1)/minpx\n",
      "Ymin = (Y[0,:] - 1)/minpx\n",
      "Ymax = (Y[3,:] + 1)/minpx\n",
      "\n",
      "# total image size\n",
      "mmax = Xmax.max() \n",
      "nmax = Ymax.max() \n",
      "\n",
      "# quad lookup\n",
      "quad_grid = np.ma.empty((mmax,nmax), dtype='int32')\n",
      "quad_grid.mask = True\n",
      "\n",
      "slices = np.c_[Xmin, Xmax, Ymin, Ymax]\n",
      "indices = np.arange(k.shape[0])\n",
      "\n",
      "# fill single pixel quads separately \n",
      "quad_grid[slices[k==1,0], slices[k==1,2]] = indices[k==1]\n",
      "# fill the bigger quads\n",
      "for i, (xmin, xmax, ymin, ymax) in zip(indices[k>1], slices[k>1]):\n",
      "    quad_grid[xmin:xmax, ymin:ymax] = i"
     ],
     "language": "python",
     "metadata": {},
     "outputs": [],
     "prompt_number": 194
    },
    {
     "cell_type": "code",
     "collapsed": false,
     "input": [
      "plt.imshow(quad_grid, cmap='Set2', vmax=200)\n",
      "quad_grid.dtype"
     ],
     "language": "python",
     "metadata": {},
     "outputs": [
      {
       "metadata": {},
       "output_type": "pyout",
       "prompt_number": 195,
       "text": [
        "dtype('int32')"
       ]
      },
      {
       "metadata": {},
       "output_type": "display_data",
       "png": "[encoded data removed]",
       "text": [
        "<matplotlib.figure.Figure at 0x25bc5dd0>"
       ]
      }
     ],
     "prompt_number": 195
    },
    {
     "cell_type": "code",
     "collapsed": false,
     "input": [
      "\n",
      "def C(x):\n",
      "    N = matplotlib.colors.Normalize(vmin=-10, vmax=300)\n",
      "    colors = matplotlib.cm.Blues(N(x), alpha=1)  \n",
      "    # add a row completely transparent\n",
      "    colors = np.r_[colors, np.array([0,0,0,0])[np.newaxis,:]]\n",
      "    return colors"
     ],
     "language": "python",
     "metadata": {},
     "outputs": [],
     "prompt_number": 196
    },
    {
     "cell_type": "code",
     "collapsed": false,
     "input": [
      "\n",
      "\n",
      "s1 = subgrid.get_nd('s1')[1:]\n",
      "colors = C(s1)\n",
      "\n",
      "plt.imshow(colors[quad_grid.filled(colors.shape[0]-1)], cmap='Blues')"
     ],
     "language": "python",
     "metadata": {},
     "outputs": [
      {
       "metadata": {},
       "output_type": "pyout",
       "prompt_number": 197,
       "text": [
        "<matplotlib.image.AxesImage at 0x18b05450>"
       ]
      },
      {
       "metadata": {},
       "output_type": "display_data",
       "png": "[encoded data removed]",
       "text": [
        "<matplotlib.figure.Figure at 0x25ba9a10>"
       ]
      }
     ],
     "prompt_number": 197
    },
    {
     "cell_type": "code",
     "collapsed": false,
     "input": [],
     "language": "python",
     "metadata": {},
     "outputs": []
    }
   ],
   "metadata": {}
  }
 ]
}