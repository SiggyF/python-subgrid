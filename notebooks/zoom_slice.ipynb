{
 "metadata": {
  "name": ""
 },
 "nbformat": 3,
 "nbformat_minor": 0,
 "worksheets": [
  {
   "cells": [
    {
     "cell_type": "code",
     "collapsed": false,
     "input": [
      "import osgeo.osr"
     ],
     "language": "python",
     "metadata": {},
     "outputs": [],
     "prompt_number": 1
    },
    {
     "cell_type": "code",
     "collapsed": false,
     "input": [
      "import numpy as np"
     ],
     "language": "python",
     "metadata": {},
     "outputs": [],
     "prompt_number": 2
    },
    {
     "cell_type": "code",
     "collapsed": false,
     "input": [
      "srs=\"EPSG:3857\"\n",
      "bbox=(415817.4338713588,6746026.368336517,454953.1923533691,6770486.217387771)\n",
      "height=1280\n",
      "width=2048\n"
     ],
     "language": "python",
     "metadata": {},
     "outputs": [],
     "prompt_number": 3
    },
    {
     "cell_type": "code",
     "collapsed": false,
     "input": [
      "rc_srs = osgeo.osr.SpatialReference()\n",
      "src_srs.ImportFromEPSGA(int(srs.split(':')[1]))\n",
      "dst_srs = osgeo.osr.SpatialReference()\n",
      "dst_srs.ImportFromEPSGA(28992)\n",
      "src2dst = osgeo.osr.CoordinateTransformation(src_srs, dst_srs)"
     ],
     "language": "python",
     "metadata": {},
     "outputs": [
      {
       "output_type": "stream",
       "stream": "stdout",
       "text": [
        "1000 loops, best of 3: 317 \u00b5s per loop\n"
       ]
      }
     ],
     "prompt_number": 64
    },
    {
     "cell_type": "code",
     "collapsed": false,
     "input": [
      "(xmin, ymin, xmax, ymax) = bbox\n",
      "xmin_dst, ymin_dst, _ = src2dst.TransformPoint(xmin,ymin)\n",
      "xmax_dst, ymax_dst, _ = src2dst.TransformPoint(xmax, ymax)\n"
     ],
     "language": "python",
     "metadata": {},
     "outputs": [
      {
       "output_type": "stream",
       "stream": "stdout",
       "text": [
        "100000 loops, best of 3: 6.03 \u00b5s per loop\n"
       ]
      }
     ],
     "prompt_number": 65
    },
    {
     "cell_type": "code",
     "collapsed": false,
     "input": [
      "\n",
      "xmin_src, ymin_src = (33940.000, 384010.000) #(  3d38'47.06\"E, 51d25'59.13\"N)\n",
      "xmax_src, ymax_src = (87955.000, 431550.000) #(  4d24'50.49\"E, 51d52' 9.89\"N)\n",
      "dx_src, dy_src = (5, 5) #Pixel Size = (5.000000000000000,-5.000000000000000)\n",
      "x_src = np.arange(xmin_src, xmax_src, dx_src)\n",
      "y_src = np.arange(ymin_src, ymax_src, dy_src)\n",
      "\n",
      "x_start, x_end = bisect.bisect(x_src, xmin_dst), bisect.bisect(x_src, xmax_dst)\n",
      "y_start, y_end = bisect.bisect(y_src, ymin_dst), bisect.bisect(y_src, ymax_dst)\n",
      "x_step = (x_end - x_start) // width\n",
      "y_step = (y_end - y_start) // height"
     ],
     "language": "python",
     "metadata": {},
     "outputs": [
      {
       "output_type": "stream",
       "stream": "stdout",
       "text": [
        "10000 loops, best of 3: 78.8 \u00b5s per loop\n"
       ]
      }
     ],
     "prompt_number": 66
    },
    {
     "cell_type": "code",
     "collapsed": false,
     "input": [
      "S = np.s_[x_start:x_end:x_step, y_start:y_end:y_step]"
     ],
     "language": "python",
     "metadata": {},
     "outputs": [],
     "prompt_number": 61
    }
   ],
   "metadata": {}
  }
 ]
}