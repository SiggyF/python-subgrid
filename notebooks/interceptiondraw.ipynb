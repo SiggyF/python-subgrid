{
 "metadata": {
  "name": "",
  "signature": "sha256:98fe70bc721b2442faa3356a875a779ea1b50a59f851c5676f8ac92c31379afc"
 },
 "nbformat": 3,
 "nbformat_minor": 0,
 "worksheets": [
  {
   "cells": [
    {
     "cell_type": "code",
     "collapsed": false,
     "input": [
      "%matplotlib inline\n",
      "import matplotlib.pyplot as plt\n",
      "import skimage.draw\n",
      "import numpy as np\n",
      "import shapely.geometry\n",
      "import osgeo.ogr\n",
      "import shapely.wkb"
     ],
     "language": "python",
     "metadata": {},
     "outputs": [],
     "prompt_number": 108
    },
    {
     "cell_type": "code",
     "collapsed": false,
     "input": [
      "# example:\n",
      "# convert from numpy arrays\n",
      "y = np.array([4000,4000, 4500, 5000,5000])\n",
      "x = np.array([1000, 2000, 1500, 2000, 1000])\n",
      "# to shapely\n",
      "poly = shapely.geometry.Polygon(\n",
      "    shell=shapely.geometry.LinearRing(\n",
      "        coordinates=np.c_[x,y]\n",
      "    )\n",
      ")\n",
      "# to wkb\n",
      "wkb = poly.wkb\n",
      "# to ogr\n",
      "geom = osgeo.ogr.CreateGeometryFromWkb(wkb)\n",
      "# to json\n",
      "geom_json = geom.ExportToJson()\n",
      "# and back to ogr\n",
      "geom = osgeo.ogr.CreateGeometryFromJson(geom_json)\n",
      "# and back to wkb\n",
      "wkb = geom.ExportToWkb()\n",
      "# and back to shapely\n",
      "poly = shapely.wkb.loads(wkb)\n",
      "# and back to numpy vectors\n",
      "x, y = np.array(poly.exterior.coords).T\n",
      "x, y"
     ],
     "language": "python",
     "metadata": {},
     "outputs": [
      {
       "metadata": {},
       "output_type": "pyout",
       "prompt_number": 118,
       "text": [
        "(array([ 1000.,  2000.,  1500.,  2000.,  1000.,  1000.]),\n",
        " array([ 4000.,  4000.,  4500.,  5000.,  5000.,  4000.]))"
       ]
      }
     ],
     "prompt_number": 118
    },
    {
     "cell_type": "code",
     "collapsed": false,
     "input": [
      "\n",
      "#driver = osgeo.gdal.GetDriverByName('Gtiff')\n",
      "dataset = osgeo.gdal.Open(filename)\n",
      "band = dataset.GetRasterBand(1)\n",
      "x0, dxx, dxy, y0, dyx, dyy = dataset.GetGeoTransform()\n",
      "xrange = (x0, x0 + dxx * dataset.RasterXSize)\n",
      "yrange = (y0, y0 + dyy * dataset.RasterYSize)\n",
      "arr = band.ReadAsArray()\n",
      "arr = np.ma.masked_equal(arr, band.GetNoDataValue())"
     ],
     "language": "python",
     "metadata": {},
     "outputs": [],
     "prompt_number": 121
    },
    {
     "cell_type": "code",
     "collapsed": false,
     "input": [],
     "language": "python",
     "metadata": {},
     "outputs": [],
     "prompt_number": 131
    },
    {
     "cell_type": "code",
     "collapsed": false,
     "input": [
      "def shape_on_raster(geojson, raster, value):\n",
      "    \"\"\"\n",
      "    Draw the shape geojson on the raster with value=value\n",
      "    \"\"\"\n",
      "    # and back to ogr\n",
      "    geom_ogr = osgeo.ogr.CreateGeometryFromJson(geom_json)\n",
      "    # and back to wkb\n",
      "    wkb = geom_ogr.ExportToWkb()\n",
      "    # and back to shapely\n",
      "    geom = shapely.wkb.loads(wkb)\n",
      "    # and back to numpy vectors\n",
      "    if geom.type == 'Polygon':\n",
      "        coords = poly.exterior.coords\n",
      "    x, y = coords.T\n",
      "arr2 = arr.copy()\n",
      "shape_on_raster(geom_json, arr, -2)"
     ],
     "language": "python",
     "metadata": {},
     "outputs": [],
     "prompt_number": 134
    },
    {
     "cell_type": "code",
     "collapsed": false,
     "input": [
      "plt.matshow(arr, cmap='Set2')\n",
      "plt.plot(x, y, 'k-')"
     ],
     "language": "python",
     "metadata": {},
     "outputs": [
      {
       "metadata": {},
       "output_type": "pyout",
       "prompt_number": 122,
       "text": [
        "[<matplotlib.lines.Line2D at 0x1a6ef2550>]"
       ]
      },
      {
       "metadata": {},
       "output_type": "display_data",
       "png": "[encoded data removed]",
       "text": [
        "<matplotlib.figure.Figure at 0x1a611c750>"
       ]
      }
     ],
     "prompt_number": 122
    },
    {
     "cell_type": "code",
     "collapsed": false,
     "input": [
      "arr[rr, cc] = 200\n",
      "plt.matshow(arr, cmap='Set2')\n",
      "plt.plot(x, y, 'k-')"
     ],
     "language": "python",
     "metadata": {},
     "outputs": [
      {
       "metadata": {},
       "output_type": "pyout",
       "prompt_number": 124,
       "text": [
        "[<matplotlib.lines.Line2D at 0x1a5beca90>]"
       ]
      },
      {
       "metadata": {},
       "output_type": "display_data",
       "png": "[encoded data removed]",
       "text": [
        "<matplotlib.figure.Figure at 0x1a5becf90>"
       ]
      }
     ],
     "prompt_number": 124
    },
    {
     "cell_type": "code",
     "collapsed": false,
     "input": [],
     "language": "python",
     "metadata": {},
     "outputs": []
    }
   ],
   "metadata": {}
  }
 ]
}