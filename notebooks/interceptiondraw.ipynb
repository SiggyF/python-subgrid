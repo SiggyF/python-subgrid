{
 "metadata": {
  "name": "",
  "signature": "sha256:2dfede8ec64d49798680c37d6cfcec483ada5851ac050a0d46864f479eb8a54d"
 },
 "nbformat": 3,
 "nbformat_minor": 0,
 "worksheets": [
  {
   "cells": [
    {
     "cell_type": "code",
     "collapsed": false,
     "input": [
      "%matplotlib inline\n",
      "import matplotlib.pyplot as plt\n",
      "import skimage.draw\n",
      "import numpy as np\n",
      "import shapely.geometry\n",
      "import osgeo.ogr\n",
      "import osgeo.gdal\n",
      "import shapely.wkb"
     ],
     "language": "python",
     "metadata": {},
     "outputs": [],
     "prompt_number": 63
    },
    {
     "cell_type": "code",
     "collapsed": false,
     "input": [
      "# example:\n",
      "# convert from numpy arrays\n",
      "y = np.array([4000,4000, 4500, 5000,5000])\n",
      "x = np.array([1000, 2000, 1500, 2000, 1000])\n",
      "# to shapely\n",
      "poly = shapely.geometry.Polygon(\n",
      "    shell=shapely.geometry.LinearRing(\n",
      "        coordinates=np.c_[x,y]\n",
      "    )\n",
      ")\n",
      "# to wkb\n",
      "wkb = poly.wkb\n",
      "# to ogr\n",
      "geom = osgeo.ogr.CreateGeometryFromWkb(wkb)\n",
      "# to json\n",
      "geom_json = geom.ExportToJson()\n",
      "# and back to ogr\n",
      "geom = osgeo.ogr.CreateGeometryFromJson(geom_json)\n",
      "# and back to wkb\n",
      "wkb = geom.ExportToWkb()\n",
      "# and back to shapely\n",
      "poly = shapely.wkb.loads(wkb)\n",
      "# and back to numpy vectors\n",
      "x, y = np.array(poly.exterior.coords).T\n",
      "x, y"
     ],
     "language": "python",
     "metadata": {},
     "outputs": [
      {
       "metadata": {},
       "output_type": "pyout",
       "prompt_number": 64,
       "text": [
        "(array([ 1000.,  2000.,  1500.,  2000.,  1000.,  1000.]),\n",
        " array([ 4000.,  4000.,  4500.,  5000.,  5000.,  4000.]))"
       ]
      }
     ],
     "prompt_number": 64
    },
    {
     "cell_type": "code",
     "collapsed": false,
     "input": [
      "from shapely.geometry import mapping, shape\n",
      "import json\n",
      "geom_json = json.dumps(mapping(poly))\n",
      "shape(json.loads(geom_json))\n"
     ],
     "language": "python",
     "metadata": {},
     "outputs": [
      {
       "metadata": {},
       "output_type": "pyout",
       "prompt_number": 65,
       "text": [
        "<shapely.geometry.polygon.Polygon at 0x10e994490>"
       ]
      }
     ],
     "prompt_number": 65
    },
    {
     "cell_type": "code",
     "collapsed": false,
     "input": [
      "filename = '/Users/baart_f/models/duifp/subgrid/crop_Duifp.tif'\n",
      "#driver = osgeo.gdal.GetDriverByName('Gtiff')\n",
      "dataset = osgeo.gdal.Open(filename)\n",
      "band = dataset.GetRasterBand(1)\n",
      "x0, dxx, dxy, y0, dyx, dyy = dataset.GetGeoTransform()\n",
      "xrange = (x0, x0 + dxx * dataset.RasterXSize)\n",
      "yrange = (y0, y0 + dyy * dataset.RasterYSize)\n",
      "arr = band.ReadAsArray()\n",
      "arr = np.ma.masked_equal(arr, band.GetNoDataValue())"
     ],
     "language": "python",
     "metadata": {},
     "outputs": [],
     "prompt_number": 66
    },
    {
     "cell_type": "code",
     "collapsed": false,
     "input": [
      "def draw_shape_on_raster(geojson, raster, value):\n",
      "    \"\"\"\n",
      "    draw the polygon geojson on the raster with value=value, inline\n",
      "    \"\"\"\n",
      "    \n",
      "    geom = shape(json.loads(geojson))\n",
      "    # and back to numpy vectors\n",
      "    if geom.type == 'Polygon':\n",
      "        coords = np.array(geom.exterior.coords)\n",
      "        x, y = coords.T\n",
      "        rr, cc = skimage.draw.polygon(x=x, y=y, shape=raster.shape)\n",
      "    else:\n",
      "        raise ValueError(\"Can only draw polygon exteriors\")\n",
      "    raster[rr, cc] = value\n",
      "draw_shape_on_raster(geom_json, arr, -2)"
     ],
     "language": "python",
     "metadata": {},
     "outputs": [],
     "prompt_number": 71
    },
    {
     "cell_type": "code",
     "collapsed": false,
     "input": [
      "plt.matshow(arr, cmap='Set2')\n",
      "plt.plot(x, y, 'k-', alpha=0.3)"
     ],
     "language": "python",
     "metadata": {},
     "outputs": [
      {
       "metadata": {},
       "output_type": "pyout",
       "prompt_number": 72,
       "text": [
        "[<matplotlib.lines.Line2D at 0x10e98e6d0>]"
       ]
      },
      {
       "metadata": {},
       "output_type": "display_data",
       "png": "[encoded data removed]",
       "text": [
        "<matplotlib.figure.Figure at 0x10e98ee90>"
       ]
      }
     ],
     "prompt_number": 72
    },
    {
     "cell_type": "code",
     "collapsed": false,
     "input": [
      "y = np.array([1, 1, 3, 3])\n",
      "x = np.array([1, 3, 3, 1])\n",
      "# to shapely\n",
      "poly = shapely.geometry.Polygon(\n",
      "    shell=shapely.geometry.LinearRing(\n",
      "        coordinates=np.c_[x,y]\n",
      "    )\n",
      ")\n",
      "# to wkb\n",
      "wkb = poly.wkb\n",
      "# to ogr\n",
      "geom = osgeo.ogr.CreateGeometryFromWkb(wkb)\n",
      "# to json\n",
      "geom_json = geom.ExportToJson()\n",
      "raster = np.zeros((4, 4), dtype='int')\n",
      "draw_shape_on_raster(geom_json, raster, 1)\n",
      "raster.flatten()"
     ],
     "language": "python",
     "metadata": {},
     "outputs": [
      {
       "metadata": {},
       "output_type": "pyout",
       "prompt_number": 70,
       "text": [
        "array([0, 0, 0, 0, 0, 1, 1, 0, 0, 1, 1, 0, 0, 0, 0, 0])"
       ]
      }
     ],
     "prompt_number": 70
    },
    {
     "cell_type": "code",
     "collapsed": false,
     "input": [
      "import numpy.testing as npt"
     ],
     "language": "python",
     "metadata": {},
     "outputs": [],
     "prompt_number": 51
    },
    {
     "cell_type": "code",
     "collapsed": false,
     "input": [
      "npt.assert_array_equal?"
     ],
     "language": "python",
     "metadata": {},
     "outputs": [],
     "prompt_number": 53
    },
    {
     "cell_type": "code",
     "collapsed": false,
     "input": [
      "geom_json"
     ],
     "language": "python",
     "metadata": {},
     "outputs": [
      {
       "metadata": {},
       "output_type": "pyout",
       "prompt_number": 54,
       "text": [
        "'{ \"type\": \"Polygon\", \"coordinates\": [ [ [ 1.0, 1.0 ], [ 3.0, 1.0 ], [ 3.0, 3.0 ], [ 1.0, 3.0 ], [ 1.0, 1.0 ] ] ] }'"
       ]
      }
     ],
     "prompt_number": 54
    },
    {
     "cell_type": "code",
     "collapsed": false,
     "input": [],
     "language": "python",
     "metadata": {},
     "outputs": []
    }
   ],
   "metadata": {}
  }
 ]
}