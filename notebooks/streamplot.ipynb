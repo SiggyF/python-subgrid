{
 "metadata": {
  "name": ""
 },
 "nbformat": 3,
 "nbformat_minor": 0,
 "worksheets": [
  {
   "cells": [
    {
     "cell_type": "code",
     "collapsed": false,
     "input": [
      "u1 = subgrid.get_nd('u1')[1:]\n",
      "line = subgrid.get_nd('FlowLink')\n",
      "xu = subgrid.get_nd('FlowLink_xu')[1:]\n",
      "yu = subgrid.get_nd('FlowLink_yu')[1:]\n",
      "xcc = subgrid.get_nd('FlowElem_xcc')\n",
      "ycc = subgrid.get_nd('FlowElem_ycc')\n",
      "line.shape, u1.shape, xu.shape, yu.shape, ycc.shape, xcc.shape\n",
      "X = np.take(xcc, line)\n",
      "Y = np.take(ycc, line)\n",
      "u = ((X[:,1] - X[:,0]) > 0).astype('double')*u1\n",
      "v = ((Y[:,1] - Y[:,0]) > 0).astype('double')*u1\n",
      "import scipy.interpolate\n",
      "U = scipy.interpolate.LinearNDInterpolator(np.c_[xu, yu], u)\n",
      "V = scipy.interpolate.LinearNDInterpolator(np.c_[xu, yu], v)\n",
      "Xx, Yy = np.meshgrid(grid.x, grid.y)\n",
      "uu = U(Xx.ravel(), Yy.ravel()).reshape(Xx.shape)\n",
      "vv = V(Xx.ravel(), Yy.ravel()).reshape(Xx.shape)\n",
      "uu = np.ma.masked_array(uu, mask=np.isnan(uu))\n",
      "vv = np.ma.masked_array(vv, mask=np.isnan(vv))\n",
      "ax.streamplot(Xx, Yy, uu.filled(0), vv.filled(0)) #, linewidth=np.sqrt(uu**2 + vv**2))\n",
      "fig"
     ],
     "language": "python",
     "metadata": {},
     "outputs": [
      {
       "ename": "NameError",
       "evalue": "name 'subgrid' is not defined",
       "output_type": "pyerr",
       "traceback": [
        "\u001b[1;31m---------------------------------------------------------------------------\u001b[0m\n\u001b[1;31mNameError\u001b[0m                                 Traceback (most recent call last)",
        "\u001b[1;32m<ipython-input-1-deab71b6649d>\u001b[0m in \u001b[0;36m<module>\u001b[1;34m()\u001b[0m\n\u001b[1;32m----> 1\u001b[1;33m \u001b[0mu1\u001b[0m \u001b[1;33m=\u001b[0m \u001b[0msubgrid\u001b[0m\u001b[1;33m.\u001b[0m\u001b[0mget_nd\u001b[0m\u001b[1;33m(\u001b[0m\u001b[1;34m'u1'\u001b[0m\u001b[1;33m)\u001b[0m\u001b[1;33m[\u001b[0m\u001b[1;36m1\u001b[0m\u001b[1;33m:\u001b[0m\u001b[1;33m]\u001b[0m\u001b[1;33m\u001b[0m\u001b[0m\n\u001b[0m\u001b[0;32m      2\u001b[0m \u001b[0mline\u001b[0m \u001b[1;33m=\u001b[0m \u001b[0msubgrid\u001b[0m\u001b[1;33m.\u001b[0m\u001b[0mget_nd\u001b[0m\u001b[1;33m(\u001b[0m\u001b[1;34m'FlowLink'\u001b[0m\u001b[1;33m)\u001b[0m\u001b[1;33m\u001b[0m\u001b[0m\n\u001b[0;32m      3\u001b[0m \u001b[0mxu\u001b[0m \u001b[1;33m=\u001b[0m \u001b[0msubgrid\u001b[0m\u001b[1;33m.\u001b[0m\u001b[0mget_nd\u001b[0m\u001b[1;33m(\u001b[0m\u001b[1;34m'FlowLink_xu'\u001b[0m\u001b[1;33m)\u001b[0m\u001b[1;33m[\u001b[0m\u001b[1;36m1\u001b[0m\u001b[1;33m:\u001b[0m\u001b[1;33m]\u001b[0m\u001b[1;33m\u001b[0m\u001b[0m\n\u001b[0;32m      4\u001b[0m \u001b[0myu\u001b[0m \u001b[1;33m=\u001b[0m \u001b[0msubgrid\u001b[0m\u001b[1;33m.\u001b[0m\u001b[0mget_nd\u001b[0m\u001b[1;33m(\u001b[0m\u001b[1;34m'FlowLink_yu'\u001b[0m\u001b[1;33m)\u001b[0m\u001b[1;33m[\u001b[0m\u001b[1;36m1\u001b[0m\u001b[1;33m:\u001b[0m\u001b[1;33m]\u001b[0m\u001b[1;33m\u001b[0m\u001b[0m\n\u001b[0;32m      5\u001b[0m \u001b[0mxcc\u001b[0m \u001b[1;33m=\u001b[0m \u001b[0msubgrid\u001b[0m\u001b[1;33m.\u001b[0m\u001b[0mget_nd\u001b[0m\u001b[1;33m(\u001b[0m\u001b[1;34m'FlowElem_xcc'\u001b[0m\u001b[1;33m)\u001b[0m\u001b[1;33m\u001b[0m\u001b[0m\n",
        "\u001b[1;31mNameError\u001b[0m: name 'subgrid' is not defined"
       ]
      }
     ],
     "prompt_number": 1
    },
    {
     "cell_type": "code",
     "collapsed": false,
     "input": [],
     "language": "python",
     "metadata": {},
     "outputs": []
    }
   ],
   "metadata": {}
  }
 ]
}