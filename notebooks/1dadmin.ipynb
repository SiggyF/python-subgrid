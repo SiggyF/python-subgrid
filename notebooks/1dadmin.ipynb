{
 "metadata": {
  "name": ""
 },
 "nbformat": 3,
 "nbformat_minor": 0,
 "worksheets": [
  {
   "cells": [
    {
     "cell_type": "code",
     "collapsed": false,
     "input": [
      "import os"
     ],
     "language": "python",
     "metadata": {},
     "outputs": [],
     "prompt_number": 1
    },
    {
     "cell_type": "code",
     "collapsed": false,
     "input": [
      "import pandas"
     ],
     "language": "python",
     "metadata": {},
     "outputs": [],
     "prompt_number": 2
    },
    {
     "cell_type": "code",
     "collapsed": false,
     "input": [
      "import python_subgrid"
     ],
     "language": "python",
     "metadata": {},
     "outputs": [],
     "prompt_number": 3
    },
    {
     "cell_type": "code",
     "collapsed": false,
     "input": [
      "import netCDF4\n"
     ],
     "language": "python",
     "metadata": {},
     "outputs": [],
     "prompt_number": 4
    },
    {
     "cell_type": "code",
     "collapsed": false,
     "input": [
      "ds = netCDF4.Dataset('../../models/1d-democase/subgrid_map.nc')"
     ],
     "language": "python",
     "metadata": {},
     "outputs": [],
     "prompt_number": 5
    },
    {
     "cell_type": "code",
     "collapsed": false,
     "input": [
      "s1 = ds.variables['s1'][0,:]\n"
     ],
     "language": "python",
     "metadata": {},
     "outputs": [],
     "prompt_number": 6
    },
    {
     "cell_type": "code",
     "collapsed": false,
     "input": [
      "ds.ncattrs()"
     ],
     "language": "python",
     "metadata": {},
     "outputs": [
      {
       "metadata": {},
       "output_type": "pyout",
       "prompt_number": 7,
       "text": [
        "[u'institution',\n",
        " u'references',\n",
        " u'source',\n",
        " u'history',\n",
        " u'simulation_start_date',\n",
        " u'Conventions',\n",
        " u'nFlowElem1d',\n",
        " u'nFlowElem2d',\n",
        " u'nFlowElem1dBounds',\n",
        " u'nFlowElem2dBounds',\n",
        " u'nFlowLink1d',\n",
        " u'nFlowLink2d',\n",
        " u'nFlowLink1dBounds',\n",
        " u'nFlowLink2dBounds']"
       ]
      }
     ],
     "prompt_number": 7
    },
    {
     "cell_type": "code",
     "collapsed": false,
     "input": [
      "print ds.nFlowElem2d,ds.nFlowElem1d, ds.variables['s1'].shape[1], \"dimensions don't fit\""
     ],
     "language": "python",
     "metadata": {},
     "outputs": [
      {
       "output_type": "stream",
       "stream": "stdout",
       "text": [
        "100 67 167 dimensions don't fit\n"
       ]
      }
     ],
     "prompt_number": 8
    },
    {
     "cell_type": "code",
     "collapsed": false,
     "input": [
      "ds.variables"
     ],
     "language": "python",
     "metadata": {},
     "outputs": [
      {
       "metadata": {},
       "output_type": "pyout",
       "prompt_number": 9,
       "text": [
        "OrderedDict([(u'projected_coordinate_system', <netCDF4.Variable object at 0x3e6d290>), (u'FlowElem_xcc', <netCDF4.Variable object at 0x3e6d320>), (u'FlowElem_ycc', <netCDF4.Variable object at 0x3e6d3b0>), (u'FlowElemContour_x', <netCDF4.Variable object at 0x3e6d440>), (u'FlowElemContour_y', <netCDF4.Variable object at 0x3e6d4d0>), (u'FlowLink_xu', <netCDF4.Variable object at 0x3e6d560>), (u'FlowLink_yu', <netCDF4.Variable object at 0x3e6d5f0>), (u'sumax', <netCDF4.Variable object at 0x3e6d680>), (u'time', <netCDF4.Variable object at 0x3e6d710>), (u's1', <netCDF4.Variable object at 0x3e6d7a0>), (u'bath', <netCDF4.Variable object at 0x3e6d830>), (u'su', <netCDF4.Variable object at 0x3e6d8c0>), (u'vol', <netCDF4.Variable object at 0x3e6d950>), (u'dep', <netCDF4.Variable object at 0x3e6d9e0>), (u'ucx', <netCDF4.Variable object at 0x3e6da70>), (u'ucy', <netCDF4.Variable object at 0x3e6db00>), (u'unorm', <netCDF4.Variable object at 0x3e6db90>), (u'au1', <netCDF4.Variable object at 0x3e6dc20>), (u'q', <netCDF4.Variable object at 0x3e6dcb0>), (u'interception', <netCDF4.Variable object at 0x3e6dd40>), (u'rain', <netCDF4.Variable object at 0x3e6ddd0>)])"
       ]
      }
     ],
     "prompt_number": 9
    },
    {
     "cell_type": "code",
     "collapsed": false,
     "input": [
      "ds.variables.keys()"
     ],
     "language": "python",
     "metadata": {},
     "outputs": [
      {
       "metadata": {},
       "output_type": "pyout",
       "prompt_number": 10,
       "text": [
        "[u'projected_coordinate_system',\n",
        " u'FlowElem_xcc',\n",
        " u'FlowElem_ycc',\n",
        " u'FlowElemContour_x',\n",
        " u'FlowElemContour_y',\n",
        " u'FlowLink_xu',\n",
        " u'FlowLink_yu',\n",
        " u'sumax',\n",
        " u'time',\n",
        " u's1',\n",
        " u'bath',\n",
        " u'su',\n",
        " u'vol',\n",
        " u'dep',\n",
        " u'ucx',\n",
        " u'ucy',\n",
        " u'unorm',\n",
        " u'au1',\n",
        " u'q',\n",
        " u'interception',\n",
        " u'rain']"
       ]
      }
     ],
     "prompt_number": 10
    },
    {
     "cell_type": "code",
     "collapsed": false,
     "input": [
      "lines = open('../../models/1d-democase/one_d/netwerk.inp').readlines()\n",
      "rows = [map(int, line.split()) for line in lines]\n",
      "nodes = pandas.DataFrame(rows[:6], columns=('idx', 'a', 'x','y','b', 'c'))\n",
      "nodes = nodes.set_index('idx')\n",
      "branches = pandas.DataFrame(rows[9:], columns=('idx', 'a', 'node0_idx', 'node1_idx', 'b', 'c', 'd'))\n",
      "branches = branches.set_index('idx')\n",
      "fig, ax = plt.subplots(figsize=(20,14))\n",
      "ax.set_aspect('equal')\n",
      "ax.plot(nodes.x, nodes.y, 'bs', label='netn', alpha=0.3, markersize=5)\n",
      "\n",
      "for i, row in branches.iterrows():\n",
      "    node0 = nodes.ix[row['node0_idx']]\n",
      "    node1 = nodes.ix[row['node1_idx']]\n",
      "    ax.text(node0['x']+1, node0['y']+2, node0.name)\n",
      "    ax.text(node1['x']+1, node1['y']+2, node1.name)\n",
      "    ax.text((node1['x']+node0['x'])/2.0+1, (node0['y']+node1['y'])/2.0+2, row.name, color='red')\n",
      "    line = matplotlib.lines.Line2D(xdata=[node0['x'], node1['x']], ydata=[node0['y'], node1['y']])\n",
      "    \n",
      "    ax.add_line(line)\n",
      "ax.set_xlim(auto=True)\n",
      "ax.set_ylim(456000.0-10, 456100.0+10)"
     ],
     "language": "python",
     "metadata": {},
     "outputs": [
      {
       "metadata": {},
       "output_type": "pyout",
       "prompt_number": 11,
       "text": [
        "(455990.0, 456110.0)"
       ]
      },
      {
       "metadata": {},
       "output_type": "display_data",
       "png": "[encoded data removed]",
       "text": [
        "<matplotlib.figure.Figure at 0x3e83e10>"
       ]
      }
     ],
     "prompt_number": 11
    },
    {
     "cell_type": "code",
     "collapsed": false,
     "input": [
      "xn2d, xn1d,_ = np.split(ds.variables['FlowElem_xcc'][:], np.cumsum([getattr(ds,'nFlowElem2d'),getattr(ds,'nFlowElem1d')]))\n",
      "yn2d, yn1d,_ = np.split(ds.variables['FlowElem_ycc'][:], np.cumsum([getattr(ds,'nFlowElem2d'),getattr(ds,'nFlowElem1d')]))\n",
      "xl2d, xl1d,_ = np.split(ds.variables['FlowLink_xu'][:], np.cumsum([getattr(ds,'nFlowLink2d'),getattr(ds,'nFlowLink1d')]))\n",
      "yl2d, yl1d,_ = np.split(ds.variables['FlowLink_yu'][:], np.cumsum([getattr(ds,'nFlowLink2d'),getattr(ds,'nFlowLink1d')]))\n",
      "\n",
      "\n"
     ],
     "language": "python",
     "metadata": {},
     "outputs": [],
     "prompt_number": 12
    },
    {
     "cell_type": "code",
     "collapsed": false,
     "input": [
      "l = ax.plot(xn1d, yn1d, 'go', label='1dn')\n",
      "l = ax.plot(xn2d, yn2d, 'k.', alpha=0.3)\n",
      "l = ax.plot(xl1d, yl1d, 'gx', label='1dl')\n",
      "l = ax.plot(xl2d, yl2d, 'k+', alpha=0.3)\n",
      "\n",
      "ax.plot(ds.variables['FlowElem_xcc'][-3:],ds.variables['FlowElem_ycc'][-3:], 'r+', markersize=50)\n",
      "\n",
      "\n",
      "ax.legend()\n",
      "fig"
     ],
     "language": "python",
     "metadata": {},
     "outputs": [
      {
       "metadata": {},
       "output_type": "pyout",
       "png": "[encoded data removed]",
       "prompt_number": 13,
       "text": [
        "<matplotlib.figure.Figure at 0x3e83e10>"
       ]
      }
     ],
     "prompt_number": 13
    },
    {
     "cell_type": "code",
     "collapsed": false,
     "input": [
      "import python_subgrid.wrapper"
     ],
     "language": "python",
     "metadata": {},
     "outputs": [],
     "prompt_number": 14
    },
    {
     "cell_type": "code",
     "collapsed": false,
     "input": [
      "subgrid = python_subgrid.wrapper.SubgridWrapper(mdu='../../models/1d-democase/1D-democase.mdu')"
     ],
     "language": "python",
     "metadata": {},
     "outputs": [],
     "prompt_number": 15
    },
    {
     "cell_type": "code",
     "collapsed": false,
     "input": [
      "subgrid.start()"
     ],
     "language": "python",
     "metadata": {},
     "outputs": [
      {
       "output_type": "stream",
       "stream": "stderr",
       "text": [
        "INFO:python_subgrid.wrapper:Using subgrid fortran library /home/fedor/.local/lib/libsubgrid.so\n"
       ]
      },
      {
       "output_type": "stream",
       "stream": "stderr",
       "text": [
        "INFO:python_subgrid.wrapper:Loading library from path /home/fedor/.local/lib/libsubgrid.so\n"
       ]
      },
      {
       "output_type": "stream",
       "stream": "stderr",
       "text": [
        "INFO:python_subgrid.wrapper:Current version: Deltares, 3Di - subgrid Version 0.1.1.858, Oct 24 2013, 14:23:15\n"
       ]
      },
      {
       "output_type": "stream",
       "stream": "stderr",
       "text": [
        "INFO:python_subgrid.wrapper:Startup complete.\n"
       ]
      },
      {
       "output_type": "stream",
       "stream": "stderr",
       "text": [
        "INFO:python_subgrid.wrapper:Loading model ../../models/1d-democase/1D-democase.mdu in directory /home/fedor/Checkouts/models/1d-democase\n"
       ]
      },
      {
       "output_type": "stream",
       "stream": "stderr",
       "text": [
        "INFO:python_subgrid.wrapper:Start loadModel for '../../models/1d-democase/1D-democase.mdu'.\n"
       ]
      },
      {
       "output_type": "stream",
       "stream": "stderr",
       "text": [
        "WARNING:python_subgrid.wrapper:Ignored 'Teta' in MDU file, please use 'IntegrationMethod' instead.\n"
       ]
      },
      {
       "output_type": "stream",
       "stream": "stderr",
       "text": [
        "INFO:python_subgrid.wrapper:Wrong NumLayers. Ground water calculations switched off.\n"
       ]
      },
      {
       "output_type": "stream",
       "stream": "stderr",
       "text": [
        "INFO:python_subgrid.wrapper:Reading bathmetry file ' subgrid/zak_drieharing_100x100.tif '...\n"
       ]
      },
      {
       "output_type": "stream",
       "stream": "stderr",
       "text": [
        "DEBUG:python_subgrid.wrapper:           0   4.08039987E-02  dps(0:imax+1, 0:jmax+1)\n"
       ]
      },
      {
       "output_type": "stream",
       "stream": "stderr",
       "text": [
        "INFO:python_subgrid.wrapper:Completed reading bathymetry file.\n"
       ]
      },
      {
       "output_type": "stream",
       "stream": "stderr",
       "text": [
        "INFO:python_subgrid.wrapper:Start initialization of grid administration.\n"
       ]
      },
      {
       "output_type": "stream",
       "stream": "stderr",
       "text": [
        "INFO:python_subgrid.wrapper: Coarse grid parameters: kmax=           1 , dxmin=   10.0000000\n"
       ]
      },
      {
       "output_type": "stream",
       "stream": "stderr",
       "text": [
        "DEBUG:python_subgrid.wrapper:           0   3.99999991E-02  lg(1:imax,1:jmax)\n"
       ]
      },
      {
       "output_type": "stream",
       "stream": "stderr",
       "text": [
        "INFO:python_subgrid.wrapper:lg init on coarsest level took:   0.1000D-02 seconds.\n"
       ]
      },
      {
       "output_type": "stream",
       "stream": "stderr",
       "text": [
        "INFO:python_subgrid.wrapper:guess dams took:   0.1000D-02 seconds.\n"
       ]
      },
      {
       "output_type": "stream",
       "stream": "stderr",
       "text": [
        "INFO:python_subgrid.wrapper:Searching refinement areas for quadtrees generation took:  0.2000D-02 seconds.\n"
       ]
      },
      {
       "output_type": "stream",
       "stream": "stderr",
       "text": [
        "INFO:python_subgrid.wrapper:Making quadtrees took:   0.2000D-02 seconds.\n"
       ]
      },
      {
       "output_type": "stream",
       "stream": "stderr",
       "text": [
        "INFO:python_subgrid.wrapper:Opened file : boundaries/bound.ext\n"
       ]
      },
      {
       "output_type": "stream",
       "stream": "stderr",
       "text": [
        "INFO:python_subgrid.wrapper: Internal 2d nodes =       100\n"
       ]
      },
      {
       "output_type": "stream",
       "stream": "stderr",
       "text": [
        "INFO:python_subgrid.wrapper: Boundary 2d nodes =   0\n"
       ]
      },
      {
       "output_type": "stream",
       "stream": "stderr",
       "text": [
        "DEBUG:python_subgrid.wrapper: make_channel_network: k1dmax=          11 , k1dtot=           7\n"
       ]
      },
      {
       "output_type": "stream",
       "stream": "stderr",
       "text": [
        "INFO:python_subgrid.wrapper:Opened file : boundaries/bound.ext\n"
       ]
      },
      {
       "output_type": "stream",
       "stream": "stderr",
       "text": [
        "INFO:python_subgrid.wrapper:Opened file : boundaries/bound_wl_up.pli\n"
       ]
      },
      {
       "output_type": "stream",
       "stream": "stderr",
       "text": [
        "INFO:python_subgrid.wrapper:waterlevelbnd boundaries/bound_wl_up.pli       1 nr of open bndcells\n"
       ]
      },
      {
       "output_type": "stream",
       "stream": "stderr",
       "text": [
        "INFO:python_subgrid.wrapper:Opened file : boundaries/bound_wl_down.pli\n"
       ]
      },
      {
       "output_type": "stream",
       "stream": "stderr",
       "text": [
        "INFO:python_subgrid.wrapper:waterlevelbnd boundaries/bound_wl_down.pli       1 nr of open bndcells\n"
       ]
      },
      {
       "output_type": "stream",
       "stream": "stderr",
       "text": [
        "INFO:python_subgrid.wrapper: Internal 1d nodes =        67\n"
       ]
      },
      {
       "output_type": "stream",
       "stream": "stderr",
       "text": [
        "INFO:python_subgrid.wrapper: Boundary 1d nodes =   2\n"
       ]
      },
      {
       "output_type": "stream",
       "stream": "stderr",
       "text": [
        "DEBUG:python_subgrid.wrapper:           0   1.35999999E-03  nru,nrv\n"
       ]
      },
      {
       "output_type": "stream",
       "stream": "stderr",
       "text": [
        "INFO:python_subgrid.wrapper:Opened file : boundaries/bound.ext\n"
       ]
      },
      {
       "output_type": "stream",
       "stream": "stderr",
       "text": [
        "INFO:python_subgrid.wrapper:Initializing external forcing 'waterlevelbnd' from file 'boundaries/bound_wl_up.pli'.\n"
       ]
      },
      {
       "output_type": "stream",
       "stream": "stderr",
       "text": [
        "INFO:python_subgrid.wrapper:Opened file : boundaries/bound_wl_up.pli\n"
       ]
      },
      {
       "output_type": "stream",
       "stream": "stderr",
       "text": [
        "INFO:python_subgrid.wrapper:Opened file : boundaries/bound_wl_up_0001.tim\n"
       ]
      },
      {
       "output_type": "stream",
       "stream": "stderr",
       "text": [
        "INFO:python_subgrid.wrapper:Initializing external forcing 'waterlevelbnd' from file 'boundaries/bound_wl_down.pli'.\n"
       ]
      },
      {
       "output_type": "stream",
       "stream": "stderr",
       "text": [
        "INFO:python_subgrid.wrapper:Opened file : boundaries/bound_wl_down.pli\n"
       ]
      },
      {
       "output_type": "stream",
       "stream": "stderr",
       "text": [
        "INFO:python_subgrid.wrapper:Opened file : boundaries/bound_wl_down_0001.tim\n"
       ]
      },
      {
       "output_type": "stream",
       "stream": "stderr",
       "text": [
        "INFO:python_subgrid.wrapper:Initializing boundaries took:   0.4000D-02 seconds.\n"
       ]
      },
      {
       "output_type": "stream",
       "stream": "stderr",
       "text": [
        "INFO:python_subgrid.wrapper:Assignment of flooding thresholds took:   0.4600D-01 seconds.\n"
       ]
      },
      {
       "output_type": "stream",
       "stream": "stderr",
       "text": [
        "INFO:python_subgrid.wrapper:Grid Admin initialisation took:  0.4800D-01 seconds.\n"
       ]
      },
      {
       "output_type": "stream",
       "stream": "stderr",
       "text": [
        "INFO:python_subgrid.wrapper:Completed initialization of grid administration.\n"
       ]
      },
      {
       "output_type": "stream",
       "stream": "stderr",
       "text": [
        "INFO:python_subgrid.wrapper:Calculation of bathymetry statistics took:   0.1800D-01 seconds.\n"
       ]
      },
      {
       "output_type": "stream",
       "stream": "stderr",
       "text": [
        "INFO:python_subgrid.wrapper:Setting initial water levels  from WaterLevelFile took:   0.0000D+00 seconds.\n"
       ]
      },
      {
       "output_type": "stream",
       "stream": "stderr",
       "text": [
        "INFO:python_subgrid.wrapper:Setting initial water levels on 1d links from WaterLevelFile took:   0.0000D+00 seconds.\n"
       ]
      },
      {
       "output_type": "stream",
       "stream": "stderr",
       "text": [
        "INFO:python_subgrid.wrapper:Initial floodfill from FloodFill file took:   0.0000D+00 seconds.\n"
       ]
      },
      {
       "output_type": "stream",
       "stream": "stderr",
       "text": [
        "INFO:python_subgrid.wrapper:loadModel complete.\n"
       ]
      }
     ],
     "prompt_number": 16
    },
    {
     "cell_type": "code",
     "collapsed": false,
     "input": [
      "ds1d = subgrid.get_nd('ds1d')\n",
      "plt.imshow(ds1d.cumsum(1),interpolation='none')\n",
      "plt.colorbar()"
     ],
     "language": "python",
     "metadata": {},
     "outputs": [
      {
       "metadata": {},
       "output_type": "pyout",
       "prompt_number": 17,
       "text": [
        "<matplotlib.colorbar.Colorbar instance at 0x4406cb0>"
       ]
      },
      {
       "metadata": {},
       "output_type": "display_data",
       "png": "[encoded data removed]",
       "text": [
        "<matplotlib.figure.Figure at 0x4226590>"
       ]
      }
     ],
     "prompt_number": 17
    },
    {
     "cell_type": "code",
     "collapsed": false,
     "input": [
      "plt.imshow(ds1d, interpolation='none')\n",
      "plt.colorbar()"
     ],
     "language": "python",
     "metadata": {},
     "outputs": [
      {
       "metadata": {},
       "output_type": "pyout",
       "prompt_number": 18,
       "text": [
        "<matplotlib.colorbar.Colorbar instance at 0x4a96bd8>"
       ]
      },
      {
       "metadata": {},
       "output_type": "display_data",
       "png": "[encoded data removed]",
       "text": [
        "<matplotlib.figure.Figure at 0x3ea0150>"
       ]
      }
     ],
     "prompt_number": 18
    },
    {
     "cell_type": "code",
     "collapsed": false,
     "input": [
      "subgrid.get_nd('lu1dmx')"
     ],
     "language": "python",
     "metadata": {},
     "outputs": [
      {
       "metadata": {},
       "output_type": "pyout",
       "prompt_number": 19,
       "text": [
        "array([10, 10, 10, 10, 10, 10, 10], dtype=int32)"
       ]
      }
     ],
     "prompt_number": 19
    },
    {
     "cell_type": "code",
     "collapsed": false,
     "input": [
      "df = pandas.DataFrame(data=dict(branch=subgrid.get_nd('link_branchid').copy(),\n",
      "                           chainage=subgrid.get_nd('link_chainage').copy(),\n",
      "                           idx=subgrid.get_nd('link_idx').copy()))\n",
      "                           "
     ],
     "language": "python",
     "metadata": {},
     "outputs": [],
     "prompt_number": 20
    },
    {
     "cell_type": "code",
     "collapsed": false,
     "input": [
      "df.tail(n=19)"
     ],
     "language": "python",
     "metadata": {},
     "outputs": [
      {
       "html": [
        "<div style=\"max-height:1000px;max-width:1500px;overflow:auto;\">\n",
        "<table border=\"1\" class=\"dataframe\">\n",
        "  <thead>\n",
        "    <tr style=\"text-align: right;\">\n",
        "      <th></th>\n",
        "      <th>branch</th>\n",
        "      <th>chainage</th>\n",
        "      <th>idx</th>\n",
        "    </tr>\n",
        "  </thead>\n",
        "  <tbody>\n",
        "    <tr>\n",
        "      <th>51</th>\n",
        "      <td> 6</td>\n",
        "      <td>  5.000000</td>\n",
        "      <td> 230</td>\n",
        "    </tr>\n",
        "    <tr>\n",
        "      <th>52</th>\n",
        "      <td> 6</td>\n",
        "      <td> 10.000000</td>\n",
        "      <td> 231</td>\n",
        "    </tr>\n",
        "    <tr>\n",
        "      <th>53</th>\n",
        "      <td> 6</td>\n",
        "      <td> 15.000000</td>\n",
        "      <td> 232</td>\n",
        "    </tr>\n",
        "    <tr>\n",
        "      <th>54</th>\n",
        "      <td> 6</td>\n",
        "      <td> 20.000000</td>\n",
        "      <td> 233</td>\n",
        "    </tr>\n",
        "    <tr>\n",
        "      <th>55</th>\n",
        "      <td> 6</td>\n",
        "      <td> 25.000000</td>\n",
        "      <td> 234</td>\n",
        "    </tr>\n",
        "    <tr>\n",
        "      <th>56</th>\n",
        "      <td> 6</td>\n",
        "      <td> 30.000000</td>\n",
        "      <td> 235</td>\n",
        "    </tr>\n",
        "    <tr>\n",
        "      <th>57</th>\n",
        "      <td> 6</td>\n",
        "      <td> 35.000000</td>\n",
        "      <td> 236</td>\n",
        "    </tr>\n",
        "    <tr>\n",
        "      <th>58</th>\n",
        "      <td> 6</td>\n",
        "      <td> 40.000000</td>\n",
        "      <td> 237</td>\n",
        "    </tr>\n",
        "    <tr>\n",
        "      <th>59</th>\n",
        "      <td> 6</td>\n",
        "      <td> 45.000000</td>\n",
        "      <td> 238</td>\n",
        "    </tr>\n",
        "    <tr>\n",
        "      <th>60</th>\n",
        "      <td> 7</td>\n",
        "      <td>  0.000000</td>\n",
        "      <td> 239</td>\n",
        "    </tr>\n",
        "    <tr>\n",
        "      <th>61</th>\n",
        "      <td> 7</td>\n",
        "      <td>  3.201562</td>\n",
        "      <td> 240</td>\n",
        "    </tr>\n",
        "    <tr>\n",
        "      <th>62</th>\n",
        "      <td> 7</td>\n",
        "      <td>  6.403124</td>\n",
        "      <td> 241</td>\n",
        "    </tr>\n",
        "    <tr>\n",
        "      <th>63</th>\n",
        "      <td> 7</td>\n",
        "      <td>  9.604686</td>\n",
        "      <td> 242</td>\n",
        "    </tr>\n",
        "    <tr>\n",
        "      <th>64</th>\n",
        "      <td> 7</td>\n",
        "      <td> 12.806248</td>\n",
        "      <td> 243</td>\n",
        "    </tr>\n",
        "    <tr>\n",
        "      <th>65</th>\n",
        "      <td> 7</td>\n",
        "      <td> 16.007811</td>\n",
        "      <td> 244</td>\n",
        "    </tr>\n",
        "    <tr>\n",
        "      <th>66</th>\n",
        "      <td> 7</td>\n",
        "      <td> 19.209373</td>\n",
        "      <td> 245</td>\n",
        "    </tr>\n",
        "    <tr>\n",
        "      <th>67</th>\n",
        "      <td> 7</td>\n",
        "      <td> 22.410935</td>\n",
        "      <td> 246</td>\n",
        "    </tr>\n",
        "    <tr>\n",
        "      <th>68</th>\n",
        "      <td> 7</td>\n",
        "      <td> 25.612497</td>\n",
        "      <td> 247</td>\n",
        "    </tr>\n",
        "    <tr>\n",
        "      <th>69</th>\n",
        "      <td> 7</td>\n",
        "      <td> 28.814059</td>\n",
        "      <td> 248</td>\n",
        "    </tr>\n",
        "  </tbody>\n",
        "</table>\n",
        "</div>"
       ],
       "metadata": {},
       "output_type": "pyout",
       "prompt_number": 27,
       "text": [
        "    branch   chainage  idx\n",
        "51       6   5.000000  230\n",
        "52       6  10.000000  231\n",
        "53       6  15.000000  232\n",
        "54       6  20.000000  233\n",
        "55       6  25.000000  234\n",
        "56       6  30.000000  235\n",
        "57       6  35.000000  236\n",
        "58       6  40.000000  237\n",
        "59       6  45.000000  238\n",
        "60       7   0.000000  239\n",
        "61       7   3.201562  240\n",
        "62       7   6.403124  241\n",
        "63       7   9.604686  242\n",
        "64       7  12.806248  243\n",
        "65       7  16.007811  244\n",
        "66       7  19.209373  245\n",
        "67       7  22.410935  246\n",
        "68       7  25.612497  247\n",
        "69       7  28.814059  248"
       ]
      }
     ],
     "prompt_number": 27
    },
    {
     "cell_type": "code",
     "collapsed": false,
     "input": [
      "subgrid.get_nd('link_branchid')"
     ],
     "language": "python",
     "metadata": {},
     "outputs": [
      {
       "metadata": {},
       "output_type": "pyout",
       "prompt_number": 22,
       "text": [
        "array([1, 1, 1, 1, 1, 1, 1, 1, 1, 1, 2, 2, 2, 2, 2, 2, 2, 2, 2, 2, 3, 3, 3,\n",
        "       3, 3, 3, 3, 3, 3, 3, 4, 4, 4, 4, 4, 4, 4, 4, 4, 4, 5, 5, 5, 5, 5, 5,\n",
        "       5, 5, 5, 5, 6, 6, 6, 6, 6, 6, 6, 6, 6, 6, 7, 7, 7, 7, 7, 7, 7, 7, 7,\n",
        "       7], dtype=int32)"
       ]
      }
     ],
     "prompt_number": 22
    },
    {
     "cell_type": "code",
     "collapsed": false,
     "input": [
      "s1a = subgrid.get_nd('s1')"
     ],
     "language": "python",
     "metadata": {},
     "outputs": [],
     "prompt_number": 23
    },
    {
     "cell_type": "code",
     "collapsed": false,
     "input": [],
     "language": "python",
     "metadata": {},
     "outputs": [
      {
       "metadata": {},
       "output_type": "pyout",
       "prompt_number": 26,
       "text": [
        "[<matplotlib.lines.Line2D at 0x4d1bc10>]"
       ]
      },
      {
       "metadata": {},
       "output_type": "display_data",
       "png": "[encoded data removed]",
       "text": [
        "<matplotlib.figure.Figure at 0x4587990>"
       ]
      }
     ],
     "prompt_number": 26
    },
    {
     "cell_type": "code",
     "collapsed": false,
     "input": [
      "subgrid.update(-1)"
     ],
     "language": "python",
     "metadata": {},
     "outputs": [],
     "prompt_number": "*"
    },
    {
     "cell_type": "code",
     "collapsed": false,
     "input": [
      "ds.variables['time'][:]"
     ],
     "language": "python",
     "metadata": {},
     "outputs": [],
     "prompt_number": "*"
    },
    {
     "cell_type": "code",
     "collapsed": false,
     "input": [
      "ds.variables['s1'][0,:]"
     ],
     "language": "python",
     "metadata": {},
     "outputs": [],
     "prompt_number": "*"
    },
    {
     "cell_type": "code",
     "collapsed": false,
     "input": [],
     "language": "python",
     "metadata": {},
     "outputs": [],
     "prompt_number": "*"
    }
   ],
   "metadata": {}
  }
 ]
}