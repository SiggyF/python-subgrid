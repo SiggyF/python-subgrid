{
 "metadata": {
  "name": ""
 },
 "nbformat": 3,
 "nbformat_minor": 0,
 "worksheets": [
  {
   "cells": [
    {
     "cell_type": "code",
     "collapsed": false,
     "input": [
      "import os\n",
      "import pandas\n",
      "import python_subgrid\n",
      "import netCDF4"
     ],
     "language": "python",
     "metadata": {},
     "outputs": [],
     "prompt_number": 2
    },
    {
     "cell_type": "code",
     "collapsed": false,
     "input": [
      "ds = netCDF4.Dataset('../../models/1d-democase/subgrid_map.nc')"
     ],
     "language": "python",
     "metadata": {},
     "outputs": [],
     "prompt_number": 3
    },
    {
     "cell_type": "code",
     "collapsed": false,
     "input": [
      "u1 = ds.variables['unorm'][0,:] # called u1 in model\n",
      "t = ds.variables['time'][:]\n",
      "\n"
     ],
     "language": "python",
     "metadata": {},
     "outputs": [
      {
       "metadata": {},
       "output_type": "pyout",
       "prompt_number": 4,
       "text": [
        "(63,)"
       ]
      }
     ],
     "prompt_number": 4
    },
    {
     "cell_type": "code",
     "collapsed": false,
     "input": [
      "# We have 1d, 2d links followed by 1d and 2d boundaries\n",
      "print ds.nFlowLink1d, ds.nFlowLink2d, ds.nFlowLink1dBounds, ds.nFlowLink2dBounds\n",
      "# This variable should be of shape time * the sum of the above\n",
      "print ds.variables['unorm'].shape"
     ],
     "language": "python",
     "metadata": {},
     "outputs": [
      {
       "output_type": "stream",
       "stream": "stdout",
       "text": [
        "68 180 2 0\n",
        "(63, 250)\n"
       ]
      }
     ],
     "prompt_number": 8
    },
    {
     "cell_type": "code",
     "collapsed": false,
     "input": [
      "# We now that we can split the variables in  1d and 2d links and elements\n",
      "xn2d, xn1d,_ = np.split(ds.variables['FlowElem_xcc'][:], np.cumsum([getattr(ds,'nFlowElem2d'),getattr(ds,'nFlowElem1d')]))\n",
      "yn2d, yn1d,_ = np.split(ds.variables['FlowElem_ycc'][:], np.cumsum([getattr(ds,'nFlowElem2d'),getattr(ds,'nFlowElem1d')]))\n",
      "xl2d, xl1d,_ = np.split(ds.variables['FlowLink_xu'][:], np.cumsum([getattr(ds,'nFlowLink2d'),getattr(ds,'nFlowLink1d')]))\n",
      "yl2d, yl1d,_ = np.split(ds.variables['FlowLink_yu'][:], np.cumsum([getattr(ds,'nFlowLink2d'),getattr(ds,'nFlowLink1d')]))\n",
      "u12d, u11d,_ = np.split(u1, np.cumsum([getattr(ds,'nFlowLink2d'),getattr(ds,'nFlowLink1d')]))\n",
      "\n",
      "# We read everything we need from the file, let's close it\n",
      "ds.close()"
     ],
     "language": "python",
     "metadata": {},
     "outputs": [
      {
       "ename": "RuntimeError",
       "evalue": "NetCDF: Not a valid ID",
       "output_type": "pyerr",
       "traceback": [
        "\u001b[1;31m---------------------------------------------------------------------------\u001b[0m\n\u001b[1;31mRuntimeError\u001b[0m                              Traceback (most recent call last)",
        "\u001b[1;32m<ipython-input-14-b65ad77f3991>\u001b[0m in \u001b[0;36m<module>\u001b[1;34m()\u001b[0m\n\u001b[0;32m      1\u001b[0m \u001b[1;31m# We now that we can split the variables in  1d and 2d links and elements\u001b[0m\u001b[1;33m\u001b[0m\u001b[1;33m\u001b[0m\u001b[0m\n\u001b[1;32m----> 2\u001b[1;33m \u001b[0mxn2d\u001b[0m\u001b[1;33m,\u001b[0m \u001b[0mxn1d\u001b[0m\u001b[1;33m,\u001b[0m\u001b[0m_\u001b[0m \u001b[1;33m=\u001b[0m \u001b[0mnp\u001b[0m\u001b[1;33m.\u001b[0m\u001b[0msplit\u001b[0m\u001b[1;33m(\u001b[0m\u001b[0mds\u001b[0m\u001b[1;33m.\u001b[0m\u001b[0mvariables\u001b[0m\u001b[1;33m[\u001b[0m\u001b[1;34m'FlowElem_xcc'\u001b[0m\u001b[1;33m]\u001b[0m\u001b[1;33m[\u001b[0m\u001b[1;33m:\u001b[0m\u001b[1;33m]\u001b[0m\u001b[1;33m,\u001b[0m \u001b[0mnp\u001b[0m\u001b[1;33m.\u001b[0m\u001b[0mcumsum\u001b[0m\u001b[1;33m(\u001b[0m\u001b[1;33m[\u001b[0m\u001b[0mgetattr\u001b[0m\u001b[1;33m(\u001b[0m\u001b[0mds\u001b[0m\u001b[1;33m,\u001b[0m\u001b[1;34m'nFlowElem2d'\u001b[0m\u001b[1;33m)\u001b[0m\u001b[1;33m,\u001b[0m\u001b[0mgetattr\u001b[0m\u001b[1;33m(\u001b[0m\u001b[0mds\u001b[0m\u001b[1;33m,\u001b[0m\u001b[1;34m'nFlowElem1d'\u001b[0m\u001b[1;33m)\u001b[0m\u001b[1;33m]\u001b[0m\u001b[1;33m)\u001b[0m\u001b[1;33m)\u001b[0m\u001b[1;33m\u001b[0m\u001b[0m\n\u001b[0m\u001b[0;32m      3\u001b[0m \u001b[0myn2d\u001b[0m\u001b[1;33m,\u001b[0m \u001b[0myn1d\u001b[0m\u001b[1;33m,\u001b[0m\u001b[0m_\u001b[0m \u001b[1;33m=\u001b[0m \u001b[0mnp\u001b[0m\u001b[1;33m.\u001b[0m\u001b[0msplit\u001b[0m\u001b[1;33m(\u001b[0m\u001b[0mds\u001b[0m\u001b[1;33m.\u001b[0m\u001b[0mvariables\u001b[0m\u001b[1;33m[\u001b[0m\u001b[1;34m'FlowElem_ycc'\u001b[0m\u001b[1;33m]\u001b[0m\u001b[1;33m[\u001b[0m\u001b[1;33m:\u001b[0m\u001b[1;33m]\u001b[0m\u001b[1;33m,\u001b[0m \u001b[0mnp\u001b[0m\u001b[1;33m.\u001b[0m\u001b[0mcumsum\u001b[0m\u001b[1;33m(\u001b[0m\u001b[1;33m[\u001b[0m\u001b[0mgetattr\u001b[0m\u001b[1;33m(\u001b[0m\u001b[0mds\u001b[0m\u001b[1;33m,\u001b[0m\u001b[1;34m'nFlowElem2d'\u001b[0m\u001b[1;33m)\u001b[0m\u001b[1;33m,\u001b[0m\u001b[0mgetattr\u001b[0m\u001b[1;33m(\u001b[0m\u001b[0mds\u001b[0m\u001b[1;33m,\u001b[0m\u001b[1;34m'nFlowElem1d'\u001b[0m\u001b[1;33m)\u001b[0m\u001b[1;33m]\u001b[0m\u001b[1;33m)\u001b[0m\u001b[1;33m)\u001b[0m\u001b[1;33m\u001b[0m\u001b[0m\n\u001b[0;32m      4\u001b[0m \u001b[0mxl2d\u001b[0m\u001b[1;33m,\u001b[0m \u001b[0mxl1d\u001b[0m\u001b[1;33m,\u001b[0m\u001b[0m_\u001b[0m \u001b[1;33m=\u001b[0m \u001b[0mnp\u001b[0m\u001b[1;33m.\u001b[0m\u001b[0msplit\u001b[0m\u001b[1;33m(\u001b[0m\u001b[0mds\u001b[0m\u001b[1;33m.\u001b[0m\u001b[0mvariables\u001b[0m\u001b[1;33m[\u001b[0m\u001b[1;34m'FlowLink_xu'\u001b[0m\u001b[1;33m]\u001b[0m\u001b[1;33m[\u001b[0m\u001b[1;33m:\u001b[0m\u001b[1;33m]\u001b[0m\u001b[1;33m,\u001b[0m \u001b[0mnp\u001b[0m\u001b[1;33m.\u001b[0m\u001b[0mcumsum\u001b[0m\u001b[1;33m(\u001b[0m\u001b[1;33m[\u001b[0m\u001b[0mgetattr\u001b[0m\u001b[1;33m(\u001b[0m\u001b[0mds\u001b[0m\u001b[1;33m,\u001b[0m\u001b[1;34m'nFlowLink2d'\u001b[0m\u001b[1;33m)\u001b[0m\u001b[1;33m,\u001b[0m\u001b[0mgetattr\u001b[0m\u001b[1;33m(\u001b[0m\u001b[0mds\u001b[0m\u001b[1;33m,\u001b[0m\u001b[1;34m'nFlowLink1d'\u001b[0m\u001b[1;33m)\u001b[0m\u001b[1;33m]\u001b[0m\u001b[1;33m)\u001b[0m\u001b[1;33m)\u001b[0m\u001b[1;33m\u001b[0m\u001b[0m\n\u001b[0;32m      5\u001b[0m \u001b[0myl2d\u001b[0m\u001b[1;33m,\u001b[0m \u001b[0myl1d\u001b[0m\u001b[1;33m,\u001b[0m\u001b[0m_\u001b[0m \u001b[1;33m=\u001b[0m \u001b[0mnp\u001b[0m\u001b[1;33m.\u001b[0m\u001b[0msplit\u001b[0m\u001b[1;33m(\u001b[0m\u001b[0mds\u001b[0m\u001b[1;33m.\u001b[0m\u001b[0mvariables\u001b[0m\u001b[1;33m[\u001b[0m\u001b[1;34m'FlowLink_yu'\u001b[0m\u001b[1;33m]\u001b[0m\u001b[1;33m[\u001b[0m\u001b[1;33m:\u001b[0m\u001b[1;33m]\u001b[0m\u001b[1;33m,\u001b[0m \u001b[0mnp\u001b[0m\u001b[1;33m.\u001b[0m\u001b[0mcumsum\u001b[0m\u001b[1;33m(\u001b[0m\u001b[1;33m[\u001b[0m\u001b[0mgetattr\u001b[0m\u001b[1;33m(\u001b[0m\u001b[0mds\u001b[0m\u001b[1;33m,\u001b[0m\u001b[1;34m'nFlowLink2d'\u001b[0m\u001b[1;33m)\u001b[0m\u001b[1;33m,\u001b[0m\u001b[0mgetattr\u001b[0m\u001b[1;33m(\u001b[0m\u001b[0mds\u001b[0m\u001b[1;33m,\u001b[0m\u001b[1;34m'nFlowLink1d'\u001b[0m\u001b[1;33m)\u001b[0m\u001b[1;33m]\u001b[0m\u001b[1;33m)\u001b[0m\u001b[1;33m)\u001b[0m\u001b[1;33m\u001b[0m\u001b[0m\n",
        "\u001b[1;32m/home/fedor/.virtualenvs/main/local/lib/python2.7/site-packages/netCDF4.so\u001b[0m in \u001b[0;36mnetCDF4.Variable.__getitem__ (netCDF4.c:34042)\u001b[1;34m()\u001b[0m\n",
        "\u001b[1;32m/home/fedor/.virtualenvs/main/local/lib/python2.7/site-packages/netCDF4.so\u001b[0m in \u001b[0;36mnetCDF4.Variable.shape.__get__ (netCDF4.c:30880)\u001b[1;34m()\u001b[0m\n",
        "\u001b[1;32m/home/fedor/.virtualenvs/main/local/lib/python2.7/site-packages/netCDF4.so\u001b[0m in \u001b[0;36mnetCDF4.Variable._getdims (netCDF4.c:30516)\u001b[1;34m()\u001b[0m\n",
        "\u001b[1;31mRuntimeError\u001b[0m: NetCDF: Not a valid ID"
       ]
      }
     ],
     "prompt_number": 14
    },
    {
     "cell_type": "code",
     "collapsed": false,
     "input": [
      "# Let's read our network\n",
      "lines = open('../../models/1d-democase/one_d/netwerk.inp').readlines()\n",
      "rows = [map(int, line.split()) for line in lines]\n",
      "# I'm not writing a parser here, the first 6 rows are 1d nodes\n",
      "nodes = pandas.DataFrame(rows[:6], columns=('idx', 'a', 'x','y','b', 'c'))\n",
      "nodes = nodes.set_index('idx')\n",
      "\n",
      "# Starting from row 10 we have the branches \n",
      "branches = pandas.DataFrame(rows[9:], columns=('idx', 'a', 'node0_idx', 'node1_idx', 'b', 'c', 'd'))\n",
      "branches = branches.set_index('idx')"
     ],
     "language": "python",
     "metadata": {},
     "outputs": [],
     "prompt_number": 15
    },
    {
     "cell_type": "code",
     "collapsed": false,
     "input": [
      "# Let's plot the network\n",
      "fig, ax = plt.subplots()\n",
      "ax.set_aspect('equal')\n",
      "ax.plot(nodes.x, nodes.y, 'bs', label='netn', alpha=0.3, markersize=5)\n",
      "\n",
      "for i, row in branches.iterrows():\n",
      "    node0 = nodes.ix[row['node0_idx']]\n",
      "    node1 = nodes.ix[row['node1_idx']]\n",
      "    ax.text(node0['x']+1, node0['y']+2, node0.name)\n",
      "    ax.text(node1['x']+1, node1['y']+2, node1.name)\n",
      "    ax.text((node1['x']+node0['x'])/2.0+1, (node0['y']+node1['y'])/2.0+2, row.name, color='red')\n",
      "    line = matplotlib.lines.Line2D(xdata=[node0['x'], node1['x']], ydata=[node0['y'], node1['y']])\n",
      "    \n",
      "    ax.add_line(line)\n",
      "ax.set_title('1D Network')\n",
      "ax.set_xlim(auto=True)\n",
      "ax.set_ylim(456000.0-10, 456100.0+10)"
     ],
     "language": "python",
     "metadata": {},
     "outputs": [
      {
       "metadata": {},
       "output_type": "pyout",
       "prompt_number": 21,
       "text": [
        "(455990.0, 456110.0)"
       ]
      },
      {
       "metadata": {},
       "output_type": "display_data",
       "png": "[encoded data removed]",
       "text": [
        "<matplotlib.figure.Figure at 0x3c48850>"
       ]
      }
     ],
     "prompt_number": 21
    },
    {
     "cell_type": "code",
     "collapsed": false,
     "input": [
      "\n",
      "fig, ax = plt.subplots()\n",
      "# We can also add all the computational links \n",
      "l = ax.plot(xn1d, yn1d, 'go', label='1dn')\n",
      "l = ax.plot(xn2d, yn2d, 'k.', alpha=0.3)\n",
      "l = ax.plot(xl1d, yl1d, 'gx', label='1dl')\n",
      "l = ax.plot(xl2d, yl2d, 'k+', alpha=0.3)\n",
      "l = ax.quiver(xl1d, yl1d, np.zeros(u11d.shape), u11d, label='u1 1d', alpha=0.3)\n",
      "l = ax.quiver(xl2d, yl2d, np.zeros(u12d.shape), u12d, label='u1 2d', alpha=0.3)\n",
      "\n",
      "ax.legend()\n",
      "ax.set_title('Computational links')\n"
     ],
     "language": "python",
     "metadata": {},
     "outputs": [
      {
       "metadata": {},
       "output_type": "pyout",
       "prompt_number": 20,
       "text": [
        "<matplotlib.text.Text at 0x4410d90>"
       ]
      },
      {
       "metadata": {},
       "output_type": "display_data",
       "png": "[encoded data removed]",
       "text": [
        "<matplotlib.figure.Figure at 0x370b090>"
       ]
      }
     ],
     "prompt_number": 20
    },
    {
     "cell_type": "code",
     "collapsed": false,
     "input": [
      "# Now let's generate the same thing from memory\n",
      "import python_subgrid.wrapper"
     ],
     "language": "python",
     "metadata": {},
     "outputs": [],
     "prompt_number": 22
    },
    {
     "cell_type": "code",
     "collapsed": false,
     "input": [
      "subgrid = python_subgrid.wrapper.SubgridWrapper(mdu='../../models/1d-democase/1D-democase.mdu')"
     ],
     "language": "python",
     "metadata": {},
     "outputs": [],
     "prompt_number": 23
    },
    {
     "cell_type": "code",
     "collapsed": false,
     "input": [
      "subgrid.start()"
     ],
     "language": "python",
     "metadata": {},
     "outputs": [
      {
       "output_type": "stream",
       "stream": "stderr",
       "text": [
        "INFO:python_subgrid.wrapper:Using subgrid fortran library /home/fedor/.local/lib/libsubgrid.so\n"
       ]
      },
      {
       "output_type": "stream",
       "stream": "stderr",
       "text": [
        "INFO:python_subgrid.wrapper:Loading library from path /home/fedor/.local/lib/libsubgrid.so\n"
       ]
      },
      {
       "output_type": "stream",
       "stream": "stderr",
       "text": [
        "INFO:python_subgrid.wrapper:Current version: Deltares, 3Di - subgrid Version 0.1.1.892M, Nov 13 2013, 17:33:35\n"
       ]
      },
      {
       "output_type": "stream",
       "stream": "stderr",
       "text": [
        "INFO:python_subgrid.wrapper:Startup complete.\n"
       ]
      },
      {
       "output_type": "stream",
       "stream": "stderr",
       "text": [
        "INFO:python_subgrid.wrapper:Loading model ../../models/1d-democase/1D-democase.mdu in directory /home/fedor/Checkouts/models/1d-democase\n"
       ]
      },
      {
       "output_type": "stream",
       "stream": "stderr",
       "text": [
        "INFO:python_subgrid.wrapper:Start loadModel for '../../models/1d-democase/1D-democase.mdu'.\n"
       ]
      },
      {
       "output_type": "stream",
       "stream": "stderr",
       "text": [
        "WARNING:python_subgrid.wrapper:Ignored 'Teta' in MDU file, please use 'IntegrationMethod' instead.\n"
       ]
      },
      {
       "output_type": "stream",
       "stream": "stderr",
       "text": [
        "INFO:python_subgrid.wrapper:Wrong NumLayers. Ground water calculations switched off.\n"
       ]
      },
      {
       "output_type": "stream",
       "stream": "stderr",
       "text": [
        "INFO:python_subgrid.wrapper:Reading bathmetry file ' subgrid/zak_drieharing_100x100.tif '...\n"
       ]
      },
      {
       "output_type": "stream",
       "stream": "stderr",
       "text": [
        "DEBUG:python_subgrid.wrapper:           0   4.08039987E-02  dps(0:imax+1, 0:jmax+1)\n"
       ]
      },
      {
       "output_type": "stream",
       "stream": "stderr",
       "text": [
        "INFO:python_subgrid.wrapper:Completed reading bathymetry file.\n"
       ]
      },
      {
       "output_type": "stream",
       "stream": "stderr",
       "text": [
        "INFO:python_subgrid.wrapper:Start initialization of grid administration.\n"
       ]
      },
      {
       "output_type": "stream",
       "stream": "stderr",
       "text": [
        "INFO:python_subgrid.wrapper: Coarse grid parameters: kmax=           1 , dxmin=   10.0000000\n"
       ]
      },
      {
       "output_type": "stream",
       "stream": "stderr",
       "text": [
        "DEBUG:python_subgrid.wrapper:           0   3.99999991E-02  lg(1:imax,1:jmax)\n"
       ]
      },
      {
       "output_type": "stream",
       "stream": "stderr",
       "text": [
        "INFO:python_subgrid.wrapper:lg init on coarsest level took:   0.0000D+00 seconds.\n"
       ]
      },
      {
       "output_type": "stream",
       "stream": "stderr",
       "text": [
        "INFO:python_subgrid.wrapper:guess dams took:   0.0000D+00 seconds.\n"
       ]
      },
      {
       "output_type": "stream",
       "stream": "stderr",
       "text": [
        "INFO:python_subgrid.wrapper:Searching refinement areas for quadtrees generation took:  0.1000D-02 seconds.\n"
       ]
      },
      {
       "output_type": "stream",
       "stream": "stderr",
       "text": [
        "INFO:python_subgrid.wrapper:Making quadtrees took:   0.1000D-02 seconds.\n"
       ]
      },
      {
       "output_type": "stream",
       "stream": "stderr",
       "text": [
        "INFO:python_subgrid.wrapper:Opened file : boundaries/bound.ext\n"
       ]
      },
      {
       "output_type": "stream",
       "stream": "stderr",
       "text": [
        "INFO:python_subgrid.wrapper: Internal 2d nodes =       100\n"
       ]
      },
      {
       "output_type": "stream",
       "stream": "stderr",
       "text": [
        "INFO:python_subgrid.wrapper: Boundary 2d nodes =   0\n"
       ]
      },
      {
       "output_type": "stream",
       "stream": "stderr",
       "text": [
        "DEBUG:python_subgrid.wrapper: make_channel_network: k1dmax=          11 , k1dtot=           7\n"
       ]
      },
      {
       "output_type": "stream",
       "stream": "stderr",
       "text": [
        "INFO:python_subgrid.wrapper:Opened file : boundaries/bound.ext\n"
       ]
      },
      {
       "output_type": "stream",
       "stream": "stderr",
       "text": [
        "INFO:python_subgrid.wrapper:Opened file : boundaries/bound_wl_up.pli\n"
       ]
      },
      {
       "output_type": "stream",
       "stream": "stderr",
       "text": [
        "INFO:python_subgrid.wrapper:waterlevelbnd boundaries/bound_wl_up.pli       1 nr of open bndcells\n"
       ]
      },
      {
       "output_type": "stream",
       "stream": "stderr",
       "text": [
        "INFO:python_subgrid.wrapper:Opened file : boundaries/bound_wl_down.pli\n"
       ]
      },
      {
       "output_type": "stream",
       "stream": "stderr",
       "text": [
        "INFO:python_subgrid.wrapper:waterlevelbnd boundaries/bound_wl_down.pli       1 nr of open bndcells\n"
       ]
      },
      {
       "output_type": "stream",
       "stream": "stderr",
       "text": [
        "INFO:python_subgrid.wrapper: Internal 1d nodes =        67\n"
       ]
      },
      {
       "output_type": "stream",
       "stream": "stderr",
       "text": [
        "INFO:python_subgrid.wrapper: Boundary 1d nodes =   2\n"
       ]
      },
      {
       "output_type": "stream",
       "stream": "stderr",
       "text": [
        "DEBUG:python_subgrid.wrapper:           0   1.35999999E-03  nru,nrv\n"
       ]
      },
      {
       "output_type": "stream",
       "stream": "stderr",
       "text": [
        "INFO:python_subgrid.wrapper:Opened file : boundaries/bound.ext\n"
       ]
      },
      {
       "output_type": "stream",
       "stream": "stderr",
       "text": [
        "INFO:python_subgrid.wrapper:Initializing external forcing 'waterlevelbnd' from file 'boundaries/bound_wl_up.pli'.\n"
       ]
      },
      {
       "output_type": "stream",
       "stream": "stderr",
       "text": [
        "INFO:python_subgrid.wrapper:Opened file : boundaries/bound_wl_up.pli\n"
       ]
      },
      {
       "output_type": "stream",
       "stream": "stderr",
       "text": [
        "INFO:python_subgrid.wrapper:Opened file : boundaries/bound_wl_up_0001.tim\n"
       ]
      },
      {
       "output_type": "stream",
       "stream": "stderr",
       "text": [
        "INFO:python_subgrid.wrapper:Initializing external forcing 'waterlevelbnd' from file 'boundaries/bound_wl_down.pli'.\n"
       ]
      },
      {
       "output_type": "stream",
       "stream": "stderr",
       "text": [
        "INFO:python_subgrid.wrapper:Opened file : boundaries/bound_wl_down.pli\n"
       ]
      },
      {
       "output_type": "stream",
       "stream": "stderr",
       "text": [
        "INFO:python_subgrid.wrapper:Opened file : boundaries/bound_wl_down_0001.tim\n"
       ]
      },
      {
       "output_type": "stream",
       "stream": "stderr",
       "text": [
        "INFO:python_subgrid.wrapper:Initializing boundaries took:   0.5000D-02 seconds.\n"
       ]
      },
      {
       "output_type": "stream",
       "stream": "stderr",
       "text": [
        "INFO:python_subgrid.wrapper:Assignment of flooding thresholds took:   0.3400D-01 seconds.\n"
       ]
      },
      {
       "output_type": "stream",
       "stream": "stderr",
       "text": [
        "INFO:python_subgrid.wrapper:Grid Admin initialisation took:  0.3700D-01 seconds.\n"
       ]
      },
      {
       "output_type": "stream",
       "stream": "stderr",
       "text": [
        "INFO:python_subgrid.wrapper:Completed initialization of grid administration.\n"
       ]
      },
      {
       "output_type": "stream",
       "stream": "stderr",
       "text": [
        "INFO:python_subgrid.wrapper:Calculation of bathymetry statistics took:   0.9000D-02 seconds.\n"
       ]
      },
      {
       "output_type": "stream",
       "stream": "stderr",
       "text": [
        "INFO:python_subgrid.wrapper:Setting initial water levels  from WaterLevelFile took:   0.0000D+00 seconds.\n"
       ]
      },
      {
       "output_type": "stream",
       "stream": "stderr",
       "text": [
        "INFO:python_subgrid.wrapper:Setting initial water levels on 1d links from WaterLevelFile took:   0.0000D+00 seconds.\n"
       ]
      },
      {
       "output_type": "stream",
       "stream": "stderr",
       "text": [
        "INFO:python_subgrid.wrapper:Initial floodfill from FloodFill file took:   0.0000D+00 seconds.\n"
       ]
      },
      {
       "output_type": "stream",
       "stream": "stderr",
       "text": [
        "INFO:python_subgrid.wrapper:loadModel complete.\n"
       ]
      }
     ],
     "prompt_number": 24
    },
    {
     "cell_type": "code",
     "collapsed": false,
     "input": [
      "import pandas\n",
      "df = pandas.DataFrame(data=dict(branch=subgrid.get_nd('link_branchid').copy(),\n",
      "                           chainage=subgrid.get_nd('link_chainage').copy(),\n",
      "                           idx=subgrid.get_nd('link_idx').copy()))\n",
      "                           "
     ],
     "language": "python",
     "metadata": {},
     "outputs": [],
     "prompt_number": 25
    },
    {
     "cell_type": "code",
     "collapsed": false,
     "input": [
      "u = subgrid.get_nd('u1').copy()"
     ],
     "language": "python",
     "metadata": {},
     "outputs": [],
     "prompt_number": 27
    },
    {
     "cell_type": "code",
     "collapsed": false,
     "input": [
      "# let's run the model for a few timesteps\n",
      "for i in range(100):\n",
      "    subgrid.update(10.0)"
     ],
     "language": "python",
     "metadata": {},
     "outputs": [
      {
       "output_type": "stream",
       "stream": "stderr",
       "text": [
        "INFO:python_subgrid.wrapper:Start timestep-update.\n"
       ]
      },
      {
       "output_type": "stream",
       "stream": "stderr",
       "text": [
        "DEBUG:python_subgrid.wrapper: Trying to use timestep:    10.000000000000000\n"
       ]
      },
      {
       "output_type": "stream",
       "stream": "stderr",
       "text": [
        "DEBUG:python_subgrid.wrapper:Start initFlowAdmin, flow_init=              3\n"
       ]
      },
      {
       "output_type": "stream",
       "stream": "stderr",
       "text": [
        "INFO:python_subgrid.wrapper:reduce time:       0.001000\n"
       ]
      },
      {
       "output_type": "stream",
       "stream": "stderr",
       "text": [
        "INFO:python_subgrid.wrapper: noactive=       167 nogauss=       135 nocg        32\n"
       ]
      },
      {
       "output_type": "stream",
       "stream": "stderr",
       "text": [
        "DEBUG:python_subgrid.wrapper:           0   2.70799990E-03  vqt,denom(0:4*nodall),fbq(0:4*nodall),umq(0:4*nodall)\n"
       ]
      },
      {
       "output_type": "stream",
       "stream": "stderr",
       "text": [
        "DEBUG:python_subgrid.wrapper:           0   1.01699994E-03  qs,qs1,qs2(0:2*nodall)\n"
       ]
      },
      {
       "output_type": "stream",
       "stream": "stderr",
       "text": [
        "DEBUG:python_subgrid.wrapper:           0   1.24999997E-03  cu,ru(linall)\n"
       ]
      },
      {
       "output_type": "stream",
       "stream": "stderr",
       "text": [
        "INFO:python_subgrid.wrapper:Initialization of Flow Values took:   0.6000D-02 seconds.\n"
       ]
      },
      {
       "output_type": "stream",
       "stream": "stderr",
       "text": [
        "DEBUG:python_subgrid.wrapper:Completed initFlowAdmin.\n"
       ]
      },
      {
       "output_type": "stream",
       "stream": "stderr",
       "text": [
        "INFO:python_subgrid.wrapper:Timestep 1 number of iterations 1 epsmax   0.0000E+00 idthalf 1  np = 1\n"
       ]
      },
      {
       "output_type": "stream",
       "stream": "stderr",
       "text": [
        "INFO:python_subgrid.wrapper:Timestep complete.\n"
       ]
      },
      {
       "output_type": "stream",
       "stream": "stderr",
       "text": [
        "INFO:python_subgrid.wrapper:Start timestep-update.\n"
       ]
      },
      {
       "output_type": "stream",
       "stream": "stderr",
       "text": [
        "DEBUG:python_subgrid.wrapper: Trying to use timestep:    10.000000000000000\n"
       ]
      },
      {
       "output_type": "stream",
       "stream": "stderr",
       "text": [
        "DEBUG:python_subgrid.wrapper:Start initFlowAdmin, flow_init=              0\n"
       ]
      },
      {
       "output_type": "stream",
       "stream": "stderr",
       "text": [
        "INFO:python_subgrid.wrapper:Timestep 2 number of iterations 2 epsmax   0.0000E+00 idthalf 1  np = 1\n"
       ]
      },
      {
       "output_type": "stream",
       "stream": "stderr",
       "text": [
        "INFO:python_subgrid.wrapper:Timestep complete.\n"
       ]
      },
      {
       "output_type": "stream",
       "stream": "stderr",
       "text": [
        "INFO:python_subgrid.wrapper:Start timestep-update.\n"
       ]
      },
      {
       "output_type": "stream",
       "stream": "stderr",
       "text": [
        "DEBUG:python_subgrid.wrapper: Trying to use timestep:    10.000000000000000\n"
       ]
      },
      {
       "output_type": "stream",
       "stream": "stderr",
       "text": [
        "DEBUG:python_subgrid.wrapper:Start initFlowAdmin, flow_init=              0\n"
       ]
      },
      {
       "output_type": "stream",
       "stream": "stderr",
       "text": [
        "INFO:python_subgrid.wrapper:Timestep 3 number of iterations 2 epsmax   0.0000E+00 idthalf 1  np = 1\n"
       ]
      },
      {
       "output_type": "stream",
       "stream": "stderr",
       "text": [
        "INFO:python_subgrid.wrapper:Timestep complete.\n"
       ]
      },
      {
       "output_type": "stream",
       "stream": "stderr",
       "text": [
        "INFO:python_subgrid.wrapper:Start timestep-update.\n"
       ]
      },
      {
       "output_type": "stream",
       "stream": "stderr",
       "text": [
        "DEBUG:python_subgrid.wrapper: Trying to use timestep:    10.000000000000000\n"
       ]
      },
      {
       "output_type": "stream",
       "stream": "stderr",
       "text": [
        "DEBUG:python_subgrid.wrapper:Start initFlowAdmin, flow_init=              0\n"
       ]
      },
      {
       "output_type": "stream",
       "stream": "stderr",
       "text": [
        "INFO:python_subgrid.wrapper:Timestep 4 number of iterations 2 epsmax   0.0000E+00 idthalf 1  np = 1\n"
       ]
      },
      {
       "output_type": "stream",
       "stream": "stderr",
       "text": [
        "INFO:python_subgrid.wrapper:Timestep complete.\n"
       ]
      },
      {
       "output_type": "stream",
       "stream": "stderr",
       "text": [
        "INFO:python_subgrid.wrapper:Start timestep-update.\n"
       ]
      },
      {
       "output_type": "stream",
       "stream": "stderr",
       "text": [
        "DEBUG:python_subgrid.wrapper: Trying to use timestep:    10.000000000000000\n"
       ]
      },
      {
       "output_type": "stream",
       "stream": "stderr",
       "text": [
        "DEBUG:python_subgrid.wrapper:Start initFlowAdmin, flow_init=              0\n"
       ]
      },
      {
       "output_type": "stream",
       "stream": "stderr",
       "text": [
        "INFO:python_subgrid.wrapper:Timestep 5 number of iterations 2 epsmax   0.0000E+00 idthalf 1  np = 1\n"
       ]
      },
      {
       "output_type": "stream",
       "stream": "stderr",
       "text": [
        "INFO:python_subgrid.wrapper:Timestep complete.\n"
       ]
      },
      {
       "output_type": "stream",
       "stream": "stderr",
       "text": [
        "INFO:python_subgrid.wrapper:Start timestep-update.\n"
       ]
      },
      {
       "output_type": "stream",
       "stream": "stderr",
       "text": [
        "DEBUG:python_subgrid.wrapper: Trying to use timestep:    10.000000000000000\n"
       ]
      },
      {
       "output_type": "stream",
       "stream": "stderr",
       "text": [
        "DEBUG:python_subgrid.wrapper:Start initFlowAdmin, flow_init=              0\n"
       ]
      },
      {
       "output_type": "stream",
       "stream": "stderr",
       "text": [
        "INFO:python_subgrid.wrapper:Timestep 6 number of iterations 2 epsmax   0.0000E+00 idthalf 1  np = 1\n"
       ]
      },
      {
       "output_type": "stream",
       "stream": "stderr",
       "text": [
        "INFO:python_subgrid.wrapper:Timestep complete.\n"
       ]
      },
      {
       "output_type": "stream",
       "stream": "stderr",
       "text": [
        "INFO:python_subgrid.wrapper:Start timestep-update.\n"
       ]
      },
      {
       "output_type": "stream",
       "stream": "stderr",
       "text": [
        "DEBUG:python_subgrid.wrapper: Trying to use timestep:    10.000000000000000\n"
       ]
      },
      {
       "output_type": "stream",
       "stream": "stderr",
       "text": [
        "DEBUG:python_subgrid.wrapper:Start initFlowAdmin, flow_init=              0\n"
       ]
      },
      {
       "output_type": "stream",
       "stream": "stderr",
       "text": [
        "INFO:python_subgrid.wrapper:Timestep 7 number of iterations 2 epsmax   0.0000E+00 idthalf 1  np = 1\n"
       ]
      },
      {
       "output_type": "stream",
       "stream": "stderr",
       "text": [
        "INFO:python_subgrid.wrapper:Timestep complete.\n"
       ]
      },
      {
       "output_type": "stream",
       "stream": "stderr",
       "text": [
        "INFO:python_subgrid.wrapper:Start timestep-update.\n"
       ]
      },
      {
       "output_type": "stream",
       "stream": "stderr",
       "text": [
        "DEBUG:python_subgrid.wrapper: Trying to use timestep:    10.000000000000000\n"
       ]
      },
      {
       "output_type": "stream",
       "stream": "stderr",
       "text": [
        "DEBUG:python_subgrid.wrapper:Start initFlowAdmin, flow_init=              0\n"
       ]
      },
      {
       "output_type": "stream",
       "stream": "stderr",
       "text": [
        "INFO:python_subgrid.wrapper:Timestep 8 number of iterations 2 epsmax   0.0000E+00 idthalf 1  np = 1\n"
       ]
      },
      {
       "output_type": "stream",
       "stream": "stderr",
       "text": [
        "INFO:python_subgrid.wrapper:Timestep complete.\n"
       ]
      },
      {
       "output_type": "stream",
       "stream": "stderr",
       "text": [
        "INFO:python_subgrid.wrapper:Start timestep-update.\n"
       ]
      },
      {
       "output_type": "stream",
       "stream": "stderr",
       "text": [
        "DEBUG:python_subgrid.wrapper: Trying to use timestep:    10.000000000000000\n"
       ]
      },
      {
       "output_type": "stream",
       "stream": "stderr",
       "text": [
        "DEBUG:python_subgrid.wrapper:Start initFlowAdmin, flow_init=              0\n"
       ]
      },
      {
       "output_type": "stream",
       "stream": "stderr",
       "text": [
        "INFO:python_subgrid.wrapper:Timestep 9 number of iterations 2 epsmax   0.0000E+00 idthalf 1  np = 1\n"
       ]
      },
      {
       "output_type": "stream",
       "stream": "stderr",
       "text": [
        "INFO:python_subgrid.wrapper:Timestep complete.\n"
       ]
      },
      {
       "output_type": "stream",
       "stream": "stderr",
       "text": [
        "INFO:python_subgrid.wrapper:Start timestep-update.\n"
       ]
      },
      {
       "output_type": "stream",
       "stream": "stderr",
       "text": [
        "DEBUG:python_subgrid.wrapper: Trying to use timestep:    10.000000000000000\n"
       ]
      },
      {
       "output_type": "stream",
       "stream": "stderr",
       "text": [
        "DEBUG:python_subgrid.wrapper:Start initFlowAdmin, flow_init=              0\n"
       ]
      },
      {
       "output_type": "stream",
       "stream": "stderr",
       "text": [
        "INFO:python_subgrid.wrapper:Timestep 10 number of iterations 2 epsmax   0.0000E+00 idthalf 1  np = 1\n"
       ]
      },
      {
       "output_type": "stream",
       "stream": "stderr",
       "text": [
        "INFO:python_subgrid.wrapper:Timestep complete.\n"
       ]
      },
      {
       "output_type": "stream",
       "stream": "stderr",
       "text": [
        "INFO:python_subgrid.wrapper:Start timestep-update.\n"
       ]
      },
      {
       "output_type": "stream",
       "stream": "stderr",
       "text": [
        "DEBUG:python_subgrid.wrapper: Trying to use timestep:    10.000000000000000\n"
       ]
      },
      {
       "output_type": "stream",
       "stream": "stderr",
       "text": [
        "DEBUG:python_subgrid.wrapper:Start initFlowAdmin, flow_init=              0\n"
       ]
      },
      {
       "output_type": "stream",
       "stream": "stderr",
       "text": [
        "INFO:python_subgrid.wrapper:Timestep 11 number of iterations 2 epsmax   0.0000E+00 idthalf 1  np = 1\n"
       ]
      },
      {
       "output_type": "stream",
       "stream": "stderr",
       "text": [
        "INFO:python_subgrid.wrapper:Timestep complete.\n"
       ]
      },
      {
       "output_type": "stream",
       "stream": "stderr",
       "text": [
        "INFO:python_subgrid.wrapper:Start timestep-update.\n"
       ]
      },
      {
       "output_type": "stream",
       "stream": "stderr",
       "text": [
        "DEBUG:python_subgrid.wrapper: Trying to use timestep:    10.000000000000000\n"
       ]
      },
      {
       "output_type": "stream",
       "stream": "stderr",
       "text": [
        "DEBUG:python_subgrid.wrapper:Start initFlowAdmin, flow_init=              0\n"
       ]
      },
      {
       "output_type": "stream",
       "stream": "stderr",
       "text": [
        "INFO:python_subgrid.wrapper:Timestep 12 number of iterations 2 epsmax   0.0000E+00 idthalf 1  np = 1\n"
       ]
      },
      {
       "output_type": "stream",
       "stream": "stderr",
       "text": [
        "INFO:python_subgrid.wrapper:Timestep complete.\n"
       ]
      },
      {
       "output_type": "stream",
       "stream": "stderr",
       "text": [
        "INFO:python_subgrid.wrapper:Start timestep-update.\n"
       ]
      },
      {
       "output_type": "stream",
       "stream": "stderr",
       "text": [
        "DEBUG:python_subgrid.wrapper: Trying to use timestep:    10.000000000000000\n"
       ]
      },
      {
       "output_type": "stream",
       "stream": "stderr",
       "text": [
        "DEBUG:python_subgrid.wrapper:Start initFlowAdmin, flow_init=              0\n"
       ]
      },
      {
       "output_type": "stream",
       "stream": "stderr",
       "text": [
        "INFO:python_subgrid.wrapper:Timestep 13 number of iterations 2 epsmax   0.0000E+00 idthalf 1  np = 1\n"
       ]
      },
      {
       "output_type": "stream",
       "stream": "stderr",
       "text": [
        "INFO:python_subgrid.wrapper:Timestep complete.\n"
       ]
      },
      {
       "output_type": "stream",
       "stream": "stderr",
       "text": [
        "INFO:python_subgrid.wrapper:Start timestep-update.\n"
       ]
      },
      {
       "output_type": "stream",
       "stream": "stderr",
       "text": [
        "DEBUG:python_subgrid.wrapper: Trying to use timestep:    10.000000000000000\n"
       ]
      },
      {
       "output_type": "stream",
       "stream": "stderr",
       "text": [
        "DEBUG:python_subgrid.wrapper:Start initFlowAdmin, flow_init=              0\n"
       ]
      },
      {
       "output_type": "stream",
       "stream": "stderr",
       "text": [
        "INFO:python_subgrid.wrapper:Timestep 14 number of iterations 2 epsmax   0.0000E+00 idthalf 1  np = 1\n"
       ]
      },
      {
       "output_type": "stream",
       "stream": "stderr",
       "text": [
        "INFO:python_subgrid.wrapper:Timestep complete.\n"
       ]
      },
      {
       "output_type": "stream",
       "stream": "stderr",
       "text": [
        "INFO:python_subgrid.wrapper:Start timestep-update.\n"
       ]
      },
      {
       "output_type": "stream",
       "stream": "stderr",
       "text": [
        "DEBUG:python_subgrid.wrapper: Trying to use timestep:    10.000000000000000\n"
       ]
      },
      {
       "output_type": "stream",
       "stream": "stderr",
       "text": [
        "DEBUG:python_subgrid.wrapper:Start initFlowAdmin, flow_init=              0\n"
       ]
      },
      {
       "output_type": "stream",
       "stream": "stderr",
       "text": [
        "INFO:python_subgrid.wrapper:Timestep 15 number of iterations 2 epsmax   0.0000E+00 idthalf 1  np = 1\n"
       ]
      },
      {
       "output_type": "stream",
       "stream": "stderr",
       "text": [
        "INFO:python_subgrid.wrapper:Timestep complete.\n"
       ]
      },
      {
       "output_type": "stream",
       "stream": "stderr",
       "text": [
        "INFO:python_subgrid.wrapper:Start timestep-update.\n"
       ]
      },
      {
       "output_type": "stream",
       "stream": "stderr",
       "text": [
        "DEBUG:python_subgrid.wrapper: Trying to use timestep:    10.000000000000000\n"
       ]
      },
      {
       "output_type": "stream",
       "stream": "stderr",
       "text": [
        "DEBUG:python_subgrid.wrapper:Start initFlowAdmin, flow_init=              0\n"
       ]
      },
      {
       "output_type": "stream",
       "stream": "stderr",
       "text": [
        "INFO:python_subgrid.wrapper:Timestep 16 number of iterations 2 epsmax   0.0000E+00 idthalf 1  np = 1\n"
       ]
      },
      {
       "output_type": "stream",
       "stream": "stderr",
       "text": [
        "INFO:python_subgrid.wrapper:Timestep complete.\n"
       ]
      },
      {
       "output_type": "stream",
       "stream": "stderr",
       "text": [
        "INFO:python_subgrid.wrapper:Start timestep-update.\n"
       ]
      },
      {
       "output_type": "stream",
       "stream": "stderr",
       "text": [
        "DEBUG:python_subgrid.wrapper: Trying to use timestep:    10.000000000000000\n"
       ]
      },
      {
       "output_type": "stream",
       "stream": "stderr",
       "text": [
        "DEBUG:python_subgrid.wrapper:Start initFlowAdmin, flow_init=              0\n"
       ]
      },
      {
       "output_type": "stream",
       "stream": "stderr",
       "text": [
        "INFO:python_subgrid.wrapper:Timestep 17 number of iterations 2 epsmax   0.0000E+00 idthalf 1  np = 1\n"
       ]
      },
      {
       "output_type": "stream",
       "stream": "stderr",
       "text": [
        "INFO:python_subgrid.wrapper:Timestep complete.\n"
       ]
      },
      {
       "output_type": "stream",
       "stream": "stderr",
       "text": [
        "INFO:python_subgrid.wrapper:Start timestep-update.\n"
       ]
      },
      {
       "output_type": "stream",
       "stream": "stderr",
       "text": [
        "DEBUG:python_subgrid.wrapper: Trying to use timestep:    10.000000000000000\n"
       ]
      },
      {
       "output_type": "stream",
       "stream": "stderr",
       "text": [
        "DEBUG:python_subgrid.wrapper:Start initFlowAdmin, flow_init=              0\n"
       ]
      },
      {
       "output_type": "stream",
       "stream": "stderr",
       "text": [
        "INFO:python_subgrid.wrapper:Timestep 18 number of iterations 2 epsmax   0.0000E+00 idthalf 1  np = 1\n"
       ]
      },
      {
       "output_type": "stream",
       "stream": "stderr",
       "text": [
        "INFO:python_subgrid.wrapper:Timestep complete.\n"
       ]
      },
      {
       "output_type": "stream",
       "stream": "stderr",
       "text": [
        "INFO:python_subgrid.wrapper:Start timestep-update.\n"
       ]
      },
      {
       "output_type": "stream",
       "stream": "stderr",
       "text": [
        "DEBUG:python_subgrid.wrapper: Trying to use timestep:    10.000000000000000\n"
       ]
      },
      {
       "output_type": "stream",
       "stream": "stderr",
       "text": [
        "DEBUG:python_subgrid.wrapper:Start initFlowAdmin, flow_init=              0\n"
       ]
      },
      {
       "output_type": "stream",
       "stream": "stderr",
       "text": [
        "INFO:python_subgrid.wrapper:Timestep 19 number of iterations 2 epsmax   0.0000E+00 idthalf 1  np = 1\n"
       ]
      },
      {
       "output_type": "stream",
       "stream": "stderr",
       "text": [
        "INFO:python_subgrid.wrapper:Timestep complete.\n"
       ]
      },
      {
       "output_type": "stream",
       "stream": "stderr",
       "text": [
        "INFO:python_subgrid.wrapper:Start timestep-update.\n"
       ]
      },
      {
       "output_type": "stream",
       "stream": "stderr",
       "text": [
        "DEBUG:python_subgrid.wrapper: Trying to use timestep:    10.000000000000000\n"
       ]
      },
      {
       "output_type": "stream",
       "stream": "stderr",
       "text": [
        "DEBUG:python_subgrid.wrapper:Start initFlowAdmin, flow_init=              0\n"
       ]
      },
      {
       "output_type": "stream",
       "stream": "stderr",
       "text": [
        "INFO:python_subgrid.wrapper:Timestep 20 number of iterations 2 epsmax   0.0000E+00 idthalf 1  np = 1\n"
       ]
      },
      {
       "output_type": "stream",
       "stream": "stderr",
       "text": [
        "INFO:python_subgrid.wrapper:Timestep complete.\n"
       ]
      },
      {
       "output_type": "stream",
       "stream": "stderr",
       "text": [
        "INFO:python_subgrid.wrapper:Start timestep-update.\n"
       ]
      },
      {
       "output_type": "stream",
       "stream": "stderr",
       "text": [
        "DEBUG:python_subgrid.wrapper: Trying to use timestep:    10.000000000000000\n"
       ]
      },
      {
       "output_type": "stream",
       "stream": "stderr",
       "text": [
        "DEBUG:python_subgrid.wrapper:Start initFlowAdmin, flow_init=              0\n"
       ]
      },
      {
       "output_type": "stream",
       "stream": "stderr",
       "text": [
        "INFO:python_subgrid.wrapper:Timestep 21 number of iterations 2 epsmax   0.0000E+00 idthalf 1  np = 1\n"
       ]
      },
      {
       "output_type": "stream",
       "stream": "stderr",
       "text": [
        "INFO:python_subgrid.wrapper:Timestep complete.\n"
       ]
      },
      {
       "output_type": "stream",
       "stream": "stderr",
       "text": [
        "INFO:python_subgrid.wrapper:Start timestep-update.\n"
       ]
      },
      {
       "output_type": "stream",
       "stream": "stderr",
       "text": [
        "DEBUG:python_subgrid.wrapper: Trying to use timestep:    10.000000000000000\n"
       ]
      },
      {
       "output_type": "stream",
       "stream": "stderr",
       "text": [
        "DEBUG:python_subgrid.wrapper:Start initFlowAdmin, flow_init=              0\n"
       ]
      },
      {
       "output_type": "stream",
       "stream": "stderr",
       "text": [
        "INFO:python_subgrid.wrapper:Timestep 22 number of iterations 2 epsmax   0.0000E+00 idthalf 1  np = 1\n"
       ]
      },
      {
       "output_type": "stream",
       "stream": "stderr",
       "text": [
        "INFO:python_subgrid.wrapper:Timestep complete.\n"
       ]
      },
      {
       "output_type": "stream",
       "stream": "stderr",
       "text": [
        "INFO:python_subgrid.wrapper:Start timestep-update.\n"
       ]
      },
      {
       "output_type": "stream",
       "stream": "stderr",
       "text": [
        "DEBUG:python_subgrid.wrapper: Trying to use timestep:    10.000000000000000\n"
       ]
      },
      {
       "output_type": "stream",
       "stream": "stderr",
       "text": [
        "DEBUG:python_subgrid.wrapper:Start initFlowAdmin, flow_init=              0\n"
       ]
      },
      {
       "output_type": "stream",
       "stream": "stderr",
       "text": [
        "INFO:python_subgrid.wrapper:Timestep 23 number of iterations 2 epsmax   0.0000E+00 idthalf 1  np = 1\n"
       ]
      },
      {
       "output_type": "stream",
       "stream": "stderr",
       "text": [
        "INFO:python_subgrid.wrapper:Timestep complete.\n"
       ]
      },
      {
       "output_type": "stream",
       "stream": "stderr",
       "text": [
        "INFO:python_subgrid.wrapper:Start timestep-update.\n"
       ]
      },
      {
       "output_type": "stream",
       "stream": "stderr",
       "text": [
        "DEBUG:python_subgrid.wrapper: Trying to use timestep:    10.000000000000000\n"
       ]
      },
      {
       "output_type": "stream",
       "stream": "stderr",
       "text": [
        "DEBUG:python_subgrid.wrapper:Start initFlowAdmin, flow_init=              0\n"
       ]
      },
      {
       "output_type": "stream",
       "stream": "stderr",
       "text": [
        "INFO:python_subgrid.wrapper:Timestep 24 number of iterations 2 epsmax   0.0000E+00 idthalf 1  np = 1\n"
       ]
      },
      {
       "output_type": "stream",
       "stream": "stderr",
       "text": [
        "INFO:python_subgrid.wrapper:Timestep complete.\n"
       ]
      },
      {
       "output_type": "stream",
       "stream": "stderr",
       "text": [
        "INFO:python_subgrid.wrapper:Start timestep-update.\n"
       ]
      },
      {
       "output_type": "stream",
       "stream": "stderr",
       "text": [
        "DEBUG:python_subgrid.wrapper: Trying to use timestep:    10.000000000000000\n"
       ]
      },
      {
       "output_type": "stream",
       "stream": "stderr",
       "text": [
        "DEBUG:python_subgrid.wrapper:Start initFlowAdmin, flow_init=              0\n"
       ]
      },
      {
       "output_type": "stream",
       "stream": "stderr",
       "text": [
        "INFO:python_subgrid.wrapper:Timestep 25 number of iterations 2 epsmax   0.0000E+00 idthalf 1  np = 1\n"
       ]
      },
      {
       "output_type": "stream",
       "stream": "stderr",
       "text": [
        "INFO:python_subgrid.wrapper:Timestep complete.\n"
       ]
      },
      {
       "output_type": "stream",
       "stream": "stderr",
       "text": [
        "INFO:python_subgrid.wrapper:Start timestep-update.\n"
       ]
      },
      {
       "output_type": "stream",
       "stream": "stderr",
       "text": [
        "DEBUG:python_subgrid.wrapper: Trying to use timestep:    10.000000000000000\n"
       ]
      },
      {
       "output_type": "stream",
       "stream": "stderr",
       "text": [
        "DEBUG:python_subgrid.wrapper:Start initFlowAdmin, flow_init=              0\n"
       ]
      },
      {
       "output_type": "stream",
       "stream": "stderr",
       "text": [
        "INFO:python_subgrid.wrapper:Timestep 26 number of iterations 2 epsmax   0.0000E+00 idthalf 1  np = 1\n"
       ]
      },
      {
       "output_type": "stream",
       "stream": "stderr",
       "text": [
        "INFO:python_subgrid.wrapper:Timestep complete.\n"
       ]
      },
      {
       "output_type": "stream",
       "stream": "stderr",
       "text": [
        "INFO:python_subgrid.wrapper:Start timestep-update.\n"
       ]
      },
      {
       "output_type": "stream",
       "stream": "stderr",
       "text": [
        "DEBUG:python_subgrid.wrapper: Trying to use timestep:    10.000000000000000\n"
       ]
      },
      {
       "output_type": "stream",
       "stream": "stderr",
       "text": [
        "DEBUG:python_subgrid.wrapper:Start initFlowAdmin, flow_init=              0\n"
       ]
      },
      {
       "output_type": "stream",
       "stream": "stderr",
       "text": [
        "INFO:python_subgrid.wrapper:Timestep 27 number of iterations 2 epsmax   0.0000E+00 idthalf 1  np = 1\n"
       ]
      },
      {
       "output_type": "stream",
       "stream": "stderr",
       "text": [
        "INFO:python_subgrid.wrapper:Timestep complete.\n"
       ]
      },
      {
       "output_type": "stream",
       "stream": "stderr",
       "text": [
        "INFO:python_subgrid.wrapper:Start timestep-update.\n"
       ]
      },
      {
       "output_type": "stream",
       "stream": "stderr",
       "text": [
        "DEBUG:python_subgrid.wrapper: Trying to use timestep:    10.000000000000000\n"
       ]
      },
      {
       "output_type": "stream",
       "stream": "stderr",
       "text": [
        "DEBUG:python_subgrid.wrapper:Start initFlowAdmin, flow_init=              0\n"
       ]
      },
      {
       "output_type": "stream",
       "stream": "stderr",
       "text": [
        "INFO:python_subgrid.wrapper:Timestep 28 number of iterations 2 epsmax   0.0000E+00 idthalf 1  np = 1\n"
       ]
      },
      {
       "output_type": "stream",
       "stream": "stderr",
       "text": [
        "INFO:python_subgrid.wrapper:Timestep complete.\n"
       ]
      },
      {
       "output_type": "stream",
       "stream": "stderr",
       "text": [
        "INFO:python_subgrid.wrapper:Start timestep-update.\n"
       ]
      },
      {
       "output_type": "stream",
       "stream": "stderr",
       "text": [
        "DEBUG:python_subgrid.wrapper: Trying to use timestep:    10.000000000000000\n"
       ]
      },
      {
       "output_type": "stream",
       "stream": "stderr",
       "text": [
        "DEBUG:python_subgrid.wrapper:Start initFlowAdmin, flow_init=              0\n"
       ]
      },
      {
       "output_type": "stream",
       "stream": "stderr",
       "text": [
        "INFO:python_subgrid.wrapper:Timestep 29 number of iterations 2 epsmax   0.0000E+00 idthalf 1  np = 1\n"
       ]
      },
      {
       "output_type": "stream",
       "stream": "stderr",
       "text": [
        "INFO:python_subgrid.wrapper:Timestep complete.\n"
       ]
      },
      {
       "output_type": "stream",
       "stream": "stderr",
       "text": [
        "INFO:python_subgrid.wrapper:Start timestep-update.\n"
       ]
      },
      {
       "output_type": "stream",
       "stream": "stderr",
       "text": [
        "DEBUG:python_subgrid.wrapper: Trying to use timestep:    10.000000000000000\n"
       ]
      },
      {
       "output_type": "stream",
       "stream": "stderr",
       "text": [
        "DEBUG:python_subgrid.wrapper:Start initFlowAdmin, flow_init=              0\n"
       ]
      },
      {
       "output_type": "stream",
       "stream": "stderr",
       "text": [
        "INFO:python_subgrid.wrapper:Timestep 30 number of iterations 2 epsmax   0.0000E+00 idthalf 1  np = 1\n"
       ]
      },
      {
       "output_type": "stream",
       "stream": "stderr",
       "text": [
        "INFO:python_subgrid.wrapper:Timestep complete.\n"
       ]
      },
      {
       "output_type": "stream",
       "stream": "stderr",
       "text": [
        "INFO:python_subgrid.wrapper:Start timestep-update.\n"
       ]
      },
      {
       "output_type": "stream",
       "stream": "stderr",
       "text": [
        "DEBUG:python_subgrid.wrapper: Trying to use timestep:    10.000000000000000\n"
       ]
      },
      {
       "output_type": "stream",
       "stream": "stderr",
       "text": [
        "DEBUG:python_subgrid.wrapper:Start initFlowAdmin, flow_init=              0\n"
       ]
      },
      {
       "output_type": "stream",
       "stream": "stderr",
       "text": [
        "INFO:python_subgrid.wrapper:Timestep 31 number of iterations 2 epsmax   0.0000E+00 idthalf 1  np = 1\n"
       ]
      },
      {
       "output_type": "stream",
       "stream": "stderr",
       "text": [
        "INFO:python_subgrid.wrapper:Timestep complete.\n"
       ]
      },
      {
       "output_type": "stream",
       "stream": "stderr",
       "text": [
        "INFO:python_subgrid.wrapper:Start timestep-update.\n"
       ]
      },
      {
       "output_type": "stream",
       "stream": "stderr",
       "text": [
        "DEBUG:python_subgrid.wrapper: Trying to use timestep:    10.000000000000000\n"
       ]
      },
      {
       "output_type": "stream",
       "stream": "stderr",
       "text": [
        "DEBUG:python_subgrid.wrapper:Start initFlowAdmin, flow_init=              0\n"
       ]
      },
      {
       "output_type": "stream",
       "stream": "stderr",
       "text": [
        "INFO:python_subgrid.wrapper:Timestep 32 number of iterations 2 epsmax   0.0000E+00 idthalf 1  np = 1\n"
       ]
      },
      {
       "output_type": "stream",
       "stream": "stderr",
       "text": [
        "INFO:python_subgrid.wrapper:Timestep complete.\n"
       ]
      },
      {
       "output_type": "stream",
       "stream": "stderr",
       "text": [
        "INFO:python_subgrid.wrapper:Start timestep-update.\n"
       ]
      },
      {
       "output_type": "stream",
       "stream": "stderr",
       "text": [
        "DEBUG:python_subgrid.wrapper: Trying to use timestep:    10.000000000000000\n"
       ]
      },
      {
       "output_type": "stream",
       "stream": "stderr",
       "text": [
        "DEBUG:python_subgrid.wrapper:Start initFlowAdmin, flow_init=              0\n"
       ]
      },
      {
       "output_type": "stream",
       "stream": "stderr",
       "text": [
        "INFO:python_subgrid.wrapper:Timestep 33 number of iterations 2 epsmax   0.0000E+00 idthalf 1  np = 1\n"
       ]
      },
      {
       "output_type": "stream",
       "stream": "stderr",
       "text": [
        "INFO:python_subgrid.wrapper:Timestep complete.\n"
       ]
      },
      {
       "output_type": "stream",
       "stream": "stderr",
       "text": [
        "INFO:python_subgrid.wrapper:Start timestep-update.\n"
       ]
      },
      {
       "output_type": "stream",
       "stream": "stderr",
       "text": [
        "DEBUG:python_subgrid.wrapper: Trying to use timestep:    10.000000000000000\n"
       ]
      },
      {
       "output_type": "stream",
       "stream": "stderr",
       "text": [
        "DEBUG:python_subgrid.wrapper:Start initFlowAdmin, flow_init=              0\n"
       ]
      },
      {
       "output_type": "stream",
       "stream": "stderr",
       "text": [
        "INFO:python_subgrid.wrapper:Timestep 34 number of iterations 2 epsmax   0.0000E+00 idthalf 1  np = 1\n"
       ]
      },
      {
       "output_type": "stream",
       "stream": "stderr",
       "text": [
        "INFO:python_subgrid.wrapper:Timestep complete.\n"
       ]
      },
      {
       "output_type": "stream",
       "stream": "stderr",
       "text": [
        "INFO:python_subgrid.wrapper:Start timestep-update.\n"
       ]
      },
      {
       "output_type": "stream",
       "stream": "stderr",
       "text": [
        "DEBUG:python_subgrid.wrapper: Trying to use timestep:    10.000000000000000\n"
       ]
      },
      {
       "output_type": "stream",
       "stream": "stderr",
       "text": [
        "DEBUG:python_subgrid.wrapper:Start initFlowAdmin, flow_init=              0\n"
       ]
      },
      {
       "output_type": "stream",
       "stream": "stderr",
       "text": [
        "INFO:python_subgrid.wrapper:Timestep 35 number of iterations 2 epsmax   0.0000E+00 idthalf 1  np = 1\n"
       ]
      },
      {
       "output_type": "stream",
       "stream": "stderr",
       "text": [
        "INFO:python_subgrid.wrapper:Timestep complete.\n"
       ]
      },
      {
       "output_type": "stream",
       "stream": "stderr",
       "text": [
        "INFO:python_subgrid.wrapper:Start timestep-update.\n"
       ]
      },
      {
       "output_type": "stream",
       "stream": "stderr",
       "text": [
        "DEBUG:python_subgrid.wrapper: Trying to use timestep:    10.000000000000000\n"
       ]
      },
      {
       "output_type": "stream",
       "stream": "stderr",
       "text": [
        "DEBUG:python_subgrid.wrapper:Start initFlowAdmin, flow_init=              0\n"
       ]
      },
      {
       "output_type": "stream",
       "stream": "stderr",
       "text": [
        "INFO:python_subgrid.wrapper:Timestep 36 number of iterations 2 epsmax   0.0000E+00 idthalf 1  np = 1\n"
       ]
      },
      {
       "output_type": "stream",
       "stream": "stderr",
       "text": [
        "INFO:python_subgrid.wrapper:Timestep complete.\n"
       ]
      },
      {
       "output_type": "stream",
       "stream": "stderr",
       "text": [
        "INFO:python_subgrid.wrapper:Start timestep-update.\n"
       ]
      },
      {
       "output_type": "stream",
       "stream": "stderr",
       "text": [
        "DEBUG:python_subgrid.wrapper: Trying to use timestep:    10.000000000000000\n"
       ]
      },
      {
       "output_type": "stream",
       "stream": "stderr",
       "text": [
        "DEBUG:python_subgrid.wrapper:Start initFlowAdmin, flow_init=              0\n"
       ]
      },
      {
       "output_type": "stream",
       "stream": "stderr",
       "text": [
        "INFO:python_subgrid.wrapper:Timestep 37 number of iterations 2 epsmax   0.0000E+00 idthalf 1  np = 1\n"
       ]
      },
      {
       "output_type": "stream",
       "stream": "stderr",
       "text": [
        "INFO:python_subgrid.wrapper:Timestep complete.\n"
       ]
      },
      {
       "output_type": "stream",
       "stream": "stderr",
       "text": [
        "INFO:python_subgrid.wrapper:Start timestep-update.\n"
       ]
      },
      {
       "output_type": "stream",
       "stream": "stderr",
       "text": [
        "DEBUG:python_subgrid.wrapper: Trying to use timestep:    10.000000000000000\n"
       ]
      },
      {
       "output_type": "stream",
       "stream": "stderr",
       "text": [
        "DEBUG:python_subgrid.wrapper:Start initFlowAdmin, flow_init=              0\n"
       ]
      },
      {
       "output_type": "stream",
       "stream": "stderr",
       "text": [
        "INFO:python_subgrid.wrapper:Timestep 38 number of iterations 2 epsmax   0.0000E+00 idthalf 1  np = 1\n"
       ]
      },
      {
       "output_type": "stream",
       "stream": "stderr",
       "text": [
        "INFO:python_subgrid.wrapper:Timestep complete.\n"
       ]
      },
      {
       "output_type": "stream",
       "stream": "stderr",
       "text": [
        "INFO:python_subgrid.wrapper:Start timestep-update.\n"
       ]
      },
      {
       "output_type": "stream",
       "stream": "stderr",
       "text": [
        "DEBUG:python_subgrid.wrapper: Trying to use timestep:    10.000000000000000\n"
       ]
      },
      {
       "output_type": "stream",
       "stream": "stderr",
       "text": [
        "DEBUG:python_subgrid.wrapper:Start initFlowAdmin, flow_init=              0\n"
       ]
      },
      {
       "output_type": "stream",
       "stream": "stderr",
       "text": [
        "INFO:python_subgrid.wrapper:Timestep 39 number of iterations 2 epsmax   0.0000E+00 idthalf 1  np = 1\n"
       ]
      },
      {
       "output_type": "stream",
       "stream": "stderr",
       "text": [
        "INFO:python_subgrid.wrapper:Timestep complete.\n"
       ]
      },
      {
       "output_type": "stream",
       "stream": "stderr",
       "text": [
        "INFO:python_subgrid.wrapper:Start timestep-update.\n"
       ]
      },
      {
       "output_type": "stream",
       "stream": "stderr",
       "text": [
        "DEBUG:python_subgrid.wrapper: Trying to use timestep:    10.000000000000000\n"
       ]
      },
      {
       "output_type": "stream",
       "stream": "stderr",
       "text": [
        "DEBUG:python_subgrid.wrapper:Start initFlowAdmin, flow_init=              0\n"
       ]
      },
      {
       "output_type": "stream",
       "stream": "stderr",
       "text": [
        "INFO:python_subgrid.wrapper:Timestep 40 number of iterations 2 epsmax   0.0000E+00 idthalf 1  np = 1\n"
       ]
      },
      {
       "output_type": "stream",
       "stream": "stderr",
       "text": [
        "INFO:python_subgrid.wrapper:Timestep complete.\n"
       ]
      },
      {
       "output_type": "stream",
       "stream": "stderr",
       "text": [
        "INFO:python_subgrid.wrapper:Start timestep-update.\n"
       ]
      },
      {
       "output_type": "stream",
       "stream": "stderr",
       "text": [
        "DEBUG:python_subgrid.wrapper: Trying to use timestep:    10.000000000000000\n"
       ]
      },
      {
       "output_type": "stream",
       "stream": "stderr",
       "text": [
        "DEBUG:python_subgrid.wrapper:Start initFlowAdmin, flow_init=              0\n"
       ]
      },
      {
       "output_type": "stream",
       "stream": "stderr",
       "text": [
        "INFO:python_subgrid.wrapper:Timestep 41 number of iterations 2 epsmax   0.0000E+00 idthalf 1  np = 1\n"
       ]
      },
      {
       "output_type": "stream",
       "stream": "stderr",
       "text": [
        "INFO:python_subgrid.wrapper:Timestep complete.\n"
       ]
      },
      {
       "output_type": "stream",
       "stream": "stderr",
       "text": [
        "INFO:python_subgrid.wrapper:Start timestep-update.\n"
       ]
      },
      {
       "output_type": "stream",
       "stream": "stderr",
       "text": [
        "DEBUG:python_subgrid.wrapper: Trying to use timestep:    10.000000000000000\n"
       ]
      },
      {
       "output_type": "stream",
       "stream": "stderr",
       "text": [
        "DEBUG:python_subgrid.wrapper:Start initFlowAdmin, flow_init=              0\n"
       ]
      },
      {
       "output_type": "stream",
       "stream": "stderr",
       "text": [
        "INFO:python_subgrid.wrapper:Timestep 42 number of iterations 2 epsmax   0.0000E+00 idthalf 1  np = 1\n"
       ]
      },
      {
       "output_type": "stream",
       "stream": "stderr",
       "text": [
        "INFO:python_subgrid.wrapper:Timestep complete.\n"
       ]
      },
      {
       "output_type": "stream",
       "stream": "stderr",
       "text": [
        "INFO:python_subgrid.wrapper:Start timestep-update.\n"
       ]
      },
      {
       "output_type": "stream",
       "stream": "stderr",
       "text": [
        "DEBUG:python_subgrid.wrapper: Trying to use timestep:    10.000000000000000\n"
       ]
      },
      {
       "output_type": "stream",
       "stream": "stderr",
       "text": [
        "DEBUG:python_subgrid.wrapper:Start initFlowAdmin, flow_init=              0\n"
       ]
      },
      {
       "output_type": "stream",
       "stream": "stderr",
       "text": [
        "INFO:python_subgrid.wrapper:Timestep 43 number of iterations 2 epsmax   0.0000E+00 idthalf 1  np = 1\n"
       ]
      },
      {
       "output_type": "stream",
       "stream": "stderr",
       "text": [
        "INFO:python_subgrid.wrapper:Timestep complete.\n"
       ]
      },
      {
       "output_type": "stream",
       "stream": "stderr",
       "text": [
        "INFO:python_subgrid.wrapper:Start timestep-update.\n"
       ]
      },
      {
       "output_type": "stream",
       "stream": "stderr",
       "text": [
        "DEBUG:python_subgrid.wrapper: Trying to use timestep:    10.000000000000000\n"
       ]
      },
      {
       "output_type": "stream",
       "stream": "stderr",
       "text": [
        "DEBUG:python_subgrid.wrapper:Start initFlowAdmin, flow_init=              0\n"
       ]
      },
      {
       "output_type": "stream",
       "stream": "stderr",
       "text": [
        "INFO:python_subgrid.wrapper:Timestep 44 number of iterations 2 epsmax   0.0000E+00 idthalf 1  np = 1\n"
       ]
      },
      {
       "output_type": "stream",
       "stream": "stderr",
       "text": [
        "INFO:python_subgrid.wrapper:Timestep complete.\n"
       ]
      },
      {
       "output_type": "stream",
       "stream": "stderr",
       "text": [
        "INFO:python_subgrid.wrapper:Start timestep-update.\n"
       ]
      },
      {
       "output_type": "stream",
       "stream": "stderr",
       "text": [
        "DEBUG:python_subgrid.wrapper: Trying to use timestep:    10.000000000000000\n"
       ]
      },
      {
       "output_type": "stream",
       "stream": "stderr",
       "text": [
        "DEBUG:python_subgrid.wrapper:Start initFlowAdmin, flow_init=              0\n"
       ]
      },
      {
       "output_type": "stream",
       "stream": "stderr",
       "text": [
        "INFO:python_subgrid.wrapper:Timestep 45 number of iterations 2 epsmax   0.0000E+00 idthalf 1  np = 1\n"
       ]
      },
      {
       "output_type": "stream",
       "stream": "stderr",
       "text": [
        "INFO:python_subgrid.wrapper:Timestep complete.\n"
       ]
      },
      {
       "output_type": "stream",
       "stream": "stderr",
       "text": [
        "INFO:python_subgrid.wrapper:Start timestep-update.\n"
       ]
      },
      {
       "output_type": "stream",
       "stream": "stderr",
       "text": [
        "DEBUG:python_subgrid.wrapper: Trying to use timestep:    10.000000000000000\n"
       ]
      },
      {
       "output_type": "stream",
       "stream": "stderr",
       "text": [
        "DEBUG:python_subgrid.wrapper:Start initFlowAdmin, flow_init=              0\n"
       ]
      },
      {
       "output_type": "stream",
       "stream": "stderr",
       "text": [
        "INFO:python_subgrid.wrapper:Timestep 46 number of iterations 2 epsmax   0.0000E+00 idthalf 1  np = 1\n"
       ]
      },
      {
       "output_type": "stream",
       "stream": "stderr",
       "text": [
        "INFO:python_subgrid.wrapper:Timestep complete.\n"
       ]
      },
      {
       "output_type": "stream",
       "stream": "stderr",
       "text": [
        "INFO:python_subgrid.wrapper:Start timestep-update.\n"
       ]
      },
      {
       "output_type": "stream",
       "stream": "stderr",
       "text": [
        "DEBUG:python_subgrid.wrapper: Trying to use timestep:    10.000000000000000\n"
       ]
      },
      {
       "output_type": "stream",
       "stream": "stderr",
       "text": [
        "DEBUG:python_subgrid.wrapper:Start initFlowAdmin, flow_init=              0\n"
       ]
      },
      {
       "output_type": "stream",
       "stream": "stderr",
       "text": [
        "INFO:python_subgrid.wrapper:Timestep 47 number of iterations 2 epsmax   0.0000E+00 idthalf 1  np = 1\n"
       ]
      },
      {
       "output_type": "stream",
       "stream": "stderr",
       "text": [
        "INFO:python_subgrid.wrapper:Timestep complete.\n"
       ]
      },
      {
       "output_type": "stream",
       "stream": "stderr",
       "text": [
        "INFO:python_subgrid.wrapper:Start timestep-update.\n"
       ]
      },
      {
       "output_type": "stream",
       "stream": "stderr",
       "text": [
        "DEBUG:python_subgrid.wrapper: Trying to use timestep:    10.000000000000000\n"
       ]
      },
      {
       "output_type": "stream",
       "stream": "stderr",
       "text": [
        "DEBUG:python_subgrid.wrapper:Start initFlowAdmin, flow_init=              0\n"
       ]
      },
      {
       "output_type": "stream",
       "stream": "stderr",
       "text": [
        "INFO:python_subgrid.wrapper:Timestep 48 number of iterations 2 epsmax   0.0000E+00 idthalf 1  np = 1\n"
       ]
      },
      {
       "output_type": "stream",
       "stream": "stderr",
       "text": [
        "INFO:python_subgrid.wrapper:Timestep complete.\n"
       ]
      },
      {
       "output_type": "stream",
       "stream": "stderr",
       "text": [
        "INFO:python_subgrid.wrapper:Start timestep-update.\n"
       ]
      },
      {
       "output_type": "stream",
       "stream": "stderr",
       "text": [
        "DEBUG:python_subgrid.wrapper: Trying to use timestep:    10.000000000000000\n"
       ]
      },
      {
       "output_type": "stream",
       "stream": "stderr",
       "text": [
        "DEBUG:python_subgrid.wrapper:Start initFlowAdmin, flow_init=              0\n"
       ]
      },
      {
       "output_type": "stream",
       "stream": "stderr",
       "text": [
        "INFO:python_subgrid.wrapper:Timestep 49 number of iterations 2 epsmax   0.0000E+00 idthalf 1  np = 1\n"
       ]
      },
      {
       "output_type": "stream",
       "stream": "stderr",
       "text": [
        "INFO:python_subgrid.wrapper:Timestep complete.\n"
       ]
      },
      {
       "output_type": "stream",
       "stream": "stderr",
       "text": [
        "INFO:python_subgrid.wrapper:Start timestep-update.\n"
       ]
      },
      {
       "output_type": "stream",
       "stream": "stderr",
       "text": [
        "DEBUG:python_subgrid.wrapper: Trying to use timestep:    10.000000000000000\n"
       ]
      },
      {
       "output_type": "stream",
       "stream": "stderr",
       "text": [
        "DEBUG:python_subgrid.wrapper:Start initFlowAdmin, flow_init=              0\n"
       ]
      },
      {
       "output_type": "stream",
       "stream": "stderr",
       "text": [
        "INFO:python_subgrid.wrapper:Timestep 50 number of iterations 2 epsmax   0.0000E+00 idthalf 1  np = 1\n"
       ]
      },
      {
       "output_type": "stream",
       "stream": "stderr",
       "text": [
        "INFO:python_subgrid.wrapper:Timestep complete.\n"
       ]
      },
      {
       "output_type": "stream",
       "stream": "stderr",
       "text": [
        "INFO:python_subgrid.wrapper:Start timestep-update.\n"
       ]
      },
      {
       "output_type": "stream",
       "stream": "stderr",
       "text": [
        "DEBUG:python_subgrid.wrapper: Trying to use timestep:    10.000000000000000\n"
       ]
      },
      {
       "output_type": "stream",
       "stream": "stderr",
       "text": [
        "DEBUG:python_subgrid.wrapper:Start initFlowAdmin, flow_init=              0\n"
       ]
      },
      {
       "output_type": "stream",
       "stream": "stderr",
       "text": [
        "INFO:python_subgrid.wrapper:Timestep 51 number of iterations 2 epsmax   0.0000E+00 idthalf 1  np = 1\n"
       ]
      },
      {
       "output_type": "stream",
       "stream": "stderr",
       "text": [
        "INFO:python_subgrid.wrapper:Timestep complete.\n"
       ]
      },
      {
       "output_type": "stream",
       "stream": "stderr",
       "text": [
        "INFO:python_subgrid.wrapper:Start timestep-update.\n"
       ]
      },
      {
       "output_type": "stream",
       "stream": "stderr",
       "text": [
        "DEBUG:python_subgrid.wrapper: Trying to use timestep:    10.000000000000000\n"
       ]
      },
      {
       "output_type": "stream",
       "stream": "stderr",
       "text": [
        "DEBUG:python_subgrid.wrapper:Start initFlowAdmin, flow_init=              0\n"
       ]
      },
      {
       "output_type": "stream",
       "stream": "stderr",
       "text": [
        "INFO:python_subgrid.wrapper:Timestep 52 number of iterations 2 epsmax   0.0000E+00 idthalf 1  np = 1\n"
       ]
      },
      {
       "output_type": "stream",
       "stream": "stderr",
       "text": [
        "INFO:python_subgrid.wrapper:Timestep complete.\n"
       ]
      },
      {
       "output_type": "stream",
       "stream": "stderr",
       "text": [
        "INFO:python_subgrid.wrapper:Start timestep-update.\n"
       ]
      },
      {
       "output_type": "stream",
       "stream": "stderr",
       "text": [
        "DEBUG:python_subgrid.wrapper: Trying to use timestep:    10.000000000000000\n"
       ]
      },
      {
       "output_type": "stream",
       "stream": "stderr",
       "text": [
        "DEBUG:python_subgrid.wrapper:Start initFlowAdmin, flow_init=              0\n"
       ]
      },
      {
       "output_type": "stream",
       "stream": "stderr",
       "text": [
        "INFO:python_subgrid.wrapper:Timestep 53 number of iterations 2 epsmax   0.0000E+00 idthalf 1  np = 1\n"
       ]
      },
      {
       "output_type": "stream",
       "stream": "stderr",
       "text": [
        "INFO:python_subgrid.wrapper:Timestep complete.\n"
       ]
      },
      {
       "output_type": "stream",
       "stream": "stderr",
       "text": [
        "INFO:python_subgrid.wrapper:Start timestep-update.\n"
       ]
      },
      {
       "output_type": "stream",
       "stream": "stderr",
       "text": [
        "DEBUG:python_subgrid.wrapper: Trying to use timestep:    10.000000000000000\n"
       ]
      },
      {
       "output_type": "stream",
       "stream": "stderr",
       "text": [
        "DEBUG:python_subgrid.wrapper:Start initFlowAdmin, flow_init=              0\n"
       ]
      },
      {
       "output_type": "stream",
       "stream": "stderr",
       "text": [
        "INFO:python_subgrid.wrapper:Timestep 54 number of iterations 2 epsmax   0.0000E+00 idthalf 1  np = 1\n"
       ]
      },
      {
       "output_type": "stream",
       "stream": "stderr",
       "text": [
        "INFO:python_subgrid.wrapper:Timestep complete.\n"
       ]
      },
      {
       "output_type": "stream",
       "stream": "stderr",
       "text": [
        "INFO:python_subgrid.wrapper:Start timestep-update.\n"
       ]
      },
      {
       "output_type": "stream",
       "stream": "stderr",
       "text": [
        "DEBUG:python_subgrid.wrapper: Trying to use timestep:    10.000000000000000\n"
       ]
      },
      {
       "output_type": "stream",
       "stream": "stderr",
       "text": [
        "DEBUG:python_subgrid.wrapper:Start initFlowAdmin, flow_init=              0\n"
       ]
      },
      {
       "output_type": "stream",
       "stream": "stderr",
       "text": [
        "INFO:python_subgrid.wrapper:Timestep 55 number of iterations 2 epsmax   0.0000E+00 idthalf 1  np = 1\n"
       ]
      },
      {
       "output_type": "stream",
       "stream": "stderr",
       "text": [
        "INFO:python_subgrid.wrapper:Timestep complete.\n"
       ]
      },
      {
       "output_type": "stream",
       "stream": "stderr",
       "text": [
        "INFO:python_subgrid.wrapper:Start timestep-update.\n"
       ]
      },
      {
       "output_type": "stream",
       "stream": "stderr",
       "text": [
        "DEBUG:python_subgrid.wrapper: Trying to use timestep:    10.000000000000000\n"
       ]
      },
      {
       "output_type": "stream",
       "stream": "stderr",
       "text": [
        "DEBUG:python_subgrid.wrapper:Start initFlowAdmin, flow_init=              0\n"
       ]
      },
      {
       "output_type": "stream",
       "stream": "stderr",
       "text": [
        "INFO:python_subgrid.wrapper:Timestep 56 number of iterations 2 epsmax   0.0000E+00 idthalf 1  np = 1\n"
       ]
      },
      {
       "output_type": "stream",
       "stream": "stderr",
       "text": [
        "INFO:python_subgrid.wrapper:Timestep complete.\n"
       ]
      },
      {
       "output_type": "stream",
       "stream": "stderr",
       "text": [
        "INFO:python_subgrid.wrapper:Start timestep-update.\n"
       ]
      },
      {
       "output_type": "stream",
       "stream": "stderr",
       "text": [
        "DEBUG:python_subgrid.wrapper: Trying to use timestep:    10.000000000000000\n"
       ]
      },
      {
       "output_type": "stream",
       "stream": "stderr",
       "text": [
        "DEBUG:python_subgrid.wrapper:Start initFlowAdmin, flow_init=              0\n"
       ]
      },
      {
       "output_type": "stream",
       "stream": "stderr",
       "text": [
        "INFO:python_subgrid.wrapper:Timestep 57 number of iterations 2 epsmax   0.0000E+00 idthalf 1  np = 1\n"
       ]
      },
      {
       "output_type": "stream",
       "stream": "stderr",
       "text": [
        "INFO:python_subgrid.wrapper:Timestep complete.\n"
       ]
      },
      {
       "output_type": "stream",
       "stream": "stderr",
       "text": [
        "INFO:python_subgrid.wrapper:Start timestep-update.\n"
       ]
      },
      {
       "output_type": "stream",
       "stream": "stderr",
       "text": [
        "DEBUG:python_subgrid.wrapper: Trying to use timestep:    10.000000000000000\n"
       ]
      },
      {
       "output_type": "stream",
       "stream": "stderr",
       "text": [
        "DEBUG:python_subgrid.wrapper:Start initFlowAdmin, flow_init=              0\n"
       ]
      },
      {
       "output_type": "stream",
       "stream": "stderr",
       "text": [
        "INFO:python_subgrid.wrapper:Timestep 58 number of iterations 2 epsmax   0.0000E+00 idthalf 1  np = 1\n"
       ]
      },
      {
       "output_type": "stream",
       "stream": "stderr",
       "text": [
        "INFO:python_subgrid.wrapper:Timestep complete.\n"
       ]
      },
      {
       "output_type": "stream",
       "stream": "stderr",
       "text": [
        "INFO:python_subgrid.wrapper:Start timestep-update.\n"
       ]
      },
      {
       "output_type": "stream",
       "stream": "stderr",
       "text": [
        "DEBUG:python_subgrid.wrapper: Trying to use timestep:    10.000000000000000\n"
       ]
      },
      {
       "output_type": "stream",
       "stream": "stderr",
       "text": [
        "DEBUG:python_subgrid.wrapper:Start initFlowAdmin, flow_init=              0\n"
       ]
      },
      {
       "output_type": "stream",
       "stream": "stderr",
       "text": [
        "INFO:python_subgrid.wrapper:Timestep 59 number of iterations 2 epsmax   0.0000E+00 idthalf 1  np = 1\n"
       ]
      },
      {
       "output_type": "stream",
       "stream": "stderr",
       "text": [
        "INFO:python_subgrid.wrapper:Timestep complete.\n"
       ]
      },
      {
       "output_type": "stream",
       "stream": "stderr",
       "text": [
        "INFO:python_subgrid.wrapper:Start timestep-update.\n"
       ]
      },
      {
       "output_type": "stream",
       "stream": "stderr",
       "text": [
        "DEBUG:python_subgrid.wrapper: Trying to use timestep:    10.000000000000000\n"
       ]
      },
      {
       "output_type": "stream",
       "stream": "stderr",
       "text": [
        "DEBUG:python_subgrid.wrapper:Start initFlowAdmin, flow_init=              0\n"
       ]
      },
      {
       "output_type": "stream",
       "stream": "stderr",
       "text": [
        "INFO:python_subgrid.wrapper:Timestep 60 number of iterations 2 epsmax   0.0000E+00 idthalf 1  np = 1\n"
       ]
      },
      {
       "output_type": "stream",
       "stream": "stderr",
       "text": [
        "INFO:python_subgrid.wrapper:Timestep complete.\n"
       ]
      },
      {
       "output_type": "stream",
       "stream": "stderr",
       "text": [
        "INFO:python_subgrid.wrapper:Start timestep-update.\n"
       ]
      },
      {
       "output_type": "stream",
       "stream": "stderr",
       "text": [
        "DEBUG:python_subgrid.wrapper: Trying to use timestep:    10.000000000000000\n"
       ]
      },
      {
       "output_type": "stream",
       "stream": "stderr",
       "text": [
        "DEBUG:python_subgrid.wrapper:Start initFlowAdmin, flow_init=              0\n"
       ]
      },
      {
       "output_type": "stream",
       "stream": "stderr",
       "text": [
        "INFO:python_subgrid.wrapper:Timestep 61 number of iterations 2 epsmax   0.0000E+00 idthalf 1  np = 1\n"
       ]
      },
      {
       "output_type": "stream",
       "stream": "stderr",
       "text": [
        "INFO:python_subgrid.wrapper:Timestep complete.\n"
       ]
      },
      {
       "output_type": "stream",
       "stream": "stderr",
       "text": [
        "INFO:python_subgrid.wrapper:Start timestep-update.\n"
       ]
      },
      {
       "output_type": "stream",
       "stream": "stderr",
       "text": [
        "DEBUG:python_subgrid.wrapper: Trying to use timestep:    10.000000000000000\n"
       ]
      },
      {
       "output_type": "stream",
       "stream": "stderr",
       "text": [
        "DEBUG:python_subgrid.wrapper:Start initFlowAdmin, flow_init=              0\n"
       ]
      },
      {
       "output_type": "stream",
       "stream": "stderr",
       "text": [
        "INFO:python_subgrid.wrapper:Timestep 62 number of iterations 2 epsmax   0.0000E+00 idthalf 1  np = 1\n"
       ]
      },
      {
       "output_type": "stream",
       "stream": "stderr",
       "text": [
        "INFO:python_subgrid.wrapper:Timestep complete.\n"
       ]
      },
      {
       "output_type": "stream",
       "stream": "stderr",
       "text": [
        "INFO:python_subgrid.wrapper:Start timestep-update.\n"
       ]
      },
      {
       "output_type": "stream",
       "stream": "stderr",
       "text": [
        "DEBUG:python_subgrid.wrapper: Trying to use timestep:    10.000000000000000\n"
       ]
      },
      {
       "output_type": "stream",
       "stream": "stderr",
       "text": [
        "DEBUG:python_subgrid.wrapper:Start initFlowAdmin, flow_init=              0\n"
       ]
      },
      {
       "output_type": "stream",
       "stream": "stderr",
       "text": [
        "INFO:python_subgrid.wrapper:Timestep 63 number of iterations 2 epsmax   0.0000E+00 idthalf 1  np = 1\n"
       ]
      },
      {
       "output_type": "stream",
       "stream": "stderr",
       "text": [
        "INFO:python_subgrid.wrapper:Timestep complete.\n"
       ]
      },
      {
       "output_type": "stream",
       "stream": "stderr",
       "text": [
        "INFO:python_subgrid.wrapper:Start timestep-update.\n"
       ]
      },
      {
       "output_type": "stream",
       "stream": "stderr",
       "text": [
        "DEBUG:python_subgrid.wrapper: Trying to use timestep:    10.000000000000000\n"
       ]
      },
      {
       "output_type": "stream",
       "stream": "stderr",
       "text": [
        "DEBUG:python_subgrid.wrapper:Start initFlowAdmin, flow_init=              0\n"
       ]
      },
      {
       "output_type": "stream",
       "stream": "stderr",
       "text": [
        "INFO:python_subgrid.wrapper:Timestep 64 number of iterations 2 epsmax   0.0000E+00 idthalf 1  np = 1\n"
       ]
      },
      {
       "output_type": "stream",
       "stream": "stderr",
       "text": [
        "INFO:python_subgrid.wrapper:Timestep complete.\n"
       ]
      },
      {
       "output_type": "stream",
       "stream": "stderr",
       "text": [
        "INFO:python_subgrid.wrapper:Start timestep-update.\n"
       ]
      },
      {
       "output_type": "stream",
       "stream": "stderr",
       "text": [
        "DEBUG:python_subgrid.wrapper: Trying to use timestep:    10.000000000000000\n"
       ]
      },
      {
       "output_type": "stream",
       "stream": "stderr",
       "text": [
        "DEBUG:python_subgrid.wrapper:Start initFlowAdmin, flow_init=              0\n"
       ]
      },
      {
       "output_type": "stream",
       "stream": "stderr",
       "text": [
        "INFO:python_subgrid.wrapper:Timestep 65 number of iterations 2 epsmax   0.0000E+00 idthalf 1  np = 1\n"
       ]
      },
      {
       "output_type": "stream",
       "stream": "stderr",
       "text": [
        "INFO:python_subgrid.wrapper:Timestep complete.\n"
       ]
      },
      {
       "output_type": "stream",
       "stream": "stderr",
       "text": [
        "INFO:python_subgrid.wrapper:Start timestep-update.\n"
       ]
      },
      {
       "output_type": "stream",
       "stream": "stderr",
       "text": [
        "DEBUG:python_subgrid.wrapper: Trying to use timestep:    10.000000000000000\n"
       ]
      },
      {
       "output_type": "stream",
       "stream": "stderr",
       "text": [
        "DEBUG:python_subgrid.wrapper:Start initFlowAdmin, flow_init=              0\n"
       ]
      },
      {
       "output_type": "stream",
       "stream": "stderr",
       "text": [
        "INFO:python_subgrid.wrapper:Timestep 66 number of iterations 2 epsmax   0.0000E+00 idthalf 1  np = 1\n"
       ]
      },
      {
       "output_type": "stream",
       "stream": "stderr",
       "text": [
        "INFO:python_subgrid.wrapper:Timestep complete.\n"
       ]
      },
      {
       "output_type": "stream",
       "stream": "stderr",
       "text": [
        "INFO:python_subgrid.wrapper:Start timestep-update.\n"
       ]
      },
      {
       "output_type": "stream",
       "stream": "stderr",
       "text": [
        "DEBUG:python_subgrid.wrapper: Trying to use timestep:    10.000000000000000\n"
       ]
      },
      {
       "output_type": "stream",
       "stream": "stderr",
       "text": [
        "DEBUG:python_subgrid.wrapper:Start initFlowAdmin, flow_init=              0\n"
       ]
      },
      {
       "output_type": "stream",
       "stream": "stderr",
       "text": [
        "INFO:python_subgrid.wrapper:Timestep 67 number of iterations 2 epsmax   0.0000E+00 idthalf 1  np = 1\n"
       ]
      },
      {
       "output_type": "stream",
       "stream": "stderr",
       "text": [
        "INFO:python_subgrid.wrapper:Timestep complete.\n"
       ]
      },
      {
       "output_type": "stream",
       "stream": "stderr",
       "text": [
        "INFO:python_subgrid.wrapper:Start timestep-update.\n"
       ]
      },
      {
       "output_type": "stream",
       "stream": "stderr",
       "text": [
        "DEBUG:python_subgrid.wrapper: Trying to use timestep:    10.000000000000000\n"
       ]
      },
      {
       "output_type": "stream",
       "stream": "stderr",
       "text": [
        "DEBUG:python_subgrid.wrapper:Start initFlowAdmin, flow_init=              0\n"
       ]
      },
      {
       "output_type": "stream",
       "stream": "stderr",
       "text": [
        "INFO:python_subgrid.wrapper:Timestep 68 number of iterations 2 epsmax   0.0000E+00 idthalf 1  np = 1\n"
       ]
      },
      {
       "output_type": "stream",
       "stream": "stderr",
       "text": [
        "INFO:python_subgrid.wrapper:Timestep complete.\n"
       ]
      },
      {
       "output_type": "stream",
       "stream": "stderr",
       "text": [
        "INFO:python_subgrid.wrapper:Start timestep-update.\n"
       ]
      },
      {
       "output_type": "stream",
       "stream": "stderr",
       "text": [
        "DEBUG:python_subgrid.wrapper: Trying to use timestep:    10.000000000000000\n"
       ]
      },
      {
       "output_type": "stream",
       "stream": "stderr",
       "text": [
        "DEBUG:python_subgrid.wrapper:Start initFlowAdmin, flow_init=              0\n"
       ]
      },
      {
       "output_type": "stream",
       "stream": "stderr",
       "text": [
        "INFO:python_subgrid.wrapper:Timestep 69 number of iterations 2 epsmax   0.0000E+00 idthalf 1  np = 1\n"
       ]
      },
      {
       "output_type": "stream",
       "stream": "stderr",
       "text": [
        "INFO:python_subgrid.wrapper:Timestep complete.\n"
       ]
      },
      {
       "output_type": "stream",
       "stream": "stderr",
       "text": [
        "INFO:python_subgrid.wrapper:Start timestep-update.\n"
       ]
      },
      {
       "output_type": "stream",
       "stream": "stderr",
       "text": [
        "DEBUG:python_subgrid.wrapper: Trying to use timestep:    10.000000000000000\n"
       ]
      },
      {
       "output_type": "stream",
       "stream": "stderr",
       "text": [
        "DEBUG:python_subgrid.wrapper:Start initFlowAdmin, flow_init=              0\n"
       ]
      },
      {
       "output_type": "stream",
       "stream": "stderr",
       "text": [
        "INFO:python_subgrid.wrapper:Timestep 70 number of iterations 2 epsmax   0.0000E+00 idthalf 1  np = 1\n"
       ]
      },
      {
       "output_type": "stream",
       "stream": "stderr",
       "text": [
        "INFO:python_subgrid.wrapper:Timestep complete.\n"
       ]
      },
      {
       "output_type": "stream",
       "stream": "stderr",
       "text": [
        "INFO:python_subgrid.wrapper:Start timestep-update.\n"
       ]
      },
      {
       "output_type": "stream",
       "stream": "stderr",
       "text": [
        "DEBUG:python_subgrid.wrapper: Trying to use timestep:    10.000000000000000\n"
       ]
      },
      {
       "output_type": "stream",
       "stream": "stderr",
       "text": [
        "DEBUG:python_subgrid.wrapper:Start initFlowAdmin, flow_init=              0\n"
       ]
      },
      {
       "output_type": "stream",
       "stream": "stderr",
       "text": [
        "INFO:python_subgrid.wrapper:Timestep 71 number of iterations 2 epsmax   0.0000E+00 idthalf 1  np = 1\n"
       ]
      },
      {
       "output_type": "stream",
       "stream": "stderr",
       "text": [
        "INFO:python_subgrid.wrapper:Timestep complete.\n"
       ]
      },
      {
       "output_type": "stream",
       "stream": "stderr",
       "text": [
        "INFO:python_subgrid.wrapper:Start timestep-update.\n"
       ]
      },
      {
       "output_type": "stream",
       "stream": "stderr",
       "text": [
        "DEBUG:python_subgrid.wrapper: Trying to use timestep:    10.000000000000000\n"
       ]
      },
      {
       "output_type": "stream",
       "stream": "stderr",
       "text": [
        "DEBUG:python_subgrid.wrapper:Start initFlowAdmin, flow_init=              0\n"
       ]
      },
      {
       "output_type": "stream",
       "stream": "stderr",
       "text": [
        "INFO:python_subgrid.wrapper:Timestep 72 number of iterations 2 epsmax   0.0000E+00 idthalf 1  np = 1\n"
       ]
      },
      {
       "output_type": "stream",
       "stream": "stderr",
       "text": [
        "INFO:python_subgrid.wrapper:Timestep complete.\n"
       ]
      },
      {
       "output_type": "stream",
       "stream": "stderr",
       "text": [
        "INFO:python_subgrid.wrapper:Start timestep-update.\n"
       ]
      },
      {
       "output_type": "stream",
       "stream": "stderr",
       "text": [
        "DEBUG:python_subgrid.wrapper: Trying to use timestep:    10.000000000000000\n"
       ]
      },
      {
       "output_type": "stream",
       "stream": "stderr",
       "text": [
        "DEBUG:python_subgrid.wrapper:Start initFlowAdmin, flow_init=              0\n"
       ]
      },
      {
       "output_type": "stream",
       "stream": "stderr",
       "text": [
        "INFO:python_subgrid.wrapper:Timestep 73 number of iterations 2 epsmax   0.0000E+00 idthalf 1  np = 1\n"
       ]
      },
      {
       "output_type": "stream",
       "stream": "stderr",
       "text": [
        "INFO:python_subgrid.wrapper:Timestep complete.\n"
       ]
      },
      {
       "output_type": "stream",
       "stream": "stderr",
       "text": [
        "INFO:python_subgrid.wrapper:Start timestep-update.\n"
       ]
      },
      {
       "output_type": "stream",
       "stream": "stderr",
       "text": [
        "DEBUG:python_subgrid.wrapper: Trying to use timestep:    10.000000000000000\n"
       ]
      },
      {
       "output_type": "stream",
       "stream": "stderr",
       "text": [
        "DEBUG:python_subgrid.wrapper:Start initFlowAdmin, flow_init=              0\n"
       ]
      },
      {
       "output_type": "stream",
       "stream": "stderr",
       "text": [
        "INFO:python_subgrid.wrapper:Timestep 74 number of iterations 2 epsmax   0.0000E+00 idthalf 1  np = 1\n"
       ]
      },
      {
       "output_type": "stream",
       "stream": "stderr",
       "text": [
        "INFO:python_subgrid.wrapper:Timestep complete.\n"
       ]
      },
      {
       "output_type": "stream",
       "stream": "stderr",
       "text": [
        "INFO:python_subgrid.wrapper:Start timestep-update.\n"
       ]
      },
      {
       "output_type": "stream",
       "stream": "stderr",
       "text": [
        "DEBUG:python_subgrid.wrapper: Trying to use timestep:    10.000000000000000\n"
       ]
      },
      {
       "output_type": "stream",
       "stream": "stderr",
       "text": [
        "DEBUG:python_subgrid.wrapper:Start initFlowAdmin, flow_init=              0\n"
       ]
      },
      {
       "output_type": "stream",
       "stream": "stderr",
       "text": [
        "INFO:python_subgrid.wrapper:Timestep 75 number of iterations 2 epsmax   0.0000E+00 idthalf 1  np = 1\n"
       ]
      },
      {
       "output_type": "stream",
       "stream": "stderr",
       "text": [
        "INFO:python_subgrid.wrapper:Timestep complete.\n"
       ]
      },
      {
       "output_type": "stream",
       "stream": "stderr",
       "text": [
        "INFO:python_subgrid.wrapper:Start timestep-update.\n"
       ]
      },
      {
       "output_type": "stream",
       "stream": "stderr",
       "text": [
        "DEBUG:python_subgrid.wrapper: Trying to use timestep:    10.000000000000000\n"
       ]
      },
      {
       "output_type": "stream",
       "stream": "stderr",
       "text": [
        "DEBUG:python_subgrid.wrapper:Start initFlowAdmin, flow_init=              0\n"
       ]
      },
      {
       "output_type": "stream",
       "stream": "stderr",
       "text": [
        "INFO:python_subgrid.wrapper:Timestep 76 number of iterations 2 epsmax   0.0000E+00 idthalf 1  np = 1\n"
       ]
      },
      {
       "output_type": "stream",
       "stream": "stderr",
       "text": [
        "INFO:python_subgrid.wrapper:Timestep complete.\n"
       ]
      },
      {
       "output_type": "stream",
       "stream": "stderr",
       "text": [
        "INFO:python_subgrid.wrapper:Start timestep-update.\n"
       ]
      },
      {
       "output_type": "stream",
       "stream": "stderr",
       "text": [
        "DEBUG:python_subgrid.wrapper: Trying to use timestep:    10.000000000000000\n"
       ]
      },
      {
       "output_type": "stream",
       "stream": "stderr",
       "text": [
        "DEBUG:python_subgrid.wrapper:Start initFlowAdmin, flow_init=              0\n"
       ]
      },
      {
       "output_type": "stream",
       "stream": "stderr",
       "text": [
        "INFO:python_subgrid.wrapper:Timestep 77 number of iterations 2 epsmax   0.0000E+00 idthalf 1  np = 1\n"
       ]
      },
      {
       "output_type": "stream",
       "stream": "stderr",
       "text": [
        "INFO:python_subgrid.wrapper:Timestep complete.\n"
       ]
      },
      {
       "output_type": "stream",
       "stream": "stderr",
       "text": [
        "INFO:python_subgrid.wrapper:Start timestep-update.\n"
       ]
      },
      {
       "output_type": "stream",
       "stream": "stderr",
       "text": [
        "DEBUG:python_subgrid.wrapper: Trying to use timestep:    10.000000000000000\n"
       ]
      },
      {
       "output_type": "stream",
       "stream": "stderr",
       "text": [
        "DEBUG:python_subgrid.wrapper:Start initFlowAdmin, flow_init=              0\n"
       ]
      },
      {
       "output_type": "stream",
       "stream": "stderr",
       "text": [
        "INFO:python_subgrid.wrapper:Timestep 78 number of iterations 2 epsmax   0.0000E+00 idthalf 1  np = 1\n"
       ]
      },
      {
       "output_type": "stream",
       "stream": "stderr",
       "text": [
        "INFO:python_subgrid.wrapper:Timestep complete.\n"
       ]
      },
      {
       "output_type": "stream",
       "stream": "stderr",
       "text": [
        "INFO:python_subgrid.wrapper:Start timestep-update.\n"
       ]
      },
      {
       "output_type": "stream",
       "stream": "stderr",
       "text": [
        "DEBUG:python_subgrid.wrapper: Trying to use timestep:    10.000000000000000\n"
       ]
      },
      {
       "output_type": "stream",
       "stream": "stderr",
       "text": [
        "DEBUG:python_subgrid.wrapper:Start initFlowAdmin, flow_init=              0\n"
       ]
      },
      {
       "output_type": "stream",
       "stream": "stderr",
       "text": [
        "INFO:python_subgrid.wrapper:Timestep 79 number of iterations 2 epsmax   0.0000E+00 idthalf 1  np = 1\n"
       ]
      },
      {
       "output_type": "stream",
       "stream": "stderr",
       "text": [
        "INFO:python_subgrid.wrapper:Timestep complete.\n"
       ]
      },
      {
       "output_type": "stream",
       "stream": "stderr",
       "text": [
        "INFO:python_subgrid.wrapper:Start timestep-update.\n"
       ]
      },
      {
       "output_type": "stream",
       "stream": "stderr",
       "text": [
        "DEBUG:python_subgrid.wrapper: Trying to use timestep:    10.000000000000000\n"
       ]
      },
      {
       "output_type": "stream",
       "stream": "stderr",
       "text": [
        "DEBUG:python_subgrid.wrapper:Start initFlowAdmin, flow_init=              0\n"
       ]
      },
      {
       "output_type": "stream",
       "stream": "stderr",
       "text": [
        "INFO:python_subgrid.wrapper:Timestep 80 number of iterations 2 epsmax   0.0000E+00 idthalf 1  np = 1\n"
       ]
      },
      {
       "output_type": "stream",
       "stream": "stderr",
       "text": [
        "INFO:python_subgrid.wrapper:Timestep complete.\n"
       ]
      },
      {
       "output_type": "stream",
       "stream": "stderr",
       "text": [
        "INFO:python_subgrid.wrapper:Start timestep-update.\n"
       ]
      },
      {
       "output_type": "stream",
       "stream": "stderr",
       "text": [
        "DEBUG:python_subgrid.wrapper: Trying to use timestep:    10.000000000000000\n"
       ]
      },
      {
       "output_type": "stream",
       "stream": "stderr",
       "text": [
        "DEBUG:python_subgrid.wrapper:Start initFlowAdmin, flow_init=              0\n"
       ]
      },
      {
       "output_type": "stream",
       "stream": "stderr",
       "text": [
        "INFO:python_subgrid.wrapper:Timestep 81 number of iterations 2 epsmax   0.0000E+00 idthalf 1  np = 1\n"
       ]
      },
      {
       "output_type": "stream",
       "stream": "stderr",
       "text": [
        "INFO:python_subgrid.wrapper:Timestep complete.\n"
       ]
      },
      {
       "output_type": "stream",
       "stream": "stderr",
       "text": [
        "INFO:python_subgrid.wrapper:Start timestep-update.\n"
       ]
      },
      {
       "output_type": "stream",
       "stream": "stderr",
       "text": [
        "DEBUG:python_subgrid.wrapper: Trying to use timestep:    10.000000000000000\n"
       ]
      },
      {
       "output_type": "stream",
       "stream": "stderr",
       "text": [
        "DEBUG:python_subgrid.wrapper:Start initFlowAdmin, flow_init=              0\n"
       ]
      },
      {
       "output_type": "stream",
       "stream": "stderr",
       "text": [
        "INFO:python_subgrid.wrapper:Timestep 82 number of iterations 2 epsmax   0.0000E+00 idthalf 1  np = 1\n"
       ]
      },
      {
       "output_type": "stream",
       "stream": "stderr",
       "text": [
        "INFO:python_subgrid.wrapper:Timestep complete.\n"
       ]
      },
      {
       "output_type": "stream",
       "stream": "stderr",
       "text": [
        "INFO:python_subgrid.wrapper:Start timestep-update.\n"
       ]
      },
      {
       "output_type": "stream",
       "stream": "stderr",
       "text": [
        "DEBUG:python_subgrid.wrapper: Trying to use timestep:    10.000000000000000\n"
       ]
      },
      {
       "output_type": "stream",
       "stream": "stderr",
       "text": [
        "DEBUG:python_subgrid.wrapper:Start initFlowAdmin, flow_init=              0\n"
       ]
      },
      {
       "output_type": "stream",
       "stream": "stderr",
       "text": [
        "INFO:python_subgrid.wrapper:Timestep 83 number of iterations 2 epsmax   0.0000E+00 idthalf 1  np = 1\n"
       ]
      },
      {
       "output_type": "stream",
       "stream": "stderr",
       "text": [
        "INFO:python_subgrid.wrapper:Timestep complete.\n"
       ]
      },
      {
       "output_type": "stream",
       "stream": "stderr",
       "text": [
        "INFO:python_subgrid.wrapper:Start timestep-update.\n"
       ]
      },
      {
       "output_type": "stream",
       "stream": "stderr",
       "text": [
        "DEBUG:python_subgrid.wrapper: Trying to use timestep:    10.000000000000000\n"
       ]
      },
      {
       "output_type": "stream",
       "stream": "stderr",
       "text": [
        "DEBUG:python_subgrid.wrapper:Start initFlowAdmin, flow_init=              0\n"
       ]
      },
      {
       "output_type": "stream",
       "stream": "stderr",
       "text": [
        "INFO:python_subgrid.wrapper:Timestep 84 number of iterations 2 epsmax   0.0000E+00 idthalf 1  np = 1\n"
       ]
      },
      {
       "output_type": "stream",
       "stream": "stderr",
       "text": [
        "INFO:python_subgrid.wrapper:Timestep complete.\n"
       ]
      },
      {
       "output_type": "stream",
       "stream": "stderr",
       "text": [
        "INFO:python_subgrid.wrapper:Start timestep-update.\n"
       ]
      },
      {
       "output_type": "stream",
       "stream": "stderr",
       "text": [
        "DEBUG:python_subgrid.wrapper: Trying to use timestep:    10.000000000000000\n"
       ]
      },
      {
       "output_type": "stream",
       "stream": "stderr",
       "text": [
        "DEBUG:python_subgrid.wrapper:Start initFlowAdmin, flow_init=              0\n"
       ]
      },
      {
       "output_type": "stream",
       "stream": "stderr",
       "text": [
        "INFO:python_subgrid.wrapper:Timestep 85 number of iterations 2 epsmax   0.0000E+00 idthalf 1  np = 1\n"
       ]
      },
      {
       "output_type": "stream",
       "stream": "stderr",
       "text": [
        "INFO:python_subgrid.wrapper:Timestep complete.\n"
       ]
      },
      {
       "output_type": "stream",
       "stream": "stderr",
       "text": [
        "INFO:python_subgrid.wrapper:Start timestep-update.\n"
       ]
      },
      {
       "output_type": "stream",
       "stream": "stderr",
       "text": [
        "DEBUG:python_subgrid.wrapper: Trying to use timestep:    10.000000000000000\n"
       ]
      },
      {
       "output_type": "stream",
       "stream": "stderr",
       "text": [
        "DEBUG:python_subgrid.wrapper:Start initFlowAdmin, flow_init=              0\n"
       ]
      },
      {
       "output_type": "stream",
       "stream": "stderr",
       "text": [
        "INFO:python_subgrid.wrapper:Timestep 86 number of iterations 2 epsmax   0.0000E+00 idthalf 1  np = 1\n"
       ]
      },
      {
       "output_type": "stream",
       "stream": "stderr",
       "text": [
        "INFO:python_subgrid.wrapper:Timestep complete.\n"
       ]
      },
      {
       "output_type": "stream",
       "stream": "stderr",
       "text": [
        "INFO:python_subgrid.wrapper:Start timestep-update.\n"
       ]
      },
      {
       "output_type": "stream",
       "stream": "stderr",
       "text": [
        "DEBUG:python_subgrid.wrapper: Trying to use timestep:    10.000000000000000\n"
       ]
      },
      {
       "output_type": "stream",
       "stream": "stderr",
       "text": [
        "DEBUG:python_subgrid.wrapper:Start initFlowAdmin, flow_init=              0\n"
       ]
      },
      {
       "output_type": "stream",
       "stream": "stderr",
       "text": [
        "INFO:python_subgrid.wrapper:Timestep 87 number of iterations 2 epsmax   0.0000E+00 idthalf 1  np = 1\n"
       ]
      },
      {
       "output_type": "stream",
       "stream": "stderr",
       "text": [
        "INFO:python_subgrid.wrapper:Timestep complete.\n"
       ]
      },
      {
       "output_type": "stream",
       "stream": "stderr",
       "text": [
        "INFO:python_subgrid.wrapper:Start timestep-update.\n"
       ]
      },
      {
       "output_type": "stream",
       "stream": "stderr",
       "text": [
        "DEBUG:python_subgrid.wrapper: Trying to use timestep:    10.000000000000000\n"
       ]
      },
      {
       "output_type": "stream",
       "stream": "stderr",
       "text": [
        "DEBUG:python_subgrid.wrapper:Start initFlowAdmin, flow_init=              0\n"
       ]
      },
      {
       "output_type": "stream",
       "stream": "stderr",
       "text": [
        "INFO:python_subgrid.wrapper:Timestep 88 number of iterations 2 epsmax   0.0000E+00 idthalf 1  np = 1\n"
       ]
      },
      {
       "output_type": "stream",
       "stream": "stderr",
       "text": [
        "INFO:python_subgrid.wrapper:Timestep complete.\n"
       ]
      },
      {
       "output_type": "stream",
       "stream": "stderr",
       "text": [
        "INFO:python_subgrid.wrapper:Start timestep-update.\n"
       ]
      },
      {
       "output_type": "stream",
       "stream": "stderr",
       "text": [
        "DEBUG:python_subgrid.wrapper: Trying to use timestep:    10.000000000000000\n"
       ]
      },
      {
       "output_type": "stream",
       "stream": "stderr",
       "text": [
        "DEBUG:python_subgrid.wrapper:Start initFlowAdmin, flow_init=              0\n"
       ]
      },
      {
       "output_type": "stream",
       "stream": "stderr",
       "text": [
        "INFO:python_subgrid.wrapper:Timestep 89 number of iterations 2 epsmax   0.0000E+00 idthalf 1  np = 1\n"
       ]
      },
      {
       "output_type": "stream",
       "stream": "stderr",
       "text": [
        "INFO:python_subgrid.wrapper:Timestep complete.\n"
       ]
      },
      {
       "output_type": "stream",
       "stream": "stderr",
       "text": [
        "INFO:python_subgrid.wrapper:Start timestep-update.\n"
       ]
      },
      {
       "output_type": "stream",
       "stream": "stderr",
       "text": [
        "DEBUG:python_subgrid.wrapper: Trying to use timestep:    10.000000000000000\n"
       ]
      },
      {
       "output_type": "stream",
       "stream": "stderr",
       "text": [
        "DEBUG:python_subgrid.wrapper:Start initFlowAdmin, flow_init=              0\n"
       ]
      },
      {
       "output_type": "stream",
       "stream": "stderr",
       "text": [
        "INFO:python_subgrid.wrapper:Timestep 90 number of iterations 2 epsmax   0.0000E+00 idthalf 1  np = 1\n"
       ]
      },
      {
       "output_type": "stream",
       "stream": "stderr",
       "text": [
        "INFO:python_subgrid.wrapper:Timestep complete.\n"
       ]
      },
      {
       "output_type": "stream",
       "stream": "stderr",
       "text": [
        "INFO:python_subgrid.wrapper:Start timestep-update.\n"
       ]
      },
      {
       "output_type": "stream",
       "stream": "stderr",
       "text": [
        "DEBUG:python_subgrid.wrapper: Trying to use timestep:    10.000000000000000\n"
       ]
      },
      {
       "output_type": "stream",
       "stream": "stderr",
       "text": [
        "DEBUG:python_subgrid.wrapper:Start initFlowAdmin, flow_init=              0\n"
       ]
      },
      {
       "output_type": "stream",
       "stream": "stderr",
       "text": [
        "INFO:python_subgrid.wrapper:Timestep 91 number of iterations 2 epsmax   0.0000E+00 idthalf 1  np = 1\n"
       ]
      },
      {
       "output_type": "stream",
       "stream": "stderr",
       "text": [
        "INFO:python_subgrid.wrapper:Timestep complete.\n"
       ]
      },
      {
       "output_type": "stream",
       "stream": "stderr",
       "text": [
        "INFO:python_subgrid.wrapper:Start timestep-update.\n"
       ]
      },
      {
       "output_type": "stream",
       "stream": "stderr",
       "text": [
        "DEBUG:python_subgrid.wrapper: Trying to use timestep:    10.000000000000000\n"
       ]
      },
      {
       "output_type": "stream",
       "stream": "stderr",
       "text": [
        "DEBUG:python_subgrid.wrapper:Start initFlowAdmin, flow_init=              0\n"
       ]
      },
      {
       "output_type": "stream",
       "stream": "stderr",
       "text": [
        "INFO:python_subgrid.wrapper:Timestep 92 number of iterations 2 epsmax   0.0000E+00 idthalf 1  np = 1\n"
       ]
      },
      {
       "output_type": "stream",
       "stream": "stderr",
       "text": [
        "INFO:python_subgrid.wrapper:Timestep complete.\n"
       ]
      },
      {
       "output_type": "stream",
       "stream": "stderr",
       "text": [
        "INFO:python_subgrid.wrapper:Start timestep-update.\n"
       ]
      },
      {
       "output_type": "stream",
       "stream": "stderr",
       "text": [
        "DEBUG:python_subgrid.wrapper: Trying to use timestep:    10.000000000000000\n"
       ]
      },
      {
       "output_type": "stream",
       "stream": "stderr",
       "text": [
        "DEBUG:python_subgrid.wrapper:Start initFlowAdmin, flow_init=              0\n"
       ]
      },
      {
       "output_type": "stream",
       "stream": "stderr",
       "text": [
        "INFO:python_subgrid.wrapper:Timestep 93 number of iterations 2 epsmax   0.0000E+00 idthalf 1  np = 1\n"
       ]
      },
      {
       "output_type": "stream",
       "stream": "stderr",
       "text": [
        "INFO:python_subgrid.wrapper:Timestep complete.\n"
       ]
      },
      {
       "output_type": "stream",
       "stream": "stderr",
       "text": [
        "INFO:python_subgrid.wrapper:Start timestep-update.\n"
       ]
      },
      {
       "output_type": "stream",
       "stream": "stderr",
       "text": [
        "DEBUG:python_subgrid.wrapper: Trying to use timestep:    10.000000000000000\n"
       ]
      },
      {
       "output_type": "stream",
       "stream": "stderr",
       "text": [
        "DEBUG:python_subgrid.wrapper:Start initFlowAdmin, flow_init=              0\n"
       ]
      },
      {
       "output_type": "stream",
       "stream": "stderr",
       "text": [
        "INFO:python_subgrid.wrapper:Timestep 94 number of iterations 2 epsmax   0.0000E+00 idthalf 1  np = 1\n"
       ]
      },
      {
       "output_type": "stream",
       "stream": "stderr",
       "text": [
        "INFO:python_subgrid.wrapper:Timestep complete.\n"
       ]
      },
      {
       "output_type": "stream",
       "stream": "stderr",
       "text": [
        "INFO:python_subgrid.wrapper:Start timestep-update.\n"
       ]
      },
      {
       "output_type": "stream",
       "stream": "stderr",
       "text": [
        "DEBUG:python_subgrid.wrapper: Trying to use timestep:    10.000000000000000\n"
       ]
      },
      {
       "output_type": "stream",
       "stream": "stderr",
       "text": [
        "DEBUG:python_subgrid.wrapper:Start initFlowAdmin, flow_init=              0\n"
       ]
      },
      {
       "output_type": "stream",
       "stream": "stderr",
       "text": [
        "INFO:python_subgrid.wrapper:Timestep 95 number of iterations 2 epsmax   0.0000E+00 idthalf 1  np = 1\n"
       ]
      },
      {
       "output_type": "stream",
       "stream": "stderr",
       "text": [
        "INFO:python_subgrid.wrapper:Timestep complete.\n"
       ]
      },
      {
       "output_type": "stream",
       "stream": "stderr",
       "text": [
        "INFO:python_subgrid.wrapper:Start timestep-update.\n"
       ]
      },
      {
       "output_type": "stream",
       "stream": "stderr",
       "text": [
        "DEBUG:python_subgrid.wrapper: Trying to use timestep:    10.000000000000000\n"
       ]
      },
      {
       "output_type": "stream",
       "stream": "stderr",
       "text": [
        "DEBUG:python_subgrid.wrapper:Start initFlowAdmin, flow_init=              0\n"
       ]
      },
      {
       "output_type": "stream",
       "stream": "stderr",
       "text": [
        "INFO:python_subgrid.wrapper:Timestep 96 number of iterations 2 epsmax   0.0000E+00 idthalf 1  np = 1\n"
       ]
      },
      {
       "output_type": "stream",
       "stream": "stderr",
       "text": [
        "INFO:python_subgrid.wrapper:Timestep complete.\n"
       ]
      },
      {
       "output_type": "stream",
       "stream": "stderr",
       "text": [
        "INFO:python_subgrid.wrapper:Start timestep-update.\n"
       ]
      },
      {
       "output_type": "stream",
       "stream": "stderr",
       "text": [
        "DEBUG:python_subgrid.wrapper: Trying to use timestep:    10.000000000000000\n"
       ]
      },
      {
       "output_type": "stream",
       "stream": "stderr",
       "text": [
        "DEBUG:python_subgrid.wrapper:Start initFlowAdmin, flow_init=              0\n"
       ]
      },
      {
       "output_type": "stream",
       "stream": "stderr",
       "text": [
        "INFO:python_subgrid.wrapper:Timestep 97 number of iterations 2 epsmax   0.0000E+00 idthalf 1  np = 1\n"
       ]
      },
      {
       "output_type": "stream",
       "stream": "stderr",
       "text": [
        "INFO:python_subgrid.wrapper:Timestep complete.\n"
       ]
      },
      {
       "output_type": "stream",
       "stream": "stderr",
       "text": [
        "INFO:python_subgrid.wrapper:Start timestep-update.\n"
       ]
      },
      {
       "output_type": "stream",
       "stream": "stderr",
       "text": [
        "DEBUG:python_subgrid.wrapper: Trying to use timestep:    10.000000000000000\n"
       ]
      },
      {
       "output_type": "stream",
       "stream": "stderr",
       "text": [
        "DEBUG:python_subgrid.wrapper:Start initFlowAdmin, flow_init=              0\n"
       ]
      },
      {
       "output_type": "stream",
       "stream": "stderr",
       "text": [
        "INFO:python_subgrid.wrapper:Timestep 98 number of iterations 2 epsmax   0.0000E+00 idthalf 1  np = 1\n"
       ]
      },
      {
       "output_type": "stream",
       "stream": "stderr",
       "text": [
        "INFO:python_subgrid.wrapper:Timestep complete.\n"
       ]
      },
      {
       "output_type": "stream",
       "stream": "stderr",
       "text": [
        "INFO:python_subgrid.wrapper:Start timestep-update.\n"
       ]
      },
      {
       "output_type": "stream",
       "stream": "stderr",
       "text": [
        "DEBUG:python_subgrid.wrapper: Trying to use timestep:    10.000000000000000\n"
       ]
      },
      {
       "output_type": "stream",
       "stream": "stderr",
       "text": [
        "DEBUG:python_subgrid.wrapper:Start initFlowAdmin, flow_init=              0\n"
       ]
      },
      {
       "output_type": "stream",
       "stream": "stderr",
       "text": [
        "INFO:python_subgrid.wrapper:Timestep 99 number of iterations 2 epsmax   0.0000E+00 idthalf 1  np = 1\n"
       ]
      },
      {
       "output_type": "stream",
       "stream": "stderr",
       "text": [
        "INFO:python_subgrid.wrapper:Timestep complete.\n"
       ]
      },
      {
       "output_type": "stream",
       "stream": "stderr",
       "text": [
        "INFO:python_subgrid.wrapper:Start timestep-update.\n"
       ]
      },
      {
       "output_type": "stream",
       "stream": "stderr",
       "text": [
        "DEBUG:python_subgrid.wrapper: Trying to use timestep:    10.000000000000000\n"
       ]
      },
      {
       "output_type": "stream",
       "stream": "stderr",
       "text": [
        "DEBUG:python_subgrid.wrapper:Start initFlowAdmin, flow_init=              0\n"
       ]
      },
      {
       "output_type": "stream",
       "stream": "stderr",
       "text": [
        "INFO:python_subgrid.wrapper:Timestep 100 number of iterations 2 epsmax   0.0000E+00 idthalf 1  np = 1\n"
       ]
      },
      {
       "output_type": "stream",
       "stream": "stderr",
       "text": [
        "INFO:python_subgrid.wrapper:Timestep complete.\n"
       ]
      }
     ],
     "prompt_number": 28
    },
    {
     "cell_type": "code",
     "collapsed": false,
     "input": [
      "# We are now at t\n",
      "print(subgrid.get_nd('t1'))\n",
      "\n",
      "# Let's get the velocity array\n",
      "u = subgrid.get_nd('u1').copy()\n",
      "\n",
      "# And the corresponding link types\n",
      "link_type = subgrid.get_nd('link_type').copy()\n",
      "\n",
      "# Notice that this array is 1 longer than the netCDF file\n",
      "u.shape"
     ],
     "language": "python",
     "metadata": {},
     "outputs": [
      {
       "output_type": "stream",
       "stream": "stdout",
       "text": [
        "1000.0\n"
       ]
      },
      {
       "metadata": {},
       "output_type": "pyout",
       "prompt_number": 36,
       "text": [
        "(251,)"
       ]
      }
     ],
     "prompt_number": 36
    },
    {
     "cell_type": "code",
     "collapsed": false,
     "input": [],
     "language": "python",
     "metadata": {},
     "outputs": [
      {
       "metadata": {},
       "output_type": "pyout",
       "prompt_number": 37,
       "text": [
        "array([1, 1, 1, 1, 1, 1, 1, 1, 1, 1, 1, 1, 1, 1, 1, 1, 1, 1, 1, 1, 1, 1, 1,\n",
        "       1, 1, 1, 1, 1, 1, 1, 1, 1, 1, 1, 1, 1, 1, 1, 1, 1, 1, 1, 1, 1, 1, 1,\n",
        "       1, 1, 1, 1, 1, 1, 1, 1, 1, 1, 1, 1, 1, 1, 1, 1, 1, 1, 1, 1, 1, 1, 1,\n",
        "       1, 1, 1, 1, 1, 1, 1, 1, 1, 1, 1, 1, 1, 1, 1, 1, 1, 1, 1, 1, 1, 1, 1,\n",
        "       1, 1, 1, 1, 1, 1, 1, 1, 1, 1, 1, 1, 1, 1, 1, 1, 1, 1, 1, 1, 1, 1, 1,\n",
        "       1, 1, 1, 1, 1, 1, 1, 1, 1, 1, 1, 1, 1, 1, 1, 1, 1, 1, 1, 1, 1, 1, 1,\n",
        "       1, 1, 1, 1, 1, 1, 1, 1, 1, 1, 1, 1, 1, 1, 1, 1, 1, 1, 1, 1, 1, 1, 1,\n",
        "       1, 1, 1, 1, 1, 1, 1, 1, 1, 1, 1, 1, 1, 1, 1, 1, 1, 1, 1, 2, 2, 2, 2,\n",
        "       2, 2, 2, 2, 2, 2, 2, 2, 2, 2, 2, 2, 2, 2, 2, 2, 2, 2, 2, 2, 2, 2, 2,\n",
        "       2, 2, 2, 2, 2, 2, 2, 2, 2, 2, 2, 2, 2, 2, 2, 2, 2, 2, 2, 2, 2, 2, 2,\n",
        "       2, 2, 2, 2, 2, 2, 2, 2, 2, 2, 2, 2, 2, 2, 2, 2, 2, 2, 4, 4], dtype=int32)"
       ]
      }
     ],
     "prompt_number": 37
    },
    {
     "cell_type": "code",
     "collapsed": false,
     "input": [
      "print link_type.shape, u.shape, 'note that u has an extra internal boundary cell'\n",
      "df['type'] = np.take(link_type, df.idx-1)\n",
      "df['u'] = np.take(u, df.idx)"
     ],
     "language": "python",
     "metadata": {},
     "outputs": [
      {
       "output_type": "stream",
       "stream": "stdout",
       "text": [
        "(250,) (251,) note that u has an extra internal boundary cell\n"
       ]
      }
     ],
     "prompt_number": 31
    },
    {
     "cell_type": "code",
     "collapsed": false,
     "input": [
      "df.head()"
     ],
     "language": "python",
     "metadata": {},
     "outputs": [
      {
       "html": [
        "<div style=\"max-height:1000px;max-width:1500px;overflow:auto;\">\n",
        "<table border=\"1\" class=\"dataframe\">\n",
        "  <thead>\n",
        "    <tr style=\"text-align: right;\">\n",
        "      <th></th>\n",
        "      <th>branch</th>\n",
        "      <th>chainage</th>\n",
        "      <th>idx</th>\n",
        "      <th>type</th>\n",
        "      <th>u</th>\n",
        "    </tr>\n",
        "  </thead>\n",
        "  <tbody>\n",
        "    <tr>\n",
        "      <th>0</th>\n",
        "      <td> 1</td>\n",
        "      <td>  0.000000</td>\n",
        "      <td> 249</td>\n",
        "      <td> 4</td>\n",
        "      <td> 0.000005</td>\n",
        "    </tr>\n",
        "    <tr>\n",
        "      <th>1</th>\n",
        "      <td> 1</td>\n",
        "      <td>  3.157895</td>\n",
        "      <td> 181</td>\n",
        "      <td> 2</td>\n",
        "      <td> 0.000005</td>\n",
        "    </tr>\n",
        "    <tr>\n",
        "      <th>2</th>\n",
        "      <td> 1</td>\n",
        "      <td>  6.315789</td>\n",
        "      <td> 182</td>\n",
        "      <td> 2</td>\n",
        "      <td> 0.000005</td>\n",
        "    </tr>\n",
        "    <tr>\n",
        "      <th>3</th>\n",
        "      <td> 1</td>\n",
        "      <td>  9.473684</td>\n",
        "      <td> 183</td>\n",
        "      <td> 2</td>\n",
        "      <td> 0.000005</td>\n",
        "    </tr>\n",
        "    <tr>\n",
        "      <th>4</th>\n",
        "      <td> 1</td>\n",
        "      <td> 12.631579</td>\n",
        "      <td> 184</td>\n",
        "      <td> 2</td>\n",
        "      <td> 0.000005</td>\n",
        "    </tr>\n",
        "  </tbody>\n",
        "</table>\n",
        "</div>"
       ],
       "metadata": {},
       "output_type": "pyout",
       "prompt_number": 32,
       "text": [
        "   branch   chainage  idx  type         u\n",
        "0       1   0.000000  249     4  0.000005\n",
        "1       1   3.157895  181     2  0.000005\n",
        "2       1   6.315789  182     2  0.000005\n",
        "3       1   9.473684  183     2  0.000005\n",
        "4       1  12.631579  184     2  0.000005"
       ]
      }
     ],
     "prompt_number": 32
    },
    {
     "cell_type": "code",
     "collapsed": false,
     "input": [
      "df['xl1d'] = None\n",
      "df['yl1d'] = None\n",
      "df['xl1d'][df['type'] != 4] = xl1d\n",
      "df['yl1d'][df['type'] != 4] = yl1d"
     ],
     "language": "python",
     "metadata": {},
     "outputs": [
      {
       "ename": "NameError",
       "evalue": "name 'xl1d' is not defined",
       "output_type": "pyerr",
       "traceback": [
        "\u001b[1;31m---------------------------------------------------------------------------\u001b[0m\n\u001b[1;31mNameError\u001b[0m                                 Traceback (most recent call last)",
        "\u001b[1;32m<ipython-input-22-a98a88d70de5>\u001b[0m in \u001b[0;36m<module>\u001b[1;34m()\u001b[0m\n\u001b[0;32m      1\u001b[0m \u001b[0mdf\u001b[0m\u001b[1;33m[\u001b[0m\u001b[1;34m'xl1d'\u001b[0m\u001b[1;33m]\u001b[0m \u001b[1;33m=\u001b[0m \u001b[0mNone\u001b[0m\u001b[1;33m\u001b[0m\u001b[0m\n\u001b[0;32m      2\u001b[0m \u001b[0mdf\u001b[0m\u001b[1;33m[\u001b[0m\u001b[1;34m'yl1d'\u001b[0m\u001b[1;33m]\u001b[0m \u001b[1;33m=\u001b[0m \u001b[0mNone\u001b[0m\u001b[1;33m\u001b[0m\u001b[0m\n\u001b[1;32m----> 3\u001b[1;33m \u001b[0mdf\u001b[0m\u001b[1;33m[\u001b[0m\u001b[1;34m'xl1d'\u001b[0m\u001b[1;33m]\u001b[0m\u001b[1;33m[\u001b[0m\u001b[0mdf\u001b[0m\u001b[1;33m[\u001b[0m\u001b[1;34m'type'\u001b[0m\u001b[1;33m]\u001b[0m \u001b[1;33m!=\u001b[0m \u001b[1;36m4\u001b[0m\u001b[1;33m]\u001b[0m \u001b[1;33m=\u001b[0m \u001b[0mxl1d\u001b[0m\u001b[1;33m\u001b[0m\u001b[0m\n\u001b[0m\u001b[0;32m      4\u001b[0m \u001b[0mdf\u001b[0m\u001b[1;33m[\u001b[0m\u001b[1;34m'yl1d'\u001b[0m\u001b[1;33m]\u001b[0m\u001b[1;33m[\u001b[0m\u001b[0mdf\u001b[0m\u001b[1;33m[\u001b[0m\u001b[1;34m'type'\u001b[0m\u001b[1;33m]\u001b[0m \u001b[1;33m!=\u001b[0m \u001b[1;36m4\u001b[0m\u001b[1;33m]\u001b[0m \u001b[1;33m=\u001b[0m \u001b[0myl1d\u001b[0m\u001b[1;33m\u001b[0m\u001b[0m\n",
        "\u001b[1;31mNameError\u001b[0m: name 'xl1d' is not defined"
       ]
      }
     ],
     "prompt_number": 22
    },
    {
     "cell_type": "code",
     "collapsed": false,
     "input": [
      "df.shape"
     ],
     "language": "python",
     "metadata": {},
     "outputs": [
      {
       "metadata": {},
       "output_type": "pyout",
       "prompt_number": 19,
       "text": [
        "(70, 7)"
       ]
      }
     ],
     "prompt_number": 19
    },
    {
     "cell_type": "code",
     "collapsed": false,
     "input": [
      "df_selected = df[df['type'] !=4]\n",
      "\n",
      "plt.quiver(np.array(df_selected['xl1d']), np.array(df_selected['yl1d']), np.zeros(df_selected['u'].shape), np.array(df_selected['u']))"
     ],
     "language": "python",
     "metadata": {},
     "outputs": [
      {
       "metadata": {},
       "output_type": "pyout",
       "prompt_number": 49,
       "text": [
        "<matplotlib.quiver.Quiver at 0x3a1e590>"
       ]
      },
      {
       "metadata": {},
       "output_type": "display_data",
       "png": "[encoded data removed]",
       "text": [
        "<matplotlib.figure.Figure at 0x384a450>"
       ]
      }
     ],
     "prompt_number": 49
    },
    {
     "cell_type": "code",
     "collapsed": false,
     "input": [
      "subgrid.get_nd('nod_idx')"
     ],
     "language": "python",
     "metadata": {},
     "outputs": [
      {
       "metadata": {},
       "output_type": "pyout",
       "prompt_number": 26,
       "text": [
        "array([249, 181, 182, 183, 184, 185, 186, 187, 188, 189, 190, 191, 192,\n",
        "       193, 194, 195, 196, 197, 198, 199, 200, 201, 202, 203, 204, 205,\n",
        "       206, 207, 208, 209, 210, 211, 212, 213, 214, 215, 216, 217, 218,\n",
        "       250, 219, 220, 221, 222, 223, 224, 225, 226, 227, 228, 229, 230,\n",
        "       231, 232, 233, 234, 235, 236, 237, 238, 239, 240, 241, 242, 243,\n",
        "       244, 245, 246, 247], dtype=int32)"
       ]
      }
     ],
     "prompt_number": 26
    },
    {
     "cell_type": "code",
     "collapsed": false,
     "input": [
      "u1"
     ],
     "language": "python",
     "metadata": {},
     "outputs": [],
     "prompt_number": "*"
    },
    {
     "cell_type": "code",
     "collapsed": false,
     "input": [],
     "language": "python",
     "metadata": {},
     "outputs": [],
     "prompt_number": "*"
    }
   ],
   "metadata": {}
  }
 ]
}