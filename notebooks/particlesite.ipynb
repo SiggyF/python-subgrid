{
 "metadata": {
  "name": "",
  "signature": "sha256:5f5070a7b0a66997476fa229c316b43afb4977a76729925e9354560e0723db39"
 },
 "nbformat": 3,
 "nbformat_minor": 0,
 "worksheets": [
  {
   "cells": [
    {
     "cell_type": "code",
     "collapsed": false,
     "input": [
      "import pandas\n",
      "import datetime\n",
      "import numpy as np\n",
      "import netCDF4\n",
      "import osgeo.osr"
     ],
     "language": "python",
     "metadata": {},
     "outputs": [],
     "prompt_number": 1
    },
    {
     "cell_type": "code",
     "collapsed": false,
     "input": [
      "df = pandas.read_hdf('/Users/baart_f/models/sfo/sfo-3di/parts4.h5', 'particles')\n",
      "df['particle'] = df['particle'].astype('int64')\n"
     ],
     "language": "python",
     "metadata": {},
     "outputs": [],
     "prompt_number": 26
    },
    {
     "cell_type": "code",
     "collapsed": false,
     "input": [
      "#df['date'] = datetime.datetime(1962, 6, 12, 20) \n"
     ],
     "language": "python",
     "metadata": {},
     "outputs": [],
     "prompt_number": 27
    },
    {
     "cell_type": "code",
     "collapsed": false,
     "input": [
      "import dateutil.rrule\n",
      "rrule = dateutil.rrule.rrule(dateutil.rrule.HOURLY, dtstart=datetime.datetime(1962, 6, 11, 18, 0))\n",
      "escapes = rrule.between(datetime.datetime(1962, 6, 11, 20, 0), datetime.datetime(1962, 6, 12, 4, 0), inc=True)\n",
      "\n",
      "ds = netCDF4.Dataset('/Users/baart_f/models/sfo/sfo-3di/subgrid_map_15min.nc')\n",
      "times = netCDF4.num2date(ds.variables['time'][:], ds.variables['time'].units)\n",
      "\n",
      "idx = np.where(np.in1d(times, escapes))[0]\n",
      "idx"
     ],
     "language": "python",
     "metadata": {},
     "outputs": [
      {
       "metadata": {},
       "output_type": "pyout",
       "prompt_number": 28,
       "text": [
        "array([272, 276, 280, 284, 288, 292, 296, 300, 304])"
       ]
      }
     ],
     "prompt_number": 28
    },
    {
     "cell_type": "code",
     "collapsed": false,
     "input": [
      "i0 = 250\n",
      "mins = df[['particle', 't']].groupby('particle').min()\n",
      "swimmers = mins[np.in1d(mins['t'],ds.variables['time'][:][idx-i0])].index\n",
      "t_swimmers = ds.variables['time'][:][idx-i0]"
     ],
     "language": "python",
     "metadata": {},
     "outputs": [],
     "prompt_number": 29
    },
    {
     "cell_type": "code",
     "collapsed": false,
     "input": [
      "swimming = df[np.in1d(df['particle'], swimmers)]\n",
      "swimming['date'] = np.fromiter([times[i0] + datetime.timedelta(seconds=x) for x in swimming['t']], dtype='datetime64[s]')"
     ],
     "language": "python",
     "metadata": {},
     "outputs": [],
     "prompt_number": 30
    },
    {
     "cell_type": "code",
     "collapsed": false,
     "input": [
      "# generate the spatial reference systems and the transformations\n",
      "utm_srs = osgeo.osr.SpatialReference()\n",
      "utm_srs.ImportFromEPSGA(26910)\n",
      "osm_srs = osgeo.osr.SpatialReference()\n",
      "osm_srs.ImportFromEPSGA(3857)\n",
      "wgs_srs = osgeo.osr.SpatialReference()\n",
      "wgs_srs.ImportFromEPSGA(4326)\n",
      "utm2wgs = osgeo.osr.CoordinateTransformation(utm_srs, wgs_srs)\n",
      "utm2osm = osgeo.osr.CoordinateTransformation(utm_srs, osm_srs)\n",
      "wgs2utm = osgeo.osr.CoordinateTransformation(wgs_srs, utm_srs)\n",
      "wgs2osm = osgeo.osr.CoordinateTransformation(wgs_srs, osm_srs)"
     ],
     "language": "python",
     "metadata": {},
     "outputs": [],
     "prompt_number": 31
    },
    {
     "cell_type": "code",
     "collapsed": false,
     "input": [
      "latlonz = utm2wgs.TransformPoints(np.c_[swimming['x'], swimming['y']])\n",
      "swimming['lon'], swimming['lat'], _ = np.array(latlonz).T\n"
     ],
     "language": "python",
     "metadata": {},
     "outputs": [],
     "prompt_number": 32
    },
    {
     "cell_type": "code",
     "collapsed": false,
     "input": [
      "mins['start']  = np.fromiter([times[i0] + datetime.timedelta(seconds=x) for x in mins['t']], dtype='datetime64[s]')\n",
      "results = pandas.merge(swimming, mins['start'].reset_index(), left_on='particle', right_on='particle')\n",
      "results['hour'] = results['start'].apply(lambda x:x.strftime('%H:%M'))"
     ],
     "language": "python",
     "metadata": {},
     "outputs": [],
     "prompt_number": 37
    },
    {
     "cell_type": "code",
     "collapsed": false,
     "input": [
      "results[['lat', 'lon', 'date', 'hour']].to_csv('/Users/baart_f/models/sfo/sfo-3di/parts4a.csv')"
     ],
     "language": "python",
     "metadata": {},
     "outputs": [],
     "prompt_number": 38
    },
    {
     "cell_type": "code",
     "collapsed": false,
     "input": [
      "len(set(swimming.particle))"
     ],
     "language": "python",
     "metadata": {},
     "outputs": [
      {
       "metadata": {},
       "output_type": "pyout",
       "prompt_number": 74,
       "text": [
        "450"
       ]
      }
     ],
     "prompt_number": 74
    },
    {
     "cell_type": "code",
     "collapsed": false,
     "input": [
      "swimming['start']"
     ],
     "language": "python",
     "metadata": {},
     "outputs": [
      {
       "metadata": {},
       "output_type": "pyout",
       "prompt_number": 35,
       "text": [
        "0    1962-06-11 20:00:00\n",
        "1    1962-06-11 20:00:00\n",
        "2    1962-06-11 20:00:00\n",
        "3    1962-06-11 20:00:00\n",
        "4    1962-06-11 20:00:00\n",
        "5    1962-06-11 20:00:00\n",
        "6    1962-06-11 20:00:00\n",
        "7    1962-06-11 20:00:00\n",
        "8    1962-06-11 20:00:00\n",
        "9    1962-06-11 20:00:00\n",
        "10   1962-06-11 20:00:00\n",
        "11   1962-06-11 20:00:00\n",
        "12   1962-06-11 20:00:00\n",
        "13   1962-06-11 20:00:00\n",
        "14   1962-06-11 20:00:00\n",
        "...\n",
        "190740   1962-06-12 04:00:00\n",
        "190741   1962-06-12 04:00:00\n",
        "190742   1962-06-12 04:00:00\n",
        "190743   1962-06-12 04:00:00\n",
        "190744   1962-06-12 04:00:00\n",
        "190745   1962-06-12 04:00:00\n",
        "190746   1962-06-12 04:00:00\n",
        "190747   1962-06-12 04:00:00\n",
        "190748   1962-06-12 04:00:00\n",
        "190749   1962-06-12 04:00:00\n",
        "190750   1962-06-12 04:00:00\n",
        "190751   1962-06-12 04:00:00\n",
        "190752   1962-06-12 04:00:00\n",
        "190753   1962-06-12 04:00:00\n",
        "190754   1962-06-12 04:00:00\n",
        "Name: start, Length: 190755, dtype: datetime64[ns]"
       ]
      }
     ],
     "prompt_number": 35
    },
    {
     "cell_type": "code",
     "collapsed": false,
     "input": [],
     "language": "python",
     "metadata": {},
     "outputs": []
    }
   ],
   "metadata": {}
  }
 ]
}