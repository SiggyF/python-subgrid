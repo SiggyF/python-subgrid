{
 "metadata": {
  "name": ""
 },
 "nbformat": 3,
 "nbformat_minor": 0,
 "worksheets": [
  {
   "cells": [
    {
     "cell_type": "code",
     "collapsed": false,
     "input": [
      "import python_subgrid.wrapper"
     ],
     "language": "python",
     "metadata": {},
     "outputs": [],
     "prompt_number": 1
    },
    {
     "cell_type": "code",
     "collapsed": false,
     "input": [
      "subgrid = python_subgrid.wrapper.SubgridWrapper(mdu=\"../../models/heerenveen/heerenveen.mdu\", sharedmem=True)\n",
      "subgrid.start()"
     ],
     "language": "python",
     "metadata": {},
     "outputs": [
      {
       "output_type": "stream",
       "stream": "stderr",
       "text": [
        "INFO:python_subgrid.wrapper:Using subgrid fortran library /home/fedor/.local/lib/libsubgrid.so\n"
       ]
      },
      {
       "output_type": "stream",
       "stream": "stderr",
       "text": [
        "INFO:python_subgrid.wrapper:Loading library from path /home/fedor/.local/lib/libsubgrid.so\n"
       ]
      },
      {
       "output_type": "stream",
       "stream": "stderr",
       "text": [
        "INFO:python_subgrid.wrapper:Current version: Deltares, 3Di - subgrid Version 0.1.1.927M, Dec  4 2013, 16:34:42\n"
       ]
      },
      {
       "output_type": "stream",
       "stream": "stderr",
       "text": [
        "INFO:python_subgrid.wrapper:Startup complete.\n"
       ]
      },
      {
       "output_type": "stream",
       "stream": "stderr",
       "text": [
        "INFO:python_subgrid.wrapper:Loading model ../../models/heerenveen/heerenveen.mdu in directory /home/fedor/Checkouts/models/heerenveen\n"
       ]
      },
      {
       "output_type": "stream",
       "stream": "stderr",
       "text": [
        "INFO:python_subgrid.wrapper:Start loadModel for '../../models/heerenveen/heerenveen.mdu'.\n"
       ]
      },
      {
       "output_type": "stream",
       "stream": "stderr",
       "text": [
        "INFO:python_subgrid.wrapper:Wrong NumLayers. Ground water calculations switched off.\n"
       ]
      },
      {
       "output_type": "stream",
       "stream": "stderr",
       "text": [
        "INFO:python_subgrid.wrapper:Reading bathmetry file ' subgrid/heerenveen_hoogte05.tif '...\n"
       ]
      },
      {
       "output_type": "stream",
       "stream": "stderr",
       "text": [
        "DEBUG:python_subgrid.wrapper:         208   208.120102      dps(0:imax+1, 0:jmax+1)\n"
       ]
      },
      {
       "output_type": "stream",
       "stream": "stderr",
       "text": [
        "INFO:python_subgrid.wrapper:Completed reading bathymetry file.\n"
       ]
      },
      {
       "output_type": "stream",
       "stream": "stderr",
       "text": [
        "INFO:python_subgrid.wrapper:Opened file : polygons/gridpolygon.pol\n"
       ]
      },
      {
       "output_type": "stream",
       "stream": "stderr",
       "text": [
        "INFO:python_subgrid.wrapper:Start initialization of grid administration.\n"
       ]
      },
      {
       "output_type": "stream",
       "stream": "stderr",
       "text": [
        "INFO:python_subgrid.wrapper: Coarse grid parameters: kmax=           5 , dxmin=   5.00000000\n"
       ]
      },
      {
       "output_type": "stream",
       "stream": "stderr",
       "text": [
        "DEBUG:python_subgrid.wrapper:         208   3.26999999E-03  ls(k)%mn(0:mmax(k)+1,0:nmax(k)+1)\n"
       ]
      },
      {
       "output_type": "stream",
       "stream": "stderr",
       "text": [
        "DEBUG:python_subgrid.wrapper:         208   2.18400010E-03  ls(k)%mn(0:mmax(k)+1,0:nmax(k)+1)\n"
       ]
      },
      {
       "output_type": "stream",
       "stream": "stderr",
       "text": [
        "DEBUG:python_subgrid.wrapper:         208   1.36999995E-03  ls(k)%mn(0:mmax(k)+1,0:nmax(k)+1)\n"
       ]
      },
      {
       "output_type": "stream",
       "stream": "stderr",
       "text": [
        "DEBUG:python_subgrid.wrapper:         416   208.060059      lg(1:imax,1:jmax)\n"
       ]
      },
      {
       "output_type": "stream",
       "stream": "stderr",
       "text": [
        "INFO:python_subgrid.wrapper:lg init on coarsest level took:   0.7367D+01 seconds.\n"
       ]
      },
      {
       "output_type": "stream",
       "stream": "stderr",
       "text": [
        "INFO:python_subgrid.wrapper:guess dams took:   0.0000D+00 seconds.\n"
       ]
      },
      {
       "output_type": "stream",
       "stream": "stderr",
       "text": [
        "INFO:python_subgrid.wrapper:Searching refinement areas for quadtrees generation took:  0.1396D+02 seconds.\n"
       ]
      },
      {
       "output_type": "stream",
       "stream": "stderr",
       "text": [
        "INFO:python_subgrid.wrapper:Making quadtrees took:   0.5463D+02 seconds.\n"
       ]
      },
      {
       "output_type": "stream",
       "stream": "stderr",
       "text": [
        "INFO:python_subgrid.wrapper:Opened file : boundaries/bc.ext\n"
       ]
      },
      {
       "output_type": "stream",
       "stream": "stderr",
       "text": [
        "DEBUG:python_subgrid.wrapper:         416   2.77549997E-02  kce(n2dtot), kez(nx), itpez(nx)\n"
       ]
      },
      {
       "output_type": "stream",
       "stream": "stderr",
       "text": [
        "INFO:python_subgrid.wrapper:Opened file : boundaries/bc_north.pli\n"
       ]
      },
      {
       "output_type": "stream",
       "stream": "stderr",
       "text": [
        "INFO:python_subgrid.wrapper:waterlevelbnd boundaries/bc_north.pli       3 nr of open bndcells\n"
       ]
      },
      {
       "output_type": "stream",
       "stream": "stderr",
       "text": [
        "INFO:python_subgrid.wrapper:Opened file : boundaries/bc_east.pli\n"
       ]
      },
      {
       "output_type": "stream",
       "stream": "stderr",
       "text": [
        "INFO:python_subgrid.wrapper:waterlevelbnd boundaries/bc_east.pli       1 nr of open bndcells\n"
       ]
      },
      {
       "output_type": "stream",
       "stream": "stderr",
       "text": [
        "INFO:python_subgrid.wrapper:Opened file : boundaries/bc_south.pli\n"
       ]
      },
      {
       "output_type": "stream",
       "stream": "stderr",
       "text": [
        "INFO:python_subgrid.wrapper:waterlevelbnd boundaries/bc_south.pli       1 nr of open bndcells\n"
       ]
      },
      {
       "output_type": "stream",
       "stream": "stderr",
       "text": [
        "INFO:python_subgrid.wrapper: Internal 2d nodes =     15723\n"
       ]
      },
      {
       "output_type": "stream",
       "stream": "stderr",
       "text": [
        "INFO:python_subgrid.wrapper: Boundary 2d nodes =   5\n"
       ]
      },
      {
       "output_type": "stream",
       "stream": "stderr",
       "text": [
        "DEBUG:python_subgrid.wrapper:         416   1.57280006E-02  nodm(nodall)\n"
       ]
      },
      {
       "output_type": "stream",
       "stream": "stderr",
       "text": [
        "DEBUG:python_subgrid.wrapper:         416   1.57280006E-02  nodn(nodall)\n"
       ]
      },
      {
       "output_type": "stream",
       "stream": "stderr",
       "text": [
        "DEBUG:python_subgrid.wrapper:         416   1.57280006E-02  nodk(nodall)\n"
       ]
      },
      {
       "output_type": "stream",
       "stream": "stderr",
       "text": [
        "DEBUG:python_subgrid.wrapper:         416   1.57290008E-02  ks(0:nodall)\n"
       ]
      },
      {
       "output_type": "stream",
       "stream": "stderr",
       "text": [
        "DEBUG:python_subgrid.wrapper:         416   3.14560011E-02  xz(nodall),yz(nodall)\n"
       ]
      },
      {
       "output_type": "stream",
       "stream": "stderr",
       "text": [
        "INFO:python_subgrid.wrapper:Opened file : boundaries/bc.ext\n"
       ]
      },
      {
       "output_type": "stream",
       "stream": "stderr",
       "text": [
        "INFO:python_subgrid.wrapper: Internal 1d nodes =         0\n"
       ]
      },
      {
       "output_type": "stream",
       "stream": "stderr",
       "text": [
        "INFO:python_subgrid.wrapper: Boundary 1d nodes =   0\n"
       ]
      },
      {
       "output_type": "stream",
       "stream": "stderr",
       "text": [
        "DEBUG:python_subgrid.wrapper:         416  0.125832006      nru,nrv\n"
       ]
      },
      {
       "output_type": "stream",
       "stream": "stderr",
       "text": [
        "INFO:python_subgrid.wrapper: n1dall,n1dnod,k1dtot           0\n"
       ]
      },
      {
       "output_type": "stream",
       "stream": "stderr",
       "text": [
        "INFO:python_subgrid.wrapper:Opened file : boundaries/bc.ext\n"
       ]
      },
      {
       "output_type": "stream",
       "stream": "stderr",
       "text": [
        "INFO:python_subgrid.wrapper:Initializing external forcing 'waterlevelbnd' from file 'boundaries/bc_north.pli'.\n"
       ]
      },
      {
       "output_type": "stream",
       "stream": "stderr",
       "text": [
        "INFO:python_subgrid.wrapper:Opened file : boundaries/bc_north.pli\n"
       ]
      },
      {
       "output_type": "stream",
       "stream": "stderr",
       "text": [
        "INFO:python_subgrid.wrapper:Opened file : boundaries/bc_north_0001.tim\n"
       ]
      },
      {
       "output_type": "stream",
       "stream": "stderr",
       "text": [
        "INFO:python_subgrid.wrapper:Initializing external forcing 'waterlevelbnd' from file 'boundaries/bc_east.pli'.\n"
       ]
      },
      {
       "output_type": "stream",
       "stream": "stderr",
       "text": [
        "INFO:python_subgrid.wrapper:Opened file : boundaries/bc_east.pli\n"
       ]
      },
      {
       "output_type": "stream",
       "stream": "stderr",
       "text": [
        "INFO:python_subgrid.wrapper:Opened file : boundaries/bc_east_0001.tim\n"
       ]
      },
      {
       "output_type": "stream",
       "stream": "stderr",
       "text": [
        "INFO:python_subgrid.wrapper:Initializing external forcing 'waterlevelbnd' from file 'boundaries/bc_south.pli'.\n"
       ]
      },
      {
       "output_type": "stream",
       "stream": "stderr",
       "text": [
        "INFO:python_subgrid.wrapper:Opened file : boundaries/bc_south.pli\n"
       ]
      },
      {
       "output_type": "stream",
       "stream": "stderr",
       "text": [
        "INFO:python_subgrid.wrapper:Opened file : boundaries/bc_south_0001.tim\n"
       ]
      },
      {
       "output_type": "stream",
       "stream": "stderr",
       "text": [
        "INFO:python_subgrid.wrapper:Initializing boundaries took:   0.9000D-02 seconds.\n"
       ]
      }
     ],
     "prompt_number": "*"
    },
    {
     "cell_type": "code",
     "collapsed": false,
     "input": [
      "import multiprocessing\n",
      "\n",
      "s0 = subgrid.get_nd('s1').copy()\n",
      "def check_s1_changed(, s0):\n",
      "    subgrid"
     ],
     "language": "python",
     "metadata": {},
     "outputs": [],
     "prompt_number": "*"
    },
    {
     "cell_type": "code",
     "collapsed": false,
     "input": [],
     "language": "python",
     "metadata": {},
     "outputs": []
    }
   ],
   "metadata": {}
  }
 ]
}