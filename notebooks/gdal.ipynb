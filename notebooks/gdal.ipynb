{
 "metadata": {
  "name": ""
 },
 "nbformat": 3,
 "nbformat_minor": 0,
 "worksheets": [
  {
   "cells": [
    {
     "cell_type": "code",
     "collapsed": false,
     "input": [
      "import osgeo.gdal\n",
      "import osgeo.osr\n",
      "\n",
      "try:\n",
      "    from PIL import Image\n",
      "except ImportError:\n",
      "    import Image\n",
      "\n",
      "import python_subgrid.wrapper\n",
      "import python_subgrid.plotting\n",
      "import matplotlib.cm\n",
      "import matplotlib.colors\n",
      "import matplotlib.pyplot as plt\n",
      "import numpy as np\n",
      "\n",
      "import logging\n",
      "logger = logging.getLogger(__name__)"
     ],
     "language": "python",
     "metadata": {},
     "outputs": [
      {
       "output_type": "stream",
       "stream": "stderr",
       "text": [
        "/home/fedor/.virtualenvs/main/local/lib/python2.7/site-packages/pkg_resources.py:1054: UserWarning: /home/fedor/.python-eggs is writable by group/others and vulnerable to attack when used with get_resource_filename. Consider a more secure location (set with .set_extraction_path or the PYTHON_EGG_CACHE environment variable).\n",
        "  warnings.warn(msg, UserWarning)\n"
       ]
      }
     ],
     "prompt_number": 1
    },
    {
     "cell_type": "code",
     "collapsed": false,
     "input": [
      "subgrid = python_subgrid.wrapper.SubgridWrapper(mdu=\"/home/fedor/Checkouts/models/kaapstad_centrum/kaapstad_centrum.mdu\")\n",
      "subgrid.start()"
     ],
     "language": "python",
     "metadata": {},
     "outputs": [
      {
       "output_type": "stream",
       "stream": "stderr",
       "text": [
        "INFO:python_subgrid.wrapper:Using subgrid fortran library /home/fedor/.local/lib/libsubgrid.so\n"
       ]
      },
      {
       "output_type": "stream",
       "stream": "stderr",
       "text": [
        "INFO:python_subgrid.wrapper:Loading library from path /home/fedor/.local/lib/libsubgrid.so\n"
       ]
      },
      {
       "output_type": "stream",
       "stream": "stderr",
       "text": [
        "INFO:python_subgrid.wrapper:Current version: Deltares, 3Di - subgrid Version 0.1.1.1079:1081M, Feb  3 2014, 10:04:16\n"
       ]
      },
      {
       "output_type": "stream",
       "stream": "stderr",
       "text": [
        "INFO:python_subgrid.wrapper:Startup complete.\n"
       ]
      },
      {
       "output_type": "stream",
       "stream": "stderr",
       "text": [
        "INFO:python_subgrid.wrapper:Loading model /home/fedor/Checkouts/models/kaapstad_centrum/kaapstad_centrum.mdu in directory /home/fedor/Checkouts/models/kaapstad_centrum\n"
       ]
      },
      {
       "output_type": "stream",
       "stream": "stderr",
       "text": [
        "INFO:python_subgrid.wrapper:Start loadModel for '/home/fedor/Checkouts/models/kaapstad_centrum/kaapstad_centrum.mdu'.\n"
       ]
      },
      {
       "output_type": "stream",
       "stream": "stderr",
       "text": [
        "INFO:python_subgrid.wrapper:NetworkFile is not specified. Channel network is disabled.\n"
       ]
      },
      {
       "output_type": "stream",
       "stream": "stderr",
       "text": [
        "INFO:python_subgrid.wrapper:Wrong NumLayers. Ground water calculations switched off.\n"
       ]
      },
      {
       "output_type": "stream",
       "stream": "stderr",
       "text": [
        "INFO:python_subgrid.wrapper:Reading bathmetry file ' subgrid/kaapstad_centrum.tif '...\n"
       ]
      },
      {
       "output_type": "stream",
       "stream": "stderr",
       "text": [
        "INFO:python_subgrid.wrapper: Projection information: PROJCS[\"Cape / UTM zone 34S\",GEOGCS[\"Cape\",DATUM[\"Cape\",SPHEROID[\"Clarke 1880 (Arc)\",6378249.145,293.4663076999908,AUTHORITY[\"EPSG\",\"7013\"]],TOWGS84[-136,-108,-292,0,0,0,0],AUTHORITY[\"EPSG\",\"6222\"]],PRIMEM[\"Greenwich\",0],UNIT[\"degree\",0.0174532925199433],AUTHORITY[\"EPSG\",\"4222\"]],PROJECTION[\"Transverse_Mercator\"],PARAMETER[\"latitude_of_origin\",0],PARAMETER[\"central_meridian\",21],PARAMETER[\"scale_factor\",0.9996],PARAMETER[\"false_easting\",500000],PARAMETER[\"false_northing\",10000000],UNIT[\"metre\",1,AUTHORITY[\"EPSG\",\"9001\"]],AUTHORITY[\"EPSG\",\"22234\"]]\n"
       ]
      },
      {
       "output_type": "stream",
       "stream": "stderr",
       "text": [
        "DEBUG:python_subgrid.wrapper:           3   3.94224596      dps(0:imax+1, 0:jmax+1)\n"
       ]
      },
      {
       "output_type": "stream",
       "stream": "stderr",
       "text": [
        "INFO:python_subgrid.wrapper:Completed reading bathymetry file.\n"
       ]
      },
      {
       "output_type": "stream",
       "stream": "stderr",
       "text": [
        "INFO:python_subgrid.wrapper:Opened file : polygons/verfijning.pol\n"
       ]
      },
      {
       "output_type": "stream",
       "stream": "stderr",
       "text": [
        "INFO:python_subgrid.wrapper:Start initialization of grid administration.\n"
       ]
      },
      {
       "output_type": "stream",
       "stream": "stderr",
       "text": [
        "DEBUG:python_subgrid.wrapper:        2033   2030.04309      ip,jp\n"
       ]
      },
      {
       "output_type": "stream",
       "stream": "stderr",
       "text": [
        "DEBUG:python_subgrid.wrapper:        2035   1.05267596      ls(k)\n"
       ]
      },
      {
       "output_type": "stream",
       "stream": "stderr",
       "text": [
        "DEBUG:python_subgrid.wrapper:        2035  0.264196008      ls(k)\n"
       ]
      },
      {
       "output_type": "stream",
       "stream": "stderr",
       "text": [
        "DEBUG:python_subgrid.wrapper:        2035   6.65640011E-02  ls(k)\n"
       ]
      },
      {
       "output_type": "stream",
       "stream": "stderr",
       "text": [
        "DEBUG:python_subgrid.wrapper:        2035   1.68999992E-02  ls(k)\n"
       ]
      },
      {
       "output_type": "stream",
       "stream": "stderr",
       "text": [
        "DEBUG:python_subgrid.wrapper:        2035   4.35600011E-03  ls(k)\n"
       ]
      },
      {
       "output_type": "stream",
       "stream": "stderr",
       "text": [
        "DEBUG:python_subgrid.wrapper:        2035   1.15599995E-03  ls(k)\n"
       ]
      },
      {
       "output_type": "stream",
       "stream": "stderr",
       "text": [
        "INFO:python_subgrid.wrapper: Internal nodes =     16473\n"
       ]
      },
      {
       "output_type": "stream",
       "stream": "stderr",
       "text": [
        "INFO:python_subgrid.wrapper: Boundary nodes =   0\n"
       ]
      },
      {
       "output_type": "stream",
       "stream": "stderr",
       "text": [
        "DEBUG:python_subgrid.wrapper:        2035   1.64759997E-02  nodk,nodm,nodn\n"
       ]
      },
      {
       "output_type": "stream",
       "stream": "stderr",
       "text": [
        "DEBUG:python_subgrid.wrapper:        2035   1.64730009E-02  ks(nodall)\n"
       ]
      },
      {
       "output_type": "stream",
       "stream": "stderr",
       "text": [
        "DEBUG:python_subgrid.wrapper:        2035   3.29460017E-02  xz,yz\n"
       ]
      },
      {
       "output_type": "stream",
       "stream": "stderr",
       "text": [
        "INFO:python_subgrid.wrapper: Internal 1D nodes =         0\n"
       ]
      },
      {
       "output_type": "stream",
       "stream": "stderr",
       "text": [
        "INFO:python_subgrid.wrapper: Boundary 1D nodes =   0\n"
       ]
      },
      {
       "output_type": "stream",
       "stream": "stderr",
       "text": [
        "DEBUG:python_subgrid.wrapper:        2035   6.66259974E-02  line\n"
       ]
      },
      {
       "output_type": "stream",
       "stream": "stderr",
       "text": [
        "DEBUG:python_subgrid.wrapper:        2035  0.133251995      lik,lim,lin,kcu,dpumin,dpumax\n"
       ]
      },
      {
       "output_type": "stream",
       "stream": "stderr",
       "text": [
        "DEBUG:python_subgrid.wrapper:        2035  0.131791994      nru,nrv\n"
       ]
      },
      {
       "output_type": "stream",
       "stream": "stderr",
       "text": [
        "INFO:python_subgrid.wrapper:Initializing boundaries took:   0.5000D-02 seconds.\n"
       ]
      },
      {
       "output_type": "stream",
       "stream": "stderr",
       "text": [
        "DEBUG:python_subgrid.wrapper:        2035   3.33129987E-02  flod\n"
       ]
      },
      {
       "output_type": "stream",
       "stream": "stderr",
       "text": [
        "DEBUG:python_subgrid.wrapper:        2035   3.33129987E-02  flou\n"
       ]
      },
      {
       "output_type": "stream",
       "stream": "stderr",
       "text": [
        "INFO:python_subgrid.wrapper:Grid Admin initialisation took:  0.2900D-01 seconds.\n"
       ]
      },
      {
       "output_type": "stream",
       "stream": "stderr",
       "text": [
        "INFO:python_subgrid.wrapper:Completed initialization of grid administration.\n"
       ]
      },
      {
       "output_type": "stream",
       "stream": "stderr",
       "text": [
        "DEBUG:python_subgrid.wrapper:        2035   1.64730009E-02  dmax(1:nodall)\n"
       ]
      },
      {
       "output_type": "stream",
       "stream": "stderr",
       "text": [
        "DEBUG:python_subgrid.wrapper:        2035   1.64730009E-02  dmin(1:nodall)\n"
       ]
      },
      {
       "output_type": "stream",
       "stream": "stderr",
       "text": [
        "DEBUG:python_subgrid.wrapper:        2035   1.64730009E-02  sumax(1:n2dtot)\n"
       ]
      },
      {
       "output_type": "stream",
       "stream": "stderr",
       "text": [
        "DEBUG:python_subgrid.wrapper:        2035   6.58920035E-02  dqmin(1:nodtot)\n"
       ]
      },
      {
       "output_type": "stream",
       "stream": "stderr",
       "text": [
        "DEBUG:python_subgrid.wrapper:        2036   6.58920035E-02  dqmax(1:nodtot)\n"
       ]
      },
      {
       "output_type": "stream",
       "stream": "stderr",
       "text": [
        "DEBUG:python_subgrid.wrapper:        2036   6.58920035E-02  suqmax(1:nodtot)\n"
       ]
      },
      {
       "output_type": "stream",
       "stream": "stderr",
       "text": [
        "DEBUG:python_subgrid.wrapper:        2036   6.58920035E-02  ksq(1:nodtot)\n"
       ]
      },
      {
       "output_type": "stream",
       "stream": "stderr",
       "text": [
        "DEBUG:python_subgrid.wrapper:        2036   4.94219996E-02  s1(0:nodall)\n"
       ]
      },
      {
       "output_type": "stream",
       "stream": "stderr",
       "text": [
        "DEBUG:python_subgrid.wrapper:        2036   4.94219996E-02  si(0:nodall)\n"
       ]
      },
      {
       "output_type": "stream",
       "stream": "stderr",
       "text": [
        "DEBUG:python_subgrid.wrapper:        2036   9.99419987E-02  u1(0:linall)\n"
       ]
      },
      {
       "output_type": "stream",
       "stream": "stderr",
       "text": [
        "DEBUG:python_subgrid.wrapper:        2036   3.33140008E-02  kf(0:linall)\n"
       ]
      },
      {
       "output_type": "stream",
       "stream": "stderr",
       "text": [
        "DEBUG:python_subgrid.wrapper:        2036   1.64739992E-02  vol1(0:nodall)\n"
       ]
      },
      {
       "output_type": "stream",
       "stream": "stderr",
       "text": [
        "DEBUG:python_subgrid.wrapper:        2036   3.29479985E-02  vol2(0:nodall)\n"
       ]
      },
      {
       "output_type": "stream",
       "stream": "stderr",
       "text": [
        "DEBUG:python_subgrid.wrapper:        2036   3.29479985E-02  su(0:nodall)\n"
       ]
      },
      {
       "output_type": "stream",
       "stream": "stderr",
       "text": [
        "DEBUG:python_subgrid.wrapper:        2036   3.29479985E-02  volErr(0:nodall)\n"
       ]
      },
      {
       "output_type": "stream",
       "stream": "stderr",
       "text": [
        "DEBUG:python_subgrid.wrapper:        2036   3.33129987E-02  conv(linall)\n"
       ]
      },
      {
       "output_type": "stream",
       "stream": "stderr",
       "text": [
        "DEBUG:python_subgrid.wrapper:        2036   6.58959970E-02  vq1(0:4*nodall)\n"
       ]
      },
      {
       "output_type": "stream",
       "stream": "stderr",
       "text": [
        "DEBUG:python_subgrid.wrapper:        2036   1.64739992E-02  implis(0:nodall)\n"
       ]
      },
      {
       "output_type": "stream",
       "stream": "stderr",
       "text": [
        "DEBUG:python_subgrid.wrapper:        2036   8.23699981E-02  aii,bi,d0,a00,b0(0:nodall)\n"
       ]
      },
      {
       "output_type": "stream",
       "stream": "stderr",
       "text": [
        "DEBUG:python_subgrid.wrapper:        2036   6.58959970E-02  vol0(0:nodall),vq0(0:4*nodall)\n"
       ]
      },
      {
       "output_type": "stream",
       "stream": "stderr",
       "text": [
        "DEBUG:python_subgrid.wrapper:        2037  0.263572007      vqt,denom(0:4*nodall),fbq(0:4*nodall),umq(0:4*nodall)\n"
       ]
      },
      {
       "output_type": "stream",
       "stream": "stderr",
       "text": [
        "DEBUG:python_subgrid.wrapper:        2037   9.88409966E-02  qs,qs1,qs2(0:2*nodall)\n"
       ]
      },
      {
       "output_type": "stream",
       "stream": "stderr",
       "text": [
        "DEBUG:python_subgrid.wrapper:        2037   9.99419987E-02  u0,uh(0:linall)\n"
       ]
      },
      {
       "output_type": "stream",
       "stream": "stderr",
       "text": [
        "DEBUG:python_subgrid.wrapper:        2037   1.64739992E-02  uc(0:nodall,2)\n"
       ]
      },
      {
       "output_type": "stream",
       "stream": "stderr",
       "text": [
        "DEBUG:python_subgrid.wrapper:        2037   1.64739992E-02  vnorm(0:nodall)\n"
       ]
      },
      {
       "output_type": "stream",
       "stream": "stderr",
       "text": [
        "DEBUG:python_subgrid.wrapper:        2037  0.166565001      cu,ru(linall)\n"
       ]
      },
      {
       "output_type": "stream",
       "stream": "stderr",
       "text": [
        "DEBUG:python_subgrid.wrapper:        2037   9.99419987E-02  au(linall,0:2)\n"
       ]
      },
      {
       "output_type": "stream",
       "stream": "stderr",
       "text": [
        "DEBUG:python_subgrid.wrapper:        2037   3.33129987E-02  cz(linall)\n"
       ]
      },
      {
       "output_type": "stream",
       "stream": "stderr",
       "text": [
        "DEBUG:python_subgrid.wrapper:        2037   6.66280016E-02  qh1,qh2(0:linall)\n"
       ]
      },
      {
       "output_type": "stream",
       "stream": "stderr",
       "text": [
        "DEBUG:python_subgrid.wrapper:        2037   6.66280016E-02  ade,adi(0:linall)\n"
       ]
      },
      {
       "output_type": "stream",
       "stream": "stderr",
       "text": [
        "INFO:python_subgrid.wrapper:Calculation of bathymetry statistics took:   0.5440D+00 seconds.\n"
       ]
      },
      {
       "output_type": "stream",
       "stream": "stderr",
       "text": [
        "INFO:python_subgrid.wrapper:Setting initial water levels  from WaterLevelFile took:   0.0000D+00 seconds.\n"
       ]
      },
      {
       "output_type": "stream",
       "stream": "stderr",
       "text": [
        "INFO:python_subgrid.wrapper:Initial floodfill from FloodFill file took:   0.0000D+00 seconds.\n"
       ]
      },
      {
       "output_type": "stream",
       "stream": "stderr",
       "text": [
        "INFO:python_subgrid.wrapper:loadModel complete.\n"
       ]
      }
     ],
     "prompt_number": 2
    },
    {
     "cell_type": "code",
     "collapsed": false,
     "input": [
      "for i in range(5):\n",
      "    subgrid.update(-1)"
     ],
     "language": "python",
     "metadata": {},
     "outputs": [
      {
       "output_type": "stream",
       "stream": "stderr",
       "text": [
        "INFO:python_subgrid.wrapper:Start timestep-update.\n"
       ]
      },
      {
       "output_type": "stream",
       "stream": "stderr",
       "text": [
        "DEBUG:python_subgrid.wrapper:Start initFlowAdmin, flow_init=              0\n"
       ]
      },
      {
       "output_type": "stream",
       "stream": "stderr",
       "text": [
        "INFO:python_subgrid.wrapper:finding rain data for input\n"
       ]
      },
      {
       "output_type": "stream",
       "stream": "stderr",
       "text": [
        "INFO:python_subgrid.wrapper:Timestep 11 number of iterations 1 epsmax   0.0000E+00 idthalf 1  np = 1\n"
       ]
      },
      {
       "output_type": "stream",
       "stream": "stderr",
       "text": [
        "INFO:python_subgrid.wrapper:Timestep complete.\n"
       ]
      },
      {
       "output_type": "stream",
       "stream": "stderr",
       "text": [
        "INFO:python_subgrid.wrapper:Start timestep-update.\n"
       ]
      },
      {
       "output_type": "stream",
       "stream": "stderr",
       "text": [
        "DEBUG:python_subgrid.wrapper:Start initFlowAdmin, flow_init=              0\n"
       ]
      },
      {
       "output_type": "stream",
       "stream": "stderr",
       "text": [
        "INFO:python_subgrid.wrapper:finding rain data for input\n"
       ]
      },
      {
       "output_type": "stream",
       "stream": "stderr",
       "text": [
        "INFO:python_subgrid.wrapper:Timestep 12 number of iterations 1 epsmax   0.0000E+00 idthalf 1  np = 1\n"
       ]
      },
      {
       "output_type": "stream",
       "stream": "stderr",
       "text": [
        "INFO:python_subgrid.wrapper:Timestep complete.\n"
       ]
      },
      {
       "output_type": "stream",
       "stream": "stderr",
       "text": [
        "INFO:python_subgrid.wrapper:Start timestep-update.\n"
       ]
      },
      {
       "output_type": "stream",
       "stream": "stderr",
       "text": [
        "DEBUG:python_subgrid.wrapper:Start initFlowAdmin, flow_init=              0\n"
       ]
      },
      {
       "output_type": "stream",
       "stream": "stderr",
       "text": [
        "INFO:python_subgrid.wrapper:finding rain data for input\n"
       ]
      },
      {
       "output_type": "stream",
       "stream": "stderr",
       "text": [
        "INFO:python_subgrid.wrapper:Timestep 13 number of iterations 1 epsmax   0.0000E+00 idthalf 1  np = 1\n"
       ]
      },
      {
       "output_type": "stream",
       "stream": "stderr",
       "text": [
        "INFO:python_subgrid.wrapper:Timestep complete.\n"
       ]
      },
      {
       "output_type": "stream",
       "stream": "stderr",
       "text": [
        "INFO:python_subgrid.wrapper:Start timestep-update.\n"
       ]
      },
      {
       "output_type": "stream",
       "stream": "stderr",
       "text": [
        "DEBUG:python_subgrid.wrapper:Start initFlowAdmin, flow_init=              0\n"
       ]
      },
      {
       "output_type": "stream",
       "stream": "stderr",
       "text": [
        "INFO:python_subgrid.wrapper:finding rain data for input\n"
       ]
      },
      {
       "output_type": "stream",
       "stream": "stderr",
       "text": [
        "INFO:python_subgrid.wrapper:Timestep 14 number of iterations 1 epsmax   0.0000E+00 idthalf 1  np = 1\n"
       ]
      },
      {
       "output_type": "stream",
       "stream": "stderr",
       "text": [
        "INFO:python_subgrid.wrapper:Timestep complete.\n"
       ]
      },
      {
       "output_type": "stream",
       "stream": "stderr",
       "text": [
        "INFO:python_subgrid.wrapper:Start timestep-update.\n"
       ]
      },
      {
       "output_type": "stream",
       "stream": "stderr",
       "text": [
        "DEBUG:python_subgrid.wrapper:Start initFlowAdmin, flow_init=              0\n"
       ]
      },
      {
       "output_type": "stream",
       "stream": "stderr",
       "text": [
        "INFO:python_subgrid.wrapper:finding rain data for input\n"
       ]
      },
      {
       "output_type": "stream",
       "stream": "stderr",
       "text": [
        "INFO:python_subgrid.wrapper:Timestep 15 number of iterations 1 epsmax   0.0000E+00 idthalf 1  np = 1\n"
       ]
      },
      {
       "output_type": "stream",
       "stream": "stderr",
       "text": [
        "INFO:python_subgrid.wrapper:Timestep complete.\n"
       ]
      }
     ],
     "prompt_number": 25
    },
    {
     "cell_type": "code",
     "collapsed": false,
     "input": [
      "drivers = {osgeo.gdal.GetDriver(i).ShortName:osgeo.gdal.GetDriver(i) for i in range(osgeo.gdal.GetDriverCount())}\n"
     ],
     "language": "python",
     "metadata": {},
     "outputs": [],
     "prompt_number": 4
    },
    {
     "cell_type": "code",
     "collapsed": false,
     "input": [
      "driver = drivers['GTiff']"
     ],
     "language": "python",
     "metadata": {},
     "outputs": [],
     "prompt_number": 5
    },
    {
     "cell_type": "code",
     "collapsed": false,
     "input": [
      "import python_subgrid.plotting\n",
      "quad_grid = python_subgrid.plotting.make_quad_grid(subgrid)\n",
      "grid = {}\n",
      "for var in {'x0p', 'x1p', 'y0p', 'y1p', 'dps', 'dxp', 'dyp', 'imax', 'jmax', 'imaxk', 'nodk', 'nodm', 'nodn'}:\n",
      "    grid[var] = subgrid.get_nd(var)\n",
      "    \n",
      "quad_transform= (grid['x0p'],  # xmin\n",
      "                 grid['dxp'], # xmax\n",
      "                 0,            # for rotation\n",
      "                 grid['y0p'],\n",
      "                 0,\n",
      "                 grid['dyp'])\n",
      "print quad_transform"
     ],
     "language": "python",
     "metadata": {},
     "outputs": [
      {
       "output_type": "stream",
       "stream": "stdout",
       "text": [
        "(array(255580.19380886), array(5.0), 0, array(6239159.441056012), 0, array(5.0))\n"
       ]
      }
     ],
     "prompt_number": 6
    },
    {
     "cell_type": "code",
     "collapsed": false,
     "input": [
      "vars = {var: subgrid.get_nd(var)[1:] for var in {'s1', 'vol1', 'su'}}\n",
      "vars['dmax'] = subgrid.get_nd('dmax')\n",
      "vars['nodk'] = grid['nodk']\n",
      "import pandas\n",
      "df = pandas.DataFrame(vars)\n",
      "df[np.logical_and.reduce([df.vol1>0])].head()"
     ],
     "language": "python",
     "metadata": {},
     "outputs": [
      {
       "html": [
        "<div style=\"max-height:1000px;max-width:1500px;overflow:auto;\">\n",
        "<table border=\"1\" class=\"dataframe\">\n",
        "  <thead>\n",
        "    <tr style=\"text-align: right;\">\n",
        "      <th></th>\n",
        "      <th>dmax</th>\n",
        "      <th>nodk</th>\n",
        "      <th>s1</th>\n",
        "      <th>su</th>\n",
        "      <th>vol1</th>\n",
        "    </tr>\n",
        "  </thead>\n",
        "  <tbody>\n",
        "    <tr>\n",
        "      <th>1 </th>\n",
        "      <td> 37.668747</td>\n",
        "      <td> 8</td>\n",
        "      <td>-10</td>\n",
        "      <td> 200</td>\n",
        "      <td> 2475.376415</td>\n",
        "    </tr>\n",
        "    <tr>\n",
        "      <th>3 </th>\n",
        "      <td> 41.190121</td>\n",
        "      <td> 8</td>\n",
        "      <td>-10</td>\n",
        "      <td>  25</td>\n",
        "      <td>  779.753017</td>\n",
        "    </tr>\n",
        "    <tr>\n",
        "      <th>25</th>\n",
        "      <td> 13.222917</td>\n",
        "      <td> 6</td>\n",
        "      <td>-10</td>\n",
        "      <td>  50</td>\n",
        "      <td>  153.018069</td>\n",
        "    </tr>\n",
        "    <tr>\n",
        "      <th>38</th>\n",
        "      <td> 92.939850</td>\n",
        "      <td> 6</td>\n",
        "      <td>-10</td>\n",
        "      <td>  50</td>\n",
        "      <td> 4089.230919</td>\n",
        "    </tr>\n",
        "    <tr>\n",
        "      <th>40</th>\n",
        "      <td> 16.450367</td>\n",
        "      <td> 6</td>\n",
        "      <td>-10</td>\n",
        "      <td>  25</td>\n",
        "      <td>  161.259174</td>\n",
        "    </tr>\n",
        "  </tbody>\n",
        "</table>\n",
        "</div>"
       ],
       "metadata": {},
       "output_type": "pyout",
       "prompt_number": 32,
       "text": [
        "         dmax  nodk  s1   su         vol1\n",
        "1   37.668747     8 -10  200  2475.376415\n",
        "3   41.190121     8 -10   25   779.753017\n",
        "25  13.222917     6 -10   50   153.018069\n",
        "38  92.939850     6 -10   50  4089.230919\n",
        "40  16.450367     6 -10   25   161.259174"
       ]
      }
     ],
     "prompt_number": 32
    },
    {
     "cell_type": "code",
     "collapsed": false,
     "input": [
      "grid['y1p'], grid['y0p'] "
     ],
     "language": "python",
     "metadata": {},
     "outputs": [
      {
       "metadata": {},
       "output_type": "pyout",
       "prompt_number": 7,
       "text": [
        "(array(6247234.441056012), array(6239159.441056012))"
       ]
      }
     ],
     "prompt_number": 7
    },
    {
     "cell_type": "code",
     "collapsed": false,
     "input": [
      "src_ds = driver.Create(\"input.tiff\", quad_grid.shape[1], quad_grid.shape[0], 4, eType=osgeo.gdal.GDT_Byte)"
     ],
     "language": "python",
     "metadata": {},
     "outputs": [],
     "prompt_number": 8
    },
    {
     "cell_type": "code",
     "collapsed": false,
     "input": [
      "src_ds.SetGeoTransform(quad_transform)\n",
      "src_srs = osgeo.osr.SpatialReference()\n",
      "epsg = 22234\n",
      "src_srs.ImportFromEPSG(epsg)\n",
      "src_ds.SetProjection(src_srs.ExportToWkt())"
     ],
     "language": "python",
     "metadata": {},
     "outputs": [
      {
       "metadata": {},
       "output_type": "pyout",
       "prompt_number": 9,
       "text": [
        "0"
       ]
      }
     ],
     "prompt_number": 9
    },
    {
     "cell_type": "code",
     "collapsed": false,
     "input": [
      "\n",
      "mask = quad_grid.mask\n",
      "s1 = vars['s1'][quad_grid.filled(0)]\n",
      "vol1 = vars['vol1'][quad_grid.filled(0)]\n",
      "vol1 = np.ma.masked_array(vol1, quad_grid.mask)\n",
      "dps_ma = np.ma.masked_less(grid['dps'][1:-1,1:-1], -9000)\n",
      "waterlevel = s1 - (-dps_ma)\n",
      "mask = np.logical_or.reduce([quad_grid.mask, dps_ma.mask, vol1 == 0])\n",
      "\n",
      "area = grid['imaxk'][grid['nodk']-1]*grid['dxp']*grid['dyp']\n",
      "volumelevel = vars['vol1']/area\n",
      "\n",
      "fig, axes = plt.subplots(1,5, figsize=(30,6))\n",
      "im1 = axes[0].imshow(-dps_ma, vmin=-1000, vmax=1000, cmap='gist_earth')\n",
      "axes[0].set_title('-dps')\n",
      "plt.colorbar(im1, ax=axes[0])\n",
      "im = axes[1].imshow(np.ma.masked_array(s1, mask=quad_grid.mask), vmin=-1000, vmax=1000, cmap='gist_earth')\n",
      "plt.colorbar(im, ax=axes[1])\n",
      "axes[1].set_title('s1')\n",
      "im = axes[2].imshow(s1 - (-dps_ma), vmin=0, cmap='Blues')\n",
      "plt.colorbar(im, ax=axes[2])\n",
      "axes[2].set_title('s1--dps')\n",
      "im = axes[3].imshow(vol1, cmap='Blues', vmin=0)\n",
      "plt.colorbar(im, ax=axes[3])\n",
      "axes[3].set_title('vol1')\n",
      "\n",
      "\n",
      "N = matplotlib.colors.Normalize(0, waterlevel.max())\n",
      "img = matplotlib.cm.Blues(N(waterlevel), bytes=True)\n",
      "axes[-1].imshow(img.astype('uint8'))\n",
      "axes[-1].set_title('waterlevel')\n",
      "scalar = matplotlib.cm.ScalarMappable(norm = N, cmap=matplotlib.cm.Blues)\n",
      "scalar.set_array(waterlevel)\n",
      "plt.colorbar(scalar, ax=axes[-1])\n",
      "img_rolled = np.rollaxis(img, 2, 0)\n"
     ],
     "language": "python",
     "metadata": {},
     "outputs": [
      {
       "metadata": {},
       "output_type": "display_data",
       "png": "[encoded data removed]",
       "text": [
        "<matplotlib.figure.Figure at 0x14f5e0d0>"
       ]
      }
     ],
     "prompt_number": 31
    },
    {
     "cell_type": "code",
     "collapsed": false,
     "input": [
      "import pandas \n",
      "df = pandas.DataFrame(data=dict(idx=quad_grid.ravel(), dps=np.ma.masked_less(grid['dps'][1:-1,1:-1],-9000).ravel()))\n",
      "maxs = df.groupby('idx').max().reset_index()\n",
      "dps_max = np.take(np.array(maxs['dps']), quad_grid)\n",
      "cell_topo = - np.ma.masked_less(grid['dps'][1:-1,1:-1], -9000)  + dps_max\n",
      "#plt.imshow( )\n",
      "\n",
      "\n",
      "#plt.colorbar()\n",
      "mask = (volumelevel[quad_grid.filled(0)] - cell_topo) < 0\n",
      "level = volumelevel[quad_grid.filled(0)] - cell_topo\n",
      "level.mask = np.logical_or(level.mask, mask)\n",
      "plt.imshow(level, cmap='Blues')\n",
      "plt.colorbar()\n"
     ],
     "language": "python",
     "metadata": {},
     "outputs": [
      {
       "metadata": {},
       "output_type": "pyout",
       "prompt_number": 33,
       "text": [
        "<matplotlib.colorbar.Colorbar instance at 0x11598170>"
       ]
      },
      {
       "metadata": {},
       "output_type": "display_data",
       "png": "[encoded data removed]",
       "text": [
        "<matplotlib.figure.Figure at 0x138b2910>"
       ]
      }
     ],
     "prompt_number": 33
    },
    {
     "cell_type": "code",
     "collapsed": false,
     "input": [
      "for i in range(img_rolled.shape[0]):\n",
      "    band = src_ds.GetRasterBand(i+1)\n",
      "    band.WriteArray(img_rolled[i])\n",
      "src_ds.FlushCache()\n",
      "\n",
      "img2_rolled  = src_ds.ReadAsArray()\n",
      "img2 = np.rollaxis(img2_rolled, 0, 3)\n",
      "plt.imshow(img2)\n"
     ],
     "language": "python",
     "metadata": {},
     "outputs": []
    },
    {
     "cell_type": "code",
     "collapsed": false,
     "input": [
      "width= 256\n",
      "height= 256\n",
      "srs= \"+proj=merc +a=6378137 +b=6378137 +lat_ts=0.0 +lon_0=0.0 +x_0=0.0 +y_0=0 +k=1.0 +units=m +nadgrids=@null +wktext +no_defs +over\"\n",
      "xmin= 2044843.38069\n",
      "ymin= -4021199.18403\n",
      "xmax= 2054627.32031\n",
      "ymax= -4011415.24441\n",
      "zoom= 12\n"
     ],
     "language": "python",
     "metadata": {},
     "outputs": []
    },
    {
     "cell_type": "code",
     "collapsed": false,
     "input": [
      "area_ds = driver.Create('output.tiff', width, height, 4, eType = osgeo.gdal.GDT_Byte)\n",
      "if area_ds is None:\n",
      "    raise Exception('uh oh.')\n",
      "\n",
      "merc = osgeo.osr.SpatialReference()\n",
      "merc.ImportFromProj4(srs)\n",
      "\n",
      "area_ds.SetProjection(merc.ExportToWkt())\n",
      "\n",
      "w = xmax - xmin\n",
      "h = ymax - ymin\n",
      "print(h)\n",
      "gtx = [xmin, w/width, 0, ymin, 0, h/height]\n",
      "area_ds.SetGeoTransform(gtx)\n",
      "\n",
      "\n",
      "# Adjust resampling method -----------------------------------------\n",
      "\n",
      "resample = osgeo.gdal.GRA_NearestNeighbour\n",
      "\n",
      "# Create rendered area ---------------------------------------------\n",
      "\n",
      "\n",
      "osgeo.gdal.ReprojectImage(src_ds, area_ds, src_ds.GetProjection(), area_ds.GetProjection(), resample, 100000, 0.1 )\n",
      "area_ds.FlushCache()\n",
      "data = area_ds.ReadAsArray()\n",
      "print data.shape\n",
      "try:\n",
      "    #driver.Delete('output.tiff')\n",
      "    pass\n",
      "except:\n",
      "    logger.exception(\"can't delete output.tiff\")\n",
      "try:\n",
      "    #driver.Delete('input.tiff')\n",
      "    pass\n",
      "except:\n",
      "    logger.exception(\"can't delete input.tiff\")\n",
      "import PIL\n",
      "area = PIL.Image.fromarray(np.rollaxis(data, 0,3))\n",
      "area.save('test.png')"
     ],
     "language": "python",
     "metadata": {},
     "outputs": []
    },
    {
     "cell_type": "code",
     "collapsed": false,
     "input": [
      "plt.imshow(np.rollaxis(data, 0, 3))"
     ],
     "language": "python",
     "metadata": {},
     "outputs": []
    },
    {
     "cell_type": "code",
     "collapsed": false,
     "input": [
      "from IPython.display import Image\n",
      "Image('test.png')"
     ],
     "language": "python",
     "metadata": {},
     "outputs": []
    },
    {
     "cell_type": "code",
     "collapsed": false,
     "input": [
      "subgrid.get_nd('dxp')"
     ],
     "language": "python",
     "metadata": {},
     "outputs": []
    },
    {
     "cell_type": "code",
     "collapsed": false,
     "input": [
      "grid['imax']"
     ],
     "language": "python",
     "metadata": {},
     "outputs": []
    },
    {
     "cell_type": "code",
     "collapsed": false,
     "input": [],
     "language": "python",
     "metadata": {},
     "outputs": []
    }
   ],
   "metadata": {}
  }
 ]
}