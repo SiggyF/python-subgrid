{
 "metadata": {
  "name": ""
 },
 "nbformat": 3,
 "nbformat_minor": 0,
 "worksheets": [
  {
   "cells": [
    {
     "cell_type": "code",
     "collapsed": false,
     "input": [
      "import osgeo.gdal\n",
      "import osgeo.osr\n",
      "\n",
      "try:\n",
      "    from PIL import Image\n",
      "except ImportError:\n",
      "    import Image\n",
      "\n"
     ],
     "language": "python",
     "metadata": {},
     "outputs": [],
     "prompt_number": 80
    },
    {
     "cell_type": "code",
     "collapsed": false,
     "input": [
      "drivers = {osgeo.gdal.GetDriver(i).ShortName:osgeo.gdal.GetDriver(i) for i in range(osgeo.gdal.GetDriverCount())}\n"
     ],
     "language": "python",
     "metadata": {},
     "outputs": [],
     "prompt_number": 2
    },
    {
     "cell_type": "code",
     "collapsed": false,
     "input": [
      "memdriver = drivers['MEM']\n",
      "tiffdriver = drivers['GTiff']"
     ],
     "language": "python",
     "metadata": {},
     "outputs": [],
     "prompt_number": 3
    },
    {
     "cell_type": "code",
     "collapsed": false,
     "input": [
      "src_ds = memdriver.Create(\"\", 1000, 1000, 1, eType=osgeo.gdal.GDT_Int32)\n",
      "src_ds.RasterCount\n",
      "geotransform = (255580.19380886,\n",
      " 4.7338744607343,\n",
      " 0.0,\n",
      " 6247234.441056012,\n",
      " 0.0,\n",
      " -4.7338744607343)\n",
      "src_ds.SetGeoTransform(geotransform)\n",
      "src_srs = osgeo.osr.SpatialReference()\n",
      "epsg = 22234\n",
      "src_srs.ImportFromEPSG(epsg)\n",
      "src_ds.SetProjection(src_srs.ExportToWkt())"
     ],
     "language": "python",
     "metadata": {},
     "outputs": [
      {
       "metadata": {},
       "output_type": "pyout",
       "prompt_number": 20,
       "text": [
        "0"
       ]
      }
     ],
     "prompt_number": 20
    },
    {
     "cell_type": "code",
     "collapsed": false,
     "input": [],
     "language": "python",
     "metadata": {},
     "outputs": [],
     "prompt_number": 20
    },
    {
     "cell_type": "code",
     "collapsed": false,
     "input": [
      "band = src_ds.GetRasterBand(1)\n",
      "m = band.XSize\n",
      "n = band.YSize\n",
      "# fill with indices\n",
      "arr = np.arange(n*m).reshape(m,n)\n",
      "band.WriteArray(arr)\n",
      "arr\n",
      "plt.imshow(arr, vmin=arr.min(), vmax=arr.max())\n"
     ],
     "language": "python",
     "metadata": {},
     "outputs": [
      {
       "metadata": {},
       "output_type": "pyout",
       "prompt_number": 21,
       "text": [
        "<matplotlib.image.AxesImage at 0x12951490>"
       ]
      },
      {
       "metadata": {},
       "output_type": "display_data",
       "png": "[encoded data removed]",
       "text": [
        "<matplotlib.figure.Figure at 0x4688710>"
       ]
      }
     ],
     "prompt_number": 21
    },
    {
     "cell_type": "code",
     "collapsed": false,
     "input": [
      "\n",
      "srs = 900913\n",
      "width=2573\n",
      "height=1706\n",
      "\n",
      "grayscale_src = (src_ds.RasterCount == 1)\n",
      "\n",
      "# Prepare output gdal datasource -----------------------------------\n",
      "\n",
      "%timeit area_ds = tiffdriver.Create('/vsimem/output.tiff', width, height, 1, eType = osgeo.gdal.GDT_Int32)\n",
      "\n",
      "if area_ds is None:\n",
      "    raise Exception('uh oh.')\n",
      "\n",
      "\n",
      "merc = osgeo.osr.SpatialReference()\n",
      "merc.ImportFromEPSG(epsg)\n",
      "\n",
      "area_ds.SetProjection(merc.ExportToWkt())\n",
      "\n",
      "\n",
      "gtx = [x, w/width, 0, y, 0, h/height]\n",
      "gtk = list(geotransform)\n",
      "gtx[0] += 3\n",
      "gtx[1] += 0.1\n",
      "gtx[3] += 0.3\n",
      "gtx[5] -= 0.21\n",
      "area_ds.SetGeoTransform(gtx)\n",
      "band = area_ds.GetRasterBand(1)\n",
      "band.SetNoDataValue(-9999)\n",
      "band.WriteArray(np.zeros((band.YSize, band.XSize))-9999)\n",
      "\n",
      "\n",
      "# Adjust resampling method -----------------------------------------\n",
      "\n",
      "resample = osgeo.gdal.GRA_NearestNeighbour\n",
      "\n",
      "# Create rendered area ---------------------------------------------\n",
      "\n",
      "%timeit osgeo.gdal.ReprojectImage(src_ds, area_ds, src_ds.GetProjection(), area_ds.GetProjection(), resample, 1000000, 0.1 )\n",
      "area = area_ds.GetRasterBand(1).ReadAsArray()\n",
      "area = np.ma.masked_equal(area, -9999)\n",
      "tiffdriver.Delete('/vsimem/output.tiff')"
     ],
     "language": "python",
     "metadata": {},
     "outputs": [
      {
       "output_type": "stream",
       "stream": "stdout",
       "text": [
        "10 loops, best of 3: 33.3 ms per loop\n",
        "100 loops, best of 3: 9.14 ms per loop"
       ]
      },
      {
       "output_type": "stream",
       "stream": "stdout",
       "text": [
        "\n"
       ]
      },
      {
       "metadata": {},
       "output_type": "pyout",
       "prompt_number": 61,
       "text": [
        "0"
       ]
      }
     ],
     "prompt_number": 61
    },
    {
     "cell_type": "code",
     "collapsed": false,
     "input": [
      "%%timeit\n",
      "B = np.ma.take(arr, area)\n"
     ],
     "language": "python",
     "metadata": {},
     "outputs": [
      {
       "output_type": "stream",
       "stream": "stdout",
       "text": [
        "1 loops, best of 3: 202 ms per loop\n"
       ]
      }
     ],
     "prompt_number": 62
    },
    {
     "cell_type": "code",
     "collapsed": false,
     "input": [
      "?np.take"
     ],
     "language": "python",
     "metadata": {},
     "outputs": [],
     "prompt_number": 79
    },
    {
     "cell_type": "code",
     "collapsed": false,
     "input": [],
     "language": "python",
     "metadata": {},
     "outputs": []
    }
   ],
   "metadata": {}
  }
 ]
}