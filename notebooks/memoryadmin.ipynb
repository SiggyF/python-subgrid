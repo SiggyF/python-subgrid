{
 "metadata": {
  "name": ""
 },
 "nbformat": 3,
 "nbformat_minor": 0,
 "worksheets": [
  {
   "cells": [
    {
     "cell_type": "code",
     "collapsed": false,
     "input": [
      "import pandas\n",
      "import faulthandler\n",
      "# Now let's generate the same thing from memory\n",
      "import python_subgrid.wrapper\n",
      "import numpy as np\n",
      "import matplotlib.pyplot as plt"
     ],
     "language": "python",
     "metadata": {},
     "outputs": [],
     "prompt_number": 1
    },
    {
     "cell_type": "code",
     "collapsed": false,
     "input": [
      "subgrid = python_subgrid.wrapper.SubgridWrapper(mdu='../../models/1d-democase/1D-democase.mdu')\n",
      "subgrid.start()\n",
      "\n",
      "                           "
     ],
     "language": "python",
     "metadata": {},
     "outputs": [
      {
       "output_type": "stream",
       "stream": "stderr",
       "text": [
        "INFO:python_subgrid.wrapper:Using subgrid fortran library /home/fedor/.local/lib/libsubgrid.so\n"
       ]
      },
      {
       "output_type": "stream",
       "stream": "stderr",
       "text": [
        "INFO:python_subgrid.wrapper:Loading library from path /home/fedor/.local/lib/libsubgrid.so\n"
       ]
      },
      {
       "output_type": "stream",
       "stream": "stderr",
       "text": [
        "INFO:python_subgrid.wrapper:Current version: Deltares, 3Di - subgrid Version 0.1.1.902, Nov 20 2013, 14:44:57\n"
       ]
      },
      {
       "output_type": "stream",
       "stream": "stderr",
       "text": [
        "INFO:python_subgrid.wrapper:Startup complete.\n"
       ]
      },
      {
       "output_type": "stream",
       "stream": "stderr",
       "text": [
        "INFO:python_subgrid.wrapper:Loading model ../../models/1d-democase/1D-democase.mdu in directory /home/fedor/Checkouts/models/1d-democase\n"
       ]
      },
      {
       "output_type": "stream",
       "stream": "stderr",
       "text": [
        "INFO:python_subgrid.wrapper:Start loadModel for '../../models/1d-democase/1D-democase.mdu'.\n"
       ]
      },
      {
       "output_type": "stream",
       "stream": "stderr",
       "text": [
        "WARNING:python_subgrid.wrapper:Ignored 'Teta' in MDU file, please use 'IntegrationMethod' instead.\n"
       ]
      },
      {
       "output_type": "stream",
       "stream": "stderr",
       "text": [
        "INFO:python_subgrid.wrapper:Wrong NumLayers. Ground water calculations switched off.\n"
       ]
      },
      {
       "output_type": "stream",
       "stream": "stderr",
       "text": [
        "INFO:python_subgrid.wrapper:Reading bathmetry file ' subgrid/zak_drieharing_100x100.tif '...\n"
       ]
      },
      {
       "output_type": "stream",
       "stream": "stderr",
       "text": [
        "DEBUG:python_subgrid.wrapper:           0   4.08039987E-02  dps(0:imax+1, 0:jmax+1)\n"
       ]
      },
      {
       "output_type": "stream",
       "stream": "stderr",
       "text": [
        "INFO:python_subgrid.wrapper:Completed reading bathymetry file.\n"
       ]
      },
      {
       "output_type": "stream",
       "stream": "stderr",
       "text": [
        "INFO:python_subgrid.wrapper:Start initialization of grid administration.\n"
       ]
      },
      {
       "output_type": "stream",
       "stream": "stderr",
       "text": [
        "INFO:python_subgrid.wrapper: Coarse grid parameters: kmax=           1 , dxmin=   10.0000000\n"
       ]
      },
      {
       "output_type": "stream",
       "stream": "stderr",
       "text": [
        "DEBUG:python_subgrid.wrapper:           0   3.99999991E-02  lg(1:imax,1:jmax)\n"
       ]
      },
      {
       "output_type": "stream",
       "stream": "stderr",
       "text": [
        "INFO:python_subgrid.wrapper:lg init on coarsest level took:   0.0000D+00 seconds.\n"
       ]
      },
      {
       "output_type": "stream",
       "stream": "stderr",
       "text": [
        "INFO:python_subgrid.wrapper:guess dams took:   0.1000D-02 seconds.\n"
       ]
      },
      {
       "output_type": "stream",
       "stream": "stderr",
       "text": [
        "INFO:python_subgrid.wrapper:Searching refinement areas for quadtrees generation took:  0.2000D-02 seconds.\n"
       ]
      },
      {
       "output_type": "stream",
       "stream": "stderr",
       "text": [
        "INFO:python_subgrid.wrapper:Making quadtrees took:   0.1000D-02 seconds.\n"
       ]
      },
      {
       "output_type": "stream",
       "stream": "stderr",
       "text": [
        "INFO:python_subgrid.wrapper:Opened file : boundaries/bound.ext\n"
       ]
      },
      {
       "output_type": "stream",
       "stream": "stderr",
       "text": [
        "INFO:python_subgrid.wrapper: Internal 2d nodes =       100\n"
       ]
      },
      {
       "output_type": "stream",
       "stream": "stderr",
       "text": [
        "INFO:python_subgrid.wrapper: Boundary 2d nodes =   0\n"
       ]
      },
      {
       "output_type": "stream",
       "stream": "stderr",
       "text": [
        "DEBUG:python_subgrid.wrapper: make_channel_network: k1dmax=          11 , k1dtot=           7\n"
       ]
      },
      {
       "output_type": "stream",
       "stream": "stderr",
       "text": [
        "INFO:python_subgrid.wrapper:Opened file : boundaries/bound.ext\n"
       ]
      },
      {
       "output_type": "stream",
       "stream": "stderr",
       "text": [
        "INFO:python_subgrid.wrapper:Opened file : boundaries/bound_wl_up.pli\n"
       ]
      },
      {
       "output_type": "stream",
       "stream": "stderr",
       "text": [
        "INFO:python_subgrid.wrapper:waterlevelbnd boundaries/bound_wl_up.pli       1 nr of open bndcells\n"
       ]
      },
      {
       "output_type": "stream",
       "stream": "stderr",
       "text": [
        "INFO:python_subgrid.wrapper:Opened file : boundaries/bound_wl_down.pli\n"
       ]
      },
      {
       "output_type": "stream",
       "stream": "stderr",
       "text": [
        "INFO:python_subgrid.wrapper:waterlevelbnd boundaries/bound_wl_down.pli       1 nr of open bndcells\n"
       ]
      },
      {
       "output_type": "stream",
       "stream": "stderr",
       "text": [
        "INFO:python_subgrid.wrapper: Internal 1d nodes =        67\n"
       ]
      },
      {
       "output_type": "stream",
       "stream": "stderr",
       "text": [
        "INFO:python_subgrid.wrapper: Boundary 1d nodes =   2\n"
       ]
      },
      {
       "output_type": "stream",
       "stream": "stderr",
       "text": [
        "DEBUG:python_subgrid.wrapper:           0   1.35999999E-03  nru,nrv\n"
       ]
      },
      {
       "output_type": "stream",
       "stream": "stderr",
       "text": [
        "INFO:python_subgrid.wrapper:Opened file : boundaries/bound.ext\n"
       ]
      },
      {
       "output_type": "stream",
       "stream": "stderr",
       "text": [
        "INFO:python_subgrid.wrapper:Initializing external forcing 'waterlevelbnd' from file 'boundaries/bound_wl_up.pli'.\n"
       ]
      },
      {
       "output_type": "stream",
       "stream": "stderr",
       "text": [
        "INFO:python_subgrid.wrapper:Opened file : boundaries/bound_wl_up.pli\n"
       ]
      },
      {
       "output_type": "stream",
       "stream": "stderr",
       "text": [
        "INFO:python_subgrid.wrapper:Opened file : boundaries/bound_wl_up_0001.tim\n"
       ]
      },
      {
       "output_type": "stream",
       "stream": "stderr",
       "text": [
        "INFO:python_subgrid.wrapper:Initializing external forcing 'waterlevelbnd' from file 'boundaries/bound_wl_down.pli'.\n"
       ]
      },
      {
       "output_type": "stream",
       "stream": "stderr",
       "text": [
        "INFO:python_subgrid.wrapper:Opened file : boundaries/bound_wl_down.pli\n"
       ]
      },
      {
       "output_type": "stream",
       "stream": "stderr",
       "text": [
        "INFO:python_subgrid.wrapper:Opened file : boundaries/bound_wl_down_0001.tim\n"
       ]
      },
      {
       "output_type": "stream",
       "stream": "stderr",
       "text": [
        "INFO:python_subgrid.wrapper:Initializing boundaries took:   0.3000D-02 seconds.\n"
       ]
      },
      {
       "output_type": "stream",
       "stream": "stderr",
       "text": [
        "INFO:python_subgrid.wrapper:Assignment of flooding thresholds took:   0.6600D-01 seconds.\n"
       ]
      },
      {
       "output_type": "stream",
       "stream": "stderr",
       "text": [
        "INFO:python_subgrid.wrapper:Grid Admin initialisation took:  0.6900D-01 seconds.\n"
       ]
      },
      {
       "output_type": "stream",
       "stream": "stderr",
       "text": [
        "INFO:python_subgrid.wrapper:Completed initialization of grid administration.\n"
       ]
      },
      {
       "output_type": "stream",
       "stream": "stderr",
       "text": [
        "INFO:python_subgrid.wrapper:Calculation of bathymetry statistics took:   0.1700D-01 seconds.\n"
       ]
      },
      {
       "output_type": "stream",
       "stream": "stderr",
       "text": [
        "INFO:python_subgrid.wrapper:Setting initial water levels  from WaterLevelFile took:   0.0000D+00 seconds.\n"
       ]
      },
      {
       "output_type": "stream",
       "stream": "stderr",
       "text": [
        "INFO:python_subgrid.wrapper:Setting initial water levels on 1d links from WaterLevelFile took:   0.0000D+00 seconds.\n"
       ]
      },
      {
       "output_type": "stream",
       "stream": "stderr",
       "text": [
        "INFO:python_subgrid.wrapper:Initial floodfill from FloodFill file took:   0.0000D+00 seconds.\n"
       ]
      },
      {
       "output_type": "stream",
       "stream": "stderr",
       "text": [
        "INFO:python_subgrid.wrapper:loadModel complete.\n"
       ]
      }
     ],
     "prompt_number": 2
    },
    {
     "cell_type": "code",
     "collapsed": false,
     "input": [
      "branch = subgrid.get_nd('link_branchid')\n",
      "chainage = subgrid.get_nd('link_chainage')\n",
      "idx = subgrid.get_nd('link_idx')\n",
      "df = pandas.DataFrame(data=dict(branch=branch,\n",
      "                           chainage=chainage,\n",
      "                           idx=idx))"
     ],
     "language": "python",
     "metadata": {},
     "outputs": [
      {
       "output_type": "stream",
       "stream": "stderr",
       "text": [
        "DEBUG:python_subgrid.wrapper:copying link_branchid, memory will be reallocated\n"
       ]
      },
      {
       "output_type": "stream",
       "stream": "stderr",
       "text": [
        "DEBUG:python_subgrid.wrapper:copying link_chainage, memory will be reallocated\n"
       ]
      },
      {
       "output_type": "stream",
       "stream": "stderr",
       "text": [
        "DEBUG:python_subgrid.wrapper:copying link_idx, memory will be reallocated\n"
       ]
      }
     ],
     "prompt_number": 3
    },
    {
     "cell_type": "code",
     "collapsed": false,
     "input": [
      "u = subgrid.get_nd('u1')"
     ],
     "language": "python",
     "metadata": {},
     "outputs": [],
     "prompt_number": 4
    },
    {
     "cell_type": "code",
     "collapsed": false,
     "input": [
      "# let's run the model for a few timesteps\n",
      "for i in range(100):\n",
      "    subgrid.update(10.0)"
     ],
     "language": "python",
     "metadata": {},
     "outputs": [
      {
       "output_type": "stream",
       "stream": "stderr",
       "text": [
        "INFO:python_subgrid.wrapper:Start timestep-update.\n"
       ]
      },
      {
       "output_type": "stream",
       "stream": "stderr",
       "text": [
        "DEBUG:python_subgrid.wrapper: Trying to use timestep:    10.000000000000000\n"
       ]
      },
      {
       "output_type": "stream",
       "stream": "stderr",
       "text": [
        "DEBUG:python_subgrid.wrapper:Start initFlowAdmin, flow_init=              3\n"
       ]
      },
      {
       "output_type": "stream",
       "stream": "stderr",
       "text": [
        "INFO:python_subgrid.wrapper:reduce time:       0.001000\n"
       ]
      },
      {
       "output_type": "stream",
       "stream": "stderr",
       "text": [
        "INFO:python_subgrid.wrapper: noactive=       167 nogauss=       135 nocg        32\n"
       ]
      },
      {
       "output_type": "stream",
       "stream": "stderr",
       "text": [
        "DEBUG:python_subgrid.wrapper:           0   2.70799990E-03  vqt,denom(0:4*nodall),fbq(0:4*nodall),umq(0:4*nodall)\n"
       ]
      },
      {
       "output_type": "stream",
       "stream": "stderr",
       "text": [
        "DEBUG:python_subgrid.wrapper:           0   1.01699994E-03  qs,qs1,qs2(0:2*nodall)\n"
       ]
      },
      {
       "output_type": "stream",
       "stream": "stderr",
       "text": [
        "DEBUG:python_subgrid.wrapper:           0   1.24999997E-03  cu,ru(linall)\n"
       ]
      },
      {
       "output_type": "stream",
       "stream": "stderr",
       "text": [
        "INFO:python_subgrid.wrapper:Initialization of Flow Values took:   0.1100D-01 seconds.\n"
       ]
      },
      {
       "output_type": "stream",
       "stream": "stderr",
       "text": [
        "DEBUG:python_subgrid.wrapper:Completed initFlowAdmin.\n"
       ]
      },
      {
       "output_type": "stream",
       "stream": "stderr",
       "text": [
        "INFO:python_subgrid.wrapper:Timestep 1 number of iterations 1 epsmax   0.0000E+00 idthalf 1  np = 1\n"
       ]
      },
      {
       "output_type": "stream",
       "stream": "stderr",
       "text": [
        "INFO:python_subgrid.wrapper:Timestep complete.\n"
       ]
      },
      {
       "output_type": "stream",
       "stream": "stderr",
       "text": [
        "INFO:python_subgrid.wrapper:Start timestep-update.\n"
       ]
      },
      {
       "output_type": "stream",
       "stream": "stderr",
       "text": [
        "DEBUG:python_subgrid.wrapper: Trying to use timestep:    10.000000000000000\n"
       ]
      },
      {
       "output_type": "stream",
       "stream": "stderr",
       "text": [
        "DEBUG:python_subgrid.wrapper:Start initFlowAdmin, flow_init=              0\n"
       ]
      },
      {
       "output_type": "stream",
       "stream": "stderr",
       "text": [
        "INFO:python_subgrid.wrapper:Timestep 2 number of iterations 2 epsmax   0.0000E+00 idthalf 1  np = 1\n"
       ]
      },
      {
       "output_type": "stream",
       "stream": "stderr",
       "text": [
        "INFO:python_subgrid.wrapper:Timestep complete.\n"
       ]
      },
      {
       "output_type": "stream",
       "stream": "stderr",
       "text": [
        "INFO:python_subgrid.wrapper:Start timestep-update.\n"
       ]
      },
      {
       "output_type": "stream",
       "stream": "stderr",
       "text": [
        "DEBUG:python_subgrid.wrapper: Trying to use timestep:    10.000000000000000\n"
       ]
      },
      {
       "output_type": "stream",
       "stream": "stderr",
       "text": [
        "DEBUG:python_subgrid.wrapper:Start initFlowAdmin, flow_init=              0\n"
       ]
      },
      {
       "output_type": "stream",
       "stream": "stderr",
       "text": [
        "INFO:python_subgrid.wrapper:Timestep 3 number of iterations 2 epsmax   0.0000E+00 idthalf 1  np = 1\n"
       ]
      },
      {
       "output_type": "stream",
       "stream": "stderr",
       "text": [
        "INFO:python_subgrid.wrapper:Timestep complete.\n"
       ]
      },
      {
       "output_type": "stream",
       "stream": "stderr",
       "text": [
        "INFO:python_subgrid.wrapper:Start timestep-update.\n"
       ]
      },
      {
       "output_type": "stream",
       "stream": "stderr",
       "text": [
        "DEBUG:python_subgrid.wrapper: Trying to use timestep:    10.000000000000000\n"
       ]
      },
      {
       "output_type": "stream",
       "stream": "stderr",
       "text": [
        "DEBUG:python_subgrid.wrapper:Start initFlowAdmin, flow_init=              0\n"
       ]
      },
      {
       "output_type": "stream",
       "stream": "stderr",
       "text": [
        "INFO:python_subgrid.wrapper:Timestep 4 number of iterations 2 epsmax   0.0000E+00 idthalf 1  np = 1\n"
       ]
      },
      {
       "output_type": "stream",
       "stream": "stderr",
       "text": [
        "INFO:python_subgrid.wrapper:Timestep complete.\n"
       ]
      },
      {
       "output_type": "stream",
       "stream": "stderr",
       "text": [
        "INFO:python_subgrid.wrapper:Start timestep-update.\n"
       ]
      },
      {
       "output_type": "stream",
       "stream": "stderr",
       "text": [
        "DEBUG:python_subgrid.wrapper: Trying to use timestep:    10.000000000000000\n"
       ]
      },
      {
       "output_type": "stream",
       "stream": "stderr",
       "text": [
        "DEBUG:python_subgrid.wrapper:Start initFlowAdmin, flow_init=              0\n"
       ]
      },
      {
       "output_type": "stream",
       "stream": "stderr",
       "text": [
        "INFO:python_subgrid.wrapper:Timestep 5 number of iterations 2 epsmax   0.0000E+00 idthalf 1  np = 1\n"
       ]
      },
      {
       "output_type": "stream",
       "stream": "stderr",
       "text": [
        "INFO:python_subgrid.wrapper:Timestep complete.\n"
       ]
      },
      {
       "output_type": "stream",
       "stream": "stderr",
       "text": [
        "INFO:python_subgrid.wrapper:Start timestep-update.\n"
       ]
      },
      {
       "output_type": "stream",
       "stream": "stderr",
       "text": [
        "DEBUG:python_subgrid.wrapper: Trying to use timestep:    10.000000000000000\n"
       ]
      },
      {
       "output_type": "stream",
       "stream": "stderr",
       "text": [
        "DEBUG:python_subgrid.wrapper:Start initFlowAdmin, flow_init=              0\n"
       ]
      },
      {
       "output_type": "stream",
       "stream": "stderr",
       "text": [
        "INFO:python_subgrid.wrapper:Timestep 6 number of iterations 2 epsmax   0.0000E+00 idthalf 1  np = 1\n"
       ]
      },
      {
       "output_type": "stream",
       "stream": "stderr",
       "text": [
        "INFO:python_subgrid.wrapper:Timestep complete.\n"
       ]
      },
      {
       "output_type": "stream",
       "stream": "stderr",
       "text": [
        "INFO:python_subgrid.wrapper:Start timestep-update.\n"
       ]
      },
      {
       "output_type": "stream",
       "stream": "stderr",
       "text": [
        "DEBUG:python_subgrid.wrapper: Trying to use timestep:    10.000000000000000\n"
       ]
      },
      {
       "output_type": "stream",
       "stream": "stderr",
       "text": [
        "DEBUG:python_subgrid.wrapper:Start initFlowAdmin, flow_init=              0\n"
       ]
      },
      {
       "output_type": "stream",
       "stream": "stderr",
       "text": [
        "INFO:python_subgrid.wrapper:Timestep 7 number of iterations 2 epsmax   0.0000E+00 idthalf 1  np = 1\n"
       ]
      },
      {
       "output_type": "stream",
       "stream": "stderr",
       "text": [
        "INFO:python_subgrid.wrapper:Timestep complete.\n"
       ]
      },
      {
       "output_type": "stream",
       "stream": "stderr",
       "text": [
        "INFO:python_subgrid.wrapper:Start timestep-update.\n"
       ]
      },
      {
       "output_type": "stream",
       "stream": "stderr",
       "text": [
        "DEBUG:python_subgrid.wrapper: Trying to use timestep:    10.000000000000000\n"
       ]
      },
      {
       "output_type": "stream",
       "stream": "stderr",
       "text": [
        "DEBUG:python_subgrid.wrapper:Start initFlowAdmin, flow_init=              0\n"
       ]
      },
      {
       "output_type": "stream",
       "stream": "stderr",
       "text": [
        "INFO:python_subgrid.wrapper:Timestep 8 number of iterations 2 epsmax   0.0000E+00 idthalf 1  np = 1\n"
       ]
      },
      {
       "output_type": "stream",
       "stream": "stderr",
       "text": [
        "INFO:python_subgrid.wrapper:Timestep complete.\n"
       ]
      },
      {
       "output_type": "stream",
       "stream": "stderr",
       "text": [
        "INFO:python_subgrid.wrapper:Start timestep-update.\n"
       ]
      },
      {
       "output_type": "stream",
       "stream": "stderr",
       "text": [
        "DEBUG:python_subgrid.wrapper: Trying to use timestep:    10.000000000000000\n"
       ]
      },
      {
       "output_type": "stream",
       "stream": "stderr",
       "text": [
        "DEBUG:python_subgrid.wrapper:Start initFlowAdmin, flow_init=              0\n"
       ]
      },
      {
       "output_type": "stream",
       "stream": "stderr",
       "text": [
        "INFO:python_subgrid.wrapper:Timestep 9 number of iterations 2 epsmax   0.0000E+00 idthalf 1  np = 1\n"
       ]
      },
      {
       "output_type": "stream",
       "stream": "stderr",
       "text": [
        "INFO:python_subgrid.wrapper:Timestep complete.\n"
       ]
      },
      {
       "output_type": "stream",
       "stream": "stderr",
       "text": [
        "INFO:python_subgrid.wrapper:Start timestep-update.\n"
       ]
      },
      {
       "output_type": "stream",
       "stream": "stderr",
       "text": [
        "DEBUG:python_subgrid.wrapper: Trying to use timestep:    10.000000000000000\n"
       ]
      },
      {
       "output_type": "stream",
       "stream": "stderr",
       "text": [
        "DEBUG:python_subgrid.wrapper:Start initFlowAdmin, flow_init=              0\n"
       ]
      },
      {
       "output_type": "stream",
       "stream": "stderr",
       "text": [
        "INFO:python_subgrid.wrapper:Timestep 10 number of iterations 2 epsmax   0.0000E+00 idthalf 1  np = 1\n"
       ]
      },
      {
       "output_type": "stream",
       "stream": "stderr",
       "text": [
        "INFO:python_subgrid.wrapper:Timestep complete.\n"
       ]
      },
      {
       "output_type": "stream",
       "stream": "stderr",
       "text": [
        "INFO:python_subgrid.wrapper:Start timestep-update.\n"
       ]
      },
      {
       "output_type": "stream",
       "stream": "stderr",
       "text": [
        "DEBUG:python_subgrid.wrapper: Trying to use timestep:    10.000000000000000\n"
       ]
      },
      {
       "output_type": "stream",
       "stream": "stderr",
       "text": [
        "DEBUG:python_subgrid.wrapper:Start initFlowAdmin, flow_init=              0\n"
       ]
      },
      {
       "output_type": "stream",
       "stream": "stderr",
       "text": [
        "INFO:python_subgrid.wrapper:Timestep 11 number of iterations 2 epsmax   0.0000E+00 idthalf 1  np = 1\n"
       ]
      },
      {
       "output_type": "stream",
       "stream": "stderr",
       "text": [
        "INFO:python_subgrid.wrapper:Timestep complete.\n"
       ]
      },
      {
       "output_type": "stream",
       "stream": "stderr",
       "text": [
        "INFO:python_subgrid.wrapper:Start timestep-update.\n"
       ]
      },
      {
       "output_type": "stream",
       "stream": "stderr",
       "text": [
        "DEBUG:python_subgrid.wrapper: Trying to use timestep:    10.000000000000000\n"
       ]
      },
      {
       "output_type": "stream",
       "stream": "stderr",
       "text": [
        "DEBUG:python_subgrid.wrapper:Start initFlowAdmin, flow_init=              0\n"
       ]
      },
      {
       "output_type": "stream",
       "stream": "stderr",
       "text": [
        "INFO:python_subgrid.wrapper:Timestep 12 number of iterations 2 epsmax   0.0000E+00 idthalf 1  np = 1\n"
       ]
      },
      {
       "output_type": "stream",
       "stream": "stderr",
       "text": [
        "INFO:python_subgrid.wrapper:Timestep complete.\n"
       ]
      },
      {
       "output_type": "stream",
       "stream": "stderr",
       "text": [
        "INFO:python_subgrid.wrapper:Start timestep-update.\n"
       ]
      },
      {
       "output_type": "stream",
       "stream": "stderr",
       "text": [
        "DEBUG:python_subgrid.wrapper: Trying to use timestep:    10.000000000000000\n"
       ]
      },
      {
       "output_type": "stream",
       "stream": "stderr",
       "text": [
        "DEBUG:python_subgrid.wrapper:Start initFlowAdmin, flow_init=              0\n"
       ]
      },
      {
       "output_type": "stream",
       "stream": "stderr",
       "text": [
        "INFO:python_subgrid.wrapper:Timestep 13 number of iterations 2 epsmax   0.0000E+00 idthalf 1  np = 1\n"
       ]
      },
      {
       "output_type": "stream",
       "stream": "stderr",
       "text": [
        "INFO:python_subgrid.wrapper:Timestep complete.\n"
       ]
      },
      {
       "output_type": "stream",
       "stream": "stderr",
       "text": [
        "INFO:python_subgrid.wrapper:Start timestep-update.\n"
       ]
      },
      {
       "output_type": "stream",
       "stream": "stderr",
       "text": [
        "DEBUG:python_subgrid.wrapper: Trying to use timestep:    10.000000000000000\n"
       ]
      },
      {
       "output_type": "stream",
       "stream": "stderr",
       "text": [
        "DEBUG:python_subgrid.wrapper:Start initFlowAdmin, flow_init=              0\n"
       ]
      },
      {
       "output_type": "stream",
       "stream": "stderr",
       "text": [
        "INFO:python_subgrid.wrapper:Timestep 14 number of iterations 2 epsmax   0.0000E+00 idthalf 1  np = 1\n"
       ]
      },
      {
       "output_type": "stream",
       "stream": "stderr",
       "text": [
        "INFO:python_subgrid.wrapper:Timestep complete.\n"
       ]
      },
      {
       "output_type": "stream",
       "stream": "stderr",
       "text": [
        "INFO:python_subgrid.wrapper:Start timestep-update.\n"
       ]
      },
      {
       "output_type": "stream",
       "stream": "stderr",
       "text": [
        "DEBUG:python_subgrid.wrapper: Trying to use timestep:    10.000000000000000\n"
       ]
      },
      {
       "output_type": "stream",
       "stream": "stderr",
       "text": [
        "DEBUG:python_subgrid.wrapper:Start initFlowAdmin, flow_init=              0\n"
       ]
      },
      {
       "output_type": "stream",
       "stream": "stderr",
       "text": [
        "INFO:python_subgrid.wrapper:Timestep 15 number of iterations 2 epsmax   0.0000E+00 idthalf 1  np = 1\n"
       ]
      },
      {
       "output_type": "stream",
       "stream": "stderr",
       "text": [
        "INFO:python_subgrid.wrapper:Timestep complete.\n"
       ]
      },
      {
       "output_type": "stream",
       "stream": "stderr",
       "text": [
        "INFO:python_subgrid.wrapper:Start timestep-update.\n"
       ]
      },
      {
       "output_type": "stream",
       "stream": "stderr",
       "text": [
        "DEBUG:python_subgrid.wrapper: Trying to use timestep:    10.000000000000000\n"
       ]
      },
      {
       "output_type": "stream",
       "stream": "stderr",
       "text": [
        "DEBUG:python_subgrid.wrapper:Start initFlowAdmin, flow_init=              0\n"
       ]
      },
      {
       "output_type": "stream",
       "stream": "stderr",
       "text": [
        "INFO:python_subgrid.wrapper:Timestep 16 number of iterations 2 epsmax   0.0000E+00 idthalf 1  np = 1\n"
       ]
      },
      {
       "output_type": "stream",
       "stream": "stderr",
       "text": [
        "INFO:python_subgrid.wrapper:Timestep complete.\n"
       ]
      },
      {
       "output_type": "stream",
       "stream": "stderr",
       "text": [
        "INFO:python_subgrid.wrapper:Start timestep-update.\n"
       ]
      },
      {
       "output_type": "stream",
       "stream": "stderr",
       "text": [
        "DEBUG:python_subgrid.wrapper: Trying to use timestep:    10.000000000000000\n"
       ]
      },
      {
       "output_type": "stream",
       "stream": "stderr",
       "text": [
        "DEBUG:python_subgrid.wrapper:Start initFlowAdmin, flow_init=              0\n"
       ]
      },
      {
       "output_type": "stream",
       "stream": "stderr",
       "text": [
        "INFO:python_subgrid.wrapper:Timestep 17 number of iterations 2 epsmax   0.0000E+00 idthalf 1  np = 1\n"
       ]
      },
      {
       "output_type": "stream",
       "stream": "stderr",
       "text": [
        "INFO:python_subgrid.wrapper:Timestep complete.\n"
       ]
      },
      {
       "output_type": "stream",
       "stream": "stderr",
       "text": [
        "INFO:python_subgrid.wrapper:Start timestep-update.\n"
       ]
      },
      {
       "output_type": "stream",
       "stream": "stderr",
       "text": [
        "DEBUG:python_subgrid.wrapper: Trying to use timestep:    10.000000000000000\n"
       ]
      },
      {
       "output_type": "stream",
       "stream": "stderr",
       "text": [
        "DEBUG:python_subgrid.wrapper:Start initFlowAdmin, flow_init=              0\n"
       ]
      },
      {
       "output_type": "stream",
       "stream": "stderr",
       "text": [
        "INFO:python_subgrid.wrapper:Timestep 18 number of iterations 2 epsmax   0.0000E+00 idthalf 1  np = 1\n"
       ]
      },
      {
       "output_type": "stream",
       "stream": "stderr",
       "text": [
        "INFO:python_subgrid.wrapper:Timestep complete.\n"
       ]
      },
      {
       "output_type": "stream",
       "stream": "stderr",
       "text": [
        "INFO:python_subgrid.wrapper:Start timestep-update.\n"
       ]
      },
      {
       "output_type": "stream",
       "stream": "stderr",
       "text": [
        "DEBUG:python_subgrid.wrapper: Trying to use timestep:    10.000000000000000\n"
       ]
      },
      {
       "output_type": "stream",
       "stream": "stderr",
       "text": [
        "DEBUG:python_subgrid.wrapper:Start initFlowAdmin, flow_init=              0\n"
       ]
      },
      {
       "output_type": "stream",
       "stream": "stderr",
       "text": [
        "INFO:python_subgrid.wrapper:Timestep 19 number of iterations 2 epsmax   0.0000E+00 idthalf 1  np = 1\n"
       ]
      },
      {
       "output_type": "stream",
       "stream": "stderr",
       "text": [
        "INFO:python_subgrid.wrapper:Timestep complete.\n"
       ]
      },
      {
       "output_type": "stream",
       "stream": "stderr",
       "text": [
        "INFO:python_subgrid.wrapper:Start timestep-update.\n"
       ]
      },
      {
       "output_type": "stream",
       "stream": "stderr",
       "text": [
        "DEBUG:python_subgrid.wrapper: Trying to use timestep:    10.000000000000000\n"
       ]
      },
      {
       "output_type": "stream",
       "stream": "stderr",
       "text": [
        "DEBUG:python_subgrid.wrapper:Start initFlowAdmin, flow_init=              0\n"
       ]
      },
      {
       "output_type": "stream",
       "stream": "stderr",
       "text": [
        "INFO:python_subgrid.wrapper:Timestep 20 number of iterations 2 epsmax   0.0000E+00 idthalf 1  np = 1\n"
       ]
      },
      {
       "output_type": "stream",
       "stream": "stderr",
       "text": [
        "INFO:python_subgrid.wrapper:Timestep complete.\n"
       ]
      },
      {
       "output_type": "stream",
       "stream": "stderr",
       "text": [
        "INFO:python_subgrid.wrapper:Start timestep-update.\n"
       ]
      },
      {
       "output_type": "stream",
       "stream": "stderr",
       "text": [
        "DEBUG:python_subgrid.wrapper: Trying to use timestep:    10.000000000000000\n"
       ]
      },
      {
       "output_type": "stream",
       "stream": "stderr",
       "text": [
        "DEBUG:python_subgrid.wrapper:Start initFlowAdmin, flow_init=              0\n"
       ]
      },
      {
       "output_type": "stream",
       "stream": "stderr",
       "text": [
        "INFO:python_subgrid.wrapper:Timestep 21 number of iterations 2 epsmax   0.0000E+00 idthalf 1  np = 1\n"
       ]
      },
      {
       "output_type": "stream",
       "stream": "stderr",
       "text": [
        "INFO:python_subgrid.wrapper:Timestep complete.\n"
       ]
      },
      {
       "output_type": "stream",
       "stream": "stderr",
       "text": [
        "INFO:python_subgrid.wrapper:Start timestep-update.\n"
       ]
      },
      {
       "output_type": "stream",
       "stream": "stderr",
       "text": [
        "DEBUG:python_subgrid.wrapper: Trying to use timestep:    10.000000000000000\n"
       ]
      },
      {
       "output_type": "stream",
       "stream": "stderr",
       "text": [
        "DEBUG:python_subgrid.wrapper:Start initFlowAdmin, flow_init=              0\n"
       ]
      },
      {
       "output_type": "stream",
       "stream": "stderr",
       "text": [
        "INFO:python_subgrid.wrapper:Timestep 22 number of iterations 2 epsmax   0.0000E+00 idthalf 1  np = 1\n"
       ]
      },
      {
       "output_type": "stream",
       "stream": "stderr",
       "text": [
        "INFO:python_subgrid.wrapper:Timestep complete.\n"
       ]
      },
      {
       "output_type": "stream",
       "stream": "stderr",
       "text": [
        "INFO:python_subgrid.wrapper:Start timestep-update.\n"
       ]
      },
      {
       "output_type": "stream",
       "stream": "stderr",
       "text": [
        "DEBUG:python_subgrid.wrapper: Trying to use timestep:    10.000000000000000\n"
       ]
      },
      {
       "output_type": "stream",
       "stream": "stderr",
       "text": [
        "DEBUG:python_subgrid.wrapper:Start initFlowAdmin, flow_init=              0\n"
       ]
      },
      {
       "output_type": "stream",
       "stream": "stderr",
       "text": [
        "INFO:python_subgrid.wrapper:Timestep 23 number of iterations 2 epsmax   0.0000E+00 idthalf 1  np = 1\n"
       ]
      },
      {
       "output_type": "stream",
       "stream": "stderr",
       "text": [
        "INFO:python_subgrid.wrapper:Timestep complete.\n"
       ]
      },
      {
       "output_type": "stream",
       "stream": "stderr",
       "text": [
        "INFO:python_subgrid.wrapper:Start timestep-update.\n"
       ]
      },
      {
       "output_type": "stream",
       "stream": "stderr",
       "text": [
        "DEBUG:python_subgrid.wrapper: Trying to use timestep:    10.000000000000000\n"
       ]
      },
      {
       "output_type": "stream",
       "stream": "stderr",
       "text": [
        "DEBUG:python_subgrid.wrapper:Start initFlowAdmin, flow_init=              0\n"
       ]
      },
      {
       "output_type": "stream",
       "stream": "stderr",
       "text": [
        "INFO:python_subgrid.wrapper:Timestep 24 number of iterations 2 epsmax   0.0000E+00 idthalf 1  np = 1\n"
       ]
      },
      {
       "output_type": "stream",
       "stream": "stderr",
       "text": [
        "INFO:python_subgrid.wrapper:Timestep complete.\n"
       ]
      },
      {
       "output_type": "stream",
       "stream": "stderr",
       "text": [
        "INFO:python_subgrid.wrapper:Start timestep-update.\n"
       ]
      },
      {
       "output_type": "stream",
       "stream": "stderr",
       "text": [
        "DEBUG:python_subgrid.wrapper: Trying to use timestep:    10.000000000000000\n"
       ]
      },
      {
       "output_type": "stream",
       "stream": "stderr",
       "text": [
        "DEBUG:python_subgrid.wrapper:Start initFlowAdmin, flow_init=              0\n"
       ]
      },
      {
       "output_type": "stream",
       "stream": "stderr",
       "text": [
        "INFO:python_subgrid.wrapper:Timestep 25 number of iterations 2 epsmax   0.0000E+00 idthalf 1  np = 1\n"
       ]
      },
      {
       "output_type": "stream",
       "stream": "stderr",
       "text": [
        "INFO:python_subgrid.wrapper:Timestep complete.\n"
       ]
      },
      {
       "output_type": "stream",
       "stream": "stderr",
       "text": [
        "INFO:python_subgrid.wrapper:Start timestep-update.\n"
       ]
      },
      {
       "output_type": "stream",
       "stream": "stderr",
       "text": [
        "DEBUG:python_subgrid.wrapper: Trying to use timestep:    10.000000000000000\n"
       ]
      },
      {
       "output_type": "stream",
       "stream": "stderr",
       "text": [
        "DEBUG:python_subgrid.wrapper:Start initFlowAdmin, flow_init=              0\n"
       ]
      },
      {
       "output_type": "stream",
       "stream": "stderr",
       "text": [
        "INFO:python_subgrid.wrapper:Timestep 26 number of iterations 2 epsmax   0.0000E+00 idthalf 1  np = 1\n"
       ]
      },
      {
       "output_type": "stream",
       "stream": "stderr",
       "text": [
        "INFO:python_subgrid.wrapper:Timestep complete.\n"
       ]
      },
      {
       "output_type": "stream",
       "stream": "stderr",
       "text": [
        "INFO:python_subgrid.wrapper:Start timestep-update.\n"
       ]
      },
      {
       "output_type": "stream",
       "stream": "stderr",
       "text": [
        "DEBUG:python_subgrid.wrapper: Trying to use timestep:    10.000000000000000\n"
       ]
      },
      {
       "output_type": "stream",
       "stream": "stderr",
       "text": [
        "DEBUG:python_subgrid.wrapper:Start initFlowAdmin, flow_init=              0\n"
       ]
      },
      {
       "output_type": "stream",
       "stream": "stderr",
       "text": [
        "INFO:python_subgrid.wrapper:Timestep 27 number of iterations 2 epsmax   0.0000E+00 idthalf 1  np = 1\n"
       ]
      },
      {
       "output_type": "stream",
       "stream": "stderr",
       "text": [
        "INFO:python_subgrid.wrapper:Timestep complete.\n"
       ]
      },
      {
       "output_type": "stream",
       "stream": "stderr",
       "text": [
        "INFO:python_subgrid.wrapper:Start timestep-update.\n"
       ]
      },
      {
       "output_type": "stream",
       "stream": "stderr",
       "text": [
        "DEBUG:python_subgrid.wrapper: Trying to use timestep:    10.000000000000000\n"
       ]
      },
      {
       "output_type": "stream",
       "stream": "stderr",
       "text": [
        "DEBUG:python_subgrid.wrapper:Start initFlowAdmin, flow_init=              0\n"
       ]
      },
      {
       "output_type": "stream",
       "stream": "stderr",
       "text": [
        "INFO:python_subgrid.wrapper:Timestep 28 number of iterations 2 epsmax   0.0000E+00 idthalf 1  np = 1\n"
       ]
      },
      {
       "output_type": "stream",
       "stream": "stderr",
       "text": [
        "INFO:python_subgrid.wrapper:Timestep complete.\n"
       ]
      },
      {
       "output_type": "stream",
       "stream": "stderr",
       "text": [
        "INFO:python_subgrid.wrapper:Start timestep-update.\n"
       ]
      },
      {
       "output_type": "stream",
       "stream": "stderr",
       "text": [
        "DEBUG:python_subgrid.wrapper: Trying to use timestep:    10.000000000000000\n"
       ]
      },
      {
       "output_type": "stream",
       "stream": "stderr",
       "text": [
        "DEBUG:python_subgrid.wrapper:Start initFlowAdmin, flow_init=              0\n"
       ]
      },
      {
       "output_type": "stream",
       "stream": "stderr",
       "text": [
        "INFO:python_subgrid.wrapper:Timestep 29 number of iterations 2 epsmax   0.0000E+00 idthalf 1  np = 1\n"
       ]
      },
      {
       "output_type": "stream",
       "stream": "stderr",
       "text": [
        "INFO:python_subgrid.wrapper:Timestep complete.\n"
       ]
      },
      {
       "output_type": "stream",
       "stream": "stderr",
       "text": [
        "INFO:python_subgrid.wrapper:Start timestep-update.\n"
       ]
      },
      {
       "output_type": "stream",
       "stream": "stderr",
       "text": [
        "DEBUG:python_subgrid.wrapper: Trying to use timestep:    10.000000000000000\n"
       ]
      },
      {
       "output_type": "stream",
       "stream": "stderr",
       "text": [
        "DEBUG:python_subgrid.wrapper:Start initFlowAdmin, flow_init=              0\n"
       ]
      },
      {
       "output_type": "stream",
       "stream": "stderr",
       "text": [
        "INFO:python_subgrid.wrapper:Timestep 30 number of iterations 2 epsmax   0.0000E+00 idthalf 1  np = 1\n"
       ]
      },
      {
       "output_type": "stream",
       "stream": "stderr",
       "text": [
        "INFO:python_subgrid.wrapper:Timestep complete.\n"
       ]
      },
      {
       "output_type": "stream",
       "stream": "stderr",
       "text": [
        "INFO:python_subgrid.wrapper:Start timestep-update.\n"
       ]
      },
      {
       "output_type": "stream",
       "stream": "stderr",
       "text": [
        "DEBUG:python_subgrid.wrapper: Trying to use timestep:    10.000000000000000\n"
       ]
      },
      {
       "output_type": "stream",
       "stream": "stderr",
       "text": [
        "DEBUG:python_subgrid.wrapper:Start initFlowAdmin, flow_init=              0\n"
       ]
      },
      {
       "output_type": "stream",
       "stream": "stderr",
       "text": [
        "INFO:python_subgrid.wrapper:Timestep 31 number of iterations 2 epsmax   0.0000E+00 idthalf 1  np = 1\n"
       ]
      },
      {
       "output_type": "stream",
       "stream": "stderr",
       "text": [
        "INFO:python_subgrid.wrapper:Timestep complete.\n"
       ]
      },
      {
       "output_type": "stream",
       "stream": "stderr",
       "text": [
        "INFO:python_subgrid.wrapper:Start timestep-update.\n"
       ]
      },
      {
       "output_type": "stream",
       "stream": "stderr",
       "text": [
        "DEBUG:python_subgrid.wrapper: Trying to use timestep:    10.000000000000000\n"
       ]
      },
      {
       "output_type": "stream",
       "stream": "stderr",
       "text": [
        "DEBUG:python_subgrid.wrapper:Start initFlowAdmin, flow_init=              0\n"
       ]
      },
      {
       "output_type": "stream",
       "stream": "stderr",
       "text": [
        "INFO:python_subgrid.wrapper:Timestep 32 number of iterations 2 epsmax   0.0000E+00 idthalf 1  np = 1\n"
       ]
      },
      {
       "output_type": "stream",
       "stream": "stderr",
       "text": [
        "INFO:python_subgrid.wrapper:Timestep complete.\n"
       ]
      },
      {
       "output_type": "stream",
       "stream": "stderr",
       "text": [
        "INFO:python_subgrid.wrapper:Start timestep-update.\n"
       ]
      },
      {
       "output_type": "stream",
       "stream": "stderr",
       "text": [
        "DEBUG:python_subgrid.wrapper: Trying to use timestep:    10.000000000000000\n"
       ]
      },
      {
       "output_type": "stream",
       "stream": "stderr",
       "text": [
        "DEBUG:python_subgrid.wrapper:Start initFlowAdmin, flow_init=              0\n"
       ]
      },
      {
       "output_type": "stream",
       "stream": "stderr",
       "text": [
        "INFO:python_subgrid.wrapper:Timestep 33 number of iterations 2 epsmax   0.0000E+00 idthalf 1  np = 1\n"
       ]
      },
      {
       "output_type": "stream",
       "stream": "stderr",
       "text": [
        "INFO:python_subgrid.wrapper:Timestep complete.\n"
       ]
      },
      {
       "output_type": "stream",
       "stream": "stderr",
       "text": [
        "INFO:python_subgrid.wrapper:Start timestep-update.\n"
       ]
      },
      {
       "output_type": "stream",
       "stream": "stderr",
       "text": [
        "DEBUG:python_subgrid.wrapper: Trying to use timestep:    10.000000000000000\n"
       ]
      },
      {
       "output_type": "stream",
       "stream": "stderr",
       "text": [
        "DEBUG:python_subgrid.wrapper:Start initFlowAdmin, flow_init=              0\n"
       ]
      },
      {
       "output_type": "stream",
       "stream": "stderr",
       "text": [
        "INFO:python_subgrid.wrapper:Timestep 34 number of iterations 2 epsmax   0.0000E+00 idthalf 1  np = 1\n"
       ]
      },
      {
       "output_type": "stream",
       "stream": "stderr",
       "text": [
        "INFO:python_subgrid.wrapper:Timestep complete.\n"
       ]
      },
      {
       "output_type": "stream",
       "stream": "stderr",
       "text": [
        "INFO:python_subgrid.wrapper:Start timestep-update.\n"
       ]
      },
      {
       "output_type": "stream",
       "stream": "stderr",
       "text": [
        "DEBUG:python_subgrid.wrapper: Trying to use timestep:    10.000000000000000\n"
       ]
      },
      {
       "output_type": "stream",
       "stream": "stderr",
       "text": [
        "DEBUG:python_subgrid.wrapper:Start initFlowAdmin, flow_init=              0\n"
       ]
      },
      {
       "output_type": "stream",
       "stream": "stderr",
       "text": [
        "INFO:python_subgrid.wrapper:Timestep 35 number of iterations 2 epsmax   0.0000E+00 idthalf 1  np = 1\n"
       ]
      },
      {
       "output_type": "stream",
       "stream": "stderr",
       "text": [
        "INFO:python_subgrid.wrapper:Timestep complete.\n"
       ]
      },
      {
       "output_type": "stream",
       "stream": "stderr",
       "text": [
        "INFO:python_subgrid.wrapper:Start timestep-update.\n"
       ]
      },
      {
       "output_type": "stream",
       "stream": "stderr",
       "text": [
        "DEBUG:python_subgrid.wrapper: Trying to use timestep:    10.000000000000000\n"
       ]
      },
      {
       "output_type": "stream",
       "stream": "stderr",
       "text": [
        "DEBUG:python_subgrid.wrapper:Start initFlowAdmin, flow_init=              0\n"
       ]
      },
      {
       "output_type": "stream",
       "stream": "stderr",
       "text": [
        "INFO:python_subgrid.wrapper:Timestep 36 number of iterations 2 epsmax   0.0000E+00 idthalf 1  np = 1\n"
       ]
      },
      {
       "output_type": "stream",
       "stream": "stderr",
       "text": [
        "INFO:python_subgrid.wrapper:Timestep complete.\n"
       ]
      },
      {
       "output_type": "stream",
       "stream": "stderr",
       "text": [
        "INFO:python_subgrid.wrapper:Start timestep-update.\n"
       ]
      },
      {
       "output_type": "stream",
       "stream": "stderr",
       "text": [
        "DEBUG:python_subgrid.wrapper: Trying to use timestep:    10.000000000000000\n"
       ]
      },
      {
       "output_type": "stream",
       "stream": "stderr",
       "text": [
        "DEBUG:python_subgrid.wrapper:Start initFlowAdmin, flow_init=              0\n"
       ]
      },
      {
       "output_type": "stream",
       "stream": "stderr",
       "text": [
        "INFO:python_subgrid.wrapper:Timestep 37 number of iterations 2 epsmax   0.0000E+00 idthalf 1  np = 1\n"
       ]
      },
      {
       "output_type": "stream",
       "stream": "stderr",
       "text": [
        "INFO:python_subgrid.wrapper:Timestep complete.\n"
       ]
      },
      {
       "output_type": "stream",
       "stream": "stderr",
       "text": [
        "INFO:python_subgrid.wrapper:Start timestep-update.\n"
       ]
      },
      {
       "output_type": "stream",
       "stream": "stderr",
       "text": [
        "DEBUG:python_subgrid.wrapper: Trying to use timestep:    10.000000000000000\n"
       ]
      },
      {
       "output_type": "stream",
       "stream": "stderr",
       "text": [
        "DEBUG:python_subgrid.wrapper:Start initFlowAdmin, flow_init=              0\n"
       ]
      },
      {
       "output_type": "stream",
       "stream": "stderr",
       "text": [
        "INFO:python_subgrid.wrapper:Timestep 38 number of iterations 2 epsmax   0.0000E+00 idthalf 1  np = 1\n"
       ]
      },
      {
       "output_type": "stream",
       "stream": "stderr",
       "text": [
        "INFO:python_subgrid.wrapper:Timestep complete.\n"
       ]
      },
      {
       "output_type": "stream",
       "stream": "stderr",
       "text": [
        "INFO:python_subgrid.wrapper:Start timestep-update.\n"
       ]
      },
      {
       "output_type": "stream",
       "stream": "stderr",
       "text": [
        "DEBUG:python_subgrid.wrapper: Trying to use timestep:    10.000000000000000\n"
       ]
      },
      {
       "output_type": "stream",
       "stream": "stderr",
       "text": [
        "DEBUG:python_subgrid.wrapper:Start initFlowAdmin, flow_init=              0\n"
       ]
      },
      {
       "output_type": "stream",
       "stream": "stderr",
       "text": [
        "INFO:python_subgrid.wrapper:Timestep 39 number of iterations 2 epsmax   0.0000E+00 idthalf 1  np = 1\n"
       ]
      },
      {
       "output_type": "stream",
       "stream": "stderr",
       "text": [
        "INFO:python_subgrid.wrapper:Timestep complete.\n"
       ]
      },
      {
       "output_type": "stream",
       "stream": "stderr",
       "text": [
        "INFO:python_subgrid.wrapper:Start timestep-update.\n"
       ]
      },
      {
       "output_type": "stream",
       "stream": "stderr",
       "text": [
        "DEBUG:python_subgrid.wrapper: Trying to use timestep:    10.000000000000000\n"
       ]
      },
      {
       "output_type": "stream",
       "stream": "stderr",
       "text": [
        "DEBUG:python_subgrid.wrapper:Start initFlowAdmin, flow_init=              0\n"
       ]
      },
      {
       "output_type": "stream",
       "stream": "stderr",
       "text": [
        "INFO:python_subgrid.wrapper:Timestep 40 number of iterations 2 epsmax   0.0000E+00 idthalf 1  np = 1\n"
       ]
      },
      {
       "output_type": "stream",
       "stream": "stderr",
       "text": [
        "INFO:python_subgrid.wrapper:Timestep complete.\n"
       ]
      },
      {
       "output_type": "stream",
       "stream": "stderr",
       "text": [
        "INFO:python_subgrid.wrapper:Start timestep-update.\n"
       ]
      },
      {
       "output_type": "stream",
       "stream": "stderr",
       "text": [
        "DEBUG:python_subgrid.wrapper: Trying to use timestep:    10.000000000000000\n"
       ]
      },
      {
       "output_type": "stream",
       "stream": "stderr",
       "text": [
        "DEBUG:python_subgrid.wrapper:Start initFlowAdmin, flow_init=              0\n"
       ]
      },
      {
       "output_type": "stream",
       "stream": "stderr",
       "text": [
        "INFO:python_subgrid.wrapper:Timestep 41 number of iterations 2 epsmax   0.0000E+00 idthalf 1  np = 1\n"
       ]
      },
      {
       "output_type": "stream",
       "stream": "stderr",
       "text": [
        "INFO:python_subgrid.wrapper:Timestep complete.\n"
       ]
      },
      {
       "output_type": "stream",
       "stream": "stderr",
       "text": [
        "INFO:python_subgrid.wrapper:Start timestep-update.\n"
       ]
      },
      {
       "output_type": "stream",
       "stream": "stderr",
       "text": [
        "DEBUG:python_subgrid.wrapper: Trying to use timestep:    10.000000000000000\n"
       ]
      },
      {
       "output_type": "stream",
       "stream": "stderr",
       "text": [
        "DEBUG:python_subgrid.wrapper:Start initFlowAdmin, flow_init=              0\n"
       ]
      },
      {
       "output_type": "stream",
       "stream": "stderr",
       "text": [
        "INFO:python_subgrid.wrapper:Timestep 42 number of iterations 2 epsmax   0.0000E+00 idthalf 1  np = 1\n"
       ]
      },
      {
       "output_type": "stream",
       "stream": "stderr",
       "text": [
        "INFO:python_subgrid.wrapper:Timestep complete.\n"
       ]
      },
      {
       "output_type": "stream",
       "stream": "stderr",
       "text": [
        "INFO:python_subgrid.wrapper:Start timestep-update.\n"
       ]
      },
      {
       "output_type": "stream",
       "stream": "stderr",
       "text": [
        "DEBUG:python_subgrid.wrapper: Trying to use timestep:    10.000000000000000\n"
       ]
      },
      {
       "output_type": "stream",
       "stream": "stderr",
       "text": [
        "DEBUG:python_subgrid.wrapper:Start initFlowAdmin, flow_init=              0\n"
       ]
      },
      {
       "output_type": "stream",
       "stream": "stderr",
       "text": [
        "INFO:python_subgrid.wrapper:Timestep 43 number of iterations 2 epsmax   0.0000E+00 idthalf 1  np = 1\n"
       ]
      },
      {
       "output_type": "stream",
       "stream": "stderr",
       "text": [
        "INFO:python_subgrid.wrapper:Timestep complete.\n"
       ]
      },
      {
       "output_type": "stream",
       "stream": "stderr",
       "text": [
        "INFO:python_subgrid.wrapper:Start timestep-update.\n"
       ]
      },
      {
       "output_type": "stream",
       "stream": "stderr",
       "text": [
        "DEBUG:python_subgrid.wrapper: Trying to use timestep:    10.000000000000000\n"
       ]
      },
      {
       "output_type": "stream",
       "stream": "stderr",
       "text": [
        "DEBUG:python_subgrid.wrapper:Start initFlowAdmin, flow_init=              0\n"
       ]
      },
      {
       "output_type": "stream",
       "stream": "stderr",
       "text": [
        "INFO:python_subgrid.wrapper:Timestep 44 number of iterations 2 epsmax   0.0000E+00 idthalf 1  np = 1\n"
       ]
      },
      {
       "output_type": "stream",
       "stream": "stderr",
       "text": [
        "INFO:python_subgrid.wrapper:Timestep complete.\n"
       ]
      },
      {
       "output_type": "stream",
       "stream": "stderr",
       "text": [
        "INFO:python_subgrid.wrapper:Start timestep-update.\n"
       ]
      },
      {
       "output_type": "stream",
       "stream": "stderr",
       "text": [
        "DEBUG:python_subgrid.wrapper: Trying to use timestep:    10.000000000000000\n"
       ]
      },
      {
       "output_type": "stream",
       "stream": "stderr",
       "text": [
        "DEBUG:python_subgrid.wrapper:Start initFlowAdmin, flow_init=              0\n"
       ]
      },
      {
       "output_type": "stream",
       "stream": "stderr",
       "text": [
        "INFO:python_subgrid.wrapper:Timestep 45 number of iterations 2 epsmax   0.0000E+00 idthalf 1  np = 1\n"
       ]
      },
      {
       "output_type": "stream",
       "stream": "stderr",
       "text": [
        "INFO:python_subgrid.wrapper:Timestep complete.\n"
       ]
      },
      {
       "output_type": "stream",
       "stream": "stderr",
       "text": [
        "INFO:python_subgrid.wrapper:Start timestep-update.\n"
       ]
      },
      {
       "output_type": "stream",
       "stream": "stderr",
       "text": [
        "DEBUG:python_subgrid.wrapper: Trying to use timestep:    10.000000000000000\n"
       ]
      },
      {
       "output_type": "stream",
       "stream": "stderr",
       "text": [
        "DEBUG:python_subgrid.wrapper:Start initFlowAdmin, flow_init=              0\n"
       ]
      },
      {
       "output_type": "stream",
       "stream": "stderr",
       "text": [
        "INFO:python_subgrid.wrapper:Timestep 46 number of iterations 2 epsmax   0.0000E+00 idthalf 1  np = 1\n"
       ]
      },
      {
       "output_type": "stream",
       "stream": "stderr",
       "text": [
        "INFO:python_subgrid.wrapper:Timestep complete.\n"
       ]
      },
      {
       "output_type": "stream",
       "stream": "stderr",
       "text": [
        "INFO:python_subgrid.wrapper:Start timestep-update.\n"
       ]
      },
      {
       "output_type": "stream",
       "stream": "stderr",
       "text": [
        "DEBUG:python_subgrid.wrapper: Trying to use timestep:    10.000000000000000\n"
       ]
      },
      {
       "output_type": "stream",
       "stream": "stderr",
       "text": [
        "DEBUG:python_subgrid.wrapper:Start initFlowAdmin, flow_init=              0\n"
       ]
      },
      {
       "output_type": "stream",
       "stream": "stderr",
       "text": [
        "INFO:python_subgrid.wrapper:Timestep 47 number of iterations 2 epsmax   0.0000E+00 idthalf 1  np = 1\n"
       ]
      },
      {
       "output_type": "stream",
       "stream": "stderr",
       "text": [
        "INFO:python_subgrid.wrapper:Timestep complete.\n"
       ]
      },
      {
       "output_type": "stream",
       "stream": "stderr",
       "text": [
        "INFO:python_subgrid.wrapper:Start timestep-update.\n"
       ]
      },
      {
       "output_type": "stream",
       "stream": "stderr",
       "text": [
        "DEBUG:python_subgrid.wrapper: Trying to use timestep:    10.000000000000000\n"
       ]
      },
      {
       "output_type": "stream",
       "stream": "stderr",
       "text": [
        "DEBUG:python_subgrid.wrapper:Start initFlowAdmin, flow_init=              0\n"
       ]
      },
      {
       "output_type": "stream",
       "stream": "stderr",
       "text": [
        "INFO:python_subgrid.wrapper:Timestep 48 number of iterations 2 epsmax   0.0000E+00 idthalf 1  np = 1\n"
       ]
      },
      {
       "output_type": "stream",
       "stream": "stderr",
       "text": [
        "INFO:python_subgrid.wrapper:Timestep complete.\n"
       ]
      },
      {
       "output_type": "stream",
       "stream": "stderr",
       "text": [
        "INFO:python_subgrid.wrapper:Start timestep-update.\n"
       ]
      },
      {
       "output_type": "stream",
       "stream": "stderr",
       "text": [
        "DEBUG:python_subgrid.wrapper: Trying to use timestep:    10.000000000000000\n"
       ]
      },
      {
       "output_type": "stream",
       "stream": "stderr",
       "text": [
        "DEBUG:python_subgrid.wrapper:Start initFlowAdmin, flow_init=              0\n"
       ]
      },
      {
       "output_type": "stream",
       "stream": "stderr",
       "text": [
        "INFO:python_subgrid.wrapper:Timestep 49 number of iterations 2 epsmax   0.0000E+00 idthalf 1  np = 1\n"
       ]
      },
      {
       "output_type": "stream",
       "stream": "stderr",
       "text": [
        "INFO:python_subgrid.wrapper:Timestep complete.\n"
       ]
      },
      {
       "output_type": "stream",
       "stream": "stderr",
       "text": [
        "INFO:python_subgrid.wrapper:Start timestep-update.\n"
       ]
      },
      {
       "output_type": "stream",
       "stream": "stderr",
       "text": [
        "DEBUG:python_subgrid.wrapper: Trying to use timestep:    10.000000000000000\n"
       ]
      },
      {
       "output_type": "stream",
       "stream": "stderr",
       "text": [
        "DEBUG:python_subgrid.wrapper:Start initFlowAdmin, flow_init=              0\n"
       ]
      },
      {
       "output_type": "stream",
       "stream": "stderr",
       "text": [
        "INFO:python_subgrid.wrapper:Timestep 50 number of iterations 2 epsmax   0.0000E+00 idthalf 1  np = 1\n"
       ]
      },
      {
       "output_type": "stream",
       "stream": "stderr",
       "text": [
        "INFO:python_subgrid.wrapper:Timestep complete.\n"
       ]
      },
      {
       "output_type": "stream",
       "stream": "stderr",
       "text": [
        "INFO:python_subgrid.wrapper:Start timestep-update.\n"
       ]
      },
      {
       "output_type": "stream",
       "stream": "stderr",
       "text": [
        "DEBUG:python_subgrid.wrapper: Trying to use timestep:    10.000000000000000\n"
       ]
      },
      {
       "output_type": "stream",
       "stream": "stderr",
       "text": [
        "DEBUG:python_subgrid.wrapper:Start initFlowAdmin, flow_init=              0\n"
       ]
      },
      {
       "output_type": "stream",
       "stream": "stderr",
       "text": [
        "INFO:python_subgrid.wrapper:Timestep 51 number of iterations 2 epsmax   0.0000E+00 idthalf 1  np = 1\n"
       ]
      },
      {
       "output_type": "stream",
       "stream": "stderr",
       "text": [
        "INFO:python_subgrid.wrapper:Timestep complete.\n"
       ]
      },
      {
       "output_type": "stream",
       "stream": "stderr",
       "text": [
        "INFO:python_subgrid.wrapper:Start timestep-update.\n"
       ]
      },
      {
       "output_type": "stream",
       "stream": "stderr",
       "text": [
        "DEBUG:python_subgrid.wrapper: Trying to use timestep:    10.000000000000000\n"
       ]
      },
      {
       "output_type": "stream",
       "stream": "stderr",
       "text": [
        "DEBUG:python_subgrid.wrapper:Start initFlowAdmin, flow_init=              0\n"
       ]
      },
      {
       "output_type": "stream",
       "stream": "stderr",
       "text": [
        "INFO:python_subgrid.wrapper:Timestep 52 number of iterations 2 epsmax   0.0000E+00 idthalf 1  np = 1\n"
       ]
      },
      {
       "output_type": "stream",
       "stream": "stderr",
       "text": [
        "INFO:python_subgrid.wrapper:Timestep complete.\n"
       ]
      },
      {
       "output_type": "stream",
       "stream": "stderr",
       "text": [
        "INFO:python_subgrid.wrapper:Start timestep-update.\n"
       ]
      },
      {
       "output_type": "stream",
       "stream": "stderr",
       "text": [
        "DEBUG:python_subgrid.wrapper: Trying to use timestep:    10.000000000000000\n"
       ]
      },
      {
       "output_type": "stream",
       "stream": "stderr",
       "text": [
        "DEBUG:python_subgrid.wrapper:Start initFlowAdmin, flow_init=              0\n"
       ]
      },
      {
       "output_type": "stream",
       "stream": "stderr",
       "text": [
        "INFO:python_subgrid.wrapper:Timestep 53 number of iterations 2 epsmax   0.0000E+00 idthalf 1  np = 1\n"
       ]
      },
      {
       "output_type": "stream",
       "stream": "stderr",
       "text": [
        "INFO:python_subgrid.wrapper:Timestep complete.\n"
       ]
      },
      {
       "output_type": "stream",
       "stream": "stderr",
       "text": [
        "INFO:python_subgrid.wrapper:Start timestep-update.\n"
       ]
      },
      {
       "output_type": "stream",
       "stream": "stderr",
       "text": [
        "DEBUG:python_subgrid.wrapper: Trying to use timestep:    10.000000000000000\n"
       ]
      },
      {
       "output_type": "stream",
       "stream": "stderr",
       "text": [
        "DEBUG:python_subgrid.wrapper:Start initFlowAdmin, flow_init=              0\n"
       ]
      },
      {
       "output_type": "stream",
       "stream": "stderr",
       "text": [
        "INFO:python_subgrid.wrapper:Timestep 54 number of iterations 2 epsmax   0.0000E+00 idthalf 1  np = 1\n"
       ]
      },
      {
       "output_type": "stream",
       "stream": "stderr",
       "text": [
        "INFO:python_subgrid.wrapper:Timestep complete.\n"
       ]
      },
      {
       "output_type": "stream",
       "stream": "stderr",
       "text": [
        "INFO:python_subgrid.wrapper:Start timestep-update.\n"
       ]
      },
      {
       "output_type": "stream",
       "stream": "stderr",
       "text": [
        "DEBUG:python_subgrid.wrapper: Trying to use timestep:    10.000000000000000\n"
       ]
      },
      {
       "output_type": "stream",
       "stream": "stderr",
       "text": [
        "DEBUG:python_subgrid.wrapper:Start initFlowAdmin, flow_init=              0\n"
       ]
      },
      {
       "output_type": "stream",
       "stream": "stderr",
       "text": [
        "INFO:python_subgrid.wrapper:Timestep 55 number of iterations 2 epsmax   0.0000E+00 idthalf 1  np = 1\n"
       ]
      },
      {
       "output_type": "stream",
       "stream": "stderr",
       "text": [
        "INFO:python_subgrid.wrapper:Timestep complete.\n"
       ]
      },
      {
       "output_type": "stream",
       "stream": "stderr",
       "text": [
        "INFO:python_subgrid.wrapper:Start timestep-update.\n"
       ]
      },
      {
       "output_type": "stream",
       "stream": "stderr",
       "text": [
        "DEBUG:python_subgrid.wrapper: Trying to use timestep:    10.000000000000000\n"
       ]
      },
      {
       "output_type": "stream",
       "stream": "stderr",
       "text": [
        "DEBUG:python_subgrid.wrapper:Start initFlowAdmin, flow_init=              0\n"
       ]
      },
      {
       "output_type": "stream",
       "stream": "stderr",
       "text": [
        "INFO:python_subgrid.wrapper:Timestep 56 number of iterations 2 epsmax   0.0000E+00 idthalf 1  np = 1\n"
       ]
      },
      {
       "output_type": "stream",
       "stream": "stderr",
       "text": [
        "INFO:python_subgrid.wrapper:Timestep complete.\n"
       ]
      },
      {
       "output_type": "stream",
       "stream": "stderr",
       "text": [
        "INFO:python_subgrid.wrapper:Start timestep-update.\n"
       ]
      },
      {
       "output_type": "stream",
       "stream": "stderr",
       "text": [
        "DEBUG:python_subgrid.wrapper: Trying to use timestep:    10.000000000000000\n"
       ]
      },
      {
       "output_type": "stream",
       "stream": "stderr",
       "text": [
        "DEBUG:python_subgrid.wrapper:Start initFlowAdmin, flow_init=              0\n"
       ]
      },
      {
       "output_type": "stream",
       "stream": "stderr",
       "text": [
        "INFO:python_subgrid.wrapper:Timestep 57 number of iterations 2 epsmax   0.0000E+00 idthalf 1  np = 1\n"
       ]
      },
      {
       "output_type": "stream",
       "stream": "stderr",
       "text": [
        "INFO:python_subgrid.wrapper:Timestep complete.\n"
       ]
      },
      {
       "output_type": "stream",
       "stream": "stderr",
       "text": [
        "INFO:python_subgrid.wrapper:Start timestep-update.\n"
       ]
      },
      {
       "output_type": "stream",
       "stream": "stderr",
       "text": [
        "DEBUG:python_subgrid.wrapper: Trying to use timestep:    10.000000000000000\n"
       ]
      },
      {
       "output_type": "stream",
       "stream": "stderr",
       "text": [
        "DEBUG:python_subgrid.wrapper:Start initFlowAdmin, flow_init=              0\n"
       ]
      },
      {
       "output_type": "stream",
       "stream": "stderr",
       "text": [
        "INFO:python_subgrid.wrapper:Timestep 58 number of iterations 2 epsmax   0.0000E+00 idthalf 1  np = 1\n"
       ]
      },
      {
       "output_type": "stream",
       "stream": "stderr",
       "text": [
        "INFO:python_subgrid.wrapper:Timestep complete.\n"
       ]
      },
      {
       "output_type": "stream",
       "stream": "stderr",
       "text": [
        "INFO:python_subgrid.wrapper:Start timestep-update.\n"
       ]
      },
      {
       "output_type": "stream",
       "stream": "stderr",
       "text": [
        "DEBUG:python_subgrid.wrapper: Trying to use timestep:    10.000000000000000\n"
       ]
      },
      {
       "output_type": "stream",
       "stream": "stderr",
       "text": [
        "DEBUG:python_subgrid.wrapper:Start initFlowAdmin, flow_init=              0\n"
       ]
      },
      {
       "output_type": "stream",
       "stream": "stderr",
       "text": [
        "INFO:python_subgrid.wrapper:Timestep 59 number of iterations 2 epsmax   0.0000E+00 idthalf 1  np = 1\n"
       ]
      },
      {
       "output_type": "stream",
       "stream": "stderr",
       "text": [
        "INFO:python_subgrid.wrapper:Timestep complete.\n"
       ]
      },
      {
       "output_type": "stream",
       "stream": "stderr",
       "text": [
        "INFO:python_subgrid.wrapper:Start timestep-update.\n"
       ]
      },
      {
       "output_type": "stream",
       "stream": "stderr",
       "text": [
        "DEBUG:python_subgrid.wrapper: Trying to use timestep:    10.000000000000000\n"
       ]
      },
      {
       "output_type": "stream",
       "stream": "stderr",
       "text": [
        "DEBUG:python_subgrid.wrapper:Start initFlowAdmin, flow_init=              0\n"
       ]
      },
      {
       "output_type": "stream",
       "stream": "stderr",
       "text": [
        "INFO:python_subgrid.wrapper:Timestep 60 number of iterations 2 epsmax   0.0000E+00 idthalf 1  np = 1\n"
       ]
      },
      {
       "output_type": "stream",
       "stream": "stderr",
       "text": [
        "INFO:python_subgrid.wrapper:Timestep complete.\n"
       ]
      },
      {
       "output_type": "stream",
       "stream": "stderr",
       "text": [
        "INFO:python_subgrid.wrapper:Start timestep-update.\n"
       ]
      },
      {
       "output_type": "stream",
       "stream": "stderr",
       "text": [
        "DEBUG:python_subgrid.wrapper: Trying to use timestep:    10.000000000000000\n"
       ]
      },
      {
       "output_type": "stream",
       "stream": "stderr",
       "text": [
        "DEBUG:python_subgrid.wrapper:Start initFlowAdmin, flow_init=              0\n"
       ]
      },
      {
       "output_type": "stream",
       "stream": "stderr",
       "text": [
        "INFO:python_subgrid.wrapper:Timestep 61 number of iterations 2 epsmax   0.0000E+00 idthalf 1  np = 1\n"
       ]
      },
      {
       "output_type": "stream",
       "stream": "stderr",
       "text": [
        "INFO:python_subgrid.wrapper:Timestep complete.\n"
       ]
      },
      {
       "output_type": "stream",
       "stream": "stderr",
       "text": [
        "INFO:python_subgrid.wrapper:Start timestep-update.\n"
       ]
      },
      {
       "output_type": "stream",
       "stream": "stderr",
       "text": [
        "DEBUG:python_subgrid.wrapper: Trying to use timestep:    10.000000000000000\n"
       ]
      },
      {
       "output_type": "stream",
       "stream": "stderr",
       "text": [
        "DEBUG:python_subgrid.wrapper:Start initFlowAdmin, flow_init=              0\n"
       ]
      },
      {
       "output_type": "stream",
       "stream": "stderr",
       "text": [
        "INFO:python_subgrid.wrapper:Timestep 62 number of iterations 2 epsmax   0.0000E+00 idthalf 1  np = 1\n"
       ]
      },
      {
       "output_type": "stream",
       "stream": "stderr",
       "text": [
        "INFO:python_subgrid.wrapper:Timestep complete.\n"
       ]
      },
      {
       "output_type": "stream",
       "stream": "stderr",
       "text": [
        "INFO:python_subgrid.wrapper:Start timestep-update.\n"
       ]
      },
      {
       "output_type": "stream",
       "stream": "stderr",
       "text": [
        "DEBUG:python_subgrid.wrapper: Trying to use timestep:    10.000000000000000\n"
       ]
      },
      {
       "output_type": "stream",
       "stream": "stderr",
       "text": [
        "DEBUG:python_subgrid.wrapper:Start initFlowAdmin, flow_init=              0\n"
       ]
      },
      {
       "output_type": "stream",
       "stream": "stderr",
       "text": [
        "INFO:python_subgrid.wrapper:Timestep 63 number of iterations 2 epsmax   0.0000E+00 idthalf 1  np = 1\n"
       ]
      },
      {
       "output_type": "stream",
       "stream": "stderr",
       "text": [
        "INFO:python_subgrid.wrapper:Timestep complete.\n"
       ]
      },
      {
       "output_type": "stream",
       "stream": "stderr",
       "text": [
        "INFO:python_subgrid.wrapper:Start timestep-update.\n"
       ]
      },
      {
       "output_type": "stream",
       "stream": "stderr",
       "text": [
        "DEBUG:python_subgrid.wrapper: Trying to use timestep:    10.000000000000000\n"
       ]
      },
      {
       "output_type": "stream",
       "stream": "stderr",
       "text": [
        "DEBUG:python_subgrid.wrapper:Start initFlowAdmin, flow_init=              0\n"
       ]
      },
      {
       "output_type": "stream",
       "stream": "stderr",
       "text": [
        "INFO:python_subgrid.wrapper:Timestep 64 number of iterations 2 epsmax   0.0000E+00 idthalf 1  np = 1\n"
       ]
      },
      {
       "output_type": "stream",
       "stream": "stderr",
       "text": [
        "INFO:python_subgrid.wrapper:Timestep complete.\n"
       ]
      },
      {
       "output_type": "stream",
       "stream": "stderr",
       "text": [
        "INFO:python_subgrid.wrapper:Start timestep-update.\n"
       ]
      },
      {
       "output_type": "stream",
       "stream": "stderr",
       "text": [
        "DEBUG:python_subgrid.wrapper: Trying to use timestep:    10.000000000000000\n"
       ]
      },
      {
       "output_type": "stream",
       "stream": "stderr",
       "text": [
        "DEBUG:python_subgrid.wrapper:Start initFlowAdmin, flow_init=              0\n"
       ]
      },
      {
       "output_type": "stream",
       "stream": "stderr",
       "text": [
        "INFO:python_subgrid.wrapper:Timestep 65 number of iterations 2 epsmax   0.0000E+00 idthalf 1  np = 1\n"
       ]
      },
      {
       "output_type": "stream",
       "stream": "stderr",
       "text": [
        "INFO:python_subgrid.wrapper:Timestep complete.\n"
       ]
      },
      {
       "output_type": "stream",
       "stream": "stderr",
       "text": [
        "INFO:python_subgrid.wrapper:Start timestep-update.\n"
       ]
      },
      {
       "output_type": "stream",
       "stream": "stderr",
       "text": [
        "DEBUG:python_subgrid.wrapper: Trying to use timestep:    10.000000000000000\n"
       ]
      },
      {
       "output_type": "stream",
       "stream": "stderr",
       "text": [
        "DEBUG:python_subgrid.wrapper:Start initFlowAdmin, flow_init=              0\n"
       ]
      },
      {
       "output_type": "stream",
       "stream": "stderr",
       "text": [
        "INFO:python_subgrid.wrapper:Timestep 66 number of iterations 2 epsmax   0.0000E+00 idthalf 1  np = 1\n"
       ]
      },
      {
       "output_type": "stream",
       "stream": "stderr",
       "text": [
        "INFO:python_subgrid.wrapper:Timestep complete.\n"
       ]
      },
      {
       "output_type": "stream",
       "stream": "stderr",
       "text": [
        "INFO:python_subgrid.wrapper:Start timestep-update.\n"
       ]
      },
      {
       "output_type": "stream",
       "stream": "stderr",
       "text": [
        "DEBUG:python_subgrid.wrapper: Trying to use timestep:    10.000000000000000\n"
       ]
      },
      {
       "output_type": "stream",
       "stream": "stderr",
       "text": [
        "DEBUG:python_subgrid.wrapper:Start initFlowAdmin, flow_init=              0\n"
       ]
      },
      {
       "output_type": "stream",
       "stream": "stderr",
       "text": [
        "INFO:python_subgrid.wrapper:Timestep 67 number of iterations 2 epsmax   0.0000E+00 idthalf 1  np = 1\n"
       ]
      },
      {
       "output_type": "stream",
       "stream": "stderr",
       "text": [
        "INFO:python_subgrid.wrapper:Timestep complete.\n"
       ]
      },
      {
       "output_type": "stream",
       "stream": "stderr",
       "text": [
        "INFO:python_subgrid.wrapper:Start timestep-update.\n"
       ]
      },
      {
       "output_type": "stream",
       "stream": "stderr",
       "text": [
        "DEBUG:python_subgrid.wrapper: Trying to use timestep:    10.000000000000000\n"
       ]
      },
      {
       "output_type": "stream",
       "stream": "stderr",
       "text": [
        "DEBUG:python_subgrid.wrapper:Start initFlowAdmin, flow_init=              0\n"
       ]
      },
      {
       "output_type": "stream",
       "stream": "stderr",
       "text": [
        "INFO:python_subgrid.wrapper:Timestep 68 number of iterations 2 epsmax   0.0000E+00 idthalf 1  np = 1\n"
       ]
      },
      {
       "output_type": "stream",
       "stream": "stderr",
       "text": [
        "INFO:python_subgrid.wrapper:Timestep complete.\n"
       ]
      },
      {
       "output_type": "stream",
       "stream": "stderr",
       "text": [
        "INFO:python_subgrid.wrapper:Start timestep-update.\n"
       ]
      },
      {
       "output_type": "stream",
       "stream": "stderr",
       "text": [
        "DEBUG:python_subgrid.wrapper: Trying to use timestep:    10.000000000000000\n"
       ]
      },
      {
       "output_type": "stream",
       "stream": "stderr",
       "text": [
        "DEBUG:python_subgrid.wrapper:Start initFlowAdmin, flow_init=              0\n"
       ]
      },
      {
       "output_type": "stream",
       "stream": "stderr",
       "text": [
        "INFO:python_subgrid.wrapper:Timestep 69 number of iterations 2 epsmax   0.0000E+00 idthalf 1  np = 1\n"
       ]
      },
      {
       "output_type": "stream",
       "stream": "stderr",
       "text": [
        "INFO:python_subgrid.wrapper:Timestep complete.\n"
       ]
      },
      {
       "output_type": "stream",
       "stream": "stderr",
       "text": [
        "INFO:python_subgrid.wrapper:Start timestep-update.\n"
       ]
      },
      {
       "output_type": "stream",
       "stream": "stderr",
       "text": [
        "DEBUG:python_subgrid.wrapper: Trying to use timestep:    10.000000000000000\n"
       ]
      },
      {
       "output_type": "stream",
       "stream": "stderr",
       "text": [
        "DEBUG:python_subgrid.wrapper:Start initFlowAdmin, flow_init=              0\n"
       ]
      },
      {
       "output_type": "stream",
       "stream": "stderr",
       "text": [
        "INFO:python_subgrid.wrapper:Timestep 70 number of iterations 2 epsmax   0.0000E+00 idthalf 1  np = 1\n"
       ]
      },
      {
       "output_type": "stream",
       "stream": "stderr",
       "text": [
        "INFO:python_subgrid.wrapper:Timestep complete.\n"
       ]
      },
      {
       "output_type": "stream",
       "stream": "stderr",
       "text": [
        "INFO:python_subgrid.wrapper:Start timestep-update.\n"
       ]
      },
      {
       "output_type": "stream",
       "stream": "stderr",
       "text": [
        "DEBUG:python_subgrid.wrapper: Trying to use timestep:    10.000000000000000\n"
       ]
      },
      {
       "output_type": "stream",
       "stream": "stderr",
       "text": [
        "DEBUG:python_subgrid.wrapper:Start initFlowAdmin, flow_init=              0\n"
       ]
      },
      {
       "output_type": "stream",
       "stream": "stderr",
       "text": [
        "INFO:python_subgrid.wrapper:Timestep 71 number of iterations 2 epsmax   0.0000E+00 idthalf 1  np = 1\n"
       ]
      },
      {
       "output_type": "stream",
       "stream": "stderr",
       "text": [
        "INFO:python_subgrid.wrapper:Timestep complete.\n"
       ]
      },
      {
       "output_type": "stream",
       "stream": "stderr",
       "text": [
        "INFO:python_subgrid.wrapper:Start timestep-update.\n"
       ]
      },
      {
       "output_type": "stream",
       "stream": "stderr",
       "text": [
        "DEBUG:python_subgrid.wrapper: Trying to use timestep:    10.000000000000000\n"
       ]
      },
      {
       "output_type": "stream",
       "stream": "stderr",
       "text": [
        "DEBUG:python_subgrid.wrapper:Start initFlowAdmin, flow_init=              0\n"
       ]
      },
      {
       "output_type": "stream",
       "stream": "stderr",
       "text": [
        "INFO:python_subgrid.wrapper:Timestep 72 number of iterations 2 epsmax   0.0000E+00 idthalf 1  np = 1\n"
       ]
      },
      {
       "output_type": "stream",
       "stream": "stderr",
       "text": [
        "INFO:python_subgrid.wrapper:Timestep complete.\n"
       ]
      },
      {
       "output_type": "stream",
       "stream": "stderr",
       "text": [
        "INFO:python_subgrid.wrapper:Start timestep-update.\n"
       ]
      },
      {
       "output_type": "stream",
       "stream": "stderr",
       "text": [
        "DEBUG:python_subgrid.wrapper: Trying to use timestep:    10.000000000000000\n"
       ]
      },
      {
       "output_type": "stream",
       "stream": "stderr",
       "text": [
        "DEBUG:python_subgrid.wrapper:Start initFlowAdmin, flow_init=              0\n"
       ]
      },
      {
       "output_type": "stream",
       "stream": "stderr",
       "text": [
        "INFO:python_subgrid.wrapper:Timestep 73 number of iterations 2 epsmax   0.0000E+00 idthalf 1  np = 1\n"
       ]
      },
      {
       "output_type": "stream",
       "stream": "stderr",
       "text": [
        "INFO:python_subgrid.wrapper:Timestep complete.\n"
       ]
      },
      {
       "output_type": "stream",
       "stream": "stderr",
       "text": [
        "INFO:python_subgrid.wrapper:Start timestep-update.\n"
       ]
      },
      {
       "output_type": "stream",
       "stream": "stderr",
       "text": [
        "DEBUG:python_subgrid.wrapper: Trying to use timestep:    10.000000000000000\n"
       ]
      },
      {
       "output_type": "stream",
       "stream": "stderr",
       "text": [
        "DEBUG:python_subgrid.wrapper:Start initFlowAdmin, flow_init=              0\n"
       ]
      },
      {
       "output_type": "stream",
       "stream": "stderr",
       "text": [
        "INFO:python_subgrid.wrapper:Timestep 74 number of iterations 2 epsmax   0.0000E+00 idthalf 1  np = 1\n"
       ]
      },
      {
       "output_type": "stream",
       "stream": "stderr",
       "text": [
        "INFO:python_subgrid.wrapper:Timestep complete.\n"
       ]
      },
      {
       "output_type": "stream",
       "stream": "stderr",
       "text": [
        "INFO:python_subgrid.wrapper:Start timestep-update.\n"
       ]
      },
      {
       "output_type": "stream",
       "stream": "stderr",
       "text": [
        "DEBUG:python_subgrid.wrapper: Trying to use timestep:    10.000000000000000\n"
       ]
      },
      {
       "output_type": "stream",
       "stream": "stderr",
       "text": [
        "DEBUG:python_subgrid.wrapper:Start initFlowAdmin, flow_init=              0\n"
       ]
      },
      {
       "output_type": "stream",
       "stream": "stderr",
       "text": [
        "INFO:python_subgrid.wrapper:Timestep 75 number of iterations 2 epsmax   0.0000E+00 idthalf 1  np = 1\n"
       ]
      },
      {
       "output_type": "stream",
       "stream": "stderr",
       "text": [
        "INFO:python_subgrid.wrapper:Timestep complete.\n"
       ]
      },
      {
       "output_type": "stream",
       "stream": "stderr",
       "text": [
        "INFO:python_subgrid.wrapper:Start timestep-update.\n"
       ]
      },
      {
       "output_type": "stream",
       "stream": "stderr",
       "text": [
        "DEBUG:python_subgrid.wrapper: Trying to use timestep:    10.000000000000000\n"
       ]
      },
      {
       "output_type": "stream",
       "stream": "stderr",
       "text": [
        "DEBUG:python_subgrid.wrapper:Start initFlowAdmin, flow_init=              0\n"
       ]
      },
      {
       "output_type": "stream",
       "stream": "stderr",
       "text": [
        "INFO:python_subgrid.wrapper:Timestep 76 number of iterations 2 epsmax   0.0000E+00 idthalf 1  np = 1\n"
       ]
      },
      {
       "output_type": "stream",
       "stream": "stderr",
       "text": [
        "INFO:python_subgrid.wrapper:Timestep complete.\n"
       ]
      },
      {
       "output_type": "stream",
       "stream": "stderr",
       "text": [
        "INFO:python_subgrid.wrapper:Start timestep-update.\n"
       ]
      },
      {
       "output_type": "stream",
       "stream": "stderr",
       "text": [
        "DEBUG:python_subgrid.wrapper: Trying to use timestep:    10.000000000000000\n"
       ]
      },
      {
       "output_type": "stream",
       "stream": "stderr",
       "text": [
        "DEBUG:python_subgrid.wrapper:Start initFlowAdmin, flow_init=              0\n"
       ]
      },
      {
       "output_type": "stream",
       "stream": "stderr",
       "text": [
        "INFO:python_subgrid.wrapper:Timestep 77 number of iterations 2 epsmax   0.0000E+00 idthalf 1  np = 1\n"
       ]
      },
      {
       "output_type": "stream",
       "stream": "stderr",
       "text": [
        "INFO:python_subgrid.wrapper:Timestep complete.\n"
       ]
      },
      {
       "output_type": "stream",
       "stream": "stderr",
       "text": [
        "INFO:python_subgrid.wrapper:Start timestep-update.\n"
       ]
      },
      {
       "output_type": "stream",
       "stream": "stderr",
       "text": [
        "DEBUG:python_subgrid.wrapper: Trying to use timestep:    10.000000000000000\n"
       ]
      },
      {
       "output_type": "stream",
       "stream": "stderr",
       "text": [
        "DEBUG:python_subgrid.wrapper:Start initFlowAdmin, flow_init=              0\n"
       ]
      },
      {
       "output_type": "stream",
       "stream": "stderr",
       "text": [
        "INFO:python_subgrid.wrapper:Timestep 78 number of iterations 2 epsmax   0.0000E+00 idthalf 1  np = 1\n"
       ]
      },
      {
       "output_type": "stream",
       "stream": "stderr",
       "text": [
        "INFO:python_subgrid.wrapper:Timestep complete.\n"
       ]
      },
      {
       "output_type": "stream",
       "stream": "stderr",
       "text": [
        "INFO:python_subgrid.wrapper:Start timestep-update.\n"
       ]
      },
      {
       "output_type": "stream",
       "stream": "stderr",
       "text": [
        "DEBUG:python_subgrid.wrapper: Trying to use timestep:    10.000000000000000\n"
       ]
      },
      {
       "output_type": "stream",
       "stream": "stderr",
       "text": [
        "DEBUG:python_subgrid.wrapper:Start initFlowAdmin, flow_init=              0\n"
       ]
      },
      {
       "output_type": "stream",
       "stream": "stderr",
       "text": [
        "INFO:python_subgrid.wrapper:Timestep 79 number of iterations 2 epsmax   0.0000E+00 idthalf 1  np = 1\n"
       ]
      },
      {
       "output_type": "stream",
       "stream": "stderr",
       "text": [
        "INFO:python_subgrid.wrapper:Timestep complete.\n"
       ]
      },
      {
       "output_type": "stream",
       "stream": "stderr",
       "text": [
        "INFO:python_subgrid.wrapper:Start timestep-update.\n"
       ]
      },
      {
       "output_type": "stream",
       "stream": "stderr",
       "text": [
        "DEBUG:python_subgrid.wrapper: Trying to use timestep:    10.000000000000000\n"
       ]
      },
      {
       "output_type": "stream",
       "stream": "stderr",
       "text": [
        "DEBUG:python_subgrid.wrapper:Start initFlowAdmin, flow_init=              0\n"
       ]
      },
      {
       "output_type": "stream",
       "stream": "stderr",
       "text": [
        "INFO:python_subgrid.wrapper:Timestep 80 number of iterations 2 epsmax   0.0000E+00 idthalf 1  np = 1\n"
       ]
      },
      {
       "output_type": "stream",
       "stream": "stderr",
       "text": [
        "INFO:python_subgrid.wrapper:Timestep complete.\n"
       ]
      },
      {
       "output_type": "stream",
       "stream": "stderr",
       "text": [
        "INFO:python_subgrid.wrapper:Start timestep-update.\n"
       ]
      },
      {
       "output_type": "stream",
       "stream": "stderr",
       "text": [
        "DEBUG:python_subgrid.wrapper: Trying to use timestep:    10.000000000000000\n"
       ]
      },
      {
       "output_type": "stream",
       "stream": "stderr",
       "text": [
        "DEBUG:python_subgrid.wrapper:Start initFlowAdmin, flow_init=              0\n"
       ]
      },
      {
       "output_type": "stream",
       "stream": "stderr",
       "text": [
        "INFO:python_subgrid.wrapper:Timestep 81 number of iterations 2 epsmax   0.0000E+00 idthalf 1  np = 1\n"
       ]
      },
      {
       "output_type": "stream",
       "stream": "stderr",
       "text": [
        "INFO:python_subgrid.wrapper:Timestep complete.\n"
       ]
      },
      {
       "output_type": "stream",
       "stream": "stderr",
       "text": [
        "INFO:python_subgrid.wrapper:Start timestep-update.\n"
       ]
      },
      {
       "output_type": "stream",
       "stream": "stderr",
       "text": [
        "DEBUG:python_subgrid.wrapper: Trying to use timestep:    10.000000000000000\n"
       ]
      },
      {
       "output_type": "stream",
       "stream": "stderr",
       "text": [
        "DEBUG:python_subgrid.wrapper:Start initFlowAdmin, flow_init=              0\n"
       ]
      },
      {
       "output_type": "stream",
       "stream": "stderr",
       "text": [
        "INFO:python_subgrid.wrapper:Timestep 82 number of iterations 2 epsmax   0.0000E+00 idthalf 1  np = 1\n"
       ]
      },
      {
       "output_type": "stream",
       "stream": "stderr",
       "text": [
        "INFO:python_subgrid.wrapper:Timestep complete.\n"
       ]
      },
      {
       "output_type": "stream",
       "stream": "stderr",
       "text": [
        "INFO:python_subgrid.wrapper:Start timestep-update.\n"
       ]
      },
      {
       "output_type": "stream",
       "stream": "stderr",
       "text": [
        "DEBUG:python_subgrid.wrapper: Trying to use timestep:    10.000000000000000\n"
       ]
      },
      {
       "output_type": "stream",
       "stream": "stderr",
       "text": [
        "DEBUG:python_subgrid.wrapper:Start initFlowAdmin, flow_init=              0\n"
       ]
      },
      {
       "output_type": "stream",
       "stream": "stderr",
       "text": [
        "INFO:python_subgrid.wrapper:Timestep 83 number of iterations 2 epsmax   0.0000E+00 idthalf 1  np = 1\n"
       ]
      },
      {
       "output_type": "stream",
       "stream": "stderr",
       "text": [
        "INFO:python_subgrid.wrapper:Timestep complete.\n"
       ]
      },
      {
       "output_type": "stream",
       "stream": "stderr",
       "text": [
        "INFO:python_subgrid.wrapper:Start timestep-update.\n"
       ]
      },
      {
       "output_type": "stream",
       "stream": "stderr",
       "text": [
        "DEBUG:python_subgrid.wrapper: Trying to use timestep:    10.000000000000000\n"
       ]
      },
      {
       "output_type": "stream",
       "stream": "stderr",
       "text": [
        "DEBUG:python_subgrid.wrapper:Start initFlowAdmin, flow_init=              0\n"
       ]
      },
      {
       "output_type": "stream",
       "stream": "stderr",
       "text": [
        "INFO:python_subgrid.wrapper:Timestep 84 number of iterations 2 epsmax   0.0000E+00 idthalf 1  np = 1\n"
       ]
      },
      {
       "output_type": "stream",
       "stream": "stderr",
       "text": [
        "INFO:python_subgrid.wrapper:Timestep complete.\n"
       ]
      },
      {
       "output_type": "stream",
       "stream": "stderr",
       "text": [
        "INFO:python_subgrid.wrapper:Start timestep-update.\n"
       ]
      },
      {
       "output_type": "stream",
       "stream": "stderr",
       "text": [
        "DEBUG:python_subgrid.wrapper: Trying to use timestep:    10.000000000000000\n"
       ]
      },
      {
       "output_type": "stream",
       "stream": "stderr",
       "text": [
        "DEBUG:python_subgrid.wrapper:Start initFlowAdmin, flow_init=              0\n"
       ]
      },
      {
       "output_type": "stream",
       "stream": "stderr",
       "text": [
        "INFO:python_subgrid.wrapper:Timestep 85 number of iterations 2 epsmax   0.0000E+00 idthalf 1  np = 1\n"
       ]
      },
      {
       "output_type": "stream",
       "stream": "stderr",
       "text": [
        "INFO:python_subgrid.wrapper:Timestep complete.\n"
       ]
      },
      {
       "output_type": "stream",
       "stream": "stderr",
       "text": [
        "INFO:python_subgrid.wrapper:Start timestep-update.\n"
       ]
      },
      {
       "output_type": "stream",
       "stream": "stderr",
       "text": [
        "DEBUG:python_subgrid.wrapper: Trying to use timestep:    10.000000000000000\n"
       ]
      },
      {
       "output_type": "stream",
       "stream": "stderr",
       "text": [
        "DEBUG:python_subgrid.wrapper:Start initFlowAdmin, flow_init=              0\n"
       ]
      },
      {
       "output_type": "stream",
       "stream": "stderr",
       "text": [
        "INFO:python_subgrid.wrapper:Timestep 86 number of iterations 2 epsmax   0.0000E+00 idthalf 1  np = 1\n"
       ]
      },
      {
       "output_type": "stream",
       "stream": "stderr",
       "text": [
        "INFO:python_subgrid.wrapper:Timestep complete.\n"
       ]
      },
      {
       "output_type": "stream",
       "stream": "stderr",
       "text": [
        "INFO:python_subgrid.wrapper:Start timestep-update.\n"
       ]
      },
      {
       "output_type": "stream",
       "stream": "stderr",
       "text": [
        "DEBUG:python_subgrid.wrapper: Trying to use timestep:    10.000000000000000\n"
       ]
      },
      {
       "output_type": "stream",
       "stream": "stderr",
       "text": [
        "DEBUG:python_subgrid.wrapper:Start initFlowAdmin, flow_init=              0\n"
       ]
      },
      {
       "output_type": "stream",
       "stream": "stderr",
       "text": [
        "INFO:python_subgrid.wrapper:Timestep 87 number of iterations 2 epsmax   0.0000E+00 idthalf 1  np = 1\n"
       ]
      },
      {
       "output_type": "stream",
       "stream": "stderr",
       "text": [
        "INFO:python_subgrid.wrapper:Timestep complete.\n"
       ]
      },
      {
       "output_type": "stream",
       "stream": "stderr",
       "text": [
        "INFO:python_subgrid.wrapper:Start timestep-update.\n"
       ]
      },
      {
       "output_type": "stream",
       "stream": "stderr",
       "text": [
        "DEBUG:python_subgrid.wrapper: Trying to use timestep:    10.000000000000000\n"
       ]
      },
      {
       "output_type": "stream",
       "stream": "stderr",
       "text": [
        "DEBUG:python_subgrid.wrapper:Start initFlowAdmin, flow_init=              0\n"
       ]
      },
      {
       "output_type": "stream",
       "stream": "stderr",
       "text": [
        "INFO:python_subgrid.wrapper:Timestep 88 number of iterations 2 epsmax   0.0000E+00 idthalf 1  np = 1\n"
       ]
      },
      {
       "output_type": "stream",
       "stream": "stderr",
       "text": [
        "INFO:python_subgrid.wrapper:Timestep complete.\n"
       ]
      },
      {
       "output_type": "stream",
       "stream": "stderr",
       "text": [
        "INFO:python_subgrid.wrapper:Start timestep-update.\n"
       ]
      },
      {
       "output_type": "stream",
       "stream": "stderr",
       "text": [
        "DEBUG:python_subgrid.wrapper: Trying to use timestep:    10.000000000000000\n"
       ]
      },
      {
       "output_type": "stream",
       "stream": "stderr",
       "text": [
        "DEBUG:python_subgrid.wrapper:Start initFlowAdmin, flow_init=              0\n"
       ]
      },
      {
       "output_type": "stream",
       "stream": "stderr",
       "text": [
        "INFO:python_subgrid.wrapper:Timestep 89 number of iterations 2 epsmax   0.0000E+00 idthalf 1  np = 1\n"
       ]
      },
      {
       "output_type": "stream",
       "stream": "stderr",
       "text": [
        "INFO:python_subgrid.wrapper:Timestep complete.\n"
       ]
      },
      {
       "output_type": "stream",
       "stream": "stderr",
       "text": [
        "INFO:python_subgrid.wrapper:Start timestep-update.\n"
       ]
      },
      {
       "output_type": "stream",
       "stream": "stderr",
       "text": [
        "DEBUG:python_subgrid.wrapper: Trying to use timestep:    10.000000000000000\n"
       ]
      },
      {
       "output_type": "stream",
       "stream": "stderr",
       "text": [
        "DEBUG:python_subgrid.wrapper:Start initFlowAdmin, flow_init=              0\n"
       ]
      },
      {
       "output_type": "stream",
       "stream": "stderr",
       "text": [
        "INFO:python_subgrid.wrapper:Timestep 90 number of iterations 2 epsmax   0.0000E+00 idthalf 1  np = 1\n"
       ]
      },
      {
       "output_type": "stream",
       "stream": "stderr",
       "text": [
        "INFO:python_subgrid.wrapper:Timestep complete.\n"
       ]
      },
      {
       "output_type": "stream",
       "stream": "stderr",
       "text": [
        "INFO:python_subgrid.wrapper:Start timestep-update.\n"
       ]
      },
      {
       "output_type": "stream",
       "stream": "stderr",
       "text": [
        "DEBUG:python_subgrid.wrapper: Trying to use timestep:    10.000000000000000\n"
       ]
      },
      {
       "output_type": "stream",
       "stream": "stderr",
       "text": [
        "DEBUG:python_subgrid.wrapper:Start initFlowAdmin, flow_init=              0\n"
       ]
      },
      {
       "output_type": "stream",
       "stream": "stderr",
       "text": [
        "INFO:python_subgrid.wrapper:Timestep 91 number of iterations 2 epsmax   0.0000E+00 idthalf 1  np = 1\n"
       ]
      },
      {
       "output_type": "stream",
       "stream": "stderr",
       "text": [
        "INFO:python_subgrid.wrapper:Timestep complete.\n"
       ]
      },
      {
       "output_type": "stream",
       "stream": "stderr",
       "text": [
        "INFO:python_subgrid.wrapper:Start timestep-update.\n"
       ]
      },
      {
       "output_type": "stream",
       "stream": "stderr",
       "text": [
        "DEBUG:python_subgrid.wrapper: Trying to use timestep:    10.000000000000000\n"
       ]
      },
      {
       "output_type": "stream",
       "stream": "stderr",
       "text": [
        "DEBUG:python_subgrid.wrapper:Start initFlowAdmin, flow_init=              0\n"
       ]
      },
      {
       "output_type": "stream",
       "stream": "stderr",
       "text": [
        "INFO:python_subgrid.wrapper:Timestep 92 number of iterations 2 epsmax   0.0000E+00 idthalf 1  np = 1\n"
       ]
      },
      {
       "output_type": "stream",
       "stream": "stderr",
       "text": [
        "INFO:python_subgrid.wrapper:Timestep complete.\n"
       ]
      },
      {
       "output_type": "stream",
       "stream": "stderr",
       "text": [
        "INFO:python_subgrid.wrapper:Start timestep-update.\n"
       ]
      },
      {
       "output_type": "stream",
       "stream": "stderr",
       "text": [
        "DEBUG:python_subgrid.wrapper: Trying to use timestep:    10.000000000000000\n"
       ]
      },
      {
       "output_type": "stream",
       "stream": "stderr",
       "text": [
        "DEBUG:python_subgrid.wrapper:Start initFlowAdmin, flow_init=              0\n"
       ]
      },
      {
       "output_type": "stream",
       "stream": "stderr",
       "text": [
        "INFO:python_subgrid.wrapper:Timestep 93 number of iterations 2 epsmax   0.0000E+00 idthalf 1  np = 1\n"
       ]
      },
      {
       "output_type": "stream",
       "stream": "stderr",
       "text": [
        "INFO:python_subgrid.wrapper:Timestep complete.\n"
       ]
      },
      {
       "output_type": "stream",
       "stream": "stderr",
       "text": [
        "INFO:python_subgrid.wrapper:Start timestep-update.\n"
       ]
      },
      {
       "output_type": "stream",
       "stream": "stderr",
       "text": [
        "DEBUG:python_subgrid.wrapper: Trying to use timestep:    10.000000000000000\n"
       ]
      },
      {
       "output_type": "stream",
       "stream": "stderr",
       "text": [
        "DEBUG:python_subgrid.wrapper:Start initFlowAdmin, flow_init=              0\n"
       ]
      },
      {
       "output_type": "stream",
       "stream": "stderr",
       "text": [
        "INFO:python_subgrid.wrapper:Timestep 94 number of iterations 2 epsmax   0.0000E+00 idthalf 1  np = 1\n"
       ]
      },
      {
       "output_type": "stream",
       "stream": "stderr",
       "text": [
        "INFO:python_subgrid.wrapper:Timestep complete.\n"
       ]
      },
      {
       "output_type": "stream",
       "stream": "stderr",
       "text": [
        "INFO:python_subgrid.wrapper:Start timestep-update.\n"
       ]
      },
      {
       "output_type": "stream",
       "stream": "stderr",
       "text": [
        "DEBUG:python_subgrid.wrapper: Trying to use timestep:    10.000000000000000\n"
       ]
      },
      {
       "output_type": "stream",
       "stream": "stderr",
       "text": [
        "DEBUG:python_subgrid.wrapper:Start initFlowAdmin, flow_init=              0\n"
       ]
      },
      {
       "output_type": "stream",
       "stream": "stderr",
       "text": [
        "INFO:python_subgrid.wrapper:Timestep 95 number of iterations 2 epsmax   0.0000E+00 idthalf 1  np = 1\n"
       ]
      },
      {
       "output_type": "stream",
       "stream": "stderr",
       "text": [
        "INFO:python_subgrid.wrapper:Timestep complete.\n"
       ]
      },
      {
       "output_type": "stream",
       "stream": "stderr",
       "text": [
        "INFO:python_subgrid.wrapper:Start timestep-update.\n"
       ]
      },
      {
       "output_type": "stream",
       "stream": "stderr",
       "text": [
        "DEBUG:python_subgrid.wrapper: Trying to use timestep:    10.000000000000000\n"
       ]
      },
      {
       "output_type": "stream",
       "stream": "stderr",
       "text": [
        "DEBUG:python_subgrid.wrapper:Start initFlowAdmin, flow_init=              0\n"
       ]
      },
      {
       "output_type": "stream",
       "stream": "stderr",
       "text": [
        "INFO:python_subgrid.wrapper:Timestep 96 number of iterations 2 epsmax   0.0000E+00 idthalf 1  np = 1\n"
       ]
      },
      {
       "output_type": "stream",
       "stream": "stderr",
       "text": [
        "INFO:python_subgrid.wrapper:Timestep complete.\n"
       ]
      },
      {
       "output_type": "stream",
       "stream": "stderr",
       "text": [
        "INFO:python_subgrid.wrapper:Start timestep-update.\n"
       ]
      },
      {
       "output_type": "stream",
       "stream": "stderr",
       "text": [
        "DEBUG:python_subgrid.wrapper: Trying to use timestep:    10.000000000000000\n"
       ]
      },
      {
       "output_type": "stream",
       "stream": "stderr",
       "text": [
        "DEBUG:python_subgrid.wrapper:Start initFlowAdmin, flow_init=              0\n"
       ]
      },
      {
       "output_type": "stream",
       "stream": "stderr",
       "text": [
        "INFO:python_subgrid.wrapper:Timestep 97 number of iterations 2 epsmax   0.0000E+00 idthalf 1  np = 1\n"
       ]
      },
      {
       "output_type": "stream",
       "stream": "stderr",
       "text": [
        "INFO:python_subgrid.wrapper:Timestep complete.\n"
       ]
      },
      {
       "output_type": "stream",
       "stream": "stderr",
       "text": [
        "INFO:python_subgrid.wrapper:Start timestep-update.\n"
       ]
      },
      {
       "output_type": "stream",
       "stream": "stderr",
       "text": [
        "DEBUG:python_subgrid.wrapper: Trying to use timestep:    10.000000000000000\n"
       ]
      },
      {
       "output_type": "stream",
       "stream": "stderr",
       "text": [
        "DEBUG:python_subgrid.wrapper:Start initFlowAdmin, flow_init=              0\n"
       ]
      },
      {
       "output_type": "stream",
       "stream": "stderr",
       "text": [
        "INFO:python_subgrid.wrapper:Timestep 98 number of iterations 2 epsmax   0.0000E+00 idthalf 1  np = 1\n"
       ]
      },
      {
       "output_type": "stream",
       "stream": "stderr",
       "text": [
        "INFO:python_subgrid.wrapper:Timestep complete.\n"
       ]
      },
      {
       "output_type": "stream",
       "stream": "stderr",
       "text": [
        "INFO:python_subgrid.wrapper:Start timestep-update.\n"
       ]
      },
      {
       "output_type": "stream",
       "stream": "stderr",
       "text": [
        "DEBUG:python_subgrid.wrapper: Trying to use timestep:    10.000000000000000\n"
       ]
      },
      {
       "output_type": "stream",
       "stream": "stderr",
       "text": [
        "DEBUG:python_subgrid.wrapper:Start initFlowAdmin, flow_init=              0\n"
       ]
      },
      {
       "output_type": "stream",
       "stream": "stderr",
       "text": [
        "INFO:python_subgrid.wrapper:Timestep 99 number of iterations 2 epsmax   0.0000E+00 idthalf 1  np = 1\n"
       ]
      },
      {
       "output_type": "stream",
       "stream": "stderr",
       "text": [
        "INFO:python_subgrid.wrapper:Timestep complete.\n"
       ]
      },
      {
       "output_type": "stream",
       "stream": "stderr",
       "text": [
        "INFO:python_subgrid.wrapper:Start timestep-update.\n"
       ]
      },
      {
       "output_type": "stream",
       "stream": "stderr",
       "text": [
        "DEBUG:python_subgrid.wrapper: Trying to use timestep:    10.000000000000000\n"
       ]
      },
      {
       "output_type": "stream",
       "stream": "stderr",
       "text": [
        "DEBUG:python_subgrid.wrapper:Start initFlowAdmin, flow_init=              0\n"
       ]
      },
      {
       "output_type": "stream",
       "stream": "stderr",
       "text": [
        "INFO:python_subgrid.wrapper:Timestep 100 number of iterations 2 epsmax   0.0000E+00 idthalf 1  np = 1\n"
       ]
      },
      {
       "output_type": "stream",
       "stream": "stderr",
       "text": [
        "INFO:python_subgrid.wrapper:Timestep complete.\n"
       ]
      }
     ],
     "prompt_number": 5
    },
    {
     "cell_type": "code",
     "collapsed": false,
     "input": [
      "# We are now at t\n",
      "print(subgrid.get_nd('t1'))\n",
      "\n",
      "# Let's get the velocity array\n",
      "u = subgrid.get_nd('u1')\n",
      "\n",
      "# And the corresponding link types\n",
      "link_type = subgrid.get_nd('link_type')\n",
      "\n",
      "# Notice that this array is 1 longer than the netCDF file\n",
      "u.shape, link_type.shape"
     ],
     "language": "python",
     "metadata": {},
     "outputs": [
      {
       "output_type": "stream",
       "stream": "stdout",
       "text": [
        "45.7871231188\n"
       ]
      },
      {
       "metadata": {},
       "output_type": "pyout",
       "prompt_number": 6,
       "text": [
        "((251,), (251,))"
       ]
      }
     ],
     "prompt_number": 6
    },
    {
     "cell_type": "code",
     "collapsed": false,
     "input": [
      "\n",
      "df['type'] = np.take(link_type, df.idx)\n",
      "df['u'] = np.take(u, df.idx)\n",
      "\n",
      "x = subgrid.get_nd('FlowLink_xu')\n",
      "y = subgrid.get_nd('FlowLink_yu')\n",
      "\n",
      "df['x'] = np.take(x, df.idx)\n",
      "df['y'] = np.take(y, df.idx)\n",
      "# the first element is a \n",
      "python_subgrid.wrapper.LINK_TYPES[link_type[0]]"
     ],
     "language": "python",
     "metadata": {},
     "outputs": [
      {
       "metadata": {},
       "output_type": "pyout",
       "prompt_number": 7,
       "text": [
        "'internal boundary'"
       ]
      }
     ],
     "prompt_number": 7
    },
    {
     "cell_type": "code",
     "collapsed": false,
     "input": [
      "plt.scatter(df.x, df.y, c=df.u)\n",
      "plt.colorbar()"
     ],
     "language": "python",
     "metadata": {},
     "outputs": [
      {
       "metadata": {},
       "output_type": "pyout",
       "prompt_number": 8,
       "text": [
        "<matplotlib.colorbar.Colorbar instance at 0x4e5d098>"
       ]
      },
      {
       "metadata": {},
       "output_type": "display_data",
       "png": "[encoded data removed]",
       "text": [
        "<matplotlib.figure.Figure at 0x4af1dd0>"
       ]
      }
     ],
     "prompt_number": 8
    },
    {
     "cell_type": "code",
     "collapsed": false,
     "input": [],
     "language": "python",
     "metadata": {},
     "outputs": [],
     "prompt_number": 8
    },
    {
     "cell_type": "code",
     "collapsed": false,
     "input": [],
     "language": "python",
     "metadata": {},
     "outputs": []
    }
   ],
   "metadata": {}
  }
 ]
}