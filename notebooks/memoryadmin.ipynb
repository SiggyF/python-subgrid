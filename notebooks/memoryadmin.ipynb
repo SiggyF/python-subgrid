{
 "metadata": {
  "name": ""
 },
 "nbformat": 3,
 "nbformat_minor": 0,
 "worksheets": [
  {
   "cells": [
    {
     "cell_type": "code",
     "collapsed": false,
     "input": [
      "import pandas\n",
      "import faulthandler\n",
      "# Now let's generate the same thing from memory\n",
      "import python_subgrid.wrapper\n",
      "import numpy as np\n",
      "import matplotlib.pyplot as plt"
     ],
     "language": "python",
     "metadata": {},
     "outputs": [],
     "prompt_number": 1
    },
    {
     "cell_type": "code",
     "collapsed": false,
     "input": [
      "subgrid = python_subgrid.wrapper.SubgridWrapper(mdu='../../models/1d-democase/1D-democase.mdu')\n",
      "subgrid.start()\n",
      "#subgrid.library.initmodel()\n",
      "subgrid.update(10.0)                           \n",
      "# We are now at t\n",
      "print(subgrid.get_nd('t1'))\n"
     ],
     "language": "python",
     "metadata": {},
     "outputs": [
      {
       "output_type": "stream",
       "stream": "stderr",
       "text": [
        "INFO:python_subgrid.wrapper:Using subgrid fortran library /home/fedor/.local/lib/libsubgrid.so\n"
       ]
      },
      {
       "output_type": "stream",
       "stream": "stderr",
       "text": [
        "INFO:python_subgrid.wrapper:Loading library from path /home/fedor/.local/lib/libsubgrid.so\n"
       ]
      },
      {
       "output_type": "stream",
       "stream": "stderr",
       "text": [
        "INFO:python_subgrid.wrapper:Current version: Deltares, 3Di - subgrid Version 0.1.1.957:960M, Dec 17 2013, 18:02:12\n"
       ]
      },
      {
       "output_type": "stream",
       "stream": "stderr",
       "text": [
        "INFO:python_subgrid.wrapper:Startup complete.\n"
       ]
      },
      {
       "output_type": "stream",
       "stream": "stderr",
       "text": [
        "INFO:python_subgrid.wrapper:Loading model ../../models/1d-democase/1D-democase.mdu in directory /home/fedor/Checkouts/models/1d-democase\n"
       ]
      },
      {
       "output_type": "stream",
       "stream": "stderr",
       "text": [
        "INFO:python_subgrid.wrapper:Start loadModel for '../../models/1d-democase/1D-democase.mdu'.\n"
       ]
      },
      {
       "output_type": "stream",
       "stream": "stderr",
       "text": [
        "WARNING:python_subgrid.wrapper:Ignored 'Teta' in MDU file, please use 'IntegrationMethod' instead.\n"
       ]
      },
      {
       "output_type": "stream",
       "stream": "stderr",
       "text": [
        "INFO:python_subgrid.wrapper:Wrong NumLayers. Ground water calculations switched off.\n"
       ]
      },
      {
       "output_type": "stream",
       "stream": "stderr",
       "text": [
        "INFO:python_subgrid.wrapper:Reading bathmetry file ' subgrid/zak_drieharing_100x100.tif '...\n"
       ]
      },
      {
       "output_type": "stream",
       "stream": "stderr",
       "text": [
        "DEBUG:python_subgrid.wrapper:           0   4.08039987E-02  dps(0:imax+1, 0:jmax+1)\n"
       ]
      },
      {
       "output_type": "stream",
       "stream": "stderr",
       "text": [
        "INFO:python_subgrid.wrapper:Completed reading bathymetry file.\n"
       ]
      },
      {
       "output_type": "stream",
       "stream": "stderr",
       "text": [
        "INFO:python_subgrid.wrapper:Start initialization of grid administration.\n"
       ]
      },
      {
       "output_type": "stream",
       "stream": "stderr",
       "text": [
        "INFO:python_subgrid.wrapper: Coarse grid parameters: kmax=           1 , dxmin=   10.0000000\n"
       ]
      },
      {
       "output_type": "stream",
       "stream": "stderr",
       "text": [
        "DEBUG:python_subgrid.wrapper:           0   3.99999991E-02  lg(1:imax,1:jmax)\n"
       ]
      },
      {
       "output_type": "stream",
       "stream": "stderr",
       "text": [
        "INFO:python_subgrid.wrapper:lg init on coarsest level took:   0.1000D-02 seconds.\n"
       ]
      },
      {
       "output_type": "stream",
       "stream": "stderr",
       "text": [
        "INFO:python_subgrid.wrapper:guess dams took:   0.1000D-02 seconds.\n"
       ]
      },
      {
       "output_type": "stream",
       "stream": "stderr",
       "text": [
        "INFO:python_subgrid.wrapper:Searching refinement areas for quadtrees generation took:  0.3000D-02 seconds.\n"
       ]
      },
      {
       "output_type": "stream",
       "stream": "stderr",
       "text": [
        "INFO:python_subgrid.wrapper:Making quadtrees took:   0.6000D-02 seconds.\n"
       ]
      },
      {
       "output_type": "stream",
       "stream": "stderr",
       "text": [
        "INFO:python_subgrid.wrapper:Opened file : boundaries/bound.ext\n"
       ]
      },
      {
       "output_type": "stream",
       "stream": "stderr",
       "text": [
        "INFO:python_subgrid.wrapper: Internal 2d nodes =       100\n"
       ]
      },
      {
       "output_type": "stream",
       "stream": "stderr",
       "text": [
        "INFO:python_subgrid.wrapper: Boundary 2d nodes =   0\n"
       ]
      },
      {
       "output_type": "stream",
       "stream": "stderr",
       "text": [
        "DEBUG:python_subgrid.wrapper: make_channel_network: k1dmax=          11 , k1dtot=           7\n"
       ]
      },
      {
       "output_type": "stream",
       "stream": "stderr",
       "text": [
        "INFO:python_subgrid.wrapper:Opened file : boundaries/bound.ext\n"
       ]
      },
      {
       "output_type": "stream",
       "stream": "stderr",
       "text": [
        "INFO:python_subgrid.wrapper:Opened file : boundaries/bound_wl_up.pli\n"
       ]
      },
      {
       "output_type": "stream",
       "stream": "stderr",
       "text": [
        "INFO:python_subgrid.wrapper:waterlevelbnd boundaries/bound_wl_up.pli       1 nr of open bndcells\n"
       ]
      },
      {
       "output_type": "stream",
       "stream": "stderr",
       "text": [
        "INFO:python_subgrid.wrapper:Opened file : boundaries/bound_wl_down.pli\n"
       ]
      },
      {
       "output_type": "stream",
       "stream": "stderr",
       "text": [
        "INFO:python_subgrid.wrapper:waterlevelbnd boundaries/bound_wl_down.pli       1 nr of open bndcells\n"
       ]
      },
      {
       "output_type": "stream",
       "stream": "stderr",
       "text": [
        "INFO:python_subgrid.wrapper: Internal 1d nodes =        67\n"
       ]
      },
      {
       "output_type": "stream",
       "stream": "stderr",
       "text": [
        "INFO:python_subgrid.wrapper: Boundary 1d nodes =   2\n"
       ]
      },
      {
       "output_type": "stream",
       "stream": "stderr",
       "text": [
        "DEBUG:python_subgrid.wrapper:           0   1.35999999E-03  nru,nrv\n"
       ]
      },
      {
       "output_type": "stream",
       "stream": "stderr",
       "text": [
        "INFO:python_subgrid.wrapper:Opened file : boundaries/bound.ext\n"
       ]
      },
      {
       "output_type": "stream",
       "stream": "stderr",
       "text": [
        "INFO:python_subgrid.wrapper:Initializing external forcing 'waterlevelbnd' from file 'boundaries/bound_wl_up.pli'.\n"
       ]
      },
      {
       "output_type": "stream",
       "stream": "stderr",
       "text": [
        "INFO:python_subgrid.wrapper:Opened file : boundaries/bound_wl_up.pli\n"
       ]
      },
      {
       "output_type": "stream",
       "stream": "stderr",
       "text": [
        "INFO:python_subgrid.wrapper:Opened file : boundaries/bound_wl_up_0001.tim\n"
       ]
      },
      {
       "output_type": "stream",
       "stream": "stderr",
       "text": [
        "INFO:python_subgrid.wrapper:Initializing external forcing 'waterlevelbnd' from file 'boundaries/bound_wl_down.pli'.\n"
       ]
      },
      {
       "output_type": "stream",
       "stream": "stderr",
       "text": [
        "INFO:python_subgrid.wrapper:Opened file : boundaries/bound_wl_down.pli\n"
       ]
      },
      {
       "output_type": "stream",
       "stream": "stderr",
       "text": [
        "INFO:python_subgrid.wrapper:Opened file : boundaries/bound_wl_down_0001.tim\n"
       ]
      },
      {
       "output_type": "stream",
       "stream": "stderr",
       "text": [
        "INFO:python_subgrid.wrapper:Initializing boundaries took:   0.4000D-02 seconds.\n"
       ]
      },
      {
       "output_type": "stream",
       "stream": "stderr",
       "text": [
        "INFO:python_subgrid.wrapper:Assignment of flooding thresholds took:   0.1120D+00 seconds.\n"
       ]
      },
      {
       "output_type": "stream",
       "stream": "stderr",
       "text": [
        "INFO:python_subgrid.wrapper:Grid Admin initialisation took:  0.1130D+00 seconds.\n"
       ]
      },
      {
       "output_type": "stream",
       "stream": "stderr",
       "text": [
        "INFO:python_subgrid.wrapper:Completed initialization of grid administration.\n"
       ]
      },
      {
       "output_type": "stream",
       "stream": "stderr",
       "text": [
        "INFO:python_subgrid.wrapper:Calculation of bathymetry statistics took:   0.9000D-02 seconds.\n"
       ]
      },
      {
       "output_type": "stream",
       "stream": "stderr",
       "text": [
        "INFO:python_subgrid.wrapper:Setting initial water levels  from WaterLevelFile took:   0.0000D+00 seconds.\n"
       ]
      },
      {
       "output_type": "stream",
       "stream": "stderr",
       "text": [
        "INFO:python_subgrid.wrapper:Setting initial water levels on 1d links from WaterLevelFile took:   0.1000D-02 seconds.\n"
       ]
      },
      {
       "output_type": "stream",
       "stream": "stderr",
       "text": [
        "INFO:python_subgrid.wrapper:Initial floodfill from FloodFill file took:   0.0000D+00 seconds.\n"
       ]
      },
      {
       "output_type": "stream",
       "stream": "stderr",
       "text": [
        "INFO:python_subgrid.wrapper:loadModel complete.\n"
       ]
      },
      {
       "output_type": "stream",
       "stream": "stderr",
       "text": [
        "INFO:python_subgrid.wrapper:Start timestep-update.\n"
       ]
      },
      {
       "output_type": "stream",
       "stream": "stderr",
       "text": [
        "DEBUG:python_subgrid.wrapper: Trying to use timestep:    10.000000000000000\n"
       ]
      },
      {
       "output_type": "stream",
       "stream": "stderr",
       "text": [
        "DEBUG:python_subgrid.wrapper:Start initFlowAdmin, flow_init=              3\n"
       ]
      },
      {
       "output_type": "stream",
       "stream": "stderr",
       "text": [
        "INFO:python_subgrid.wrapper:reduce time:       0.001000\n"
       ]
      },
      {
       "output_type": "stream",
       "stream": "stderr",
       "text": [
        "INFO:python_subgrid.wrapper: noactive=       167 nogauss=       135 nocg        32\n"
       ]
      },
      {
       "output_type": "stream",
       "stream": "stderr",
       "text": [
        "DEBUG:python_subgrid.wrapper:           0   2.70799990E-03  vqt,denom(0:4*nodall),fbq(0:4*nodall),umq(0:4*nodall)\n"
       ]
      },
      {
       "output_type": "stream",
       "stream": "stderr",
       "text": [
        "DEBUG:python_subgrid.wrapper:           0   1.01699994E-03  qs,qs1,qs2(0:2*nodall)\n"
       ]
      },
      {
       "output_type": "stream",
       "stream": "stderr",
       "text": [
        "DEBUG:python_subgrid.wrapper:           0   1.24999997E-03  cu,ru(linall)\n"
       ]
      },
      {
       "output_type": "stream",
       "stream": "stderr",
       "text": [
        "INFO:python_subgrid.wrapper:Initialization of Flow Values took:   0.5000D-02 seconds.\n"
       ]
      },
      {
       "output_type": "stream",
       "stream": "stderr",
       "text": [
        "DEBUG:python_subgrid.wrapper:Completed initFlowAdmin.\n"
       ]
      },
      {
       "output_type": "stream",
       "stream": "stderr",
       "text": [
        "INFO:python_subgrid.wrapper:finding rain data for input\n"
       ]
      },
      {
       "output_type": "stream",
       "stream": "stderr",
       "text": [
        "INFO:python_subgrid.wrapper:Timestep 1 number of iterations 1 epsmax   0.0000E+00 idthalf 1  np = 1\n"
       ]
      },
      {
       "output_type": "stream",
       "stream": "stderr",
       "text": [
        "INFO:python_subgrid.wrapper:Timestep complete.\n"
       ]
      },
      {
       "output_type": "stream",
       "stream": "stdout",
       "text": [
        "60.0\n"
       ]
      }
     ],
     "prompt_number": 2
    },
    {
     "cell_type": "code",
     "collapsed": false,
     "input": [
      "# Let's get the waterlevel array\n",
      "s = subgrid.get_nd('s1') # on the cells\n",
      "# Let's get the velocity array\n",
      "u = subgrid.get_nd('u1') # on the links"
     ],
     "language": "python",
     "metadata": {},
     "outputs": [],
     "prompt_number": 3
    },
    {
     "cell_type": "code",
     "collapsed": false,
     "input": [
      "# And the corresponding link types\n",
      "link_type = subgrid.get_nd('link_type')\n",
      "# And the node types\n",
      "nod_type = subgrid.get_nd('nod_type')\n",
      "\n",
      "\n",
      "# Notice that this array is 1 longer than the netCDF file\n",
      "u.shape, link_type.shape, s.shape, nod_type.shape"
     ],
     "language": "python",
     "metadata": {},
     "outputs": [
      {
       "metadata": {},
       "output_type": "pyout",
       "prompt_number": 4,
       "text": [
        "((251,), (251,), (170,), (170,))"
       ]
      }
     ],
     "prompt_number": 4
    },
    {
     "cell_type": "code",
     "collapsed": false,
     "input": [
      "nod_branch = subgrid.get_nd('nod_branchid')\n",
      "nod_chainage = subgrid.get_nd('nod_chainage')\n",
      "nod_idx = subgrid.get_nd('nod_idx')\n",
      "link_branch = subgrid.get_nd('link_branchid')\n",
      "link_chainage = subgrid.get_nd('link_chainage')\n",
      "link_idx = subgrid.get_nd('link_idx')\n",
      "\n",
      "\n",
      "nod_df = pandas.DataFrame(data=dict(branch=nod_branch,\n",
      "                           chainage=nod_chainage,\n",
      "                           idx=nod_idx))\n",
      "link_df = pandas.DataFrame(data=dict(branch=link_branch,\n",
      "                           chainage=link_chainage,\n",
      "                           idx=link_idx))\n"
     ],
     "language": "python",
     "metadata": {},
     "outputs": [
      {
       "output_type": "stream",
       "stream": "stderr",
       "text": [
        "DEBUG:python_subgrid.wrapper:copying nod_chainage, memory will be reallocated\n"
       ]
      },
      {
       "output_type": "stream",
       "stream": "stderr",
       "text": [
        "DEBUG:python_subgrid.wrapper:copying nod_idx, memory will be reallocated\n"
       ]
      },
      {
       "output_type": "stream",
       "stream": "stderr",
       "text": [
        "DEBUG:python_subgrid.wrapper:copying link_branchid, memory will be reallocated\n"
       ]
      },
      {
       "output_type": "stream",
       "stream": "stderr",
       "text": [
        "DEBUG:python_subgrid.wrapper:copying link_chainage, memory will be reallocated\n"
       ]
      },
      {
       "output_type": "stream",
       "stream": "stderr",
       "text": [
        "DEBUG:python_subgrid.wrapper:copying link_idx, memory will be reallocated\n"
       ]
      }
     ],
     "prompt_number": 5
    },
    {
     "cell_type": "code",
     "collapsed": false,
     "input": [
      "subgrid.get_nd('FlowLink_xu')"
     ],
     "language": "python",
     "metadata": {},
     "outputs": [
      {
       "metadata": {},
       "output_type": "pyout",
       "prompt_number": 6,
       "text": [
        "array([  6.92213716e-310,   1.36370000e+005,   1.36370000e+005,\n",
        "         1.36370000e+005,   1.36370000e+005,   1.36370000e+005,\n",
        "         1.36370000e+005,   1.36370000e+005,   1.36370000e+005,\n",
        "         1.36370000e+005,   1.36370000e+005,   1.36380000e+005,\n",
        "         1.36380000e+005,   1.36380000e+005,   1.36380000e+005,\n",
        "         1.36380000e+005,   1.36380000e+005,   1.36380000e+005,\n",
        "         1.36380000e+005,   1.36380000e+005,   1.36380000e+005,\n",
        "         1.36390000e+005,   1.36390000e+005,   1.36390000e+005,\n",
        "         1.36390000e+005,   1.36390000e+005,   1.36390000e+005,\n",
        "         1.36390000e+005,   1.36390000e+005,   1.36390000e+005,\n",
        "         1.36390000e+005,   1.36400000e+005,   1.36400000e+005,\n",
        "         1.36400000e+005,   1.36400000e+005,   1.36400000e+005,\n",
        "         1.36400000e+005,   1.36400000e+005,   1.36400000e+005,\n",
        "         1.36400000e+005,   1.36400000e+005,   1.36410000e+005,\n",
        "         1.36410000e+005,   1.36410000e+005,   1.36410000e+005,\n",
        "         1.36410000e+005,   1.36410000e+005,   1.36410000e+005,\n",
        "         1.36410000e+005,   1.36410000e+005,   1.36410000e+005,\n",
        "         1.36420000e+005,   1.36420000e+005,   1.36420000e+005,\n",
        "         1.36420000e+005,   1.36420000e+005,   1.36420000e+005,\n",
        "         1.36420000e+005,   1.36420000e+005,   1.36420000e+005,\n",
        "         1.36420000e+005,   1.36430000e+005,   1.36430000e+005,\n",
        "         1.36430000e+005,   1.36430000e+005,   1.36430000e+005,\n",
        "         1.36430000e+005,   1.36430000e+005,   1.36430000e+005,\n",
        "         1.36430000e+005,   1.36430000e+005,   1.36440000e+005,\n",
        "         1.36440000e+005,   1.36440000e+005,   1.36440000e+005,\n",
        "         1.36440000e+005,   1.36440000e+005,   1.36440000e+005,\n",
        "         1.36440000e+005,   1.36440000e+005,   1.36440000e+005,\n",
        "         1.36450000e+005,   1.36450000e+005,   1.36450000e+005,\n",
        "         1.36450000e+005,   1.36450000e+005,   1.36450000e+005,\n",
        "         1.36450000e+005,   1.36450000e+005,   1.36450000e+005,\n",
        "         1.36450000e+005,   1.36365000e+005,   1.36375000e+005,\n",
        "         1.36385000e+005,   1.36395000e+005,   1.36405000e+005,\n",
        "         1.36415000e+005,   1.36425000e+005,   1.36435000e+005,\n",
        "         1.36445000e+005,   1.36455000e+005,   1.36365000e+005,\n",
        "         1.36375000e+005,   1.36385000e+005,   1.36395000e+005,\n",
        "         1.36405000e+005,   1.36415000e+005,   1.36425000e+005,\n",
        "         1.36435000e+005,   1.36445000e+005,   1.36455000e+005,\n",
        "         1.36365000e+005,   1.36375000e+005,   1.36385000e+005,\n",
        "         1.36395000e+005,   1.36405000e+005,   1.36415000e+005,\n",
        "         1.36425000e+005,   1.36435000e+005,   1.36445000e+005,\n",
        "         1.36455000e+005,   1.36365000e+005,   1.36375000e+005,\n",
        "         1.36385000e+005,   1.36395000e+005,   1.36405000e+005,\n",
        "         1.36415000e+005,   1.36425000e+005,   1.36435000e+005,\n",
        "         1.36445000e+005,   1.36455000e+005,   1.36365000e+005,\n",
        "         1.36375000e+005,   1.36385000e+005,   1.36395000e+005,\n",
        "         1.36405000e+005,   1.36415000e+005,   1.36425000e+005,\n",
        "         1.36435000e+005,   1.36445000e+005,   1.36455000e+005,\n",
        "         1.36365000e+005,   1.36375000e+005,   1.36385000e+005,\n",
        "         1.36395000e+005,   1.36405000e+005,   1.36415000e+005,\n",
        "         1.36425000e+005,   1.36435000e+005,   1.36445000e+005,\n",
        "         1.36455000e+005,   1.36365000e+005,   1.36375000e+005,\n",
        "         1.36385000e+005,   1.36395000e+005,   1.36405000e+005,\n",
        "         1.36415000e+005,   1.36425000e+005,   1.36435000e+005,\n",
        "         1.36445000e+005,   1.36455000e+005,   1.36365000e+005,\n",
        "         1.36375000e+005,   1.36385000e+005,   1.36395000e+005,\n",
        "         1.36405000e+005,   1.36415000e+005,   1.36425000e+005,\n",
        "         1.36435000e+005,   1.36445000e+005,   1.36455000e+005,\n",
        "         1.36365000e+005,   1.36375000e+005,   1.36385000e+005,\n",
        "         1.36395000e+005,   1.36405000e+005,   1.36415000e+005,\n",
        "         1.36425000e+005,   1.36435000e+005,   1.36445000e+005,\n",
        "         1.36455000e+005,   1.36410000e+005,   1.36410000e+005,\n",
        "         1.36410000e+005,   1.36410000e+005,   1.36410000e+005,\n",
        "         1.36410000e+005,   1.36410000e+005,   1.36410000e+005,\n",
        "         1.36410000e+005,   1.36411250e+005,   1.36413750e+005,\n",
        "         1.36416250e+005,   1.36418750e+005,   1.36421250e+005,\n",
        "         1.36423750e+005,   1.36426250e+005,   1.36428750e+005,\n",
        "         1.36431250e+005,   1.36433750e+005,   1.36433750e+005,\n",
        "         1.36431250e+005,   1.36428750e+005,   1.36426250e+005,\n",
        "         1.36423750e+005,   1.36421250e+005,   1.36418750e+005,\n",
        "         1.36416250e+005,   1.36413750e+005,   1.36411250e+005,\n",
        "         1.36410000e+005,   1.36410000e+005,   1.36410000e+005,\n",
        "         1.36410000e+005,   1.36410000e+005,   1.36410000e+005,\n",
        "         1.36410000e+005,   1.36410000e+005,   1.36410000e+005,\n",
        "         1.36408750e+005,   1.36406250e+005,   1.36403750e+005,\n",
        "         1.36401250e+005,   1.36398750e+005,   1.36396250e+005,\n",
        "         1.36393750e+005,   1.36391250e+005,   1.36388750e+005,\n",
        "         1.36386250e+005,   1.36432500e+005,   1.36427500e+005,\n",
        "         1.36422500e+005,   1.36417500e+005,   1.36412500e+005,\n",
        "         1.36407500e+005,   1.36402500e+005,   1.36397500e+005,\n",
        "         1.36392500e+005,   1.36387500e+005,   1.36386250e+005,\n",
        "         1.36388750e+005,   1.36391250e+005,   1.36393750e+005,\n",
        "         1.36396250e+005,   1.36398750e+005,   1.36401250e+005,\n",
        "         1.36403750e+005,   1.36406250e+005,   1.36408750e+005,\n",
        "         1.36410000e+005,   1.36410000e+005])"
       ]
      }
     ],
     "prompt_number": 6
    },
    {
     "cell_type": "code",
     "collapsed": false,
     "input": [
      "\n",
      "link_df['type'] = np.take(link_type, link_df.idx)\n",
      "link_df['u'] = np.take(u, link_df.idx)\n",
      "\n",
      "link_x = subgrid.get_nd('FlowLink_xu')\n",
      "link_y = subgrid.get_nd('FlowLink_yu')\n",
      "\n",
      "link_df['x'] = np.take(link_x, link_df.idx)\n",
      "link_df['y'] = np.take(link_y, link_df.idx)\n",
      "# the first element is a \n",
      "python_subgrid.wrapper.LINK_TYPES[link_type[0]]"
     ],
     "language": "python",
     "metadata": {},
     "outputs": [
      {
       "metadata": {},
       "output_type": "pyout",
       "prompt_number": 7,
       "text": [
        "'internal boundary'"
       ]
      }
     ],
     "prompt_number": 7
    },
    {
     "cell_type": "code",
     "collapsed": false,
     "input": [
      "plt.scatter(link_df.x, link_df.y, c=link_df.u[:], vmin=0, vmax=0.1)"
     ],
     "language": "python",
     "metadata": {},
     "outputs": [
      {
       "metadata": {},
       "output_type": "pyout",
       "prompt_number": 8,
       "text": [
        "<matplotlib.collections.PathCollection at 0x3b60ad0>"
       ]
      },
      {
       "metadata": {},
       "output_type": "display_data",
       "png": "[encoded data removed]",
       "text": [
        "<matplotlib.figure.Figure at 0x3938810>"
       ]
      }
     ],
     "prompt_number": 8
    },
    {
     "cell_type": "code",
     "collapsed": false,
     "input": [
      "plt.scatter(link_df.x, link_df.y, c=link_df.u.abs(), cmap='Set1', vmin=-link_df.u.abs().max(), vmax=link_df.u.abs().max(), s=100)\n",
      "plt.colorbar()\n",
      "plt.title('u1 velocity')"
     ],
     "language": "python",
     "metadata": {},
     "outputs": [
      {
       "metadata": {},
       "output_type": "pyout",
       "prompt_number": 9,
       "text": [
        "<matplotlib.text.Text at 0x383ca10>"
       ]
      },
      {
       "metadata": {},
       "output_type": "display_data",
       "png": "[encoded data removed]",
       "text": [
        "<matplotlib.figure.Figure at 0x3b653d0>"
       ]
      }
     ],
     "prompt_number": 9
    },
    {
     "cell_type": "code",
     "collapsed": false,
     "input": [
      "nod_x = subgrid.get_nd('FlowElem_xcc')\n",
      "nod_y = subgrid.get_nd('FlowElem_ycc')\n",
      "\n",
      "nod_df['type'] = np.take(nod_type, nod_df.idx)\n",
      "nod_df['u'] = np.take(u, nod_df.idx)\n",
      "\n",
      "nod_df['x'] = np.take(nod_x, nod_df.idx)\n",
      "nod_df['y'] = np.take(nod_y, nod_df.idx)\n",
      "# the first element is a \n",
      "python_subgrid.wrapper.LINK_TYPES[nod_type[0]]"
     ],
     "language": "python",
     "metadata": {},
     "outputs": [
      {
       "metadata": {},
       "output_type": "pyout",
       "prompt_number": 10,
       "text": [
        "'internal boundary'"
       ]
      }
     ],
     "prompt_number": 10
    }
   ],
   "metadata": {}
  }
 ]
}